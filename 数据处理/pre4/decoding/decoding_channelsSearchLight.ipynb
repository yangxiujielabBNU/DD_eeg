{
 "cells": [
  {
   "cell_type": "markdown",
   "source": [
    "## 参考文献\n",
    "\n",
    "https://users.aalto.fi/~vanvlm1/mne-rsa/auto_examples/plot_sensor_level.html\n",
    "\n",
    "\n",
    "http://www.pymvpa.org/examples.html#chap-examples\n",
    "http://www.pymvpa.org/tutorial_eventrelated_searchlight.html#chap-tutorial-eventrelated-searchlight\n",
    "http://www.pymvpa.org/generated/mvpa2.measures.searchlight.Searchlight.html#mvpa2.measures.searchlight.Searchlight\n",
    "\n",
    "several toolboxes have been developed that\n",
    "implement the methods described in the rest of this paper; the PyMVPA toolbox (Hanke, Halchenko, Sederberg, Hanson, et al., 2009; www.pymvpa.org) handles both fMRI and M/EEG data using the open-source Python language (Hanke, Halchenko, Sederberg, Olivetti, et al., 2009)"
   ],
   "metadata": {
    "collapsed": false,
    "pycharm": {
     "name": "#%% md\n"
    }
   }
  }
 ],
 "metadata": {
  "kernelspec": {
   "display_name": "Python 3",
   "language": "python",
   "name": "python3"
  },
  "language_info": {
   "codemirror_mode": {
    "name": "ipython",
    "version": 2
   },
   "file_extension": ".py",
   "mimetype": "text/x-python",
   "name": "python",
   "nbconvert_exporter": "python",
   "pygments_lexer": "ipython2",
   "version": "2.7.6"
  }
 },
 "nbformat": 4,
 "nbformat_minor": 0
}