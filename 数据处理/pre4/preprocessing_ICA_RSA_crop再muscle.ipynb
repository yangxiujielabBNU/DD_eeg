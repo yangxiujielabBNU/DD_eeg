{
 "cells": [
  {
   "cell_type": "markdown",
   "metadata": {},
   "source": [
    "\n",
    "#### 这个版本交换 crop和muscle的次序.\n",
    "原因:不删除是为了有更多眼电的数据可以用来ICA\n",
    "删除是因为你发现大多数区域直接就被标红了,不能提供眼电的信息,反而扭曲了.\n",
    "\n",
    "muscle标注不是那么智能,会重复标注bad区域..所以blank干脆 crop掉 而不仅仅是标注.\n",
    "\n",
    "crop有两次\n",
    "一次是把三个程序分别crop出来\n",
    "二次是把block之间的blanck区间crop出来\n",
    "\n",
    "其实cropblank可以在一开始的rename做. 但是blank区间也不好标注,因为ASSR的不一样.\n",
    "需要专门写一个脚本来完成数据的切割?\n",
    "\n"
   ]
  },
  {
   "cell_type": "code",
   "execution_count": 1,
   "outputs": [],
   "source": [
    "%matplotlib qt"
   ],
   "metadata": {
    "collapsed": false,
    "ExecuteTime": {
     "end_time": "2023-05-23T15:04:16.418975300Z",
     "start_time": "2023-05-23T15:04:15.245282800Z"
    }
   }
  },
  {
   "cell_type": "code",
   "execution_count": 2,
   "outputs": [],
   "source": [
    "import os.path as op\n",
    "# from memory_profiler import memory_usage\n",
    "import mne\n",
    "from mne.preprocessing import ICA\n",
    "from mne.preprocessing import annotate_muscle_zscore\n",
    "import matplotlib.pyplot as plt\n",
    "from copy import deepcopy\n",
    "import numpy as np"
   ],
   "metadata": {
    "collapsed": false,
    "ExecuteTime": {
     "end_time": "2023-05-23T15:04:17.789712700Z",
     "start_time": "2023-05-23T15:04:16.422965600Z"
    }
   }
  },
  {
   "cell_type": "code",
   "execution_count": 11,
   "outputs": [
    {
     "name": "stdout",
     "output_type": "stream",
     "text": [
      "Opening raw data file .\\data\\1raw_rename\\pre4025_y.fif...\n"
     ]
    },
    {
     "name": "stderr",
     "output_type": "stream",
     "text": [
      "C:\\Users\\SilverBullet\\AppData\\Local\\Temp\\ipykernel_19000\\27773410.py:13: RuntimeWarning: This filename (.\\data\\1raw_rename\\pre4025_y.fif) does not conform to MNE naming conventions. All raw files should end with raw.fif, raw_sss.fif, raw_tsss.fif, _meg.fif, _eeg.fif, _ieeg.fif, raw.fif.gz, raw_sss.fif.gz, raw_tsss.fif.gz, _meg.fif.gz, _eeg.fif.gz or _ieeg.fif.gz\n",
      "  raw = mne.io.read_raw_fif(fname, preload=True, verbose=None)\n"
     ]
    },
    {
     "name": "stdout",
     "output_type": "stream",
     "text": [
      "    Range : 0 ... 6117699 =      0.000 ...  6117.699 secs\n",
      "Ready.\n",
      "Reading 0 ... 6117699  =      0.000 ...  6117.699 secs...\n"
     ]
    },
    {
     "data": {
      "text/plain": "<mne_qt_browser._pg_figure.MNEQtBrowser at 0x2ada0ab3370>"
     },
     "execution_count": 11,
     "metadata": {},
     "output_type": "execute_result"
    }
   ],
   "source": [
    "sub_ids = [\n",
    "            'pre4025_y'\n",
    "           ]\n",
    "data_path = '.\\data\\\\1raw_rename\\\\'\n",
    "\n",
    "'''\n",
    "\n",
    "https://mne.discourse.group/t/where-i-can-find-a-montage-for-neuroscan-64ch/4179/3\n",
    "\n",
    "'''\n",
    "sub_id = sub_ids[0]\n",
    "fname = op.join(data_path + sub_id + '.fif')\n",
    "raw = mne.io.read_raw_fif(fname, preload=True, verbose=None)\n",
    "# 检查一下有没有数据基本问题:是否标注了坏导,是否有不对的mark,都给去掉\n",
    "raw.plot(n_channels = 50, duration =40, scalings=60e-6, remove_dc = True,)\n"
   ],
   "metadata": {
    "collapsed": false,
    "ExecuteTime": {
     "end_time": "2023-05-23T15:16:33.917200400Z",
     "start_time": "2023-05-23T15:12:54.404849200Z"
    }
   }
  },
  {
   "cell_type": "code",
   "execution_count": 12,
   "outputs": [],
   "source": [
    "raw.drop_channels(['CB1','CB2', 'Trigger','EKG', 'EMG']) # i dont need those channels\n",
    "rename_dict = {'HEO': 'HEOG','VEO':'VEOG','FP1':'Fp1', 'FPZ':'Fpz', 'FP2':'Fp2', 'FZ':'Fz', 'FCZ':'FCz', 'CZ':'Cz', 'CPZ':\"CPz\", 'PZ':\"Pz\", 'POZ':\"POz\", 'OZ':\"Oz\"}\n",
    "raw.rename_channels(rename_dict)\n",
    "chan_types_dict = { \"VEOG\":\"eog\",\"HEOG\":\"eog\"}\n",
    "raw.set_channel_types(chan_types_dict)\n",
    "#电极点位置确定\n",
    "# raw.plot_sensors() # 画出电极位置\n",
    "locs_info_path = './standard-10-5-cap385.elp'\n",
    "# montage = mne.channels.read_custom_montage(locs_info_path, head_size=0.095)\n",
    "montage = mne.channels.make_standard_montage(kind='standard_1005')\n",
    "# 自带的montage,如果没有montage文件. 如果没有就用mne自带的\n",
    "# mne.channels.get_builtin_montages()\n",
    "raw.set_montage(montage)\n",
    "# raw.plot_sensors()# 对比一下 montage之后的位置\n",
    "plt.show() # 只呈现一次"
   ],
   "metadata": {
    "collapsed": false,
    "ExecuteTime": {
     "end_time": "2023-05-23T15:18:38.300116800Z",
     "start_time": "2023-05-23T15:18:36.821146700Z"
    }
   }
  },
  {
   "cell_type": "markdown",
   "metadata": {},
   "source": [
    "|### crop 裁剪一个实验的数据出来"
   ]
  },
  {
   "cell_type": "code",
   "execution_count": 13,
   "metadata": {
    "ExecuteTime": {
     "end_time": "2023-05-23T15:18:46.574743Z",
     "start_time": "2023-05-23T15:18:38.309093200Z"
    }
   },
   "outputs": [
    {
     "name": "stdout",
     "output_type": "stream",
     "text": [
      "Used Annotations descriptions: ['101', '102', '103', '104', '111', '112', '113', '114', '121', '122', '123', '124', '131', '132', '133', '134', '200', '201', '210', '211', '30', '4']\n",
      "First onset time: 105.113 s\n",
      "Last onset time: 2077.208 s\n"
     ]
    },
    {
     "data": {
      "text/plain": "<mne_qt_browser._pg_figure.MNEQtBrowser at 0x2adbe5655a0>"
     },
     "execution_count": 13,
     "metadata": {},
     "output_type": "execute_result"
    }
   ],
   "source": [
    "'''\n",
    "\n",
    "crop\n",
    "\n",
    "自动化截取RSA部分的数据\n",
    "\n",
    "找到RSA实验的最前和最后的marker,截止时间\n",
    "\n",
    "截取RSA的RAW数据\n",
    "'''\n",
    "# 读取和打印marker\n",
    "# events, event_id = mne.events_from_annotations(raw)\n",
    "# for marker_name in event_id:\n",
    "#     print(marker_name)\n",
    "\n",
    "# 确定RSA的marker\n",
    "list_RSAmarker = ['101', '102', '103', '104', '111', '112', '113', '114', '121', '122', '123', '124', '131', '132', '133', '134', ]\n",
    "\n",
    "# 提取原始数据中的所有事件\n",
    "events, event_id = mne.events_from_annotations(raw)\n",
    "\n",
    "# 通过遍历list_RSAmarker列表，获取所需事件的索引\n",
    "selected_event_indices = [event_id[str(marker)] for marker in list_RSAmarker]\n",
    "\n",
    "# 提取与list_RSAmarker中的标记对应的事件\n",
    "selected_events = np.array([event for event in events if event[2] in selected_event_indices])\n",
    "\n",
    "# 找到最早和最晚出现的onset time\n",
    "first_onset_time = raw.times[selected_events[0, 0]]-2 #第一个marker的时间再往前2s\n",
    "# 给出2的trail空间\n",
    "last_onset_time = raw.times[selected_events[-1, 0]]+2 #最后一个marker的时间再往后2s\n",
    "\n",
    "print(f\"First onset time: {first_onset_time} s\")\n",
    "print(f\"Last onset time: {last_onset_time} s\")\n",
    "\n",
    "raw_crop  = raw.copy().crop(tmin=first_onset_time, tmax=last_onset_time)\n",
    "# 画出来的时间和数据的时间并不一样了.\n",
    "raw_crop.plot(n_channels = 50, duration =40, scalings=60e-6, start=raw_crop.annotations.onset[0])\n"
   ]
  },
  {
   "cell_type": "markdown",
   "metadata": {},
   "source": [
    "### crop2 直接把block interval的部分给删除掉.\n",
    "\n",
    "epochs = mne.Epochs(raw, events, event_id, tmin, tmax, reject_by_annotation=True, preload=True)\n",
    "并不存在函数 reject_by_annotation\n",
    "\n",
    "所以还是的读出来"
   ]
  },
  {
   "cell_type": "code",
   "execution_count": 14,
   "metadata": {
    "ExecuteTime": {
     "end_time": "2023-05-23T15:18:54.101021200Z",
     "start_time": "2023-05-23T15:18:48.025125Z"
    }
   },
   "outputs": [
    {
     "name": "stdout",
     "output_type": "stream",
     "text": [
      "Ignoring annotations with descriptions starting with: bad, edge\n",
      "\n",
      "Detected 2 break periods of >= 20 sec duration:\n",
      "    585.4 – 693.1 sec [107.7 sec]\n",
      "    1279.1 – 1388.5 sec [109.4 sec]\n",
      "In total, 11.0% of the data (217.1 sec) have been marked as a break.\n",
      "\n"
     ]
    },
    {
     "data": {
      "text/plain": "<mne_qt_browser._pg_figure.MNEQtBrowser at 0x2ad94f215a0>"
     },
     "execution_count": 14,
     "metadata": {},
     "output_type": "execute_result"
    }
   ],
   "source": [
    "'''\n",
    "标注出block interval区间.\n",
    "'''\n",
    "raw_cropBlanck = raw_crop.copy()\n",
    "# annots_break是从0开始算,不会自动根据raw.first_time调整的.\n",
    "annots_break = mne.preprocessing.annotate_break(raw_cropBlanck,min_break_duration=20,)\n",
    "# 这里的annotations是根据first_time调整过的.需要调整回来,和annots_break一样不调整,因为后面set_annotations会自动调整一次.\n",
    "annots_cropBlanck = raw_cropBlanck.annotations\n",
    "if annots_cropBlanck.orig_time is not None:\n",
    "    # 12 13 14 15往后不知道为何没有进行矫正.你发现他们的 orig_time 不等于none\n",
    "    annots_cropBlanck.onset = annots_cropBlanck.onset\n",
    "else:\n",
    "    # 等于none的时候,就是没有进行矫正的时候.需要手动矫正\n",
    "    annots_cropBlanck.onset = annots_cropBlanck.onset - raw_cropBlanck.first_time\n",
    "\n",
    "# 两个没有调整过的annotation相加\n",
    "annotations_crop2break=annots_cropBlanck + annots_break\n",
    "raw_cropBlanck.set_annotations(annotations=annotations_crop2break)\n",
    "raw_cropBlanck.plot(n_channels = 50, duration =40, scalings=60e-6)"
   ]
  },
  {
   "cell_type": "code",
   "execution_count": 15,
   "metadata": {
    "ExecuteTime": {
     "end_time": "2023-05-23T15:19:01.519989900Z",
     "start_time": "2023-05-23T15:18:54.107005600Z"
    }
   },
   "outputs": [
    {
     "data": {
      "text/plain": "<mne_qt_browser._pg_figure.MNEQtBrowser at 0x2ada2bff490>"
     },
     "execution_count": 15,
     "metadata": {},
     "output_type": "execute_result"
    }
   ],
   "source": [
    "'''\n",
    "\n",
    "把RSA数据的block interval部分给删除掉.\n",
    "因为 preprocessing检测muscle的时候,会把block interval的部分也检测出来.这导致后面进行Z分数的时候不准.\n",
    "\n",
    "这会影响到后面muscle的参数设置.\n",
    "\n",
    "说白了,就是能让检测muscle的时候,更加敏感准确.\n",
    "\n",
    "'''\n",
    "# 假设 annots_break 是包含 bad_break 的开始时间和持续时间的注释对象\n",
    "# 获取 bad_break 的开始和结束时间\n",
    "# 这里和前面反过来,因为crop是不看orig_time的,所以自动矫正的反而有问题.\n",
    "if annots_break.orig_time is None:\n",
    "    # 没有自动矫正,那就保持不变\n",
    "    onsets = annots_break.onset\n",
    "else:\n",
    "    # 矫正过的,就恢复回去\n",
    "    onsets = annots_break.onset - raw_cropBlanck.first_time\n",
    "\n",
    "durations = annots_break.duration\n",
    "ends = onsets + durations\n",
    "\n",
    "# 初始化一个新的 Raw 对象，用于存储截取后的数据\n",
    "raw_crop2 = None\n",
    "# 遍历原始数据，跳过 bad_break 区间并将其他部分添加到新的 Raw 对象中\n",
    "start = 0\n",
    "for bad_start, bad_end in zip(onsets, ends):\n",
    "    raw_temp = raw_cropBlanck.copy().crop(tmin=start, tmax=bad_start)\n",
    "    if raw_crop2 is None:\n",
    "        raw_crop2 = raw_temp\n",
    "    else:\n",
    "        raw_crop2.append(raw_temp)\n",
    "    start = bad_end\n",
    "# 添加原始数据中最后一个 bad_break 区间之后的部分\n",
    "raw_temp = raw_cropBlanck.copy().crop(start, None)\n",
    "raw_crop2.append(raw_temp)\n",
    "raw_crop2.plot(n_channels = 50, duration =40, scalings=60e-6, remove_dc = True,)"
   ]
  },
  {
   "cell_type": "code",
   "execution_count": 16,
   "metadata": {
    "ExecuteTime": {
     "end_time": "2023-05-23T15:21:27.801877200Z",
     "start_time": "2023-05-23T15:21:22.219222300Z"
    }
   },
   "outputs": [
    {
     "data": {
      "text/plain": "<mne_qt_browser._pg_figure.MNEQtBrowser at 0x2ad72e085e0>"
     },
     "execution_count": 16,
     "metadata": {},
     "output_type": "execute_result"
    }
   ],
   "source": [
    "\n",
    "'''\n",
    "找坏导本质上也就是观察一下前面一段区间有没有很明显有问题的channel\n",
    "这个其实可以做多次,\n",
    "问题:是否应该放在muscle之前?\n",
    "理论上来说muscle评分应该不会是依据少数几个channel来进行的.\n",
    "\n",
    "答曰:经过检验,确实会因为一个channel标红整个区间的情况.\n",
    "\n",
    "所以在进行muscle score之前,插值一次坏导.\n",
    "'''\n",
    "#找出坏导\n",
    "raw_bad = raw_crop2.copy()\n",
    "# raw.plot(n_channels = 50, duration =40, scalings=60e-6, remove_dc = True,\n",
    "#                  highpass=0.1, lowpass=30)\n",
    "raw_bad.plot(n_channels=50, duration=40, scalings=60e-6, remove_dc=True, )"
   ]
  },
  {
   "cell_type": "code",
   "execution_count": 17,
   "metadata": {
    "ExecuteTime": {
     "end_time": "2023-05-23T15:21:36.306231700Z",
     "start_time": "2023-05-23T15:21:35.425577100Z"
    }
   },
   "outputs": [
    {
     "name": "stdout",
     "output_type": "stream",
     "text": [
      "['AF4', 'Fp2', 'F7', 'Fp1', 'CPz']\n",
      "Interpolating bad channels\n",
      "    Automatic origin fit: head of radius 96.7 mm\n",
      "Computing interpolation matrix from 57 sensor positions\n",
      "Interpolating 5 sensors\n",
      "[]\n"
     ]
    }
   ],
   "source": [
    "#插值\n",
    "# original_bads = deepcopy(raw_bad.info['bads'])\n",
    "print(raw_bad.info['bads'])\n",
    "#截取一部分作图\n",
    "# raw.copy().crop(tmin=0,tmax=100).plot(n_channels = 50, duration =40, scalings=40e-6,remove_dc = True,highpass=1,lowpass=40)\n",
    "# How interpolation works¶根据手册，是根据topo位置来插值？所以需要location\n",
    "raw_interp = raw_bad.copy().interpolate_bads(reset_bads=True)\n",
    "print(raw_interp.info['bads'])\n",
    "# raw_interp.copy().crop(tmin=0,tmax=100).plot(n_channels = 50, duration =40, scalings=40e-6, remove_dc = True,highpass=1,lowpass=40)\n",
    "# 不想改后面代码的变量名了.\n",
    "raw_crop2 = raw_interp"
   ]
  },
  {
   "cell_type": "code",
   "execution_count": 18,
   "metadata": {
    "ExecuteTime": {
     "end_time": "2023-05-23T15:22:23.246082700Z",
     "start_time": "2023-05-23T15:21:37.457327500Z"
    }
   },
   "outputs": [
    {
     "name": "stdout",
     "output_type": "stream",
     "text": [
      "Setting up band-stop filter\n",
      "\n",
      "FIR filter parameters\n",
      "---------------------\n",
      "Designing a one-pass, zero-phase, non-causal bandstop filter:\n",
      "- Windowed time-domain design (firwin) method\n",
      "- Hamming window with 0.0194 passband ripple and 53 dB stopband attenuation\n",
      "- Lower transition bandwidth: 0.50 Hz\n",
      "- Upper transition bandwidth: 0.50 Hz\n",
      "- Filter length: 6601 samples (6.601 sec)\n",
      "\n"
     ]
    },
    {
     "name": "stderr",
     "output_type": "stream",
     "text": [
      "[Parallel(n_jobs=1)]: Using backend SequentialBackend with 1 concurrent workers.\n",
      "[Parallel(n_jobs=1)]: Done   1 out of   1 | elapsed:    0.0s remaining:    0.0s\n",
      "[Parallel(n_jobs=1)]: Done   2 out of   2 | elapsed:    0.2s remaining:    0.0s\n",
      "[Parallel(n_jobs=1)]: Done   3 out of   3 | elapsed:    0.3s remaining:    0.0s\n",
      "[Parallel(n_jobs=1)]: Done   4 out of   4 | elapsed:    0.4s remaining:    0.0s\n",
      "[Parallel(n_jobs=1)]: Done  62 out of  62 | elapsed:    5.3s finished\n"
     ]
    },
    {
     "name": "stdout",
     "output_type": "stream",
     "text": [
      "Filtering raw data in 3 contiguous segments\n",
      "Setting up band-pass filter from 1.1e+02 - 1.4e+02 Hz\n",
      "\n",
      "FIR filter parameters\n",
      "---------------------\n",
      "Designing a one-pass, zero-phase, non-causal bandpass filter:\n",
      "- Windowed time-domain design (firwin) method\n",
      "- Hamming window with 0.0194 passband ripple and 53 dB stopband attenuation\n",
      "- Lower passband edge: 110.00\n",
      "- Lower transition bandwidth: 27.50 Hz (-6 dB cutoff frequency: 96.25 Hz)\n",
      "- Upper passband edge: 140.00 Hz\n",
      "- Upper transition bandwidth: 35.00 Hz (-6 dB cutoff frequency: 157.50 Hz)\n",
      "- Filter length: 121 samples (0.121 sec)\n",
      "\n"
     ]
    },
    {
     "name": "stderr",
     "output_type": "stream",
     "text": [
      "[Parallel(n_jobs=6)]: Using backend LokyBackend with 6 concurrent workers.\n",
      "[Parallel(n_jobs=6)]: Done  18 tasks      | elapsed:    0.5s\n",
      "[Parallel(n_jobs=6)]: Done  62 out of  62 | elapsed:    1.2s finished\n",
      "[Parallel(n_jobs=6)]: Using backend LokyBackend with 6 concurrent workers.\n",
      "[Parallel(n_jobs=6)]: Done  12 tasks      | elapsed:    2.5s\n"
     ]
    },
    {
     "name": "stdout",
     "output_type": "stream",
     "text": [
      "Setting 2 of 1755048 (0.00%) samples to NaN, retaining 1755046 (100.00%) samples.\n"
     ]
    },
    {
     "name": "stderr",
     "output_type": "stream",
     "text": [
      "[Parallel(n_jobs=6)]: Done  62 out of  62 | elapsed:    9.0s finished\n"
     ]
    },
    {
     "name": "stdout",
     "output_type": "stream",
     "text": [
      "Setting up low-pass filter at 4 Hz\n",
      "\n",
      "FIR filter parameters\n",
      "---------------------\n",
      "Designing a one-pass, zero-phase, non-causal lowpass filter:\n",
      "- Windowed time-domain design (firwin) method\n",
      "- Hamming window with 0.0194 passband ripple and 53 dB stopband attenuation\n",
      "- Upper passband edge: 4.00 Hz\n",
      "- Upper transition bandwidth: 2.00 Hz (-6 dB cutoff frequency: 5.00 Hz)\n",
      "- Filter length: 1651 samples (1.651 sec)\n",
      "\n"
     ]
    },
    {
     "name": "stderr",
     "output_type": "stream",
     "text": [
      "[Parallel(n_jobs=1)]: Using backend SequentialBackend with 1 concurrent workers.\n",
      "[Parallel(n_jobs=1)]: Done   1 out of   1 | elapsed:    0.0s remaining:    0.0s\n",
      "[Parallel(n_jobs=1)]: Done   1 out of   1 | elapsed:    0.0s finished\n"
     ]
    },
    {
     "name": "stdout",
     "output_type": "stream",
     "text": [
      "Setting up band-pass filter from 0.1 - 30 Hz\n",
      "\n",
      "IIR filter parameters\n",
      "---------------------\n",
      "Butterworth bandpass zero-phase (two-pass forward and reverse) non-causal filter:\n",
      "- Filter order 16 (effective, after forward-backward)\n",
      "- Cutoffs at 0.10, 30.00 Hz: -6.02, -6.02 dB\n",
      "\n"
     ]
    },
    {
     "data": {
      "text/plain": "[Text(0.5, 0, 'time, (s)'),\n Text(0, 0.5, 'zscore'),\n Text(0.5, 1.0, 'Muscle activity')]"
     },
     "execution_count": 18,
     "metadata": {},
     "output_type": "execute_result"
    }
   ],
   "source": [
    "'''\n",
    "在进行filter之前,查找muscle,可以先把工频给删除掉.\n",
    "之所以要在filter之前,是因为muscle算法的判断就是高频的震荡(比如移动身体导致的皮肤和电极的摩擦)\n",
    "'''\n",
    "raw_muscle = raw_crop2.copy()\n",
    "raw_muscle.notch_filter([50, 100, 150, 200])\n",
    "threshold_muscle = 5  # z-score  设置得稍微小一点,选出更多的范围.不过这样子可能导致bad区间里面也有眼电成分.如果有一半标红了,那就没意义了..autoreject对眼电没辙.\n",
    "# Choose one channel type, if there are axial gradiometers and magnetometers,\n",
    "# select magnetometers as they are more sensitive to muscle activity.\n",
    "# min_length_good=0.1 两个bad之间如果很短,就之间标为bad范围. 两个小的化为一个大的\n",
    "# filter_freq=[100, 150] 频率再设置宽一点.\n",
    "annot_muscle, scores_muscle = annotate_muscle_zscore(\n",
    "    raw_muscle, ch_type=\"eeg\", threshold=threshold_muscle, min_length_good=2,\n",
    "    filter_freq=[110, 140],n_jobs=6) # 选择区间是110-140HZ,这个已经远超神经信号的频率了\n",
    "# muscle的marker加上原来的marker\n",
    "aonnots_raw_muscle = raw_muscle.annotations\n",
    "if aonnots_raw_muscle.orig_time is not None:\n",
    "    # 没有自动矫正,那就保持不变\n",
    "    aonnots_raw_muscle.onset = aonnots_raw_muscle.onset\n",
    "else:\n",
    "    # 矫正过的,就恢复回去\n",
    "    aonnots_raw_muscle.onset = aonnots_raw_muscle.onset - raw_muscle.first_time\n",
    "\n",
    "raw_muscle.set_annotations(annot_muscle+aonnots_raw_muscle)\n",
    "raw_muscle.plot(n_channels = 50, duration =40, scalings=60e-6, remove_dc = True,\n",
    "                 highpass=0.1, lowpass=30)\n",
    "'''\n",
    "查看 muscle score 的分布情况 在时间线上.\n",
    "'''\n",
    "fig, ax = plt.subplots()\n",
    "ax.plot(raw_muscle.times, scores_muscle)\n",
    "ax.axhline(y=threshold_muscle, color='r')\n",
    "ax.set(xlabel='time, (s)', ylabel='zscore', title='Muscle activity')"
   ]
  },
  {
   "cell_type": "code",
   "execution_count": 19,
   "metadata": {
    "ExecuteTime": {
     "end_time": "2023-05-23T15:22:44.983863500Z",
     "start_time": "2023-05-23T15:22:25.818275500Z"
    }
   },
   "outputs": [
    {
     "name": "stdout",
     "output_type": "stream",
     "text": [
      "Filtering raw data in 3 contiguous segments\n",
      "Setting up band-pass filter from 0.1 - 40 Hz\n",
      "\n",
      "FIR filter parameters\n",
      "---------------------\n",
      "Designing a one-pass, zero-phase, non-causal bandpass filter:\n",
      "- Windowed time-domain design (firwin) method\n",
      "- Hamming window with 0.0194 passband ripple and 53 dB stopband attenuation\n",
      "- Lower passband edge: 0.10\n",
      "- Lower transition bandwidth: 0.10 Hz (-6 dB cutoff frequency: 0.05 Hz)\n",
      "- Upper passband edge: 40.00 Hz\n",
      "- Upper transition bandwidth: 10.00 Hz (-6 dB cutoff frequency: 45.00 Hz)\n",
      "- Filter length: 33001 samples (33.001 sec)\n",
      "\n"
     ]
    },
    {
     "name": "stderr",
     "output_type": "stream",
     "text": [
      "[Parallel(n_jobs=1)]: Using backend SequentialBackend with 1 concurrent workers.\n",
      "[Parallel(n_jobs=1)]: Done   1 out of   1 | elapsed:    0.0s remaining:    0.0s\n",
      "[Parallel(n_jobs=1)]: Done   2 out of   2 | elapsed:    0.0s remaining:    0.0s\n",
      "[Parallel(n_jobs=1)]: Done   3 out of   3 | elapsed:    0.0s remaining:    0.0s\n",
      "[Parallel(n_jobs=1)]: Done   4 out of   4 | elapsed:    0.1s remaining:    0.0s\n",
      "[Parallel(n_jobs=1)]: Done  62 out of  62 | elapsed:    2.3s finished\n"
     ]
    },
    {
     "name": "stdout",
     "output_type": "stream",
     "text": [
      "Setting up band-stop filter\n",
      "\n",
      "FIR filter parameters\n",
      "---------------------\n",
      "Designing a one-pass, zero-phase, non-causal bandstop filter:\n",
      "- Windowed time-domain design (firwin) method\n",
      "- Hamming window with 0.0194 passband ripple and 53 dB stopband attenuation\n",
      "- Lower transition bandwidth: 0.50 Hz\n",
      "- Upper transition bandwidth: 0.50 Hz\n",
      "- Filter length: 6601 samples (6.601 sec)\n",
      "\n"
     ]
    },
    {
     "name": "stderr",
     "output_type": "stream",
     "text": [
      "[Parallel(n_jobs=1)]: Using backend SequentialBackend with 1 concurrent workers.\n",
      "[Parallel(n_jobs=1)]: Done   1 out of   1 | elapsed:    0.0s remaining:    0.0s\n",
      "[Parallel(n_jobs=1)]: Done   2 out of   2 | elapsed:    0.0s remaining:    0.0s\n",
      "[Parallel(n_jobs=1)]: Done   3 out of   3 | elapsed:    0.1s remaining:    0.0s\n",
      "[Parallel(n_jobs=1)]: Done   4 out of   4 | elapsed:    0.2s remaining:    0.0s\n",
      "[Parallel(n_jobs=1)]: Done  62 out of  62 | elapsed:    3.9s finished\n"
     ]
    },
    {
     "name": "stdout",
     "output_type": "stream",
     "text": [
      "EEG channel type selected for re-referencing\n",
      "Applying average reference.\n",
      "Applying a custom ('EEG',) reference.\n"
     ]
    },
    {
     "data": {
      "text/plain": "<mne_qt_browser._pg_figure.MNEQtBrowser at 0x2aee4681c60>"
     },
     "execution_count": 19,
     "metadata": {},
     "output_type": "execute_result"
    }
   ],
   "source": [
    "'''\n",
    "滤波放在muscle之后,因为muscle的判断是根据高频的震荡来判断的.\n",
    "翻译上面这句话\n",
    "'''\n",
    "#滤波\n",
    "# raw_interp.copy().plot_psd(area_mode='range', average=False)\n",
    "# 要做时频分析，上限高一点？脑干 80\n",
    "# 不同数据对这个要求不一样,这里稍微设置高一点,后面再各自处理好了.\n",
    "raw_middlepass = raw_muscle.copy().filter(0.1, 40.)\n",
    "sample_rate=500\n",
    "freqs = np.arange(50, sample_rate / 2, 50)\n",
    "raw_middlepass_notch = raw_middlepass.copy().notch_filter(freqs=freqs)\n",
    "# raw_middlepass_notch.copy().plot_psd(area_mode='range', average=False)\n",
    "#重参考\n",
    "raw_rerefer = raw_middlepass_notch.copy().set_eeg_reference(ref_channels='average')\n",
    "#保存,在ICA之前\n",
    "raw_rerefer.plot(n_channels = 50, duration =40, scalings=60e-6, remove_dc = True,)"
   ]
  },
  {
   "cell_type": "code",
   "execution_count": 20,
   "metadata": {
    "ExecuteTime": {
     "end_time": "2023-05-23T15:22:45.035723800Z",
     "start_time": "2023-05-23T15:22:44.983863500Z"
    }
   },
   "outputs": [
    {
     "data": {
      "text/plain": "'\\n注意 amplitude标注并不是标注出所有的bad区间,其原理是根据 幅值增长速度 而非 幅度本身\\n\\n因此其作用应该是标注出幅值快速变化的时间点,你要去画出来之后,在EEG的图上,留下这些bad marker,自己人为地去扩宽一下.\\n\\n'"
     },
     "execution_count": 20,
     "metadata": {},
     "output_type": "execute_result"
    }
   ],
   "source": [
    "# 根据amplitude标注一次 然后手动去调整宽度.\n",
    "'''\n",
    "注意 amplitude标注并不是标注出所有的bad区间,其原理是根据 幅值增长速度 而非 幅度本身\n",
    "\n",
    "因此其作用应该是标注出幅值快速变化的时间点,你要去画出来之后,在EEG的图上,留下这些bad marker,自己人为地去扩宽一下.\n",
    "\n",
    "'''\n",
    "# peak的选择可以严格一点.理论上来说眼电的幅值也就20uV\n",
    "# amp_annots = mne.preprocessing.annotate_amplitude(raw_rerefer, peak=1e-5, min_duration=0.05)[0]\n",
    "# # 在原有基础上加上amp_annots\n",
    "# if raw_rerefer.annotations.orig_time is None:\n",
    "#     raw_rerefer.annotations.onset = raw_rerefer.annotations.onset - raw_rerefer.first_time\n",
    "#\n",
    "# raw_rerefer.annotations.onset = raw_rerefer.annotations.onset\n",
    "# raw_rerefer.set_annotations(raw_rerefer.annotations+amp_annots)\n",
    "# raw_rerefer.plot(n_channels = 50, duration =40, scalings=60e-6)"
   ]
  },
  {
   "cell_type": "code",
   "execution_count": 21,
   "outputs": [
    {
     "name": "stdout",
     "output_type": "stream",
     "text": [
      "Fitting ICA to data using 62 channels (please be patient, this may take a while)\n",
      "Omitting 60815 of 1755048 (3.47%) samples, retaining 1694233 (96.53%) samples.\n",
      "Selecting by number: 40 components\n",
      "Fitting ICA took 165.8s.\n",
      "time cost 171.4508466720581 s\n",
      "pre4025_y\n"
     ]
    }
   ],
   "source": [
    "'''\n",
    "问题，不知道ICA到底有没有吧 break计算上。\n",
    "'''\n",
    "import time\n",
    "time_start=time.time()\n",
    "# ICA\n",
    "raw_filt = raw_rerefer.copy()\n",
    "# raw_filt.load_data().filter(l_freq=0.1, h_freq= 40)\n",
    "raw_filt.plot(n_channels = 50, duration =40, scalings=60e-6)\n",
    "ica = ICA(n_components=40, random_state=97, )\n",
    "#训练，但是并没有删除\n",
    "ica.fit(raw_filt)\n",
    "#计时\n",
    "time_end=time.time()\n",
    "print('time cost',time_end-time_start,'s')\n",
    "print(sub_id)"
   ],
   "metadata": {
    "collapsed": false,
    "ExecuteTime": {
     "end_time": "2023-05-23T15:25:38.739025100Z",
     "start_time": "2023-05-23T15:22:47.270227400Z"
    }
   }
  },
  {
   "cell_type": "code",
   "execution_count": 22,
   "outputs": [
    {
     "name": "stdout",
     "output_type": "stream",
     "text": [
      "Using EOG channels: HEOG, VEOG\n",
      "Omitting 60815 of 1755048 (3.47%) samples, retaining 1694233 (96.53%) samples.\n",
      "Omitting 60815 of 1755048 (3.47%) samples, retaining 1694233 (96.53%) samples.\n",
      "Omitting 60815 of 1755048 (3.47%) samples, retaining 1694233 (96.53%) samples.\n",
      "... filtering ICA sources\n",
      "Setting up band-pass filter from 1 - 10 Hz\n",
      "\n",
      "FIR filter parameters\n",
      "---------------------\n",
      "Designing a two-pass forward and reverse, zero-phase, non-causal bandpass filter:\n",
      "- Windowed frequency-domain design (firwin2) method\n",
      "- Hann window\n",
      "- Lower passband edge: 1.00\n",
      "- Lower transition bandwidth: 0.50 Hz (-12 dB cutoff frequency: 0.75 Hz)\n",
      "- Upper passband edge: 10.00 Hz\n",
      "- Upper transition bandwidth: 0.50 Hz (-12 dB cutoff frequency: 10.25 Hz)\n",
      "- Filter length: 10000 samples (10.000 sec)\n",
      "\n"
     ]
    },
    {
     "name": "stderr",
     "output_type": "stream",
     "text": [
      "[Parallel(n_jobs=1)]: Using backend SequentialBackend with 1 concurrent workers.\n",
      "[Parallel(n_jobs=1)]: Done   1 out of   1 | elapsed:    0.0s remaining:    0.0s\n",
      "[Parallel(n_jobs=1)]: Done   2 out of   2 | elapsed:    0.1s remaining:    0.0s\n",
      "[Parallel(n_jobs=1)]: Done   3 out of   3 | elapsed:    0.2s remaining:    0.0s\n",
      "[Parallel(n_jobs=1)]: Done   4 out of   4 | elapsed:    0.3s remaining:    0.0s\n"
     ]
    },
    {
     "name": "stdout",
     "output_type": "stream",
     "text": [
      "... filtering target\n",
      "Setting up band-pass filter from 1 - 10 Hz\n",
      "\n",
      "FIR filter parameters\n",
      "---------------------\n",
      "Designing a two-pass forward and reverse, zero-phase, non-causal bandpass filter:\n",
      "- Windowed frequency-domain design (firwin2) method\n",
      "- Hann window\n",
      "- Lower passband edge: 1.00\n",
      "- Lower transition bandwidth: 0.50 Hz (-12 dB cutoff frequency: 0.75 Hz)\n",
      "- Upper passband edge: 10.00 Hz\n",
      "- Upper transition bandwidth: 0.50 Hz (-12 dB cutoff frequency: 10.25 Hz)\n",
      "- Filter length: 10000 samples (10.000 sec)\n",
      "\n"
     ]
    },
    {
     "name": "stderr",
     "output_type": "stream",
     "text": [
      "[Parallel(n_jobs=1)]: Done  40 out of  40 | elapsed:    3.9s finished\n",
      "[Parallel(n_jobs=1)]: Using backend SequentialBackend with 1 concurrent workers.\n",
      "[Parallel(n_jobs=1)]: Done   1 out of   1 | elapsed:    0.0s remaining:    0.0s\n",
      "[Parallel(n_jobs=1)]: Done   1 out of   1 | elapsed:    0.0s finished\n"
     ]
    },
    {
     "name": "stdout",
     "output_type": "stream",
     "text": [
      "Omitting 60815 of 1755048 (3.47%) samples, retaining 1694233 (96.53%) samples.\n",
      "... filtering ICA sources\n",
      "Setting up band-pass filter from 1 - 10 Hz\n",
      "\n",
      "FIR filter parameters\n",
      "---------------------\n",
      "Designing a two-pass forward and reverse, zero-phase, non-causal bandpass filter:\n",
      "- Windowed frequency-domain design (firwin2) method\n",
      "- Hann window\n",
      "- Lower passband edge: 1.00\n",
      "- Lower transition bandwidth: 0.50 Hz (-12 dB cutoff frequency: 0.75 Hz)\n",
      "- Upper passband edge: 10.00 Hz\n",
      "- Upper transition bandwidth: 0.50 Hz (-12 dB cutoff frequency: 10.25 Hz)\n",
      "- Filter length: 10000 samples (10.000 sec)\n",
      "\n"
     ]
    },
    {
     "name": "stderr",
     "output_type": "stream",
     "text": [
      "[Parallel(n_jobs=1)]: Using backend SequentialBackend with 1 concurrent workers.\n",
      "[Parallel(n_jobs=1)]: Done   1 out of   1 | elapsed:    0.0s remaining:    0.0s\n",
      "[Parallel(n_jobs=1)]: Done   2 out of   2 | elapsed:    0.1s remaining:    0.0s\n",
      "[Parallel(n_jobs=1)]: Done   3 out of   3 | elapsed:    0.2s remaining:    0.0s\n",
      "[Parallel(n_jobs=1)]: Done   4 out of   4 | elapsed:    0.3s remaining:    0.0s\n"
     ]
    },
    {
     "name": "stdout",
     "output_type": "stream",
     "text": [
      "... filtering target\n",
      "Setting up band-pass filter from 1 - 10 Hz\n",
      "\n",
      "FIR filter parameters\n",
      "---------------------\n",
      "Designing a two-pass forward and reverse, zero-phase, non-causal bandpass filter:\n",
      "- Windowed frequency-domain design (firwin2) method\n",
      "- Hann window\n",
      "- Lower passband edge: 1.00\n",
      "- Lower transition bandwidth: 0.50 Hz (-12 dB cutoff frequency: 0.75 Hz)\n",
      "- Upper passband edge: 10.00 Hz\n",
      "- Upper transition bandwidth: 0.50 Hz (-12 dB cutoff frequency: 10.25 Hz)\n",
      "- Filter length: 10000 samples (10.000 sec)\n",
      "\n"
     ]
    },
    {
     "name": "stderr",
     "output_type": "stream",
     "text": [
      "[Parallel(n_jobs=1)]: Done  40 out of  40 | elapsed:    3.8s finished\n",
      "[Parallel(n_jobs=1)]: Using backend SequentialBackend with 1 concurrent workers.\n",
      "[Parallel(n_jobs=1)]: Done   1 out of   1 | elapsed:    0.0s remaining:    0.0s\n",
      "[Parallel(n_jobs=1)]: Done   1 out of   1 | elapsed:    0.0s finished\n"
     ]
    },
    {
     "data": {
      "text/plain": "<Figure size 640x540 with 2 Axes>",
      "image/png": "[encoded data removed]"
     },
     "execution_count": 22,
     "metadata": {},
     "output_type": "execute_result"
    }
   ],
   "source": [
    "#有多种选择，自动，手动。找出eog component\n",
    "# eog_inds, eog_scores = ica.find_bads_eog(raw_filt, threshold=3.0, ch_name='Fp2')#0 7数据眼电有问题\n",
    "eog_inds, eog_scores = ica.find_bads_eog(raw_filt, threshold='auto') # 用3是因为并不是真的那么准确,你需要人为判断.如果改成2,,可能会自动排除许多component.\n",
    "#参考一下机器\n",
    "ica.plot_scores(eog_scores)"
   ],
   "metadata": {
    "collapsed": false,
    "ExecuteTime": {
     "end_time": "2023-05-23T15:25:54.464787300Z",
     "start_time": "2023-05-23T15:25:38.742018Z"
    }
   }
  },
  {
   "cell_type": "code",
   "execution_count": null,
   "outputs": [],
   "source": [
    "#但是要自己检查一下,有问题就手动修改eog_ins\n",
    "%matplotlib qt\n",
    "ica.plot_components(inst=raw_filt, show=True)"
   ],
   "metadata": {
    "collapsed": false
   }
  },
  {
   "cell_type": "code",
   "execution_count": null,
   "outputs": [],
   "source": [
    "import torch"
   ],
   "metadata": {
    "collapsed": false
   }
  },
  {
   "cell_type": "code",
   "execution_count": null,
   "outputs": [],
   "source": [
    "from mne_icalabel import label_components\n",
    "import mne_icalabel\n",
    "# assuming you have a Raw and ICA instance previously fittedpip\n",
    "gui = label_components(raw_filt, ica, method='iclabel')\n",
    "print(ica.labels_)\n"
   ],
   "metadata": {
    "collapsed": false
   }
  },
  {
   "cell_type": "code",
   "execution_count": 20,
   "metadata": {
    "ExecuteTime": {
     "end_time": "2023-05-14T15:18:56.588737600Z",
     "start_time": "2023-05-14T15:18:53.833226800Z"
    }
   },
   "outputs": [
    {
     "name": "stdout",
     "output_type": "stream",
     "text": [
      "Setting 27746 of 567454 (4.89%) samples to NaN, retaining 539708 (95.11%) samples.\n",
      "Effective window size : 2.048 (s)\n",
      "Automatically found muscle artifact ICA components: [1, 7, 18, 29]\n"
     ]
    }
   ],
   "source": [
    "'''\n",
    "上面是找眼电成分,这里再找一次muscle成分.\n",
    "\n",
    "你会发现muscle渗透到了很多成分当中.甚至超过一半,但是你这部分的脚本仅仅是挑出来眼电.\n",
    "即把眼电逼出来,尽量避免混合 眼电+muscle\n",
    "\n",
    "'''\n",
    "muscle_idx_auto, scores = ica.find_bads_muscle(raw_filt)\n",
    "ica.plot_scores(scores, exclude=muscle_idx_auto)\n",
    "print(f'Automatically found muscle artifact ICA components: {muscle_idx_auto}')"
   ]
  },
  {
   "cell_type": "code",
   "execution_count": 16,
   "outputs": [],
   "source": [
    "# 手动 或者 用手点.\n",
    "eog_inds = [0,1,2]"
   ],
   "metadata": {
    "collapsed": false,
    "ExecuteTime": {
     "end_time": "2023-05-23T15:02:25.338217800Z",
     "start_time": "2023-05-23T15:02:25.289348Z"
    }
   }
  },
  {
   "cell_type": "code",
   "execution_count": 17,
   "metadata": {
    "ExecuteTime": {
     "end_time": "2023-05-23T15:02:39.287793600Z",
     "start_time": "2023-05-23T15:02:25.888071200Z"
    }
   },
   "outputs": [
    {
     "name": "stdout",
     "output_type": "stream",
     "text": [
      "Applying ICA to Raw instance\n",
      "    Transforming to ICA space (40 components)\n",
      "    Zeroing out 3 ICA components\n",
      "    Projecting back using 62 PCA components\n"
     ]
    },
    {
     "data": {
      "text/plain": "<mne_qt_browser._pg_figure.MNEQtBrowser at 0x22cbba6ecb0>"
     },
     "execution_count": 17,
     "metadata": {},
     "output_type": "execute_result"
    }
   ],
   "source": [
    "#eog_inds = [0,1]\n",
    "ica.exclude = eog_inds\n",
    "ica.plot_scores(eog_scores)\n",
    "#这个……在filt_raw训练出来的model，可以直接给别的数据用。。\n",
    "reconst_raw =raw_filt.copy()\n",
    "reconst_raw.plot(n_channels = 50, duration =40, scalings=40e-6)\n",
    "ica.apply(reconst_raw)\n",
    "reconst_raw.plot(n_channels = 50, duration =40, scalings=40e-6)"
   ]
  },
  {
   "cell_type": "code",
   "execution_count": 18,
   "metadata": {
    "ExecuteTime": {
     "end_time": "2023-05-23T15:02:45.962359300Z",
     "start_time": "2023-05-23T15:02:44.415364400Z"
    }
   },
   "outputs": [
    {
     "name": "stdout",
     "output_type": "stream",
     "text": [
      "Writing ICA solution to E:\\实验\\阅读困难\\数据处理\\pre4\\data\\4raw_ica\\pre4019_yRSA.fiff...\n",
      "Writing E:\\实验\\阅读困难\\数据处理\\pre4\\data\\4raw_ica\\pre4019_yRSA.fif\n"
     ]
    },
    {
     "name": "stderr",
     "output_type": "stream",
     "text": [
      "C:\\Users\\SilverBullet\\AppData\\Local\\Temp\\ipykernel_21056\\2641262914.py:3: RuntimeWarning: This filename (.\\data\\4raw_ica\\pre4019_yRSA.fiff) does not conform to MNE naming conventions. All ICA files should end with -ica.fif, -ica.fif.gz, _ica.fif or _ica.fif.gz\n",
      "  ica.save(save_path_ica + sub_id + 'RSA.fiff', overwrite=True)\n",
      "C:\\Users\\SilverBullet\\AppData\\Local\\Temp\\ipykernel_21056\\2641262914.py:4: RuntimeWarning: This filename (E:\\实验\\阅读困难\\数据处理\\pre4\\data\\4raw_ica\\pre4019_yRSA.fif) does not conform to MNE naming conventions. All raw files should end with raw.fif, raw_sss.fif, raw_tsss.fif, _meg.fif, _eeg.fif, _ieeg.fif, raw.fif.gz, raw_sss.fif.gz, raw_tsss.fif.gz, _meg.fif.gz, _eeg.fif.gz or _ieeg.fif.gz\n",
      "  reconst_raw.save(save_path_ica + sub_id + 'RSA.fif', overwrite=True)\n"
     ]
    },
    {
     "name": "stdout",
     "output_type": "stream",
     "text": [
      "Closing E:\\实验\\阅读困难\\数据处理\\pre4\\data\\4raw_ica\\pre4019_yRSA.fif\n",
      "[done]\n"
     ]
    }
   ],
   "source": [
    "#确认无误，保存一下,raw ica\n",
    "save_path_ica = '.\\data\\\\4raw_ica\\\\'\n",
    "ica.save(save_path_ica + sub_id + 'RSA.fiff', overwrite=True)\n",
    "reconst_raw.save(save_path_ica + sub_id + 'RSA.fif', overwrite=True)"
   ]
  },
  {
   "cell_type": "code",
   "execution_count": null,
   "outputs": [],
   "source": [],
   "metadata": {
    "collapsed": false
   }
  }
 ],
 "metadata": {
  "kernelspec": {
   "name": "python3",
   "language": "python",
   "display_name": "Python 3 (ipykernel)"
  },
  "language_info": {
   "codemirror_mode": {
    "name": "ipython",
    "version": 3
   },
   "file_extension": ".py",
   "mimetype": "text/x-python",
   "name": "python",
   "nbconvert_exporter": "python",
   "pygments_lexer": "ipython3",
   "version": "3.9.13"
  }
 },
 "nbformat": 4,
 "nbformat_minor": 1
}
