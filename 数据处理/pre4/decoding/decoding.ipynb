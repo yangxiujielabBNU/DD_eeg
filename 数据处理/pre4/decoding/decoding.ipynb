{
 "cells": [
  {
   "cell_type": "code",
   "execution_count": null,
   "outputs": [],
   "source": [
    "'''\n",
    "\n",
    "根据路路建议，看看音调之间能不能直接进行decoding。\n",
    "\n",
    "而且我要考虑 随机组合，两个音调之间，三个音调，四个音调\n",
    "\n",
    "编程思路:只要换一下mark就行.\n",
    "把len(conds)放入脚本\n",
    "chance level也改一下 = 1.0/(len(conds)/4)\n",
    "\n",
    "'''\n"
   ],
   "metadata": {
    "collapsed": false,
    "pycharm": {
     "name": "#%%\n"
    }
   }
  },
  {
   "cell_type": "code",
   "execution_count": 1,
   "outputs": [],
   "source": [
    "\n",
    "import numpy as np\n",
    "import os.path as op\n",
    "from pandas import read_csv\n",
    "import mne\n",
    "from mne.io import read_raw_fif\n",
    "from mne.datasets import visual_92_categories\n",
    "from neurora.nps_cal import nps\n",
    "from neurora.rdm_cal import eegRDM\n",
    "from neurora.rdm_corr import rdm_correlation_spearman\n",
    "from neurora.corr_cal_by_rdm import rdms_corr\n",
    "from neurora.rsa_plot import plot_rdm, plot_corrs_by_time, plot_nps_hotmap, plot_corrs_hotmap\n",
    "from neurora.decoding import tbyt_decoding_kfold\n",
    "from neurora.rsa_plot import plot_tbyt_decoding_acc\n",
    "import matplotlib.pyplot as plt\n"
   ],
   "metadata": {
    "collapsed": false,
    "pycharm": {
     "name": "#%%\n"
    },
    "ExecuteTime": {
     "end_time": "2023-05-16T01:02:31.666036Z",
     "start_time": "2023-05-16T01:01:52.441649200Z"
    }
   }
  },
  {
   "cell_type": "code",
   "execution_count": 12,
   "outputs": [
    {
     "name": "stdout",
     "output_type": "stream",
     "text": [
      "Reading E:\\实验\\阅读困难\\数据处理\\pre4\\data\\6epoch_clean_RSA\\pre4008_y_RSA-epo.fif ...\n",
      "    Found the data of interest:\n",
      "        t =    -200.00 ...     800.00 ms\n",
      "        0 CTF compensation matrices available\n",
      "Not setting metadata\n",
      "1275 matching events found\n",
      "No baseline correction applied\n",
      "0 projection items activated\n",
      "Dropped 59 epochs: 100, 101, 103, 113, 118, 119, 131, 135, 136, 137, 139, 141, 189, 192, 193, 385, 400, 402, 403, 420, 579, 582, 585, 740, 750, 901, 905, 907, 923, 927, 1053, 1057, 1058, 1059, 1072, 1075, 1076, 1077, 1170, 1172, 1173, 1174, 1175, 1177, 1179, 1180, 1181, 1182, 1183, 1184, 1185, 1186, 1187, 1188, 1189, 1191, 1192, 1193, 1194\n"
     ]
    },
    {
     "data": {
      "text/plain": "'\\n思路，先求ERP，然后再给ndarray，然后再计算RDM\\n'"
     },
     "execution_count": 12,
     "metadata": {},
     "output_type": "execute_result"
    }
   ],
   "source": [
    "list_epochs_all = list()\n",
    "\n",
    "sub_ids = [\n",
    "\n",
    "    \"pre4008_y\",\"pre4009_y\",\"pre4010_y\",\"pre4011_y\",\"pre4012_y\",\"pre4013_y\",\n",
    "    \"pre4014_y\",\"pre4015_y\",\"pre4017_y\",\n",
    "    \"pre4021_y\",\"pre4022_y\",\"pre4023_y\",\"pre4026_y\",\"pre4027_y\",\"pre4028_y\",\"pre4029_y\",\"pre4030_y\",\n",
    "\n",
    "\n",
    "]\n",
    "\n",
    "# 局部 一个一个被试查看\n",
    "sub_ids = [\n",
    "\n",
    "    \"pre4008_y\",\\\n",
    "\n",
    "]\n",
    "\n",
    "file_path = 'E:\\实验\\阅读困难\\数据处理\\pre4\\data\\\\6epoch_clean_RSA\\\\'\n",
    "\n",
    "for sub_id in sub_ids:\n",
    "    data_path = file_path + sub_id + '_RSA-epo.fif'\n",
    "    epochs_all = mne.read_epochs(fname=data_path)\n",
    "    #做decoding要考虑被试内每个条件试次一样，如果被试间不一样可以用循环来解决。\n",
    "    epochs_all.equalize_event_counts(method='mintime')\n",
    "    list_epochs_all.append(epochs_all)\n",
    "\n",
    "# 如果只想看某一部分的脑区,配合更改ndarray的维度\n",
    "# channels_nieye = ['M1','T7','P7','TP7','M2','T8','P8','TP8','CP5','CP6','C5','C6']\n",
    "# epochs_nieye = epochs_all.pick(picks=channels_nieye)\n",
    "\n",
    "'''\n",
    "思路，先求ERP，然后再给ndarray，然后再计算RDM\n",
    "'''"
   ],
   "metadata": {
    "collapsed": false,
    "ExecuteTime": {
     "end_time": "2023-05-16T02:45:16.271120700Z",
     "start_time": "2023-05-16T02:45:15.123159500Z"
    }
   }
  },
  {
   "cell_type": "code",
   "execution_count": 13,
   "outputs": [],
   "source": [
    "'''\n",
    "先整理单个的被试看看\n",
    "\n",
    "data的结构要求： [n_subs, n_trials, n_chls, n_ts]\n",
    "label的结构要求： [n_subs, n_trials]\n",
    "\n",
    "'''\n",
    "\n",
    "\n",
    "# 去掉三声\n",
    "conds = ['101', '102', '104', '111', '112',  '114', '121', '122',  '124', '131', '132',  '134', ]\n",
    "# 去掉二声\n",
    "conds = ['101', '103', '104', '111', '113', '114', '121', '123', '124', '131', '133', '134', ]\n",
    "\n",
    "conds = ['101', '102', '103', '104', '111', '112', '113', '114', '121', '122', '123', '124', '131', '132', '133', '134', ]\n",
    "num_conds = len(conds)\n",
    "\n",
    "#初始值\n",
    "subindex = 0\n",
    "list_subdata = list()\n",
    "list_sublabel = list()\n",
    "for m in range(len(sub_ids)):\n",
    "    #单个被试的数据\n",
    "    epochs_forlen = list_epochs_all[m][conds[0]]\n",
    "    # 每个被试的trial数量是不一样的\n",
    "    # trial数不能放在第一位，第一位是condition\n",
    "    num_trials = len(epochs_forlen.events[:,1])\n",
    "    subdata = np.zeros([num_conds, num_trials, 62,  1001], dtype=np.float32)\n",
    "    sublabel = np.zeros([0,0])\n",
    "\n",
    "    for i in range(len(conds)):\n",
    "        epochs = list_epochs_all[m][conds[i]]\n",
    "        #做decoding，这里就不能是平均了吧。\n",
    "        # 这里get_data()还会把所有的channel都选上，你需要pick一下,只要eeg，不要眼动数据\n",
    "        data = epochs.get_data(picks='eeg')\n",
    "        label_cond = epochs.events[:,2]\n",
    "        #每种条件的cond\n",
    "        sublabel = np.append(sublabel,label_cond)\n",
    "        sublabel = np.reshape(sublabel, [1,len(sublabel[:])])\n",
    "        subdata[i] = data\n",
    "        # 现在是[con, trial, chan, ts]\n",
    "        # [n_cons, n_subs, n_trials, n_chls, n_ts]需要这样的结构\n",
    "        # 需要中间插入一个subs\n",
    "    subdata = np.reshape(subdata, [num_conds, 1, num_trials, 62, 1001])\n",
    "    # 在某个维度上面拉平\n",
    "    # 把condition的维度乘到 trial上面？\n",
    "    data_decode = np.reshape(subdata,[1, num_conds * num_trials,  62, 1001])\n",
    "    list_subdata.append(data_decode)\n",
    "    list_sublabel.append(sublabel)\n",
    "\n",
    "del list_epochs_all #释放内存\n",
    "\n",
    "'''\n",
    "对label进行处理，\n",
    "让每个值都除以100，如果是辅音，那么就取商，如果是音调，那么就取余数。\n",
    "'''\n",
    "\n",
    "from time import sleep\n",
    "\n",
    "'''\n",
    "\n",
    "每个被试trial数量不一致，所以只能循环求每个被试的accs再拼接\n",
    "\n",
    "'''\n",
    "n_subs = len(sub_ids)\n",
    "n_ts = 191\n",
    "accs_fuyin_allsubs = np.zeros([n_subs, n_ts])\n",
    "accs_yindiao_allsubs = np.zeros([n_subs, n_ts])"
   ],
   "metadata": {
    "collapsed": false,
    "ExecuteTime": {
     "end_time": "2023-05-16T02:45:16.983322Z",
     "start_time": "2023-05-16T02:45:16.278102400Z"
    }
   }
  },
  {
   "cell_type": "code",
   "execution_count": 14,
   "outputs": [
    {
     "name": "stdout",
     "output_type": "stream",
     "text": [
      "Calculating: [===========================================================                                         ] 59.10%"
     ]
    }
   ],
   "source": [
    "# 音调\n",
    "start_from = 0  # 从哪个index开始 因为总是中间中断,考虑从断开的地方继续.\n",
    "for i in range(start_from, len(sub_ids)):\n",
    "    data_decode = list_subdata[i]\n",
    "    label_original = list_sublabel[i]\n",
    "    label_yindiao = ((label_original-100)%10).astype(int)\n",
    "    accs_yindiao = tbyt_decoding_kfold(data_decode,label_yindiao, n=4, time_win=50,time_step=5, nfolds=5, nrepeats=10, navg=10)\n",
    "    accs_yindiao_allsubs[i] = accs_yindiao\n",
    "    sleep(1)\n",
    "    print()\n",
    "    # del data_decode, label_original, label_yindiao, accs_yindiao\n"
   ],
   "metadata": {
    "collapsed": false,
    "ExecuteTime": {
     "end_time": "2023-05-16T02:46:06.561471700Z",
     "start_time": "2023-05-16T02:45:30.514921200Z"
    }
   }
  },
  {
   "cell_type": "code",
   "execution_count": 15,
   "outputs": [],
   "source": [
    "\n",
    "%matplotlib inline\n",
    "\n",
    "plot_tbyt_decoding_acc(accs_yindiao_allsubs, start_time=-0.2, end_time=0.755, time_interval=0.005, chance=0.25,color='blue', ylim=[0,0.5], xlim=[-0.2,0.8])\n"
   ],
   "metadata": {
    "collapsed": false,
    "pycharm": {
     "name": "#%%\n"
    }
   }
  },
  {
   "cell_type": "code",
   "execution_count": 6,
   "outputs": [
    {
     "name": "stdout",
     "output_type": "stream",
     "text": [
      "Calculating: [====================================================================================================] 100.00%\n",
      "Decoding finished!\n",
      "\n",
      "5\n",
      "Calculating: [====================================================================================================] 100.00%\n",
      "Decoding finished!\n",
      "\n",
      "6\n",
      "Calculating: [====================================================================================================] 100.00%\n",
      "Decoding finished!\n",
      "\n",
      "7\n",
      "Calculating: [====================================================================================================] 100.00%\n",
      "Decoding finished!\n",
      "\n",
      "8\n",
      "Calculating: [====================================================================================================] 100.00%\n",
      "Decoding finished!\n",
      "\n",
      "9\n",
      "Calculating: [====================================================================================================] 100.00%\n",
      "Decoding finished!\n",
      "\n",
      "10\n",
      "Calculating: [====================================================================================================] 100.00%\n",
      "Decoding finished!\n",
      "\n",
      "11\n",
      "Calculating: [====================================================================================================] 100.00%\n",
      "Decoding finished!\n",
      "\n",
      "12\n",
      "Calculating: [====================================================================================================] 100.00%\n",
      "Decoding finished!\n",
      "\n",
      "13\n",
      "Calculating: [====================================================================================================] 100.00%\n",
      "Decoding finished!\n",
      "\n",
      "14\n",
      "Calculating: [====================================================================================================] 100.00%\n",
      "Decoding finished!\n",
      "\n",
      "15\n",
      "Calculating: [====================================================================================================] 100.00%\n",
      "Decoding finished!\n",
      "\n",
      "16\n"
     ]
    }
   ],
   "source": [
    "# 辅音\n",
    "start_from = 5  # 从哪个index开始 因为总是中间中断,考虑从断开的地方继续.\n",
    "for i in range(start_from, len(sub_ids)):\n",
    "    data_decode = list_subdata[i]\n",
    "    label_original = list_sublabel[i]\n",
    "    # 区别在这里\n",
    "    label_fuyin = ((label_original-100)/10).astype(int)\n",
    "    accs_fuyin = tbyt_decoding_kfold(data_decode,label_fuyin, n=4, time_win=50,time_step=5, nfolds=5, nrepeats=10, navg=10, time_opt='features')\n",
    "    accs_fuyin_allsubs[i] = accs_fuyin\n",
    "    print(i)\n",
    "    sleep(10)"
   ],
   "metadata": {
    "collapsed": false,
    "ExecuteTime": {
     "end_time": "2023-05-16T02:19:24.478612400Z",
     "start_time": "2023-05-16T01:31:11.715586400Z"
    }
   }
  },
  {
   "cell_type": "code",
   "execution_count": 8,
   "outputs": [
    {
     "name": "stdout",
     "output_type": "stream",
     "text": [
      "\n",
      "Significant time-windows:\n"
     ]
    },
    {
     "data": {
      "text/plain": "<Figure size 640x360 with 1 Axes>",
      "image/png": "[encoded data removed]"
     },
     "metadata": {},
     "output_type": "display_data"
    },
    {
     "data": {
      "text/plain": "array([0., 0., 0., 0., 0., 0., 0., 0., 0., 0., 0., 0., 0., 0., 0., 0., 0.,\n       0., 0., 0., 0., 0., 0., 0., 0., 0., 0., 0., 0., 0., 0., 0., 0., 0.,\n       0., 0., 0., 0., 0., 0., 0., 0., 0., 0., 0., 0., 0., 0., 0., 0., 0.,\n       0., 0., 0., 0., 0., 0., 0., 0., 0., 0., 0., 0., 0., 0., 0., 0., 0.,\n       0., 0., 0., 0., 0., 0., 0., 0., 0., 0., 0., 0., 0., 0., 0., 0., 0.,\n       0., 0., 0., 0., 0., 0., 0., 0., 0., 0., 0., 0., 0., 0., 0., 0., 0.,\n       0., 0., 0., 0., 0., 0., 0., 0., 0., 0., 0., 0., 0., 0., 0., 0., 0.,\n       0., 0., 0., 0., 0., 0., 0., 0., 0., 0., 0., 0., 0., 0., 0., 0., 0.,\n       0., 0., 0., 0., 0., 0., 0., 0., 0., 0., 0., 0., 0., 0., 0., 0., 0.,\n       0., 0., 0., 0., 0., 0., 0., 0., 0., 0., 0., 0., 0., 0., 0., 0., 0.,\n       0., 0., 0., 0., 0., 0., 0., 0., 0., 0., 0., 0., 0., 0., 0., 0., 0.,\n       0., 0., 0., 0.])"
     },
     "execution_count": 8,
     "metadata": {},
     "output_type": "execute_result"
    }
   ],
   "source": [
    "\n",
    "plot_tbyt_decoding_acc(accs_fuyin_allsubs, start_time=-0.2, end_time=0.755, time_interval=0.005, chance=0.25, color='red', ylim=[0,0.5],xlim=[-0.2,0.8], x0=-0.2, fontsize=10)"
   ],
   "metadata": {
    "collapsed": false,
    "pycharm": {
     "name": "#%%\n"
    },
    "ExecuteTime": {
     "end_time": "2023-05-16T02:43:09.955358400Z",
     "start_time": "2023-05-16T02:43:09.724973600Z"
    }
   }
  },
  {
   "cell_type": "code",
   "execution_count": null,
   "outputs": [],
   "source": [
    "%matplotlib inline\n"
   ],
   "metadata": {
    "collapsed": false,
    "pycharm": {
     "name": "#%%\n"
    }
   }
  },
  {
   "cell_type": "code",
   "execution_count": null,
   "outputs": [],
   "source": [],
   "metadata": {
    "collapsed": false
   }
  }
 ],
 "metadata": {
  "kernelspec": {
   "name": "mne12",
   "language": "python",
   "display_name": "Python(mne12)"
  },
  "language_info": {
   "codemirror_mode": {
    "name": "ipython",
    "version": 2
   },
   "file_extension": ".py",
   "mimetype": "text/x-python",
   "name": "python",
   "nbconvert_exporter": "python",
   "pygments_lexer": "ipython2",
   "version": "2.7.6"
  }
 },
 "nbformat": 4,
 "nbformat_minor": 0
}
