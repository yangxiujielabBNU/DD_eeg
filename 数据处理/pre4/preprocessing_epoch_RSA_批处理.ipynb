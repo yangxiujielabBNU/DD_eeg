{
 "cells": [
  {
   "cell_type": "code",
   "execution_count": 1,
   "outputs": [
    {
     "data": {
      "text/plain": "'\\n\\n截取所有条件的epoch，然后进行清洗。\\n\\n截取的长度不一样，RSA和ASSR要分开处理\\n\\n所有epoch ，然后再来考虑 evoked\\n\\n\\nRSA 实验\\n\\n刺激\\t恒定duration\\tmark\\nba1.wav\\t1\\t101\\nba2.wav\\t1\\t102\\nba3.wav\\t1\\t103\\nba4.wav\\t1\\t104\\nda1.wav\\t1\\t111\\nda2.wav\\t1\\t112\\nda3.wav\\t1\\t113\\nda4.wav\\t1\\t114\\npa1.wav\\t1\\t121\\npa2.wav\\t1\\t122\\npa3.wav\\t1\\t123\\npa4.wav\\t1\\t124\\nta1.wav\\t1\\t131\\nta2.wav\\t1\\t132\\nta3.wav\\t1\\t133\\nta4.wav\\t1\\t134\\n\\n\\n\\nASSR 实验\\n\\n4_18s.wav\\t4\\t4\\t21.7\\n6_18s.wav\\t6\\t6\\t21.7\\n\\n'"
     },
     "execution_count": 1,
     "metadata": {},
     "output_type": "execute_result"
    }
   ],
   "source": [
    "'''\n",
    "\n",
    "截取所有条件的epoch，然后进行清洗。\n",
    "\n",
    "截取的长度不一样，RSA和ASSR要分开处理\n",
    "\n",
    "所有epoch ，然后再来考虑 evoked\n",
    "\n",
    "\n",
    "RSA 实验\n",
    "\n",
    "刺激\t恒定duration\tmark\n",
    "ba1.wav\t1\t101\n",
    "ba2.wav\t1\t102\n",
    "ba3.wav\t1\t103\n",
    "ba4.wav\t1\t104\n",
    "da1.wav\t1\t111\n",
    "da2.wav\t1\t112\n",
    "da3.wav\t1\t113\n",
    "da4.wav\t1\t114\n",
    "pa1.wav\t1\t121\n",
    "pa2.wav\t1\t122\n",
    "pa3.wav\t1\t123\n",
    "pa4.wav\t1\t124\n",
    "ta1.wav\t1\t131\n",
    "ta2.wav\t1\t132\n",
    "ta3.wav\t1\t133\n",
    "ta4.wav\t1\t134\n",
    "\n",
    "\n",
    "\n",
    "ASSR 实验\n",
    "\n",
    "4_18s.wav\t4\t4\t21.7\n",
    "6_18s.wav\t6\t6\t21.7\n",
    "\n",
    "'''\n"
   ],
   "metadata": {
    "collapsed": false,
    "ExecuteTime": {
     "end_time": "2023-05-30T16:54:15.274210500Z",
     "start_time": "2023-05-30T16:54:15.085444400Z"
    }
   }
  },
  {
   "cell_type": "code",
   "execution_count": 2,
   "outputs": [],
   "source": [
    "import mne\n",
    "import os.path as op\n",
    "import mne\n",
    "from mne.preprocessing import ICA\n",
    "import matplotlib.pyplot as plt\n",
    "from copy import deepcopy\n",
    "import numpy as np\n",
    "from autoreject import AutoReject"
   ],
   "metadata": {
    "collapsed": false,
    "pycharm": {
     "is_executing": true
    },
    "ExecuteTime": {
     "end_time": "2023-05-30T16:54:30.334961400Z",
     "start_time": "2023-05-30T16:54:15.108894800Z"
    }
   }
  },
  {
   "cell_type": "code",
   "execution_count": 3,
   "outputs": [],
   "source": [
    "\n",
    "\n",
    "sub_ids = [\n",
    "\n",
    "    \"pre4008_y\",\"pre4009_y\",\"pre4010_y\",\"pre4011_y\",\"pre4012_y\",\"pre4013_y\",\n",
    "    \"pre4014_y\",\"pre4015_y\",\"pre4016_y\",\"pre4017_y\", \"pre4018_y\",\"pre4019_y\",\n",
    "    \"pre4021_y\",\"pre4022_y\",\"pre4023_y\",\"pre4026_y\",\n",
    "    \"pre4027_y\",\"pre4028_y\",\"pre4029_y\",\"pre4030_y\"\n",
    "\n",
    "]\n",
    "# sub_ids = [\n",
    "#\n",
    "#     \"pre4008_y\",\"pre4009_y\",\n",
    "#\n",
    "# ]\n"
   ],
   "metadata": {
    "collapsed": false,
    "ExecuteTime": {
     "end_time": "2023-05-30T16:54:30.334961400Z",
     "start_time": "2023-05-30T16:54:30.333963900Z"
    }
   }
  },
  {
   "cell_type": "code",
   "execution_count": 4,
   "outputs": [
    {
     "name": "stdout",
     "output_type": "stream",
     "text": [
      "Opening raw data file .\\data\\4raw_ica\\pre4008_yRSA.fif...\n"
     ]
    },
    {
     "name": "stderr",
     "output_type": "stream",
     "text": [
      "C:\\Users\\SilverBullet\\AppData\\Local\\Temp\\ipykernel_21360\\4208668916.py:8: RuntimeWarning: This filename (.\\data\\4raw_ica\\pre4008_yRSA.fif) does not conform to MNE naming conventions. All raw files should end with raw.fif, raw_sss.fif, raw_tsss.fif, _meg.fif, _eeg.fif, _ieeg.fif, raw.fif.gz, raw_sss.fif.gz, raw_tsss.fif.gz, _meg.fif.gz, _eeg.fif.gz or _ieeg.fif.gz\n",
      "  reconst_raw=mne.io.read_raw_fif(save_path_ica + sub_id + 'RSA.fif')\n"
     ]
    },
    {
     "name": "stdout",
     "output_type": "stream",
     "text": [
      "    Range : 1187041 ... 2928463 =   1187.041 ...  2928.463 secs\n",
      "Ready.\n",
      "Used Annotations descriptions: ['101', '102', '103', '104', '111', '112', '113', '114', '121', '122', '123', '124', '131', '132', '133', '134']\n",
      "Not setting metadata\n",
      "1440 matching events found\n",
      "Applying baseline correction (mode: mean)\n",
      "0 projection items activated\n",
      "Loading data for 1440 events and 1301 original time points ...\n",
      "162 bad epochs dropped\n",
      "Overwriting existing file.\n"
     ]
    },
    {
     "name": "stderr",
     "output_type": "stream",
     "text": [
      "C:\\Users\\SilverBullet\\AppData\\Roaming\\Python\\Python310\\site-packages\\eeglabio\\epochs.py:101 EEGLABIO: WARNING: Invalid event latencies, ignored for export.\n",
      "C:\\Users\\SilverBullet\\AppData\\Roaming\\Python\\Python310\\site-packages\\eeglabio\\epochs.py:110 EEGLABIO: WARNING: Some or all annotations have invalid onsets, discarded for export.\n"
     ]
    },
    {
     "name": "stdout",
     "output_type": "stream",
     "text": [
      "Overwriting existing file.\n",
      "Running autoreject on ch_type=eeg\n"
     ]
    },
    {
     "data": {
      "text/plain": "  0%|          | Creating augmented epochs : 0/62 [00:00<?,       ?it/s]",
      "application/vnd.jupyter.widget-view+json": {
       "version_major": 2,
       "version_minor": 0,
       "model_id": "211a42a6527249ccb63dd18328397201"
      }
     },
     "metadata": {},
     "output_type": "display_data"
    },
    {
     "data": {
      "text/plain": "  0%|          | Computing thresholds ... : 0/62 [00:00<?,       ?it/s]",
      "application/vnd.jupyter.widget-view+json": {
       "version_major": 2,
       "version_minor": 0,
       "model_id": "05ca82a75a8a4433ba93325d3484be59"
      }
     },
     "metadata": {},
     "output_type": "display_data"
    },
    {
     "data": {
      "text/plain": "  0%|          | Repairing epochs : 0/1278 [00:00<?,       ?it/s]",
      "application/vnd.jupyter.widget-view+json": {
       "version_major": 2,
       "version_minor": 0,
       "model_id": "aba782afb65f4c389a27c5c1e6ae8363"
      }
     },
     "metadata": {},
     "output_type": "display_data"
    },
    {
     "data": {
      "text/plain": "  0%|          | n_interp : 0/3 [00:00<?,       ?it/s]",
      "application/vnd.jupyter.widget-view+json": {
       "version_major": 2,
       "version_minor": 0,
       "model_id": "d1f85633facd4742ac8509e5d77f184d"
      }
     },
     "metadata": {},
     "output_type": "display_data"
    },
    {
     "data": {
      "text/plain": "  0%|          | Repairing epochs : 0/1278 [00:00<?,       ?it/s]",
      "application/vnd.jupyter.widget-view+json": {
       "version_major": 2,
       "version_minor": 0,
       "model_id": "ef57299290d745399921f742e8565bd2"
      }
     },
     "metadata": {},
     "output_type": "display_data"
    },
    {
     "data": {
      "text/plain": "  0%|          | Fold : 0/10 [00:00<?,       ?it/s]",
      "application/vnd.jupyter.widget-view+json": {
       "version_major": 2,
       "version_minor": 0,
       "model_id": "a5777719680c41ed94dc98d6b7e118f2"
      }
     },
     "metadata": {},
     "output_type": "display_data"
    },
    {
     "data": {
      "text/plain": "  0%|          | Repairing epochs : 0/1278 [00:00<?,       ?it/s]",
      "application/vnd.jupyter.widget-view+json": {
       "version_major": 2,
       "version_minor": 0,
       "model_id": "5d4c642514a24a8db1c03b112ec264ee"
      }
     },
     "metadata": {},
     "output_type": "display_data"
    },
    {
     "data": {
      "text/plain": "  0%|          | Fold : 0/10 [00:00<?,       ?it/s]",
      "application/vnd.jupyter.widget-view+json": {
       "version_major": 2,
       "version_minor": 0,
       "model_id": "2a4a29fd1bad4803ba714683e8f23fe2"
      }
     },
     "metadata": {},
     "output_type": "display_data"
    },
    {
     "data": {
      "text/plain": "  0%|          | Repairing epochs : 0/1278 [00:00<?,       ?it/s]",
      "application/vnd.jupyter.widget-view+json": {
       "version_major": 2,
       "version_minor": 0,
       "model_id": "71665cc2042d49589d754b010e7a8a12"
      }
     },
     "metadata": {},
     "output_type": "display_data"
    },
    {
     "data": {
      "text/plain": "  0%|          | Fold : 0/10 [00:00<?,       ?it/s]",
      "application/vnd.jupyter.widget-view+json": {
       "version_major": 2,
       "version_minor": 0,
       "model_id": "c8be4da89212415cbe1ff2316a356107"
      }
     },
     "metadata": {},
     "output_type": "display_data"
    },
    {
     "name": "stdout",
     "output_type": "stream",
     "text": [
      "\n",
      "\n",
      "\n",
      "\n",
      "Estimated consensus=0.24 and n_interpolate=4\n"
     ]
    },
    {
     "data": {
      "text/plain": "  0%|          | Repairing epochs : 0/1278 [00:00<?,       ?it/s]",
      "application/vnd.jupyter.widget-view+json": {
       "version_major": 2,
       "version_minor": 0,
       "model_id": "cebcbb1c886949038816f55d90c8c352"
      }
     },
     "metadata": {},
     "output_type": "display_data"
    },
    {
     "name": "stdout",
     "output_type": "stream",
     "text": [
      "Dropped 17 epochs: 746, 880, 881, 882, 897, 898, 899, 900, 901, 902, 903, 904, 905, 906, 907, 1183, 1184\n"
     ]
    },
    {
     "ename": "ValueError",
     "evalue": "Format '5base-_original_pre4008_y' is not supported (supported formats: eps, jpeg, jpg, pdf, pgf, png, ps, raw, rgba, svg, svgz, tif, tiff, webp)",
     "output_type": "error",
     "traceback": [
      "\u001B[1;31m---------------------------------------------------------------------------\u001B[0m",
      "\u001B[1;31mValueError\u001B[0m                                Traceback (most recent call last)",
      "Cell \u001B[1;32mIn[4], line 96\u001B[0m\n\u001B[0;32m     93\u001B[0m get_ipython()\u001B[38;5;241m.\u001B[39mrun_line_magic(\u001B[38;5;124m'\u001B[39m\u001B[38;5;124mmatplotlib\u001B[39m\u001B[38;5;124m'\u001B[39m, \u001B[38;5;124m'\u001B[39m\u001B[38;5;124mqt\u001B[39m\u001B[38;5;124m'\u001B[39m)\n\u001B[0;32m     95\u001B[0m fig_original \u001B[38;5;241m=\u001B[39m evoked_original_RSA[i]\u001B[38;5;241m.\u001B[39mplot(window_title \u001B[38;5;241m=\u001B[39m sub_id)\n\u001B[1;32m---> 96\u001B[0m \u001B[43mfig_original\u001B[49m\u001B[38;5;241;43m.\u001B[39;49m\u001B[43msavefig\u001B[49m\u001B[43m(\u001B[49m\u001B[43msave_path_evoked\u001B[49m\u001B[38;5;241;43m+\u001B[39;49m\u001B[38;5;124;43m'\u001B[39;49m\u001B[38;5;124;43m0.5base-_original_\u001B[39;49m\u001B[38;5;124;43m'\u001B[39;49m\u001B[43m \u001B[49m\u001B[38;5;241;43m+\u001B[39;49m\u001B[43m \u001B[49m\u001B[43msub_id\u001B[49m\u001B[43m)\u001B[49m\n\u001B[0;32m     97\u001B[0m fig_clean \u001B[38;5;241m=\u001B[39m evoked_clean_RSA[i]\u001B[38;5;241m.\u001B[39mplot(window_title \u001B[38;5;241m=\u001B[39m sub_id)\n\u001B[0;32m     98\u001B[0m fig_clean\u001B[38;5;241m.\u001B[39msavefig(save_path_evoked\u001B[38;5;241m+\u001B[39m\u001B[38;5;124m'\u001B[39m\u001B[38;5;124m0.5base-_clean_\u001B[39m\u001B[38;5;124m'\u001B[39m\u001B[38;5;241m+\u001B[39m sub_id)\n",
      "File \u001B[1;32mD:\\ProgramData\\anaconda\\lib\\site-packages\\matplotlib\\figure.py:3328\u001B[0m, in \u001B[0;36mFigure.savefig\u001B[1;34m(self, fname, transparent, **kwargs)\u001B[0m\n\u001B[0;32m   3324\u001B[0m     \u001B[38;5;28;01mfor\u001B[39;00m ax \u001B[38;5;129;01min\u001B[39;00m \u001B[38;5;28mself\u001B[39m\u001B[38;5;241m.\u001B[39maxes:\n\u001B[0;32m   3325\u001B[0m         stack\u001B[38;5;241m.\u001B[39menter_context(\n\u001B[0;32m   3326\u001B[0m             ax\u001B[38;5;241m.\u001B[39mpatch\u001B[38;5;241m.\u001B[39m_cm_set(facecolor\u001B[38;5;241m=\u001B[39m\u001B[38;5;124m'\u001B[39m\u001B[38;5;124mnone\u001B[39m\u001B[38;5;124m'\u001B[39m, edgecolor\u001B[38;5;241m=\u001B[39m\u001B[38;5;124m'\u001B[39m\u001B[38;5;124mnone\u001B[39m\u001B[38;5;124m'\u001B[39m))\n\u001B[1;32m-> 3328\u001B[0m \u001B[38;5;28mself\u001B[39m\u001B[38;5;241m.\u001B[39mcanvas\u001B[38;5;241m.\u001B[39mprint_figure(fname, \u001B[38;5;241m*\u001B[39m\u001B[38;5;241m*\u001B[39mkwargs)\n",
      "File \u001B[1;32mD:\\ProgramData\\anaconda\\lib\\site-packages\\matplotlib\\backends\\backend_qtagg.py:75\u001B[0m, in \u001B[0;36mFigureCanvasQTAgg.print_figure\u001B[1;34m(self, *args, **kwargs)\u001B[0m\n\u001B[0;32m     74\u001B[0m \u001B[38;5;28;01mdef\u001B[39;00m \u001B[38;5;21mprint_figure\u001B[39m(\u001B[38;5;28mself\u001B[39m, \u001B[38;5;241m*\u001B[39margs, \u001B[38;5;241m*\u001B[39m\u001B[38;5;241m*\u001B[39mkwargs):\n\u001B[1;32m---> 75\u001B[0m     \u001B[38;5;28msuper\u001B[39m()\u001B[38;5;241m.\u001B[39mprint_figure(\u001B[38;5;241m*\u001B[39margs, \u001B[38;5;241m*\u001B[39m\u001B[38;5;241m*\u001B[39mkwargs)\n\u001B[0;32m     76\u001B[0m     \u001B[38;5;28mself\u001B[39m\u001B[38;5;241m.\u001B[39mdraw()\n",
      "File \u001B[1;32mD:\\ProgramData\\anaconda\\lib\\site-packages\\matplotlib\\backend_bases.py:2309\u001B[0m, in \u001B[0;36mFigureCanvasBase.print_figure\u001B[1;34m(self, filename, dpi, facecolor, edgecolor, orientation, format, bbox_inches, pad_inches, bbox_extra_artists, backend, **kwargs)\u001B[0m\n\u001B[0;32m   2306\u001B[0m     dpi \u001B[38;5;241m=\u001B[39m \u001B[38;5;28mgetattr\u001B[39m(\u001B[38;5;28mself\u001B[39m\u001B[38;5;241m.\u001B[39mfigure, \u001B[38;5;124m'\u001B[39m\u001B[38;5;124m_original_dpi\u001B[39m\u001B[38;5;124m'\u001B[39m, \u001B[38;5;28mself\u001B[39m\u001B[38;5;241m.\u001B[39mfigure\u001B[38;5;241m.\u001B[39mdpi)\n\u001B[0;32m   2308\u001B[0m \u001B[38;5;66;03m# Remove the figure manager, if any, to avoid resizing the GUI widget.\u001B[39;00m\n\u001B[1;32m-> 2309\u001B[0m \u001B[38;5;28;01mwith\u001B[39;00m cbook\u001B[38;5;241m.\u001B[39m_setattr_cm(\u001B[38;5;28mself\u001B[39m, manager\u001B[38;5;241m=\u001B[39m\u001B[38;5;28;01mNone\u001B[39;00m), \\\n\u001B[0;32m   2310\u001B[0m      \u001B[38;5;28mself\u001B[39m\u001B[38;5;241m.\u001B[39m_switch_canvas_and_return_print_method(\u001B[38;5;28mformat\u001B[39m, backend) \\\n\u001B[0;32m   2311\u001B[0m          \u001B[38;5;28;01mas\u001B[39;00m print_method, \\\n\u001B[0;32m   2312\u001B[0m      cbook\u001B[38;5;241m.\u001B[39m_setattr_cm(\u001B[38;5;28mself\u001B[39m\u001B[38;5;241m.\u001B[39mfigure, dpi\u001B[38;5;241m=\u001B[39mdpi), \\\n\u001B[0;32m   2313\u001B[0m      cbook\u001B[38;5;241m.\u001B[39m_setattr_cm(\u001B[38;5;28mself\u001B[39m\u001B[38;5;241m.\u001B[39mfigure\u001B[38;5;241m.\u001B[39mcanvas, _device_pixel_ratio\u001B[38;5;241m=\u001B[39m\u001B[38;5;241m1\u001B[39m), \\\n\u001B[0;32m   2314\u001B[0m      cbook\u001B[38;5;241m.\u001B[39m_setattr_cm(\u001B[38;5;28mself\u001B[39m\u001B[38;5;241m.\u001B[39mfigure\u001B[38;5;241m.\u001B[39mcanvas, _is_saving\u001B[38;5;241m=\u001B[39m\u001B[38;5;28;01mTrue\u001B[39;00m), \\\n\u001B[0;32m   2315\u001B[0m      ExitStack() \u001B[38;5;28;01mas\u001B[39;00m stack:\n\u001B[0;32m   2317\u001B[0m     \u001B[38;5;28;01mfor\u001B[39;00m prop \u001B[38;5;129;01min\u001B[39;00m [\u001B[38;5;124m\"\u001B[39m\u001B[38;5;124mfacecolor\u001B[39m\u001B[38;5;124m\"\u001B[39m, \u001B[38;5;124m\"\u001B[39m\u001B[38;5;124medgecolor\u001B[39m\u001B[38;5;124m\"\u001B[39m]:\n\u001B[0;32m   2318\u001B[0m         color \u001B[38;5;241m=\u001B[39m \u001B[38;5;28mlocals\u001B[39m()[prop]\n",
      "File \u001B[1;32mD:\\ProgramData\\anaconda\\lib\\contextlib.py:135\u001B[0m, in \u001B[0;36m_GeneratorContextManager.__enter__\u001B[1;34m(self)\u001B[0m\n\u001B[0;32m    133\u001B[0m \u001B[38;5;28;01mdel\u001B[39;00m \u001B[38;5;28mself\u001B[39m\u001B[38;5;241m.\u001B[39margs, \u001B[38;5;28mself\u001B[39m\u001B[38;5;241m.\u001B[39mkwds, \u001B[38;5;28mself\u001B[39m\u001B[38;5;241m.\u001B[39mfunc\n\u001B[0;32m    134\u001B[0m \u001B[38;5;28;01mtry\u001B[39;00m:\n\u001B[1;32m--> 135\u001B[0m     \u001B[38;5;28;01mreturn\u001B[39;00m \u001B[38;5;28;43mnext\u001B[39;49m\u001B[43m(\u001B[49m\u001B[38;5;28;43mself\u001B[39;49m\u001B[38;5;241;43m.\u001B[39;49m\u001B[43mgen\u001B[49m\u001B[43m)\u001B[49m\n\u001B[0;32m    136\u001B[0m \u001B[38;5;28;01mexcept\u001B[39;00m \u001B[38;5;167;01mStopIteration\u001B[39;00m:\n\u001B[0;32m    137\u001B[0m     \u001B[38;5;28;01mraise\u001B[39;00m \u001B[38;5;167;01mRuntimeError\u001B[39;00m(\u001B[38;5;124m\"\u001B[39m\u001B[38;5;124mgenerator didn\u001B[39m\u001B[38;5;124m'\u001B[39m\u001B[38;5;124mt yield\u001B[39m\u001B[38;5;124m\"\u001B[39m) \u001B[38;5;28;01mfrom\u001B[39;00m \u001B[38;5;28mNone\u001B[39m\n",
      "File \u001B[1;32mD:\\ProgramData\\anaconda\\lib\\site-packages\\matplotlib\\backend_bases.py:2216\u001B[0m, in \u001B[0;36mFigureCanvasBase._switch_canvas_and_return_print_method\u001B[1;34m(self, fmt, backend)\u001B[0m\n\u001B[0;32m   2214\u001B[0m     canvas \u001B[38;5;241m=\u001B[39m \u001B[38;5;28mself\u001B[39m\u001B[38;5;241m.\u001B[39mswitch_backends(canvas_class)\n\u001B[0;32m   2215\u001B[0m \u001B[38;5;28;01mif\u001B[39;00m canvas \u001B[38;5;129;01mis\u001B[39;00m \u001B[38;5;28;01mNone\u001B[39;00m:\n\u001B[1;32m-> 2216\u001B[0m     \u001B[38;5;28;01mraise\u001B[39;00m \u001B[38;5;167;01mValueError\u001B[39;00m(\n\u001B[0;32m   2217\u001B[0m         \u001B[38;5;124m\"\u001B[39m\u001B[38;5;124mFormat \u001B[39m\u001B[38;5;132;01m{!r}\u001B[39;00m\u001B[38;5;124m is not supported (supported formats: \u001B[39m\u001B[38;5;132;01m{}\u001B[39;00m\u001B[38;5;124m)\u001B[39m\u001B[38;5;124m\"\u001B[39m\u001B[38;5;241m.\u001B[39mformat(\n\u001B[0;32m   2218\u001B[0m             fmt, \u001B[38;5;124m\"\u001B[39m\u001B[38;5;124m, \u001B[39m\u001B[38;5;124m\"\u001B[39m\u001B[38;5;241m.\u001B[39mjoin(\u001B[38;5;28msorted\u001B[39m(\u001B[38;5;28mself\u001B[39m\u001B[38;5;241m.\u001B[39mget_supported_filetypes()))))\n\u001B[0;32m   2219\u001B[0m meth \u001B[38;5;241m=\u001B[39m \u001B[38;5;28mgetattr\u001B[39m(canvas, \u001B[38;5;124mf\u001B[39m\u001B[38;5;124m\"\u001B[39m\u001B[38;5;124mprint_\u001B[39m\u001B[38;5;132;01m{\u001B[39;00mfmt\u001B[38;5;132;01m}\u001B[39;00m\u001B[38;5;124m\"\u001B[39m)\n\u001B[0;32m   2220\u001B[0m mod \u001B[38;5;241m=\u001B[39m (meth\u001B[38;5;241m.\u001B[39mfunc\u001B[38;5;241m.\u001B[39m\u001B[38;5;18m__module__\u001B[39m\n\u001B[0;32m   2221\u001B[0m        \u001B[38;5;28;01mif\u001B[39;00m \u001B[38;5;28mhasattr\u001B[39m(meth, \u001B[38;5;124m\"\u001B[39m\u001B[38;5;124mfunc\u001B[39m\u001B[38;5;124m\"\u001B[39m)  \u001B[38;5;66;03m# partialmethod, e.g. backend_wx.\u001B[39;00m\n\u001B[0;32m   2222\u001B[0m        \u001B[38;5;28;01melse\u001B[39;00m meth\u001B[38;5;241m.\u001B[39m\u001B[38;5;18m__module__\u001B[39m)\n",
      "\u001B[1;31mValueError\u001B[0m: Format '5base-_original_pre4008_y' is not supported (supported formats: eps, jpeg, jpg, pdf, pgf, png, ps, raw, rgba, svg, svgz, tif, tiff, webp)"
     ]
    }
   ],
   "source": [
    "\n",
    "for sub_id in sub_ids:\n",
    "    #for sub_id,i in zip(sub_ids,range(len(sub_ids))):\n",
    "        #读入之前处理好的reconst_raw\n",
    "\n",
    "    sub_id = sub_ids[0]\n",
    "    i = 0\n",
    "    save_path_ica = '.\\data\\\\4raw_ica\\\\'\n",
    "    reconst_raw=mne.io.read_raw_fif(save_path_ica + sub_id + 'RSA.fif')\n",
    "\n",
    "    target_events_RSA = {\n",
    "                                '101':101,\n",
    "                                '102':102,\n",
    "                                '103':103,\n",
    "                                '104':104,\n",
    "                                '111':111,\n",
    "                                '112':112,\n",
    "                                '113':113,\n",
    "                                '114':114,\n",
    "                                '121':121,\n",
    "                                '122':122,\n",
    "                                '123':123,\n",
    "                                '124':124,\n",
    "                                '131':131,\n",
    "                                '132':132,\n",
    "                                '133':133,\n",
    "                                '134':134,\n",
    "\n",
    "                         }\n",
    "\n",
    "    #先找events，epoch和average都是一步的事情。\n",
    "    custom_mapping = target_events_RSA\n",
    "    #\n",
    "    (events_from_annot,\n",
    "     event_dict) = mne.events_from_annotations(reconst_raw, event_id=custom_mapping)\n",
    "    #还不如直接对 events_from_annot 进行切片\n",
    "    #先遍历，把合适的单词筛序出来\n",
    "    #对应的vocabulary已经列出，然后怎么提取呢？\n",
    "    events_RSA = events_from_annot\n",
    "    count_remembered_events = len(events_RSA)\n",
    "    # 导入MATLAB发现event数量多于epoch数量,你怀疑是重合?\n",
    "    baseline = - 0.5  # 如果需要做时频相关的分析(包括connectivity)都需要吧把baseline弄长一点.\n",
    "    epochs_RSA = mne.Epochs(reconst_raw, events_RSA, event_id=event_dict, baseline =(-0.5,0),tmin=baseline, tmax=0.8, preload=True, event_repeated='drop')\n",
    "    from mne.export import export_epochs\n",
    "    file_path_save = 'L:\\yanglab1_EEG\\RSA\\data\\\\6epoch_clean_RSA\\\\'\n",
    "    export_epochs(file_path_save + sub_ids[0]+\".set\", epochs=epochs_RSA, fmt = 'eeglab', overwrite = True)\n",
    "    #查看所有mark dict\n",
    "    #events_1 = mne.events_from_annotations(reconst_raw)\n",
    "    '''\n",
    "\n",
    "    '''\n",
    "    # save_path_epoch = '.\\data\\\\5epoch_RSA\\\\'\n",
    "    # epochs_RSA.save(save_path_epoch + sub_id + '-epo.fif', overwrite=True)\n",
    "\n",
    "    save_path_epoch = '.\\data\\\\5epoch_RSA\\\\'\n",
    "    epochs_RSA.save(save_path_epoch + sub_id + '0.5base-epo.fif', overwrite=True)\n",
    "        #用autoreject处理一下\n",
    "    n_interpolates = np.array([1, 4, 32])\n",
    "    consensus_percs = np.linspace(0, 0.8, 11)\n",
    "    picks = mne.pick_types(epochs_RSA.info, meg=False, eeg=True, stim=False, eog=False,\n",
    "                           include=[], exclude=[])\n",
    "    ar_RSA = AutoReject(n_interpolates,consensus_percs,picks=picks,\n",
    "                    thresh_method='random_search',random_state=23)\n",
    "    ar_RSA.fit(epochs_RSA)\n",
    "    epochs_clean_RSA = ar_RSA.transform(epochs_RSA)\n",
    "\n",
    "    '''\n",
    "    不拆了，全放到一起\n",
    "    '''\n",
    "    evoked_original_RSA = list()\n",
    "    evoked_clean_RSA = list()\n",
    "    #先average看下结果，对比\n",
    "    #如果结果不错就可以分别保存下来。\n",
    "    evoked_original_RSA.append(epochs_RSA.average())#没有autoreject的\n",
    "    evoked_clean_RSA.append(epochs_clean_RSA.average())\n",
    "    \"\"\"\n",
    "    查看效果，看是否需要回去删除电极\n",
    "    \"\"\"\n",
    "    %matplotlib qt\n",
    "\n",
    "    fig_original = evoked_original_RSA[i].plot(window_title = sub_id)\n",
    "    fig_clean = evoked_clean_RSA[i].plot(window_title = sub_id)\n",
    "    #保存\n",
    "\n",
    "    save_path_epoch_clean = '.\\data\\\\6epoch_clean_RSA\\\\'\n",
    "    epochs_clean_RSA.save(save_path_epoch_clean + sub_id + '0.5base_RSA-epo.fif', overwrite=True)\n",
    "    save_path_evoked = '.\\data\\\\7evoked_RSA\\\\'\n",
    "    #为什么这里加i?因为是list，epochs不是list\n",
    "    evoked_clean_RSA[i].save(save_path_evoked + sub_id + '0.5base_RSA-ave.fif',overwrite=True)\n",
    "\n",
    "    \"\"\"\n",
    "    查看效果\n",
    "    \"\"\"\n",
    "    %matplotlib qt\n",
    "\n",
    "    fig_original = evoked_original_RSA[i].plot(window_title = sub_id)\n",
    "    fig_original.savefig(save_path_evoked+'0.5base-_original_' + sub_id)\n",
    "    fig_clean = evoked_clean_RSA[i].plot(window_title = sub_id)\n",
    "    fig_clean.savefig(save_path_evoked+'0.5base-_clean_'+ sub_id)\n",
    "\n",
    "    # fig_original = evoked_original_RSA_30Hz[i].plot(window_title = sub_id)\n",
    "    # fig_original.savefig(save_path_evoked+'_original_' + sub_id)\n",
    "    # fig_clean = evoked_clean_RSA_30Hz[i].plot(window_title = sub_id)\n",
    "    # fig_clean.savefig(save_path_evoked+'_clean_'+ sub_id)\n"
   ],
   "metadata": {
    "collapsed": false,
    "ExecuteTime": {
     "end_time": "2023-05-30T17:15:15.031315900Z",
     "start_time": "2023-05-30T16:54:30.341942500Z"
    }
   }
  },
  {
   "cell_type": "code",
   "execution_count": null,
   "outputs": [],
   "source": [],
   "metadata": {
    "collapsed": false
   }
  }
 ],
 "metadata": {
  "kernelspec": {
   "name": "mne12",
   "language": "python",
   "display_name": "Python(mne12)"
  },
  "language_info": {
   "codemirror_mode": {
    "name": "ipython",
    "version": 2
   },
   "file_extension": ".py",
   "mimetype": "text/x-python",
   "name": "python",
   "nbconvert_exporter": "python",
   "pygments_lexer": "ipython2",
   "version": "2.7.6"
  }
 },
 "nbformat": 4,
 "nbformat_minor": 0
}
