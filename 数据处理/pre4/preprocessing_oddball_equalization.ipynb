{
 "cells": [
  {
   "cell_type": "code",
   "execution_count": 1,
   "outputs": [],
   "source": [
    "'''\n",
    "\n",
    "配对的std试次多于odd试次，odd试次不动，对每一个std进行抽样。\n",
    "\n",
    "每个被试有八种数据4对数据，全部读进来。\n",
    "\n",
    "'''\n",
    "\n",
    "\n",
    "import os.path as op\n",
    "import mne\n",
    "from mne.preprocessing import ICA\n",
    "import matplotlib.pyplot as plt\n",
    "from copy import deepcopy\n",
    "import numpy as np"
   ],
   "metadata": {
    "collapsed": false,
    "ExecuteTime": {
     "end_time": "2023-05-27T10:40:08.788606200Z",
     "start_time": "2023-05-27T10:40:04.873586800Z"
    }
   }
  },
  {
   "cell_type": "code",
   "execution_count": 3,
   "outputs": [
    {
     "name": "stdout",
     "output_type": "stream",
     "text": [
      "Reading E:\\实验\\阅读困难\\数据处理\\pre4\\data\\6epoch_clean_oddball\\pre4014_y_std_BA-epo.fif ...\n",
      "    Found the data of interest:\n",
      "        t =    -500.00 ...    1000.00 ms\n",
      "        0 CTF compensation matrices available\n",
      "Not setting metadata\n",
      "379 matching events found\n",
      "No baseline correction applied\n",
      "0 projection items activated\n",
      "[[3670434       0       1]\n",
      " [3671934       0       1]\n",
      " [3673434       0       1]\n",
      " ...\n",
      " [4314237       0       1]\n",
      " [4315670       0       1]\n",
      " [4318703       0       1]]\n",
      "Reading E:\\实验\\阅读困难\\数据处理\\pre4\\data\\6epoch_clean_oddball\\pre4014_y_odd_TA-epo.fif ...\n",
      "    Found the data of interest:\n",
      "        t =    -500.00 ...    1000.00 ms\n",
      "        0 CTF compensation matrices available\n",
      "Not setting metadata\n",
      "47 matching events found\n",
      "No baseline correction applied\n",
      "0 projection items activated\n",
      "Reading E:\\实验\\阅读困难\\数据处理\\pre4\\data\\6epoch_clean_oddball\\pre4014_y_std_t1ji-epo.fif ...\n",
      "    Found the data of interest:\n",
      "        t =    -500.00 ...    1000.00 ms\n",
      "        0 CTF compensation matrices available\n",
      "Not setting metadata\n",
      "380 matching events found\n",
      "No baseline correction applied\n",
      "0 projection items activated\n",
      "Reading E:\\实验\\阅读困难\\数据处理\\pre4\\data\\6epoch_clean_oddball\\pre4014_y_odd_t4ji-epo.fif ...\n",
      "    Found the data of interest:\n",
      "        t =    -500.00 ...    1000.00 ms\n",
      "        0 CTF compensation matrices available\n",
      "Not setting metadata\n",
      "46 matching events found\n",
      "No baseline correction applied\n",
      "0 projection items activated\n"
     ]
    }
   ],
   "source": [
    "sub_ids = [\n",
    "\n",
    "    'pre4007_y','pre4008_y','pre4009_y','pre4010_y','pre4011_y','pre4012_y','pre4013_y','pre4014_y',\n",
    "\n",
    "]\n",
    "\n",
    "sub_ids = [\n",
    "\n",
    "    'pre4014_y',\n",
    "\n",
    "]\n",
    "\n",
    "'''\n",
    "从 clean到equalization\n",
    "'''\n",
    "data_path = '.\\data\\\\6epoch_clean_oddball\\\\'\n",
    "\n",
    "\n",
    "'''\n",
    "\n",
    "有八种刺激条件，每种都给出一个list，所有被试的都放进去。\n",
    "\n",
    "'''\n",
    "list_epochs_clean_oddball_std_BA = list()\n",
    "list_epochs_clean_oddball_odd_TA = list()\n",
    "list_epochs_clean_oddball_std_ta = list()\n",
    "list_epochs_clean_oddball_odd_ba = list()\n",
    "list_epochs_clean_oddball_std_t1ji = list()\n",
    "list_epochs_clean_oddball_odd_t4ji= list()\n",
    "list_epochs_clean_oddball_std_t4ji = list()\n",
    "list_epochs_clean_oddball_odd_t1ji = list()\n",
    "\n",
    "'''\n",
    "\n",
    "每个被试的数据拆分出来放到list里\n",
    "\n",
    "'''\n",
    "for sub_id in sub_ids:\n",
    "    fname = data_path + sub_id + '_std_BA-epo.fif'\n",
    "    epochs = mne.read_epochs(fname)\n",
    "    print(epochs.events)\n",
    "    list_epochs_clean_oddball_std_BA.append(epochs)\n",
    "\n",
    "    fname = data_path + sub_id + '_odd_TA-epo.fif'\n",
    "    epochs = mne.read_epochs(fname)\n",
    "    list_epochs_clean_oddball_odd_TA.append(epochs)\n",
    "\n",
    "    # fname = data_path + sub_id + '_std_ta-epo.fif'\n",
    "    # epochs = mne.read_epochs(fname)\n",
    "    # list_epochs_clean_oddball_std_ta.append(epochs)\n",
    "    #\n",
    "    # fname = data_path + sub_id + '_odd_ba-epo.fif'\n",
    "    # epochs = mne.read_epochs(fname)\n",
    "    # list_epochs_clean_oddball_odd_ba.append(epochs)\n",
    "\n",
    "    fname = data_path + sub_id + '_std_t1ji-epo.fif'\n",
    "    epochs = mne.read_epochs(fname)\n",
    "    list_epochs_clean_oddball_std_t1ji.append(epochs)\n",
    "\n",
    "    fname = data_path + sub_id + '_odd_t4ji-epo.fif'\n",
    "    epochs = mne.read_epochs(fname)\n",
    "    list_epochs_clean_oddball_odd_t4ji.append(epochs)\n",
    "\n",
    "    # fname = data_path + sub_id + '_std_t4ji-epo.fif'\n",
    "    # epochs = mne.read_epochs(fname)\n",
    "    # list_epochs_clean_oddball_std_t4ji.append(epochs)\n",
    "    #\n",
    "    # fname = data_path + sub_id + '_odd_t1ji-epo.fif'\n",
    "    # epochs = mne.read_epochs(fname)\n",
    "    # list_epochs_clean_oddball_odd_t1ji.append(epochs)"
   ],
   "metadata": {
    "collapsed": false,
    "ExecuteTime": {
     "end_time": "2023-05-27T10:41:13.292039Z",
     "start_time": "2023-05-27T10:41:12.102049200Z"
    }
   }
  },
  {
   "cell_type": "code",
   "execution_count": 4,
   "outputs": [
    {
     "name": "stdout",
     "output_type": "stream",
     "text": [
      "Not setting metadata\n"
     ]
    },
    {
     "name": "stderr",
     "output_type": "stream",
     "text": [
      "C:\\Users\\SilverBullet\\AppData\\Local\\Temp\\ipykernel_27000\\2121725690.py:27: RuntimeWarning: Concatenation of Annotations within Epochs is not supported yet. All annotations will be dropped.\n",
      "  epochs_concat_std_BA_odd_TA = mne.concatenate_epochs([list_epochs_clean_oddball_std_BA[num_sub],list_epochs_clean_oddball_odd_TA[num_sub]])\n"
     ]
    },
    {
     "name": "stdout",
     "output_type": "stream",
     "text": [
      "426 matching events found\n",
      "Applying baseline correction (mode: mean)\n",
      "Dropped 332 epochs: 0, 1, 2, 3, 4, 5, 6, 7, 8, 9, 10, 11, 12, 13, 14, 15, 16, 17, 18, 19, 20, 21, 22, 23, 24, 25, 26, 27, 28, 29, 30, 31, 32, 33, 34, 35, 36, 37, 38, 39, 40, 41, 42, 43, 44, 45, 46, 47, 48, 49, 50, 51, 52, 53, 54, 55, 56, 57, 58, 59, 60, 61, 62, 63, 64, 65, 66, 67, 68, 69, 70, 71, 72, 73, 74, 75, 76, 77, 78, 79, 80, 81, 82, 83, 84, 85, 86, 87, 88, 89, 90, 91, 92, 93, 94, 95, 96, 97, 98, 99, 100, 101, 102, 103, 104, 105, 106, 107, 108, 109, 110, 111, 112, 113, 114, 115, 116, 117, 118, 119, 120, 121, 122, 123, 124, 125, 126, 127, 128, 129, 130, 131, 132, 133, 134, 135, 136, 137, 138, 139, 140, 141, 142, 143, 144, 145, 146, 147, 148, 149, 150, 151, 152, 153, 154, 155, 156, 157, 158, 159, 160, 161, 162, 163, 164, 165, 166, 167, 168, 169, 170, 171, 172, 173, 174, 175, 176, 177, 178, 179, 180, 181, 182, 183, 184, 185, 186, 187, 188, 189, 190, 191, 192, 193, 194, 195, 196, 197, 198, 199, 200, 201, 202, 203, 204, 205, 206, 207, 208, 209, 210, 211, 212, 213, 214, 215, 216, 217, 218, 219, 220, 221, 222, 223, 224, 225, 226, 227, 228, 229, 230, 231, 232, 233, 234, 235, 236, 237, 238, 239, 240, 241, 242, 243, 244, 245, 246, 247, 248, 249, 250, 251, 252, 253, 254, 255, 256, 257, 258, 259, 260, 261, 262, 263, 264, 265, 266, 267, 268, 269, 270, 271, 272, 273, 274, 275, 276, 277, 278, 279, 280, 281, 282, 283, 284, 285, 286, 287, 288, 289, 290, 291, 292, 293, 294, 295, 296, 297, 298, 299, 300, 301, 302, 303, 304, 305, 306, 307, 308, 309, 310, 311, 312, 313, 314, 315, 316, 317, 318, 319, 320, 321, 322, 323, 324, 325, 326, 327, 328, 329, 330, 331\n",
      "Not setting metadata\n"
     ]
    },
    {
     "name": "stderr",
     "output_type": "stream",
     "text": [
      "C:\\Users\\SilverBullet\\AppData\\Local\\Temp\\ipykernel_27000\\2121725690.py:32: RuntimeWarning: Concatenation of Annotations within Epochs is not supported yet. All annotations will be dropped.\n",
      "  epochs_concat_std_t1ji_odd_t4ji = mne.concatenate_epochs([list_epochs_clean_oddball_std_t1ji[num_sub],list_epochs_clean_oddball_odd_t4ji[num_sub]])\n"
     ]
    },
    {
     "name": "stdout",
     "output_type": "stream",
     "text": [
      "426 matching events found\n",
      "Applying baseline correction (mode: mean)\n",
      "Dropped 334 epochs: 0, 1, 2, 3, 4, 5, 6, 7, 8, 9, 10, 11, 12, 13, 14, 15, 16, 17, 18, 19, 20, 21, 22, 23, 24, 25, 26, 27, 28, 29, 30, 31, 32, 33, 34, 35, 36, 37, 38, 39, 40, 41, 42, 43, 44, 45, 46, 47, 48, 49, 50, 51, 52, 53, 54, 55, 56, 57, 58, 59, 60, 61, 62, 63, 64, 65, 66, 67, 68, 69, 70, 71, 72, 73, 74, 75, 76, 77, 78, 79, 80, 81, 82, 83, 84, 85, 86, 87, 88, 89, 90, 91, 92, 93, 94, 95, 96, 97, 98, 99, 100, 101, 102, 103, 104, 105, 106, 107, 108, 109, 110, 111, 112, 113, 114, 115, 116, 117, 118, 119, 120, 121, 122, 123, 124, 125, 126, 127, 128, 129, 130, 131, 132, 133, 134, 135, 136, 137, 138, 139, 140, 141, 142, 143, 144, 145, 146, 147, 148, 149, 150, 151, 152, 153, 154, 155, 156, 157, 158, 159, 160, 161, 162, 163, 164, 165, 166, 167, 168, 169, 170, 171, 172, 173, 174, 175, 176, 177, 178, 179, 180, 181, 182, 183, 184, 185, 186, 187, 188, 189, 190, 191, 192, 193, 194, 195, 196, 197, 198, 199, 200, 201, 202, 203, 204, 205, 206, 207, 208, 209, 210, 211, 212, 213, 214, 215, 216, 217, 218, 219, 220, 221, 222, 223, 224, 225, 226, 227, 228, 229, 230, 231, 232, 233, 234, 235, 236, 237, 238, 239, 240, 241, 242, 243, 244, 245, 246, 247, 248, 249, 250, 251, 252, 253, 254, 255, 256, 257, 258, 259, 260, 261, 262, 263, 264, 265, 266, 267, 268, 269, 270, 271, 272, 273, 274, 275, 276, 277, 278, 279, 280, 281, 282, 283, 284, 285, 286, 287, 288, 289, 290, 291, 292, 293, 294, 295, 296, 297, 298, 299, 300, 301, 302, 303, 304, 305, 306, 307, 308, 309, 310, 311, 312, 313, 314, 315, 316, 317, 318, 319, 320, 321, 322, 323, 324, 325, 326, 327, 328, 329, 330, 331, 332, 333\n",
      "Overwriting existing file.\n",
      "Overwriting existing file.\n",
      "Overwriting existing file.\n",
      "Overwriting existing file.\n",
      "Overwriting existing file.\n",
      "Overwriting existing file.\n",
      "Overwriting existing file.\n",
      "Overwriting existing file.\n"
     ]
    }
   ],
   "source": [
    "'''\n",
    "配对 concatenate\n",
    "list_epochs_clean_oddball_std_BA = list()\n",
    "list_epochs_clean_oddball_odd_TA = list()\n",
    "list_epochs_clean_oddball_std_ta = list()\n",
    "list_epochs_clean_oddball_odd_ba = list()\n",
    "list_epochs_clean_oddball_std_t1ji = list()\n",
    "list_epochs_clean_oddball_odd_t4ji= list()\n",
    "list_epochs_clean_oddball_std_t4ji = list()\n",
    "list_epochs_clean_oddball_odd_t1ji = list()\n",
    "'''\n",
    "\n",
    "%matplotlib qt\n",
    "\n",
    "for num_sub in range(len(sub_ids)):\n",
    "    '''\n",
    "    把两种类型的epoch拼接起来方便后面进行平均试次。\n",
    "\n",
    "\n",
    "equalize_event_counts(event_ids=None, method='mintime')[source]\n",
    "Equalize the number of trials in each condition.\n",
    "\n",
    "It tries to make the remaining epochs occurring as close as possible in time. This method works based on the idea that if there happened to be some time-varying (like on the scale of minutes) noise characteristics during a recording, they could be compensated for (to some extent) in the equalization process. This method thus seeks to reduce any of those effects by minimizing the differences in the times of the events within a Epochs instance. For example, if one event type occurred at time points [1, 2, 3, 4, 120, 121] and the another one at [3.5, 4.5, 120.5, 121.5], this method would remove the events at times [1, 2] for the first event type – and not the events at times [120, 121].\n",
    "\n",
    "    '''\n",
    "    # 辅音\n",
    "    epochs_concat_std_BA_odd_TA = mne.concatenate_epochs([list_epochs_clean_oddball_std_BA[num_sub],list_epochs_clean_oddball_odd_TA[num_sub]])\n",
    "    epochs_concat_std_BA_odd_TA.equalize_event_counts(method='mintime')\n",
    "    # epochs_concat_std_ta_odd_ba = mne.concatenate_epochs([list_epochs_clean_oddball_std_ta[num_sub],list_epochs_clean_oddball_odd_ba[num_sub]])\n",
    "    # epochs_concat_std_ta_odd_ba.equalize_event_counts(method='mintime')\n",
    "    # 音调\n",
    "    epochs_concat_std_t1ji_odd_t4ji = mne.concatenate_epochs([list_epochs_clean_oddball_std_t1ji[num_sub],list_epochs_clean_oddball_odd_t4ji[num_sub]])\n",
    "    epochs_concat_std_t1ji_odd_t4ji.equalize_event_counts(method='mintime')\n",
    "    # epochs_concat_std_t4ji_odd_t1ji = mne.concatenate_epochs([list_epochs_clean_oddball_std_t4ji[num_sub],list_epochs_clean_oddball_odd_t1ji[num_sub]])\n",
    "    # epochs_concat_std_t4ji_odd_t1ji.equalize_event_counts(method='mintime')\n",
    "\n",
    "    epochs_clean_oddball_std_BA = epochs_concat_std_BA_odd_TA['1']\n",
    "    epochs_clean_oddball_odd_TA = epochs_concat_std_BA_odd_TA['2']\n",
    "    # epochs_clean_oddball_std_ta = epochs_concat_std_ta_odd_ba['3']\n",
    "    # epochs_clean_oddball_odd_ba = epochs_concat_std_ta_odd_ba['4']\n",
    "    epochs_clean_oddball_std_t1ji = epochs_concat_std_t1ji_odd_t4ji['3']\n",
    "    epochs_clean_oddball_odd_t4ji= epochs_concat_std_t1ji_odd_t4ji['4']\n",
    "    # epochs_clean_oddball_std_t4ji = epochs_concat_std_t4ji_odd_t1ji['7']\n",
    "    # epochs_clean_oddball_odd_t1ji = epochs_concat_std_t4ji_odd_t1ji['8']\n",
    "\n",
    "\n",
    "    # 重新拆分开来保存，那么是 八个。\n",
    "    save_path_epoch_clean = '.\\data\\\\6epoch_equalization_oddball\\\\'\n",
    "    save_path_evoked = '.\\data\\\\7evoked_equalization_oddball\\\\'\n",
    "\n",
    "    epochs_clean_oddball_std_BA.save(save_path_epoch_clean + sub_ids[num_sub] + '_std_BA-epo.fif', overwrite=True)\n",
    "    epochs_clean_oddball_std_BA.average().save(save_path_evoked + sub_ids[num_sub] + '_std_BA-ave.fif', overwrite=True)\n",
    "\n",
    "    epochs_clean_oddball_odd_TA.save(save_path_epoch_clean + sub_ids[num_sub] + '_odd_TA-epo.fif', overwrite=True)\n",
    "    epochs_clean_oddball_odd_TA.average().save(save_path_evoked + sub_ids[num_sub] + '_odd_TA-ave.fif', overwrite=True)\n",
    "\n",
    "    # epochs_clean_oddball_std_ta.save(save_path_epoch_clean + sub_ids[num_sub] + '_std_ta-epo.fif', overwrite=True)\n",
    "    # epochs_clean_oddball_std_ta.average().save(save_path_evoked + sub_ids[num_sub] + '_std_ta-ave.fif', overwrite=True)\n",
    "    #\n",
    "    # epochs_clean_oddball_odd_ba.save(save_path_epoch_clean + sub_ids[num_sub] + '_odd_ba-epo.fif', overwrite=True)\n",
    "    # epochs_clean_oddball_odd_ba.average().save(save_path_evoked + sub_ids[num_sub] + '_odd_ba-ave.fif', overwrite=True)\n",
    "\n",
    "    epochs_clean_oddball_std_t1ji.save(save_path_epoch_clean + sub_ids[num_sub] + '_std_t1ji-epo.fif', overwrite=True)\n",
    "    epochs_clean_oddball_std_t1ji.average().save(save_path_evoked + sub_ids[num_sub] + '_std_t1ji-ave.fif', overwrite=True)\n",
    "\n",
    "    epochs_clean_oddball_odd_t4ji.save(save_path_epoch_clean + sub_ids[num_sub] + '_odd_t4ji-epo.fif', overwrite=True)\n",
    "    epochs_clean_oddball_odd_t4ji.average().save(save_path_evoked + sub_ids[num_sub] + '_odd_t4ji-ave.fif', overwrite=True)\n",
    "\n",
    "    # epochs_clean_oddball_std_t4ji.save(save_path_epoch_clean + sub_ids[num_sub] + '_std_t4ji-epo.fif', overwrite=True)\n",
    "    # epochs_clean_oddball_std_t4ji.average().save(save_path_evoked + sub_ids[num_sub] + '_std_t4ji-ave.fif', overwrite=True)\n",
    "    #\n",
    "    # epochs_clean_oddball_odd_t1ji.save(save_path_epoch_clean + sub_ids[num_sub] + '_odd_t1ji-epo.fif', overwrite=True)\n",
    "    # epochs_clean_oddball_odd_t1ji.average().save(save_path_evoked + sub_ids[num_sub] + '_odd_t1ji-ave.fif', overwrite=True)\n"
   ],
   "metadata": {
    "collapsed": false,
    "ExecuteTime": {
     "end_time": "2023-05-27T10:41:21.573508400Z",
     "start_time": "2023-05-27T10:41:17.372236900Z"
    }
   }
  },
  {
   "cell_type": "code",
   "execution_count": 3,
   "outputs": [],
   "source": [],
   "metadata": {
    "collapsed": false
   }
  }
 ],
 "metadata": {
  "kernelspec": {
   "name": "python3",
   "language": "python",
   "display_name": "Python 3 (ipykernel)"
  },
  "language_info": {
   "codemirror_mode": {
    "name": "ipython",
    "version": 2
   },
   "file_extension": ".py",
   "mimetype": "text/x-python",
   "name": "python",
   "nbconvert_exporter": "python",
   "pygments_lexer": "ipython2",
   "version": "2.7.6"
  }
 },
 "nbformat": 4,
 "nbformat_minor": 0
}
