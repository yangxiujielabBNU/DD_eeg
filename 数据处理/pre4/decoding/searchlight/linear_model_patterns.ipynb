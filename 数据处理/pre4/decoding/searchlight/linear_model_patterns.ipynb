{
 "cells": [
  {
   "cell_type": "markdown",
   "metadata": {},
   "source": [
    "\n",
    "\n",
    "# Linear classifier on sensor data with plot patterns and filters\n",
    "\n",
    "Here decoding, a.k.a MVPA or supervised machine learning, is applied to M/EEG\n",
    "data in sensor space. Fit a linear classifier with the LinearModel object\n",
    "providing topographical patterns which are more neurophysiologically\n",
    "interpretable :footcite:`HaufeEtAl2014` than the classifier filters (weight\n",
    "vectors). The patterns explain how the MEG and EEG data were generated from\n",
    "the discriminant neural sources which are extracted by the filters.\n",
    "Note patterns/filters in MEG data are more similar than EEG data\n",
    "because the noise is less spatially correlated in MEG than EEG.\n"
   ]
  },
  {
   "cell_type": "code",
   "execution_count": 1,
   "metadata": {
    "collapsed": false,
    "ExecuteTime": {
     "end_time": "2023-05-16T12:27:51.914740500Z",
     "start_time": "2023-05-16T12:27:51.901775100Z"
    }
   },
   "outputs": [],
   "source": [
    "# Authors: Alexandre Gramfort <alexandre.gramfort@inria.fr>\n",
    "#          Romain Trachel <trachelr@gmail.com>\n",
    "#          Jean-Remi King <jeanremi.king@gmail.com>\n",
    "#\n",
    "# License: BSD-3-Clause"
   ]
  },
  {
   "cell_type": "code",
   "execution_count": 2,
   "metadata": {
    "collapsed": false,
    "ExecuteTime": {
     "end_time": "2023-05-16T12:27:55.782997100Z",
     "start_time": "2023-05-16T12:27:51.921722200Z"
    }
   },
   "outputs": [
    {
     "name": "stdout",
     "output_type": "stream",
     "text": [
      "Automatically created module for IPython interactive environment\n"
     ]
    }
   ],
   "source": [
    "import mne\n",
    "from mne import io, EvokedArray\n",
    "from mne.datasets import sample\n",
    "from mne.decoding import Vectorizer, get_coef\n",
    "\n",
    "from sklearn.preprocessing import StandardScaler\n",
    "from sklearn.linear_model import LogisticRegression\n",
    "from sklearn.pipeline import make_pipeline\n",
    "\n",
    "# import a linear classifier from mne.decoding\n",
    "from mne.decoding import LinearModel\n",
    "\n",
    "print(__doc__)\n",
    "\n",
    "data_path = sample.data_path()\n",
    "sample_path = data_path / \"MEG\" / \"sample\""
   ]
  },
  {
   "cell_type": "markdown",
   "metadata": {},
   "source": [
    "Set parameters\n",
    "\n"
   ]
  },
  {
   "cell_type": "code",
   "execution_count": 3,
   "metadata": {
    "collapsed": false,
    "ExecuteTime": {
     "end_time": "2023-05-16T12:27:57.871399600Z",
     "start_time": "2023-05-16T12:27:55.785988800Z"
    }
   },
   "outputs": [
    {
     "name": "stdout",
     "output_type": "stream",
     "text": [
      "Opening raw data file E:\\Python LYW\\RSA\\MNEtutorial\\DATA\\MNE-sample-data\\MEG\\sample\\sample_audvis_filt-0-40_raw.fif...\n",
      "    Read a total of 4 projection items:\n",
      "        PCA-v1 (1 x 102)  idle\n",
      "        PCA-v2 (1 x 102)  idle\n",
      "        PCA-v3 (1 x 102)  idle\n",
      "        Average EEG reference (1 x 60)  idle\n",
      "    Range : 6450 ... 48149 =     42.956 ...   320.665 secs\n",
      "Ready.\n",
      "Reading 0 ... 41699  =      0.000 ...   277.709 secs...\n",
      "Filtering raw data in 1 contiguous segment\n",
      "Setting up band-pass filter from 0.5 - 25 Hz\n",
      "\n",
      "FIR filter parameters\n",
      "---------------------\n",
      "Designing a one-pass, zero-phase, non-causal bandpass filter:\n",
      "- Windowed time-domain design (firwin) method\n",
      "- Hamming window with 0.0194 passband ripple and 53 dB stopband attenuation\n",
      "- Lower passband edge: 0.50\n",
      "- Lower transition bandwidth: 0.50 Hz (-6 dB cutoff frequency: 0.25 Hz)\n",
      "- Upper passband edge: 25.00 Hz\n",
      "- Upper transition bandwidth: 6.25 Hz (-6 dB cutoff frequency: 28.12 Hz)\n",
      "- Filter length: 993 samples (6.613 sec)\n",
      "\n"
     ]
    },
    {
     "name": "stderr",
     "output_type": "stream",
     "text": [
      "[Parallel(n_jobs=1)]: Using backend SequentialBackend with 1 concurrent workers.\n",
      "[Parallel(n_jobs=1)]: Done   1 out of   1 | elapsed:    0.0s remaining:    0.0s\n",
      "[Parallel(n_jobs=1)]: Done   2 out of   2 | elapsed:    0.0s remaining:    0.0s\n",
      "[Parallel(n_jobs=1)]: Done   3 out of   3 | elapsed:    0.0s remaining:    0.0s\n",
      "[Parallel(n_jobs=1)]: Done   4 out of   4 | elapsed:    0.0s remaining:    0.0s\n"
     ]
    },
    {
     "name": "stdout",
     "output_type": "stream",
     "text": [
      "Not setting metadata\n",
      "145 matching events found\n",
      "No baseline correction applied\n",
      "Created an SSP operator (subspace dimension = 4)\n",
      "4 projection items activated\n",
      "Using data from preloaded Raw for 145 events and 76 original time points (prior to decimation) ...\n",
      "0 bad epochs dropped\n"
     ]
    },
    {
     "name": "stderr",
     "output_type": "stream",
     "text": [
      "[Parallel(n_jobs=1)]: Done 366 out of 366 | elapsed:    0.4s finished\n"
     ]
    },
    {
     "name": "stdout",
     "output_type": "stream",
     "text": [
      "Removing projector <Projection | Average EEG reference, active : True, n_channels : 60>\n"
     ]
    }
   ],
   "source": [
    "raw_fname = sample_path / \"sample_audvis_filt-0-40_raw.fif\"\n",
    "event_fname = sample_path / \"sample_audvis_filt-0-40_raw-eve.fif\"\n",
    "tmin, tmax = -0.1, 0.4\n",
    "event_id = dict(aud_l=1, vis_l=3)\n",
    "\n",
    "# Setup for reading the raw data\n",
    "raw = io.read_raw_fif(raw_fname, preload=True)\n",
    "raw.filter(0.5, 25, fir_design=\"firwin\")\n",
    "events = mne.read_events(event_fname)\n",
    "\n",
    "# Read epochs\n",
    "epochs = mne.Epochs(\n",
    "    raw, events, event_id, tmin, tmax, proj=True, decim=2, baseline=None, preload=True\n",
    ")\n",
    "del raw\n",
    "\n",
    "labels = epochs.events[:, -1]\n",
    "\n",
    "# get MEG and EEG data\n",
    "meg_epochs = epochs.copy().pick_types(meg=True, eeg=False)\n",
    "meg_data = meg_epochs.get_data().reshape(len(labels), -1)"
   ]
  },
  {
   "cell_type": "markdown",
   "metadata": {},
   "source": [
    "## Decoding in sensor space using a LogisticRegression classifier\n",
    "\n"
   ]
  },
  {
   "cell_type": "code",
   "execution_count": 5,
   "metadata": {
    "collapsed": false,
    "ExecuteTime": {
     "end_time": "2023-05-16T12:55:29.535358100Z",
     "start_time": "2023-05-16T12:55:25.581450Z"
    }
   },
   "outputs": [],
   "source": [
    "%matplotlib qt\n",
    "clf = LogisticRegression(solver=\"liblinear\")  # liblinear is faster than lbfgs\n",
    "scaler = StandardScaler()\n",
    "\n",
    "# create a linear model with LogisticRegression\n",
    "model = LinearModel(clf)\n",
    "\n",
    "# fit the classifier on MEG data\n",
    "X = scaler.fit_transform(meg_data)\n",
    "model.fit(X, labels)\n",
    "\n",
    "# Extract and plot spatial filters and spatial patterns\n",
    "for name, coef in ((\"patterns\", model.patterns_), (\"filters\", model.filters_)):\n",
    "    # We fitted the linear model onto Z-scored data. To make the filters\n",
    "    # interpretable, we must reverse this normalization step\n",
    "    coef = scaler.inverse_transform([coef])[0]\n",
    "\n",
    "    # The data was vectorized to fit a single model across all time points and\n",
    "    # all channels. We thus reshape it:\n",
    "    coef = coef.reshape(len(meg_epochs.ch_names), -1)\n",
    "\n",
    "    # Plot\n",
    "    evoked = EvokedArray(coef, meg_epochs.info, tmin=epochs.tmin)\n",
    "    fig = evoked.plot_topomap()\n",
    "    fig.suptitle(f\"MEG {name}\")"
   ]
  },
  {
   "cell_type": "markdown",
   "metadata": {},
   "source": [
    "Let's do the same on EEG data using a scikit-learn pipeline\n",
    "\n"
   ]
  },
  {
   "cell_type": "code",
   "execution_count": 6,
   "metadata": {
    "collapsed": false,
    "ExecuteTime": {
     "end_time": "2023-05-16T12:55:49.934656400Z",
     "start_time": "2023-05-16T12:55:49.169420700Z"
    }
   },
   "outputs": [
    {
     "name": "stdout",
     "output_type": "stream",
     "text": [
      "Removing projector <Projection | PCA-v1, active : True, n_channels : 102>\n",
      "Removing projector <Projection | PCA-v2, active : True, n_channels : 102>\n",
      "Removing projector <Projection | PCA-v3, active : True, n_channels : 102>\n"
     ]
    }
   ],
   "source": [
    "X = epochs.pick_types(meg=False, eeg=True)\n",
    "y = epochs.events[:, 2]\n",
    "\n",
    "# Define a unique pipeline to sequentially:\n",
    "clf = make_pipeline(\n",
    "    Vectorizer(),  # 1) vectorize across time and channels\n",
    "    StandardScaler(),  # 2) normalize features across trials\n",
    "    LinearModel(  # 3) fits a logistic regression\n",
    "        LogisticRegression(solver=\"liblinear\")\n",
    "    ),\n",
    ")\n",
    "clf.fit(X, y)\n",
    "\n",
    "# Extract and plot patterns and filters\n",
    "for name in (\"patterns_\", \"filters_\"):\n",
    "    # The `inverse_transform` parameter will call this method on any estimator\n",
    "    # contained in the pipeline, in reverse order.\n",
    "    coef = get_coef(clf, name, inverse_transform=True)\n",
    "    evoked = EvokedArray(coef, epochs.info, tmin=epochs.tmin)\n",
    "    fig = evoked.plot_topomap()\n",
    "    fig.suptitle(f\"EEG {name[:-1]}\")"
   ]
  },
  {
   "cell_type": "markdown",
   "metadata": {},
   "source": [
    "## References\n",
    ".. footbibliography::\n",
    "\n"
   ]
  }
 ],
 "metadata": {
  "kernelspec": {
   "display_name": "Python 3",
   "language": "python",
   "name": "python3"
  },
  "language_info": {
   "codemirror_mode": {
    "name": "ipython",
    "version": 3
   },
   "file_extension": ".py",
   "mimetype": "text/x-python",
   "name": "python",
   "nbconvert_exporter": "python",
   "pygments_lexer": "ipython3",
   "version": "3.10.6"
  }
 },
 "nbformat": 4,
 "nbformat_minor": 0
}
