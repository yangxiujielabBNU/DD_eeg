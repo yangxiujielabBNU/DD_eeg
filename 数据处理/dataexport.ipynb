{
 "cells": [
  {
   "cell_type": "code",
   "execution_count": 1,
   "outputs": [],
   "source": [
    "import numpy as np\n",
    "import os.path as op\n",
    "from pandas import read_csv\n",
    "import mne\n",
    "from mne.io import read_raw_fif\n",
    "from mne.datasets import visual_92_categories\n",
    "from neurora.nps_cal import nps\n",
    "from neurora.rdm_cal import eegRDM\n",
    "from neurora.rdm_corr import rdm_correlation_spearman\n",
    "from neurora.corr_cal_by_rdm import rdms_corr\n",
    "from neurora.rsa_plot import plot_rdm, plot_corrs_by_time, plot_nps_hotmap, plot_corrs_hotmap\n"
   ],
   "metadata": {
    "collapsed": false,
    "pycharm": {
     "name": "#%%\n"
    }
   }
  },
  {
   "cell_type": "code",
   "execution_count": 5,
   "outputs": [
    {
     "name": "stdout",
     "output_type": "stream",
     "text": [
      "Reading E:\\实验\\阅读困难\\数据处理\\pre2beishi_RSA_ASSR46\\data\\6epoch_clean_RSA\\pre2001_RSA-epo.fif ...\n",
      "    Found the data of interest:\n",
      "        t =    -200.00 ...     800.00 ms\n",
      "        0 CTF compensation matrices available\n",
      "Not setting metadata\n",
      "1733 matching events found\n",
      "No baseline correction applied\n",
      "0 projection items activated\n"
     ]
    },
    {
     "data": {
      "text/plain": "'\\n思路，先求ERP，然后再给ndarray，然后再计算RDM\\n'"
     },
     "execution_count": 5,
     "metadata": {},
     "output_type": "execute_result"
    }
   ],
   "source": [
    "list_epochs_all = list()\n",
    "\n",
    "sub_ids = [\n",
    "\n",
    "    \"pre2001\",\"pre2003\",\"pre2004\",\"pre2005\",\n",
    "\n",
    "]\n",
    "\n",
    "sub_ids = [\n",
    "\n",
    "    \"pre2001\"\n",
    "\n",
    "]\n",
    "file_path = 'E:\\实验\\阅读困难\\数据处理\\pre2beishi_RSA_ASSR46\\data\\\\6epoch_clean_RSA\\\\'\n",
    "\n",
    "for sub_id in sub_ids:\n",
    "    data_path = file_path + sub_id + '_RSA-epo.fif'\n",
    "\n",
    "    epochs_all = mne.read_epochs(fname=data_path)\n",
    "\n",
    "    list_epochs_all.append(epochs_all)\n",
    "\n",
    "# channels_nieye = ['M1','T7','P7','TP7','M2','T8','P8','TP8','CP5','CP6','C5','C6']\n",
    "\n",
    "# 如果只想看某一部分的脑区,配合更改ndarray的维度\n",
    "# epochs_nieye = epochs_all.pick(picks=channels_nieye)\n",
    "\n",
    "'''\n",
    "思路，先求ERP，然后再给ndarray，然后再计算RDM\n",
    "'''"
   ],
   "metadata": {
    "collapsed": false,
    "pycharm": {
     "name": "#%%list_epochs_all = list()\n"
    }
   }
  },
  {
   "cell_type": "code",
   "execution_count": 12,
   "outputs": [],
   "source": [
    "epochs = epochs_all[1]\n",
    "data_epochs = epochs.get_data()\n",
    "sfreq_epochs = epochs.info['sfreq']\n",
    "a = epochs.annotations"
   ],
   "metadata": {
    "collapsed": false,
    "pycharm": {
     "name": "#%%\n"
    }
   }
  },
  {
   "cell_type": "code",
   "execution_count": 13,
   "outputs": [
    {
     "ename": "TypeError",
     "evalue": "time_as_index() got an unexpected keyword argument 'origin'",
     "output_type": "error",
     "traceback": [
      "\u001B[1;31m---------------------------------------------------------------------------\u001B[0m",
      "\u001B[1;31mTypeError\u001B[0m                                 Traceback (most recent call last)",
      "Cell \u001B[1;32mIn [13], line 1\u001B[0m\n\u001B[1;32m----> 1\u001B[0m \u001B[43mmne\u001B[49m\u001B[38;5;241;43m.\u001B[39;49m\u001B[43mevents_from_annotations\u001B[49m\u001B[43m(\u001B[49m\u001B[43mepochs\u001B[49m\u001B[43m)\u001B[49m\n",
      "File \u001B[1;32m<decorator-gen-134>:12\u001B[0m, in \u001B[0;36mevents_from_annotations\u001B[1;34m(raw, event_id, regexp, use_rounding, chunk_duration, verbose)\u001B[0m\n",
      "File \u001B[1;32mD:\\ProgramData\\anaconda\\envs\\mne\\lib\\site-packages\\mne\\annotations.py:1484\u001B[0m, in \u001B[0;36mevents_from_annotations\u001B[1;34m(raw, event_id, regexp, use_rounding, chunk_duration, verbose)\u001B[0m\n\u001B[0;32m   1480\u001B[0m event_sel, event_id_ \u001B[38;5;241m=\u001B[39m _select_annotations_based_on_description(\n\u001B[0;32m   1481\u001B[0m     annotations\u001B[38;5;241m.\u001B[39mdescription, event_id\u001B[38;5;241m=\u001B[39mevent_id, regexp\u001B[38;5;241m=\u001B[39mregexp)\n\u001B[0;32m   1483\u001B[0m \u001B[38;5;28;01mif\u001B[39;00m chunk_duration \u001B[38;5;129;01mis\u001B[39;00m \u001B[38;5;28;01mNone\u001B[39;00m:\n\u001B[1;32m-> 1484\u001B[0m     inds \u001B[38;5;241m=\u001B[39m \u001B[43mraw\u001B[49m\u001B[38;5;241;43m.\u001B[39;49m\u001B[43mtime_as_index\u001B[49m\u001B[43m(\u001B[49m\u001B[43mannotations\u001B[49m\u001B[38;5;241;43m.\u001B[39;49m\u001B[43monset\u001B[49m\u001B[43m,\u001B[49m\u001B[43m \u001B[49m\u001B[43muse_rounding\u001B[49m\u001B[38;5;241;43m=\u001B[39;49m\u001B[43muse_rounding\u001B[49m\u001B[43m,\u001B[49m\n\u001B[0;32m   1485\u001B[0m \u001B[43m                             \u001B[49m\u001B[43morigin\u001B[49m\u001B[38;5;241;43m=\u001B[39;49m\u001B[43mannotations\u001B[49m\u001B[38;5;241;43m.\u001B[39;49m\u001B[43morig_time\u001B[49m\u001B[43m)\u001B[49m\n\u001B[0;32m   1486\u001B[0m     \u001B[38;5;28;01mif\u001B[39;00m annotations\u001B[38;5;241m.\u001B[39morig_time \u001B[38;5;129;01mis\u001B[39;00m \u001B[38;5;129;01mnot\u001B[39;00m \u001B[38;5;28;01mNone\u001B[39;00m:\n\u001B[0;32m   1487\u001B[0m         inds \u001B[38;5;241m+\u001B[39m\u001B[38;5;241m=\u001B[39m raw\u001B[38;5;241m.\u001B[39mfirst_samp\n",
      "\u001B[1;31mTypeError\u001B[0m: time_as_index() got an unexpected keyword argument 'origin'"
     ]
    }
   ],
   "source": [
    "mne.events_from_annotations(epochs)"
   ],
   "metadata": {
    "collapsed": false,
    "pycharm": {
     "name": "#%%\n"
    }
   }
  },
  {
   "cell_type": "code",
   "execution_count": 25,
   "outputs": [
    {
     "name": "stdout",
     "output_type": "stream",
     "text": [
      "Not setting metadata\n",
      "1733 matching events found\n",
      "Applying baseline correction (mode: mean)\n",
      "0 projection items activated\n",
      "Overwriting existing file.\n",
      "Reading E:\\实验\\阅读困难\\数据处理\\pre2001测试_RSA-epo.fif ...\n",
      "    Found the data of interest:\n",
      "        t =    -200.00 ...     800.00 ms\n",
      "        0 CTF compensation matrices available\n",
      "Not setting metadata\n",
      "1733 matching events found\n",
      "No baseline correction applied\n",
      "0 projection items activated\n",
      "Overwriting existing file.\n"
     ]
    },
    {
     "ename": "TypeError",
     "evalue": "object of type 'NoneType' has no len()",
     "output_type": "error",
     "traceback": [
      "\u001B[1;31m---------------------------------------------------------------------------\u001B[0m",
      "\u001B[1;31mTypeError\u001B[0m                                 Traceback (most recent call last)",
      "Cell \u001B[1;32mIn [25], line 13\u001B[0m\n\u001B[0;32m     11\u001B[0m new_epochs\u001B[38;5;241m.\u001B[39msave(  sub_id \u001B[38;5;241m+\u001B[39m \u001B[38;5;124m'\u001B[39m\u001B[38;5;124m测试_RSA-epo.fif\u001B[39m\u001B[38;5;124m'\u001B[39m, overwrite\u001B[38;5;241m=\u001B[39m\u001B[38;5;28;01mTrue\u001B[39;00m)\n\u001B[0;32m     12\u001B[0m a \u001B[38;5;241m=\u001B[39m mne\u001B[38;5;241m.\u001B[39mread_epochs( sub_id \u001B[38;5;241m+\u001B[39m \u001B[38;5;124m'\u001B[39m\u001B[38;5;124m测试_RSA-epo.fif\u001B[39m\u001B[38;5;124m'\u001B[39m,)\n\u001B[1;32m---> 13\u001B[0m \u001B[43mexport_epochs\u001B[49m\u001B[43m(\u001B[49m\u001B[43mfile_path_save\u001B[49m\u001B[43m \u001B[49m\u001B[38;5;241;43m+\u001B[39;49m\u001B[43m \u001B[49m\u001B[43msub_ids\u001B[49m\u001B[43m[\u001B[49m\u001B[43mi\u001B[49m\u001B[43m]\u001B[49m\u001B[38;5;241;43m+\u001B[39;49m\u001B[38;5;124;43m\"\u001B[39;49m\u001B[38;5;124;43m.set\u001B[39;49m\u001B[38;5;124;43m\"\u001B[39;49m\u001B[43m,\u001B[49m\u001B[43m \u001B[49m\u001B[43mepochs\u001B[49m\u001B[38;5;241;43m=\u001B[39;49m\u001B[43ma\u001B[49m\u001B[43m,\u001B[49m\u001B[43m \u001B[49m\u001B[43mfmt\u001B[49m\u001B[43m \u001B[49m\u001B[38;5;241;43m=\u001B[39;49m\u001B[43m \u001B[49m\u001B[38;5;124;43m'\u001B[39;49m\u001B[38;5;124;43meeglab\u001B[39;49m\u001B[38;5;124;43m'\u001B[39;49m\u001B[43m,\u001B[49m\u001B[43m \u001B[49m\u001B[43moverwrite\u001B[49m\u001B[43m \u001B[49m\u001B[38;5;241;43m=\u001B[39;49m\u001B[43m \u001B[49m\u001B[38;5;28;43;01mTrue\u001B[39;49;00m\u001B[43m)\u001B[49m\n",
      "File \u001B[1;32m<decorator-gen-604>:12\u001B[0m, in \u001B[0;36mexport_epochs\u001B[1;34m(fname, epochs, fmt, overwrite, verbose)\u001B[0m\n",
      "File \u001B[1;32mD:\\ProgramData\\anaconda\\envs\\mne\\lib\\site-packages\\mne\\export\\_export.py:105\u001B[0m, in \u001B[0;36mexport_epochs\u001B[1;34m(fname, epochs, fmt, overwrite, verbose)\u001B[0m\n\u001B[0;32m    103\u001B[0m \u001B[38;5;28;01mif\u001B[39;00m fmt \u001B[38;5;241m==\u001B[39m \u001B[38;5;124m'\u001B[39m\u001B[38;5;124meeglab\u001B[39m\u001B[38;5;124m'\u001B[39m:\n\u001B[0;32m    104\u001B[0m     \u001B[38;5;28;01mfrom\u001B[39;00m \u001B[38;5;21;01m.\u001B[39;00m\u001B[38;5;21;01m_eeglab\u001B[39;00m \u001B[38;5;28;01mimport\u001B[39;00m _export_epochs\n\u001B[1;32m--> 105\u001B[0m     \u001B[43m_export_epochs\u001B[49m\u001B[43m(\u001B[49m\u001B[43mfname\u001B[49m\u001B[43m,\u001B[49m\u001B[43m \u001B[49m\u001B[43mepochs\u001B[49m\u001B[43m)\u001B[49m\n",
      "File \u001B[1;32mD:\\ProgramData\\anaconda\\envs\\mne\\lib\\site-packages\\mne\\export\\_eeglab.py:45\u001B[0m, in \u001B[0;36m_export_epochs\u001B[1;34m(fname, epochs)\u001B[0m\n\u001B[0;32m     42\u001B[0m ch_names \u001B[38;5;241m=\u001B[39m [ch \u001B[38;5;28;01mfor\u001B[39;00m ch \u001B[38;5;129;01min\u001B[39;00m epochs\u001B[38;5;241m.\u001B[39mch_names \u001B[38;5;28;01mif\u001B[39;00m ch \u001B[38;5;129;01mnot\u001B[39;00m \u001B[38;5;129;01min\u001B[39;00m drop_chs]\n\u001B[0;32m     43\u001B[0m cart_coords \u001B[38;5;241m=\u001B[39m _get_als_coords_from_chs(epochs\u001B[38;5;241m.\u001B[39minfo[\u001B[38;5;124m'\u001B[39m\u001B[38;5;124mchs\u001B[39m\u001B[38;5;124m'\u001B[39m], drop_chs)\n\u001B[1;32m---> 45\u001B[0m \u001B[38;5;28;01mif\u001B[39;00m \u001B[38;5;28;43mlen\u001B[39;49m\u001B[43m(\u001B[49m\u001B[43mepochs\u001B[49m\u001B[38;5;241;43m.\u001B[39;49m\u001B[43mannotations\u001B[49m\u001B[43m)\u001B[49m \u001B[38;5;241m>\u001B[39m \u001B[38;5;241m0\u001B[39m:\n\u001B[0;32m     46\u001B[0m     annot \u001B[38;5;241m=\u001B[39m [epochs\u001B[38;5;241m.\u001B[39mannotations\u001B[38;5;241m.\u001B[39mdescription, epochs\u001B[38;5;241m.\u001B[39mannotations\u001B[38;5;241m.\u001B[39monset,\n\u001B[0;32m     47\u001B[0m              epochs\u001B[38;5;241m.\u001B[39mannotations\u001B[38;5;241m.\u001B[39mduration]\n\u001B[0;32m     48\u001B[0m \u001B[38;5;28;01melse\u001B[39;00m:\n",
      "\u001B[1;31mTypeError\u001B[0m: object of type 'NoneType' has no len()"
     ]
    }
   ],
   "source": [
    "# from eeglabio.epochs import export_set\n",
    "# import pandas as pd\n",
    "# from mne.export import export_epochs\n",
    "# file_path_save = 'L:\\yanglab1_EEG\\RSA\\data\\\\6epoch_clean_RSA\\\\'\n",
    "# for i in range(len(sub_ids)):\n",
    "#     epochs=list_epochs_all[i]\n",
    "#     df = pd.DataFrame(columns=['onset', 'duration', 'description'])\n",
    "#     new_annotations  = df\n",
    "#     # Create new epochs object with modified annotations\n",
    "#     new_epochs = mne.EpochsArray(epochs.get_data(), epochs.info, events=epochs.events, event_id=epochs.event_id, tmin=epochs.tmin, baseline=epochs.baseline)\n",
    "#     new_epochs.save(  sub_id + '测试_RSA-epo.fif', overwrite=True)\n",
    "#     a = mne.read_epochs( sub_id + '测试_RSA-epo.fif',)\n",
    "#     export_epochs(file_path_save + sub_ids[i]+\".set\", epochs=a, fmt = 'eeglab', overwrite = True)\n"
   ],
   "metadata": {
    "collapsed": false,
    "pycharm": {
     "name": "#%%\n"
    }
   }
  },
  {
   "cell_type": "code",
   "execution_count": 7,
   "outputs": [
    {
     "name": "stdout",
     "output_type": "stream",
     "text": [
      "Overwriting existing file.\n"
     ]
    },
    {
     "name": "stderr",
     "output_type": "stream",
     "text": [
      "D:\\ProgramData\\anaconda\\envs\\mne\\lib\\site-packages\\eeglabio\\epochs.py:109 EEGLABIO: WARNING: Invalid event latencies, ignored for export.\n",
      "D:\\ProgramData\\anaconda\\envs\\mne\\lib\\site-packages\\eeglabio\\epochs.py:118 EEGLABIO: WARNING: Some or all annotations have invalid onsets, discarded for export.\n"
     ]
    }
   ],
   "source": [
    "'''\n",
    "用更底层的函数来export\n",
    "'''\n",
    "from eeglabio.epochs import export_set\n",
    "from mne.export import export_epochs\n",
    "file_path_save = 'L:\\yanglab1_EEG\\RSA\\data\\\\6epoch_clean_RSA\\\\'\n",
    "fname = file_path_save + sub_ids[0]+\".set\"\n",
    "export_epochs(file_path_save + sub_ids[0]+\".set\", epochs=list_epochs_all[0], fmt = 'eeglab', overwrite = True)\n"
   ],
   "metadata": {
    "collapsed": false,
    "pycharm": {
     "name": "#%%\n"
    }
   }
  },
  {
   "cell_type": "code",
   "execution_count": null,
   "outputs": [],
   "source": [
    "from eeglabio.epochs import export_set\n",
    "from mne.export import export_epochs\n",
    "file_path_save = 'L:\\yanglab1_EEG\\RSA\\data\\\\6epoch_clean_RSA\\\\'\n",
    "fname = file_path_save + sub_ids[0]+\".set\"\n",
    "epochs = epochs_all\n",
    "sfreq_epochs = epochs.info['sfreq']\n",
    "export_set(\n",
    "    fname, data=epochs.get_data(),\n",
    "    sfreq=epochs.info['sfreq'], events=epochs.events,\n",
    "    tmin=epochs.tmin, tmax=epochs.tmax, ch_names=ch_names,\n",
    "    event_id=epochs.event_id, ch_locs=cart_coords, annotations=annot)"
   ],
   "metadata": {
    "collapsed": false,
    "pycharm": {
     "name": "#%%\n"
    }
   }
  },
  {
   "cell_type": "code",
   "execution_count": null,
   "outputs": [],
   "source": [],
   "metadata": {
    "collapsed": false,
    "pycharm": {
     "name": "#%%\n"
    }
   }
  }
 ],
 "metadata": {
  "kernelspec": {
   "name": "mne",
   "language": "python",
   "display_name": "mne"
  },
  "language_info": {
   "codemirror_mode": {
    "name": "ipython",
    "version": 2
   },
   "file_extension": ".py",
   "mimetype": "text/x-python",
   "name": "python",
   "nbconvert_exporter": "python",
   "pygments_lexer": "ipython2",
   "version": "2.7.6"
  }
 },
 "nbformat": 4,
 "nbformat_minor": 0
}