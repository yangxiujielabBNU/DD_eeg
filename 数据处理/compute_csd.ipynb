{
 "cells": [
  {
   "cell_type": "code",
   "execution_count": 1,
   "metadata": {
    "collapsed": false,
    "pycharm": {
     "name": "#%%\n"
    }
   },
   "outputs": [],
   "source": [
    "%matplotlib inline"
   ]
  },
  {
   "cell_type": "markdown",
   "metadata": {
    "pycharm": {
     "name": "#%% md\n"
    }
   },
   "source": [
    "\n",
    "\n",
    "# Compute a cross-spectral density (CSD) matrix\n",
    "\n",
    "A cross-spectral density (CSD) matrix is similar to a covariance matrix, but in\n",
    "the time-frequency domain. It is the first step towards computing\n",
    "sensor-to-sensor coherence or a DICS beamformer.\n",
    "\n",
    "This script demonstrates the three methods that MNE-Python provides to compute\n",
    "the CSD:\n",
    "\n",
    "1. Using short-term Fourier transform: :func:`mne.time_frequency.csd_fourier`\n",
    "2. Using a multitaper approach: :func:`mne.time_frequency.csd_multitaper`\n",
    "3. Using Morlet wavelets: :func:`mne.time_frequency.csd_morlet`\n"
   ]
  },
  {
   "cell_type": "code",
   "execution_count": 2,
   "metadata": {
    "collapsed": false,
    "pycharm": {
     "name": "#%%\n"
    }
   },
   "outputs": [],
   "source": [
    "# Author: Marijn van Vliet <w.m.vanvliet@gmail.com>\n",
    "# License: BSD-3-Clause"
   ]
  },
  {
   "cell_type": "code",
   "execution_count": 3,
   "metadata": {
    "collapsed": false,
    "pycharm": {
     "name": "#%%\n"
    }
   },
   "outputs": [
    {
     "name": "stdout",
     "output_type": "stream",
     "text": [
      "Automatically created module for IPython interactive environment\n"
     ]
    }
   ],
   "source": [
    "from matplotlib import pyplot as plt\n",
    "\n",
    "import mne\n",
    "from mne.datasets import sample\n",
    "from mne.time_frequency import csd_fourier, csd_multitaper, csd_morlet\n",
    "\n",
    "print(__doc__)"
   ]
  },
  {
   "cell_type": "markdown",
   "metadata": {
    "pycharm": {
     "name": "#%% md\n"
    }
   },
   "source": [
    "In the following example, the computation of the CSD matrices can be\n",
    "performed using multiple cores. Set ``n_jobs`` to a value >1 to select the\n",
    "number of cores to use.\n",
    "\n"
   ]
  },
  {
   "cell_type": "code",
   "execution_count": 4,
   "metadata": {
    "collapsed": false,
    "pycharm": {
     "name": "#%%\n"
    }
   },
   "outputs": [],
   "source": [
    "n_jobs = 1"
   ]
  },
  {
   "cell_type": "markdown",
   "metadata": {
    "pycharm": {
     "name": "#%% md\n"
    }
   },
   "source": [
    "Loading the sample dataset.\n",
    "\n"
   ]
  },
  {
   "cell_type": "code",
   "execution_count": 5,
   "metadata": {
    "collapsed": false,
    "pycharm": {
     "name": "#%%\n"
    }
   },
   "outputs": [
    {
     "name": "stdout",
     "output_type": "stream",
     "text": [
      "Opening raw data file E:\\Python LYW\\RSA\\MNEtutorial\\DATA\\MNE-sample-data\\MEG\\sample\\sample_audvis_raw.fif...\n",
      "    Read a total of 3 projection items:\n",
      "        PCA-v1 (1 x 102)  idle\n",
      "        PCA-v2 (1 x 102)  idle\n",
      "        PCA-v3 (1 x 102)  idle\n",
      "    Range : 25800 ... 192599 =     42.956 ...   320.670 secs\n",
      "Ready.\n"
     ]
    }
   ],
   "source": [
    "data_path = sample.data_path()\n",
    "meg_path = data_path / 'MEG' / 'sample'\n",
    "fname_raw = meg_path / 'sample_audvis_raw.fif'\n",
    "fname_event = meg_path / 'sample_audvis_raw-eve.fif'\n",
    "raw = mne.io.read_raw_fif(fname_raw)\n",
    "events = mne.read_events(fname_event)"
   ]
  },
  {
   "cell_type": "markdown",
   "metadata": {
    "pycharm": {
     "name": "#%% md\n"
    }
   },
   "source": [
    "By default, CSD matrices are computed using all MEG/EEG channels. When\n",
    "interpreting a CSD matrix with mixed sensor types, be aware that the\n",
    "measurement units, and thus the scalings, differ across sensors. In this\n",
    "example, for speed and clarity, we select a single channel type:\n",
    "gradiometers.\n",
    "\n"
   ]
  },
  {
   "cell_type": "code",
   "execution_count": null,
   "outputs": [],
   "source": [
    "picks = mne.pick_types(raw.info, meg='grad')\n",
    "\n",
    "# Make some epochs, based on events with trigger code 1\n",
    "epochs = mne.Epochs(raw, events, event_id=1, tmin=-0.2, tmax=1,\n",
    "                    picks=picks, baseline=(None, 0),\n",
    "                    reject=dict(grad=4000e-13), preload=True)\n",
    "\n"
   ],
   "metadata": {
    "collapsed": false,
    "pycharm": {
     "name": "#%%\n"
    }
   }
  },
  {
   "cell_type": "markdown",
   "metadata": {
    "pycharm": {
     "name": "#%% md\n"
    }
   },
   "source": [
    "Computing CSD matrices using short-term Fourier transform and (adaptive)\n",
    "multitapers is straightforward:\n",
    "\n"
   ]
  },
  {
   "cell_type": "code",
   "execution_count": null,
   "outputs": [],
   "source": [
    "\n",
    "csd_fft = csd_fourier(epochs, fmin=16, fmax=20, n_jobs=n_jobs)\n",
    "csd_mt = csd_multitaper(epochs, fmin=15, fmax=20, adaptive=True, n_jobs=n_jobs)\n"
   ],
   "metadata": {
    "collapsed": false,
    "pycharm": {
     "name": "#%%\n"
    }
   }
  },
  {
   "cell_type": "code",
   "execution_count": 9,
   "outputs": [],
   "source": [
    "d  =csd_fft.get_data(frequency=20)"
   ],
   "metadata": {
    "collapsed": false,
    "pycharm": {
     "name": "#%%\n"
    }
   }
  },
  {
   "cell_type": "markdown",
   "metadata": {
    "pycharm": {
     "name": "#%% md\n"
    }
   },
   "source": [
    "When computing the CSD with Morlet wavelets, you specify the exact\n",
    "frequencies at which to compute it. For each frequency, a corresponding\n",
    "wavelet will be constructed and convolved with the signal, resulting in a\n",
    "time-frequency decomposition.\n",
    "\n",
    "The CSD is constructed by computing the correlation between the\n",
    "time-frequency representations between all sensor-to-sensor pairs. The\n",
    "time-frequency decomposition originally has the same sampling rate as the\n",
    "signal, in our case ~600Hz. This means the decomposition is over-specified in\n",
    "time and we may not need to use all samples during our CSD computation, just\n",
    "enough to get a reliable correlation statistic. By specifying ``decim=10``,\n",
    "we use every 10th sample, which will greatly speed up the computation and\n",
    "will have a minimal effect on the CSD.\n",
    "\n"
   ]
  },
  {
   "cell_type": "code",
   "execution_count": null,
   "metadata": {
    "collapsed": false,
    "pycharm": {
     "name": "#%%\n"
    }
   },
   "outputs": [],
   "source": [
    "frequencies = [16, 17, 18, 19, 20]\n",
    "csd_wav = csd_morlet(epochs, frequencies, decim=10, n_jobs=n_jobs)"
   ]
  },
  {
   "cell_type": "markdown",
   "metadata": {
    "pycharm": {
     "name": "#%% md\n"
    }
   },
   "source": [
    "The resulting :class:`mne.time_frequency.CrossSpectralDensity` objects have a\n",
    "plotting function we can use to compare the results of the different methods.\n",
    "We're plotting the mean CSD across frequencies.\n",
    "\n"
   ]
  },
  {
   "cell_type": "code",
   "execution_count": null,
   "metadata": {
    "collapsed": false,
    "pycharm": {
     "name": "#%%\n"
    }
   },
   "outputs": [],
   "source": [
    "csd_fft.mean().plot()\n",
    "plt.suptitle('short-term Fourier transform')\n",
    "\n",
    "csd_mt.mean().plot()\n",
    "plt.suptitle('adaptive multitapers')\n",
    "\n",
    "csd_wav.mean().plot()\n",
    "plt.suptitle('Morlet wavelet transform')"
   ]
  }
 ],
 "metadata": {
  "kernelspec": {
   "name": "mne",
   "language": "python",
   "display_name": "mne"
  },
  "language_info": {
   "codemirror_mode": {
    "name": "ipython",
    "version": 3
   },
   "file_extension": ".py",
   "mimetype": "text/x-python",
   "name": "python",
   "nbconvert_exporter": "python",
   "pygments_lexer": "ipython3",
   "version": "3.8.10"
  }
 },
 "nbformat": 4,
 "nbformat_minor": 0
}