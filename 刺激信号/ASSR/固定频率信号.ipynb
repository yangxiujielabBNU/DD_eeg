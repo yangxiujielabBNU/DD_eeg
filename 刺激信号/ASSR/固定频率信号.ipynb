{
 "cells": [
  {
   "cell_type": "code",
   "execution_count": 1,
   "metadata": {
    "collapsed": true,
    "pycharm": {
     "name": "#%%\n"
    }
   },
   "outputs": [],
   "source": [
    "\n",
    "'''\n",
    "https://medium.com/@nabanita.sarkar/simulating-amplitude-modulation-using-python-6ed03eb4e712#id_token=eyJhbGciOiJSUzI1NiIsImtpZCI6IjM4ZjM4ODM0NjhmYzY1OWFiYjQ0NzVmMzYzMTNkMjI1ODVjMmQ3Y2EiLCJ0eXAiOiJKV1QifQ.eyJpc3MiOiJodHRwczovL2FjY291bnRzLmdvb2dsZS5jb20iLCJuYmYiOjE2NTM2MTY0NzIsImF1ZCI6IjIxNjI5NjAzNTgzNC1rMWs2cWUwNjBzMnRwMmEyamFtNGxqZGNtczAwc3R0Zy5hcHBzLmdvb2dsZXVzZXJjb250ZW50LmNvbSIsInN1YiI6IjEwNzQ0Mzg1MzQyMjE3OTA2NTYyNyIsImVtYWlsIjoiZ3Vpc2h1eXVueWVAZ21haWwuY29tIiwiZW1haWxfdmVyaWZpZWQiOnRydWUsImF6cCI6IjIxNjI5NjAzNTgzNC1rMWs2cWUwNjBzMnRwMmEyamFtNGxqZGNtczAwc3R0Zy5hcHBzLmdvb2dsZXVzZXJjb250ZW50LmNvbSIsIm5hbWUiOiLmooHogIDmlociLCJwaWN0dXJlIjoiaHR0cHM6Ly9saDMuZ29vZ2xldXNlcmNvbnRlbnQuY29tL2EtL0FPaDE0R2hUQTlxTU5LNVVFVUR1ZFVUWmtNdkFQcm9FOGxSR3pLY21fQlJOPXM5Ni1jIiwiZ2l2ZW5fbmFtZSI6IuiAgOaWhyIsImZhbWlseV9uYW1lIjoi5qKBIiwiaWF0IjoxNjUzNjE2NzcyLCJleHAiOjE2NTM2MjAzNzIsImp0aSI6IjVjZjkzMDQ4OGE5YTQ3MGQ0YjI3ZGRiODE1NDY0NTdkMTRlZWEzNzUifQ.HNLk9wD_csuoGvpjFSH14Ig4JopgV1HgITAXc0CZLzuTNHjUikQo83SkScjqSzunPYe1hEIPLtxdP35X71ZvLUCnn_0OHWo8mxtr5uTEDnoBhIVwWC2tBD_YzthozAKTs_B1KpzKw_cljQxZMO2Mqrjo5qtvu6nFRtKfW7FHNZD8Bv8IGO65RGor26NWhadDv9Fzs5GtIyL8_ljil2glk0WB2B2PjqiVwdpC3_zs3yXh5w7RhdEVLr3IaY1uWEgi_gZeM86esZNlj0L_TOZ3F9QoY3IJFVRhmm6Z-_O2yOimRw7cd77CRIBxBw9IX4qG3CBrAdIzOReul5y9tZ8uQA\n",
    "\n",
    "'''\n",
    "import numpy as np\n",
    "import matplotlib.pyplot as plt\n",
    "import numpy as np\n",
    "from scipy.io.wavfile import write\n",
    "import sounddevice as sd\n",
    "import time\n",
    "import sounddevice as sd"
   ]
  },
  {
   "cell_type": "code",
   "execution_count": 5,
   "outputs": [],
   "source": [
    "\n",
    "#Carrier wave c(t)=A_c*cos(2*pi*f_c*t)\n",
    "#Modulating wave m(t)=A_m*cos(2*pi*f_m*t)\n",
    "#Modulated wave s(t)=A_c[1+mu*cos(2*pi*f_m*t)]cos(2*pi*f_c*t)\n",
    "\n",
    "# A_c = float(input('Enter carrier amplitude: '))\n",
    "# f_c = float(input('Enter carrier frquency: '))\n",
    "# A_m = float(input('Enter message amplitude: '))\n",
    "# f_m = float(input('Enter message frquency: '))\n",
    "# modulation_index = float(input('Enter modulation index: '))\n"
   ],
   "metadata": {
    "collapsed": false,
    "pycharm": {
     "name": "#%%\n"
    }
   }
  },
  {
   "cell_type": "code",
   "execution_count": 9,
   "outputs": [],
   "source": [
    "A_c = 10000\n",
    "f_c = 1000\n",
    "A_m = 10000\n",
    "f_m = 10\n",
    "# 应该是深度，大于1就变成过度调频了。\n",
    "modulation_index = 1\n",
    "\n",
    "duration = 1\n",
    "samplerate = 1000\n",
    "Num_t = duration * samplerate\n",
    "t = np.linspace(0, duration, Num_t)"
   ],
   "metadata": {
    "collapsed": false,
    "pycharm": {
     "name": "#%%\n"
    }
   }
  },
  {
   "cell_type": "code",
   "execution_count": 15,
   "outputs": [
    {
     "data": {
      "text/plain": "Text(0.5, 0, 'Carrier signal')"
     },
     "execution_count": 15,
     "metadata": {},
     "output_type": "execute_result"
    },
    {
     "data": {
      "text/plain": "<Figure size 432x288 with 1 Axes>",
      "image/png": "[encoded data removed]"
     },
     "metadata": {
      "needs_background": "light"
     },
     "output_type": "display_data"
    }
   ],
   "source": [
    "fc = 1000\n",
    "carrier = A_c*np.cos(2*np.pi*f_c*t)\n",
    "\n",
    "plt.subplot(3,1,2)\n",
    "plt.plot(carrier, 'r')\n",
    "plt.ylabel('Amplitude')\n",
    "plt.xlabel('Carrier signal')\n"
   ],
   "metadata": {
    "collapsed": false,
    "pycharm": {
     "name": "#%%\n"
    }
   }
  },
  {
   "cell_type": "code",
   "execution_count": null,
   "outputs": [],
   "source": [
    "modulator = A_m*np.cos(2*np.pi*f_m*t)\n",
    "product = A_c*(1+modulation_index*np.cos(2*np.pi*f_m*t))*np.cos(2*np.pi*f_c*t)\n",
    "\n",
    "\n",
    "plt.subplot(3,1,1)\n",
    "plt.title('Amplitude Modulation')\n",
    "plt.plot(modulator,'g')\n",
    "plt.ylabel('Amplitude')\n",
    "plt.xlabel('Message signal')\n",
    "\n",
    "plt.subplot(3,1,3)\n",
    "plt.plot(product, color=\"purple\")\n",
    "plt.ylabel('Amplitude')\n",
    "plt.xlabel('AM signal')\n",
    "\n",
    "plt.subplots_adjust(hspace=1)\n",
    "plt.rc('font', size=15)\n",
    "fig = plt.gcf()\n",
    "fig.set_size_inches(16, 9)\n",
    "\n",
    "fig.savefig('Amplitude Modulation.png', dpi=100)\n"
   ],
   "metadata": {
    "collapsed": false,
    "pycharm": {
     "name": "#%%\n"
    }
   }
  },
  {
   "cell_type": "code",
   "execution_count": 5,
   "outputs": [],
   "source": [
    "data = product\n",
    "write(\"example.wav\", samplerate, data.astype(np.int16))"
   ],
   "metadata": {
    "collapsed": false,
    "pycharm": {
     "name": "#%%\n"
    }
   }
  },
  {
   "cell_type": "code",
   "execution_count": 12,
   "outputs": [],
   "source": [
    "sd.play(data, samplerate)\n",
    "time.sleep(100)\n",
    "sd.stop()"
   ],
   "metadata": {
    "collapsed": false,
    "pycharm": {
     "name": "#%%\n"
    }
   }
  },
  {
   "cell_type": "code",
   "execution_count": null,
   "outputs": [],
   "source": [],
   "metadata": {
    "collapsed": false,
    "pycharm": {
     "name": "#%%\n"
    }
   }
  }
 ],
 "metadata": {
  "kernelspec": {
   "name": "pycharm-284b30fe",
   "language": "python",
   "display_name": "PyCharm (贝叶斯)"
  },
  "language_info": {
   "codemirror_mode": {
    "name": "ipython",
    "version": 2
   },
   "file_extension": ".py",
   "mimetype": "text/x-python",
   "name": "python",
   "nbconvert_exporter": "python",
   "pygments_lexer": "ipython2",
   "version": "2.7.6"
  }
 },
 "nbformat": 4,
 "nbformat_minor": 0
}