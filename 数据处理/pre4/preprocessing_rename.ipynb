{
 "cells": [
  {
   "cell_type": "code",
   "execution_count": 2,
   "outputs": [],
   "source": [
    "import os.path as op\n",
    "import mne\n",
    "from mne.preprocessing import ICA\n",
    "import matplotlib.pyplot as plt\n",
    "from copy import deepcopy"
   ],
   "metadata": {
    "collapsed": false,
    "ExecuteTime": {
     "end_time": "2023-05-23T13:49:56.834862200Z",
     "start_time": "2023-05-23T13:49:46.307233100Z"
    }
   }
  },
  {
   "cell_type": "code",
   "execution_count": 6,
   "outputs": [
    {
     "name": "stdout",
     "output_type": "stream",
     "text": [
      "Leaving device<->head transform as None (no landmarks found)\n",
      "Reading 0 ... 4305999  =      0.000 ...  4305.999 secs...\n",
      "Event file found. Extracting Annotations from L:\\yanglab1_EEG\\原始数据\\yanglab_DD_pre4\\北师\\pre4008chenzixuan.ceo...\n",
      "Writing E:\\实验\\阅读困难\\数据处理\\pre4\\data\\1raw_rename\\pre4008_a.fif\n"
     ]
    },
    {
     "name": "stderr",
     "output_type": "stream",
     "text": [
      "C:\\Users\\SilverBullet\\AppData\\Local\\Temp\\ipykernel_17564\\2627639358.py:12: RuntimeWarning: This filename (E:\\实验\\阅读困难\\数据处理\\pre4\\data\\1raw_rename\\pre4008_a.fif) does not conform to MNE naming conventions. All raw files should end with raw.fif, raw_sss.fif, raw_tsss.fif, _meg.fif, _eeg.fif, _ieeg.fif, raw.fif.gz, raw_sss.fif.gz, raw_tsss.fif.gz, _meg.fif.gz, _eeg.fif.gz or _ieeg.fif.gz\n",
      "  raw.save(fname_new, overwrite='True')\n"
     ]
    },
    {
     "name": "stdout",
     "output_type": "stream",
     "text": [
      "Closing E:\\实验\\阅读困难\\数据处理\\pre4\\data\\1raw_rename\\pre4008_a.fif\n",
      "[done]\n"
     ]
    }
   ],
   "source": [
    "'''\n",
    "curry 版本\n",
    "'''\n",
    "data_path = 'L:\\yanglab1_EEG\\原始数据\\yanglab_DD_pre4\\\\北师\\\\'\n",
    "save_path = '.\\\\data\\\\1raw_rename\\\\'\n",
    "sub_name = 'pre4008chenzixuan'\n",
    "sub_id = 'pre4008_a'\n",
    "fname_original  = data_path + sub_name +'.dat'\n",
    "fname_new = save_path + sub_id + '.fif'\n",
    "raw = mne.io.read_raw_curry(fname=fname_original,preload=True)\n",
    "raw.plot()\n",
    "raw.save(fname_new, overwrite='True')"
   ],
   "metadata": {
    "collapsed": false
   }
  },
  {
   "cell_type": "code",
   "execution_count": 9,
   "outputs": [
    {
     "name": "stdout",
     "output_type": "stream",
     "text": [
      "Closing E:\\实验\\阅读困难\\数据处理\\pre4\\data\\1raw_rename\\pre4033_y.fif\n",
      "[done]\n",
      "Reading 0 ... 5527399  =      0.000 ...  5527.399 secs...\n"
     ]
    },
    {
     "name": "stderr",
     "output_type": "stream",
     "text": [
      "C:\\Users\\SilverBullet\\AppData\\Local\\Temp\\ipykernel_17656\\1575447618.py:12: RuntimeWarning:   Could not parse meas date from the header. Setting to None.\n",
      "  raw = mne.io.read_raw_cnt(input_fname=fname_original,preload=True)\n"
     ]
    },
    {
     "name": "stdout",
     "output_type": "stream",
     "text": [
      "Writing E:\\实验\\阅读困难\\数据处理\\pre4\\data\\1raw_rename\\pre4034_y.fif\n"
     ]
    },
    {
     "name": "stderr",
     "output_type": "stream",
     "text": [
      "C:\\Users\\SilverBullet\\AppData\\Local\\Temp\\ipykernel_17656\\1575447618.py:14: RuntimeWarning: This filename (E:\\实验\\阅读困难\\数据处理\\pre4\\data\\1raw_rename\\pre4034_y.fif) does not conform to MNE naming conventions. All raw files should end with raw.fif, raw_sss.fif, raw_tsss.fif, _meg.fif, _eeg.fif, _ieeg.fif, raw.fif.gz, raw_sss.fif.gz, raw_tsss.fif.gz, _meg.fif.gz, _eeg.fif.gz or _ieeg.fif.gz\n",
      "  raw.save(fname_new, overwrite='True')\n"
     ]
    },
    {
     "name": "stdout",
     "output_type": "stream",
     "text": [
      "Closing E:\\实验\\阅读困难\\数据处理\\pre4\\data\\1raw_rename\\pre4034_y.fif\n",
      "[done]\n"
     ]
    }
   ],
   "source": [
    "'''\n",
    "neuroscan 版本\n",
    "'''\n",
    "%matplotlib qt\n",
    "data_path = 'L:\\yanglab1_EEG\\原始数据\\yanglab_DD_pre4\\南师\\\\'\n",
    "save_path = '.\\\\data\\\\1raw_rename\\\\'\n",
    "sub_name = 'pre4034y_guojiaxi Data'\n",
    "sub_id = 'pre4034_y'\n",
    "# 去掉名字只保留ID,使有规律,方便后面批处理.\n",
    "fname_original  = data_path + sub_name +'.cnt'\n",
    "fname_new = save_path + sub_id + '.fif'\n",
    "raw = mne.io.read_raw_cnt(input_fname=fname_original,preload=True)\n",
    "raw.plot()\n",
    "raw.save(fname_new, overwrite='True')"
   ],
   "metadata": {
    "collapsed": false
   }
  },
  {
   "cell_type": "code",
   "execution_count": null,
   "outputs": [],
   "source": [],
   "metadata": {
    "collapsed": false
   }
  }
 ],
 "metadata": {
  "kernelspec": {
   "name": "mne12",
   "language": "python",
   "display_name": "Python(mne12)"
  },
  "language_info": {
   "codemirror_mode": {
    "name": "ipython",
    "version": 2
   },
   "file_extension": ".py",
   "mimetype": "text/x-python",
   "name": "python",
   "nbconvert_exporter": "python",
   "pygments_lexer": "ipython2",
   "version": "2.7.6"
  }
 },
 "nbformat": 4,
 "nbformat_minor": 0
}
