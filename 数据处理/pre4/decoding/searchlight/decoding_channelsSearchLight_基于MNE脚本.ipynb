{
 "cells": [
  {
   "cell_type": "markdown",
   "source": [
    "## 参考文献\n",
    "\n",
    "https://users.aalto.fi/~vanvlm1/mne-rsa/auto_examples/plot_sensor_level.html\n",
    "\n",
    "\n",
    "http://www.pymvpa.org/examples.html#chap-examples\n",
    "http://www.pymvpa.org/tutorial_eventrelated_searchlight.html#chap-tutorial-eventrelated-searchlight\n",
    "http://www.pymvpa.org/generated/mvpa2.measures.searchlight.Searchlight.html#mvpa2.measures.searchlight.Searchlight\n",
    "\n",
    "several toolboxes have been developed that\n",
    "implement the methods described in the rest of this paper; the PyMVPA toolbox (Hanke, Halchenko, Sederberg, Hanson, et al., 2009; www.pymvpa.org) handles both fMRI and M/EEG data using the open-source Python language (Hanke, Halchenko, Sederberg, Olivetti, et al., 2009)\n",
    "\n",
    "\n",
    "\n",
    "https://mne.tools/stable/auto_examples/decoding/linear_model_patterns.html#ex-linear-patterns\n"
   ],
   "metadata": {
    "collapsed": false
   }
  },
  {
   "cell_type": "code",
   "execution_count": null,
   "outputs": [],
   "source": [
    "import mne\n",
    "from mne import io, EvokedArray\n",
    "from mne.datasets import sample\n",
    "from mne.decoding import Vectorizer, get_coef\n",
    "\n",
    "from sklearn.preprocessing import StandardScaler\n",
    "from sklearn.linear_model import LogisticRegression\n",
    "from sklearn.pipeline import make_pipeline\n",
    "\n",
    "# import a linear classifier from mne.decoding\n",
    "from mne.decoding import LinearModel\n",
    "import numpy as np"
   ],
   "metadata": {
    "collapsed": false
   }
  },
  {
   "cell_type": "code",
   "execution_count": null,
   "outputs": [],
   "source": [
    "list_epochs_all = list()\n",
    "\n",
    "sub_ids = [\n",
    "\n",
    "    \"pre4008_y\",\"pre4009_y\",\"pre4010_y\",\"pre4011_y\",\"pre4012_y\",\"pre4013_y\",\n",
    "    \"pre4014_y\",\"pre4015_y\",\"pre4017_y\",\n",
    "    \"pre4021_y\",\"pre4022_y\",\"pre4023_y\",\"pre4026_y\",\"pre4027_y\",\"pre4028_y\",\"pre4029_y\",\"pre4030_y\",\n",
    "\n",
    "\n",
    "]\n",
    "sub_ids = [\n",
    "\n",
    "    \"pre4008_y\"\n",
    "\n",
    "]\n",
    "\n",
    "file_path = 'E:\\实验\\阅读困难\\数据处理\\pre4\\data\\\\6epoch_clean_RSA\\\\'\n",
    "\n",
    "for sub_id in sub_ids:\n",
    "    data_path = file_path + sub_id + '_RSA-epo.fif'\n",
    "    epochs_all = mne.read_epochs(fname=data_path)\n",
    "    #做decoding要考虑被试内每个条件试次一样，如果被试间不一样可以用循环来解决。\n",
    "    epochs_all.equalize_event_counts(method='mintime')\n",
    "    list_epochs_all.append(epochs_all)\n",
    "\n",
    "# 如果只想看某一部分的脑区,配合更改ndarray的维度\n",
    "# channels_nieye = ['M1','T7','P7','TP7','M2','T8','P8','TP8','CP5','CP6','C5','C6']\n",
    "# epochs_nieye = epochs_all.pick(picks=channels_nieye)\n",
    "\n",
    "'''\n",
    "思路，先求ERP，然后再给ndarray，然后再计算RDM\n",
    "'''"
   ],
   "metadata": {
    "collapsed": false
   }
  },
  {
   "cell_type": "code",
   "execution_count": null,
   "outputs": [],
   "source": [
    "epochs_sub0 = list_epochs_all[0]\n",
    "labels = epochs_sub0.events[:, -1]\n",
    "\n",
    "data_sub0 =  epochs_sub0.get_data().reshape(len(labels), -1)\n",
    "\n",
    "clf = LogisticRegression(solver=\"liblinear\")  # liblinear is faster than lbfgs\n",
    "scaler = StandardScaler()\n",
    "\n",
    "# create a linear model with LogisticRegression\n",
    "model = LinearModel(clf)\n",
    "\n",
    "# fit the classifier on MEG data\n",
    "X = scaler.fit_transform(data_sub0)\n",
    "model.fit(X, labels)"
   ],
   "metadata": {
    "collapsed": false
   }
  },
  {
   "cell_type": "code",
   "execution_count": null,
   "outputs": [],
   "source": [
    "# Extract and plot spatial filters and spatial patterns\n",
    "for name, coef in ((\"patterns\", model.patterns_), (\"filters\", model.filters_)):\n",
    "    # We fitted the linear model onto Z-scored data. To make the filters\n",
    "    # interpretable, we must reverse this normalization step\n",
    "    coef = scaler.inverse_transform([coef])[0]\n",
    "\n",
    "    # The data was vectorized to fit a single model across all time points and\n",
    "    # all channels. We thus reshape it:\n",
    "    coef = coef.reshape(len(epochs.ch_names), -1)\n",
    "\n",
    "    # Plot\n",
    "    evoked = EvokedArray(coef, epochs.info, tmin=epochs.tmin)\n",
    "    fig = evoked.plot_topomap()\n",
    "    fig.suptitle(f\"MEG {name}\")"
   ],
   "metadata": {
    "collapsed": false
   }
  },
  {
   "cell_type": "code",
   "execution_count": null,
   "outputs": [],
   "source": [],
   "metadata": {
    "collapsed": false
   }
  }
 ],
 "metadata": {
  "kernelspec": {
   "name": "mne12",
   "language": "python",
   "display_name": "Python(mne12)"
  },
  "language_info": {
   "codemirror_mode": {
    "name": "ipython",
    "version": 2
   },
   "file_extension": ".py",
   "mimetype": "text/x-python",
   "name": "python",
   "nbconvert_exporter": "python",
   "pygments_lexer": "ipython2",
   "version": "2.7.6"
  }
 },
 "nbformat": 4,
 "nbformat_minor": 0
}
