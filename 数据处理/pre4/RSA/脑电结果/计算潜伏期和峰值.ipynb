{
 "cells": [
  {
   "cell_type": "markdown",
   "source": [
    "\n"
   ],
   "metadata": {
    "collapsed": false
   }
  },
  {
   "cell_type": "code",
   "execution_count": null,
   "outputs": [],
   "source": [
    "\n",
    "'''\n",
    "\n",
    "\n",
    "\n",
    "'''\n",
    "\n",
    "\n",
    "\n",
    "\n",
    "import numpy as np\n",
    "def find_max_corr(corrs, ps):\n",
    "    \"\"\"\n",
    "    Find the maximum correlation and its time point for each subject,\n",
    "    only considering time points where the corresponding value in ps is 1.\n",
    "\n",
    "    Parameters\n",
    "    ----------\n",
    "    corrs : ndarray, shape (n_subjects, n_timepoints, 2)\n",
    "        The correlations for each subject at each time point.\n",
    "        The third dimension contains the r value and p value.\n",
    "    ps : ndarray, shape (n_timepoints,)\n",
    "        The significance of each time point, represented as 0 or 1.\n",
    "\n",
    "    Returns\n",
    "    -------\n",
    "    max_corrs : ndarray, shape (n_subjects,)\n",
    "        The maximum correlations for each subject.\n",
    "    max_times : ndarray, shape (n_subjects,)\n",
    "        The time point of the maximum correlation for each subject.\n",
    "    \"\"\"\n",
    "\n",
    "    n_subjects, n_timepoints, _ = corrs.shape\n",
    "    max_corrs = np.zeros(n_subjects)\n",
    "    max_times = np.zeros(n_subjects)\n",
    "\n",
    "    for i in range(n_subjects):\n",
    "        # Mask the correlation array using the ps array\n",
    "        masked_corrs = corrs[i, :, 0] * ps\n",
    "        # Find the maximum correlation and its time point\n",
    "        max_corr = np.max(masked_corrs)\n",
    "        max_time = np.argmax(masked_corrs)\n",
    "        # Store the results\n",
    "        max_corrs[i] = max_corr\n",
    "        max_times[i] = max_time\n",
    "\n",
    "    return max_corrs, max_times\n"
   ],
   "metadata": {
    "collapsed": false
   }
  },
  {
   "cell_type": "markdown",
   "source": [
    "## corrs_EEGvsFuyin_DD"
   ],
   "metadata": {
    "collapsed": false
   }
  },
  {
   "cell_type": "code",
   "execution_count": 22,
   "outputs": [],
   "source": [
    "corrs_EEGvsFuyin_DD = np.load('corrs_EEGvsFuyin_DD.npy')\n",
    "\n",
    "'''\n",
    "gpt:\n",
    "\n",
    "我有两个数据,数据corrs_EEGvsFuyin_DD结构为 ndarray(17,191,2) ,其中17是被试 191是时间点, 2保存了r值和p值. 数据2ps_EEGvsFuyin_DD的结构为 ndarray(191,)里面的值都是0 1\n",
    "\n",
    "我想要计算corrs_EEGvsFuyin_DD每个被试,在这191个时间点上r的极大值,返回极大值 和时间点. 但是有一个前提,对应的2ps_EEGvsFuyin_DD值必须是1而不是0,  相当于是用2ps_EEGvsFuyin_DD来限定了找极值的范围\n",
    "\n",
    "写成函数的形式\n",
    "'''\n",
    "ps_EEGvsFuyin_DD  =  np.load('ps_EEGvsFuyin_DD.npy')\n",
    "\n",
    "max_corrs, max_times = find_max_corr(corrs_EEGvsFuyin_DD,ps_EEGvsFuyin_DD)\n",
    "'''\n",
    "转化一下 从时间窗口数 转化为窗口中心对应的时间.\n",
    "'''\n",
    "max_times = (max_times-1)*0.005+0.05-0.0025\n",
    "import pandas as pd\n",
    "sub_ids = [\n",
    "            'pre4010_y','pre4012_y','pre4013_y','pre4015_y','pre4017_y','pre4018_y','pre4019_y','pre4021_y','pre4022_y','pre4023_y','pre4026_y','pre4027_y','pre4030_y',\n",
    "          ]\n",
    "# 创建一个 DataFrame 来保存数据\n",
    "df = pd.DataFrame({\n",
    "    'max_corrs': max_corrs,\n",
    "    'max_times': max_times\n",
    "})\n",
    "\n",
    "# 将 DataFrame 写入 Excel 文件\n",
    "df.to_excel(\"results.xlsx\", index=False)\n",
    "df = pd.DataFrame({\n",
    "    'subject_id_DD': sub_ids,\n",
    "    'max_corrs_EEGvsFuyin_DD': max_corrs,\n",
    "    'max_times': max_times\n",
    "})\n",
    "\n",
    "# 将 DataFrame 写入 Excel 文件\n",
    "df.to_excel(\"max_corrs_EEGvsFuyin_DD.xlsx\", index=False)\n"
   ],
   "metadata": {
    "collapsed": false,
    "ExecuteTime": {
     "end_time": "2023-05-24T03:02:04.922343300Z",
     "start_time": "2023-05-24T03:02:04.877463300Z"
    }
   }
  },
  {
   "cell_type": "markdown",
   "source": [
    "## corrs_EEGvsFuyin_behavior_DD\n"
   ],
   "metadata": {
    "collapsed": false
   }
  },
  {
   "cell_type": "code",
   "execution_count": 21,
   "outputs": [],
   "source": [
    "corrs_EEGvsFuyin_DD = np.load('corrs_EEGvsFuyin_behavior_DD.npy')\n",
    "ps_EEGvsFuyin_DD  =  np.load('ps_corrs_EEGvsFuyin_behavior_DD.npy')\n",
    "'''\n",
    "gpt:\n",
    "\n",
    "我有两个数据,数据corrs_EEGvsFuyin_DD结构为 ndarray(17,191,2) ,其中17是被试 191是时间点, 2保存了r值和p值. 数据2ps_EEGvsFuyin_DD的结构为 ndarray(191,)里面的值都是0 1\n",
    "\n",
    "我想要计算corrs_EEGvsFuyin_DD每个被试,在这191个时间点上r的极大值,返回极大值 和时间点. 但是有一个前提,对应的2ps_EEGvsFuyin_DD值必须是1而不是0,  相当于是用2ps_EEGvsFuyin_DD来限定了找极值的范围\n",
    "\n",
    "写成函数的形式\n",
    "'''\n",
    "\n",
    "\n",
    "max_corrs, max_times = find_max_corr(corrs_EEGvsFuyin_DD,ps_EEGvsFuyin_DD)\n",
    "'''\n",
    "转化一下 从时间窗口数 转化为窗口中心对应的时间.\n",
    "'''\n",
    "max_times = (max_times-1)*0.005+0.05-0.0025\n",
    "import pandas as pd\n",
    "# DD组\n",
    "sub_ids = [\n",
    "            'pre4010_y','pre4012_y','pre4013_y','pre4015_y','pre4017_y','pre4018_y','pre4019_y','pre4021_y','pre4022_y','pre4023_y','pre4026_y','pre4027_y','pre4030_y',\n",
    "          ]\n",
    "# 创建一个 DataFrame 来保存数据\n",
    "df = pd.DataFrame({\n",
    "    'max_corrs': max_corrs,\n",
    "    'max_times': max_times\n",
    "})\n",
    "\n",
    "# 将 DataFrame 写入 Excel 文件\n",
    "df.to_excel(\"results.xlsx\", index=False)\n",
    "df = pd.DataFrame({\n",
    "    'subject_id_DD': sub_ids,\n",
    "    'max_corrs_EEGvsFuyin_DD': max_corrs,\n",
    "    'max_times': max_times\n",
    "})\n",
    "\n",
    "# 将 DataFrame 写入 Excel 文件\n",
    "df.to_excel(\"max_corrs_EEGvsFuyin_behavior_DD.xlsx\", index=False)\n"
   ],
   "metadata": {
    "collapsed": false,
    "ExecuteTime": {
     "end_time": "2023-05-24T03:02:02.922649900Z",
     "start_time": "2023-05-24T03:02:02.876742400Z"
    }
   }
  },
  {
   "cell_type": "markdown",
   "source": [
    "## corrs_EEGvsFuyin_behavior_非DD"
   ],
   "metadata": {
    "collapsed": false
   }
  },
  {
   "cell_type": "code",
   "execution_count": 20,
   "outputs": [],
   "source": [
    "corrs_EEGvsFuyin_DD = np.load('corrs_EEGvsFuyin_behavior_非DD.npy')\n",
    "ps_EEGvsFuyin_DD  =  np.load('ps_corrs_EEGvsFuyin_behavior_非DD.npy')\n",
    "'''\n",
    "gpt:\n",
    "\n",
    "我有两个数据,数据corrs_EEGvsFuyin_DD结构为 ndarray(17,191,2) ,其中17是被试 191是时间点, 2保存了r值和p值. 数据2ps_EEGvsFuyin_DD的结构为 ndarray(191,)里面的值都是0 1\n",
    "\n",
    "我想要计算corrs_EEGvsFuyin_DD每个被试,在这191个时间点上r的极大值,返回极大值 和时间点. 但是有一个前提,对应的2ps_EEGvsFuyin_DD值必须是1而不是0,  相当于是用2ps_EEGvsFuyin_DD来限定了找极值的范围\n",
    "\n",
    "写成函数的形式\n",
    "'''\n",
    "\n",
    "\n",
    "max_corrs, max_times = find_max_corr(corrs_EEGvsFuyin_DD,ps_EEGvsFuyin_DD)\n",
    "'''\n",
    "转化一下 从时间窗口数 转化为窗口中心对应的时间.\n",
    "'''\n",
    "max_times = (max_times-1)*0.005+0.05-0.0025\n",
    "import pandas as pd\n",
    "# 非DD组\n",
    "sub_ids = [\n",
    "           'pre4008_y','pre4009_y','pre4011_y','pre4014_y','pre4028_y','pre4029_y'\n",
    "         ]\n",
    "# 创建一个 DataFrame 来保存数据\n",
    "df = pd.DataFrame({\n",
    "    'max_corrs': max_corrs,\n",
    "    'max_times': max_times\n",
    "})\n",
    "\n",
    "# 将 DataFrame 写入 Excel 文件\n",
    "df.to_excel(\"results.xlsx\", index=False)\n",
    "df = pd.DataFrame({\n",
    "    'subject_id_DD': sub_ids,\n",
    "    'max_corrs_EEGvsFuyin_DD': max_corrs,\n",
    "    'max_times': max_times\n",
    "})\n",
    "\n",
    "# 将 DataFrame 写入 Excel 文件\n",
    "df.to_excel(\"max_corrs_EEGvsFuyin_behavior_非DD.xlsx\", index=False)\n"
   ],
   "metadata": {
    "collapsed": false,
    "ExecuteTime": {
     "end_time": "2023-05-24T03:02:00.704824700Z",
     "start_time": "2023-05-24T03:02:00.660942600Z"
    }
   }
  },
  {
   "cell_type": "code",
   "execution_count": null,
   "outputs": [],
   "source": [],
   "metadata": {
    "collapsed": false
   }
  }
 ],
 "metadata": {
  "kernelspec": {
   "name": "python3",
   "language": "python",
   "display_name": "Python 3 (ipykernel)"
  },
  "language_info": {
   "codemirror_mode": {
    "name": "ipython",
    "version": 2
   },
   "file_extension": ".py",
   "mimetype": "text/x-python",
   "name": "python",
   "nbconvert_exporter": "python",
   "pygments_lexer": "ipython2",
   "version": "2.7.6"
  }
 },
 "nbformat": 4,
 "nbformat_minor": 0
}
