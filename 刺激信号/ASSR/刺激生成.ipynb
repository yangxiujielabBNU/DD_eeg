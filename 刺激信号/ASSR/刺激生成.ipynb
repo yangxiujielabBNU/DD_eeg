{
 "cells": [
  {
   "cell_type": "code",
   "execution_count": 1,
   "metadata": {
    "collapsed": true,
    "pycharm": {
     "name": "#%%\n"
    }
   },
   "outputs": [],
   "source": [
    "'''\n",
    "https://scialicia.com/2018/08/python-frequency-modulation-with-numpy/\n",
    "\n",
    "'''\n",
    "import numpy as np\n",
    "from scipy.io.wavfile import write\n",
    "import sounddevice as sd\n",
    "import time"
   ]
  },
  {
   "cell_type": "code",
   "execution_count": 2,
   "outputs": [],
   "source": [
    "# Samples per second\n",
    "sps = 44100\n",
    "\n",
    "# Duration\n",
    "duration_s = 5.0\n",
    "\n",
    "# ac: amplitude of the carrier. Should be kept at 1.0 in this script\n",
    "# you would modify it if you were micing it with, or modulating other,\n",
    "# waveforms.\n",
    "\n",
    "# carrier_hz: Frequency of the carrier\n",
    "# fm_hz: Frequency of the frequency modulator\n",
    "# k_p: deviation constant\n",
    "carrier_amplitude = 1.0\n",
    "carrier_hz = 440.0\n",
    "fm_hz = 220.0\n",
    "k = 25.0\n",
    "\n",
    "# Our final waveform is going to be calculated as the cosine of carrier and\n",
    "# frequency modulated terms.\n",
    "\n",
    "# First, define our range of sample numbers\n",
    "each_sample_number = np.arange(duration_s * sps)\n",
    "\n",
    "# Create the term that create the carrier\n",
    "carrier = 2 * np.pi * each_sample_number * carrier_hz / sps\n",
    "\n",
    "# Now create the term that is the frequency modulator\n",
    "modulator = k * np.sin(2 * np.pi * each_sample_number * fm_hz / sps)\n",
    "\n",
    "# Now create the modulated waveform, and attenuate it\n",
    "waveform = np.cos(carrier + modulator)\n",
    "waveform_quiet = waveform * 0.3\n",
    "\n",
    "# Adjust amplitude of waveform and write the .wav file.\n",
    "waveform_integers = np.int16(waveform_quiet * 32767)\n",
    "write('fm-out.wav', sps, waveform_integers)\n",
    "\n",
    "# Play the waveform out the speakers\n",
    "sd.play(waveform_quiet, sps)\n",
    "time.sleep(duration_s)\n",
    "sd.stop()"
   ],
   "metadata": {
    "collapsed": false,
    "pycharm": {
     "name": "#%%\n"
    }
   }
  },
  {
   "cell_type": "code",
   "execution_count": null,
   "outputs": [],
   "source": [],
   "metadata": {
    "collapsed": false,
    "pycharm": {
     "name": "#%%\n"
    }
   }
  }
 ],
 "metadata": {
  "kernelspec": {
   "name": "pycharm-284b30fe",
   "language": "python",
   "display_name": "PyCharm (贝叶斯)"
  },
  "language_info": {
   "codemirror_mode": {
    "name": "ipython",
    "version": 2
   },
   "file_extension": ".py",
   "mimetype": "text/x-python",
   "name": "python",
   "nbconvert_exporter": "python",
   "pygments_lexer": "ipython2",
   "version": "2.7.6"
  }
 },
 "nbformat": 4,
 "nbformat_minor": 0
}