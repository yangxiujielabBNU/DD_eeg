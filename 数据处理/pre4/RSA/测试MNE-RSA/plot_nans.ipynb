{
 "cells": [
  {
   "cell_type": "code",
   "execution_count": 1,
   "metadata": {
    "collapsed": false,
    "ExecuteTime": {
     "end_time": "2023-05-28T11:00:28.797376900Z",
     "start_time": "2023-05-28T11:00:24.876775600Z"
    }
   },
   "outputs": [],
   "source": [
    "%matplotlib inline"
   ]
  },
  {
   "cell_type": "markdown",
   "metadata": {},
   "source": [
    "\n",
    "# Sensor-level RSA using a searchlight\n",
    "\n",
    "This example demonstrates how to perform representational similarity analysis\n",
    "(RSA) on EEG data, using a searchlight approach.\n",
    "\n",
    "In the searchlight approach, representational similarity is computed between\n",
    "the model and searchlight \"patches\". A patch is defined by a seed point (e.g.\n",
    "sensor Pz) and everything within the given radius (e.g. all sensors within 4\n",
    "cm. of Pz). Patches are created for all possible seed points (e.g. all\n",
    "sensors), so you can think of it as a \"searchlight\" that moves from seed\n",
    "point to seed point and everything that is in the spotlight is used in the\n",
    "computation.\n",
    "\n",
    "The radius of a searchlight can be defined in space, in time, or both. In\n",
    "this example, our searchlight will have a spatial radius of 4.5 cm. and a\n",
    "temporal radius of 50 ms.\n",
    "\n",
    "The dataset will be the kiloword dataset [1]_: approximately 1,000 words were\n",
    "presented to 75 participants in a go/no-go lexical decision task while\n",
    "event-related potentials (ERPs) were recorded.\n",
    "\n",
    ".. [1] Dufau, S., Grainger, J., Midgley, KJ., Holcomb, PJ (2015). A thousand\n",
    "       words are worth a picture: Snapshots of printed-word processing in an\n",
    "       event-related potential megastudy. Psychological science.\n"
   ]
  },
  {
   "cell_type": "code",
   "execution_count": 9,
   "metadata": {
    "collapsed": false,
    "ExecuteTime": {
     "end_time": "2023-05-28T11:02:36.126749300Z",
     "start_time": "2023-05-28T11:02:34.400868300Z"
    }
   },
   "outputs": [],
   "source": [
    "# sphinx_gallery_thumbnail_number=2\n",
    "\n",
    "# Import required packages\n",
    "import mne\n",
    "import mne_rsa"
   ]
  },
  {
   "cell_type": "markdown",
   "metadata": {},
   "source": [
    "MNE-Python contains a build-in data loader for the kiloword dataset. We use\n",
    "it here to read it as 960 epochs. Each epoch represents the brain response to\n",
    "a single word, averaged across all the participants. For this example, we\n",
    "speed up the computation, at a cost of temporal precision, by downsampling\n",
    "the data from the original 250 Hz. to 100 Hz.\n",
    "\n"
   ]
  },
  {
   "cell_type": "code",
   "execution_count": 10,
   "metadata": {
    "collapsed": false,
    "ExecuteTime": {
     "end_time": "2023-05-28T11:02:43.816589300Z",
     "start_time": "2023-05-28T11:02:40.279653Z"
    }
   },
   "outputs": [
    {
     "name": "stdout",
     "output_type": "stream",
     "text": [
      "Reading C:\\Users\\SilverBullet\\mne_data\\MNE-kiloword-data\\kword_metadata-epo.fif ...\n",
      "Isotrak not found\n",
      "    Found the data of interest:\n",
      "        t =    -100.00 ...     920.00 ms\n",
      "        0 CTF compensation matrices available\n",
      "Adding metadata with 8 columns\n",
      "960 matching events found\n",
      "No baseline correction applied\n",
      "0 projection items activated\n",
      "Dropped 4 epochs: 0, 10, 20, 100\n",
      "Creating temporal searchlight patches\n"
     ]
    }
   ],
   "source": [
    "data_path = mne.datasets.kiloword.data_path(verbose=True)\n",
    "epochs = mne.read_epochs(data_path / 'kword_metadata-epo.fif')\n",
    "epochs = epochs.resample(100)\n",
    "\n",
    "# Drop some\n",
    "epochs.drop([0, 10, 20, 100], reason='BAD')\n",
    "\n",
    "dsms = mne_rsa.dsm_epochs(\n",
    "    epochs,\n",
    "    spatial_radius=None,\n",
    "    temporal_radius=0.05,\n",
    "    dropped_as_nan=True,\n",
    ")\n",
    "\n",
    "dsm = next(dsms)"
   ]
  },
  {
   "cell_type": "markdown",
   "metadata": {},
   "source": [
    "The kiloword datas was erroneously stored with sensor locations given in\n",
    "centimeters instead of meters. We will fix it now. For your own data, the\n",
    "sensor locations are likely properly stored in meters, so you can skip this\n",
    "step.\n",
    "\n"
   ]
  },
  {
   "cell_type": "code",
   "execution_count": 11,
   "metadata": {
    "collapsed": false,
    "ExecuteTime": {
     "end_time": "2023-05-28T11:02:59.818980500Z",
     "start_time": "2023-05-28T11:02:59.789089Z"
    }
   },
   "outputs": [],
   "source": [
    "for ch in epochs.info['chs']:\n",
    "    ch['loc'] /= 100"
   ]
  },
  {
   "cell_type": "code",
   "execution_count": null,
   "outputs": [],
   "source": [],
   "metadata": {
    "collapsed": false
   }
  }
 ],
 "metadata": {
  "kernelspec": {
   "name": "mne12",
   "language": "python",
   "display_name": "Python(mne12)"
  },
  "language_info": {
   "codemirror_mode": {
    "name": "ipython",
    "version": 3
   },
   "file_extension": ".py",
   "mimetype": "text/x-python",
   "name": "python",
   "nbconvert_exporter": "python",
   "pygments_lexer": "ipython3",
   "version": "3.9.13"
  }
 },
 "nbformat": 4,
 "nbformat_minor": 0
}
