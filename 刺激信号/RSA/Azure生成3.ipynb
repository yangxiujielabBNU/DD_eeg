{
 "cells": [
  {
   "cell_type": "markdown",
   "source": [],
   "metadata": {
    "collapsed": false
   }
  },
  {
   "cell_type": "code",
   "execution_count": 13,
   "outputs": [],
   "source": [
    "import time\n",
    "import azure.cognitiveservices.speech as speechsdk\n",
    "import numpy as np"
   ],
   "metadata": {
    "collapsed": false
   }
  },
  {
   "cell_type": "markdown",
   "source": [],
   "metadata": {
    "collapsed": false
   }
  },
  {
   "cell_type": "markdown",
   "source": [
    "## 语音合成\n",
    "### 设置语音合成参数"
   ],
   "metadata": {
    "collapsed": false
   }
  },
  {
   "cell_type": "code",
   "execution_count": 14,
   "outputs": [],
   "source": [
    "# 设置语音合成参数\n",
    "# 这个是你自己在azure网站上对应的资源 秘钥 和 region设定,保持一致\n",
    "speech_config = speechsdk.SpeechConfig(subscription=\"2f22ac9097ae424bb8c61310328abc43\", region=\"eastus\")\n",
    "'''\n",
    "SpeechSynthesisOutputFormat Enum  没有wav格式吗\n",
    "在 Web Speech API 中，SpeechSynthesisOutputFormat 枚举并不支持直接生成 WAV 格式的语音输出。但是，可以使用其他格式，例如 MP3、OGG 或 PCM 等，然后将其转换为 WAV 格式。\n",
    "\n",
    "要使用 Web Speech API 将文本转换为其他格式的语音，您需要首先实例化 SpeechSynthesisUtterance 对象，然后将其传递给 SpeechSynthesis.speak() 方法。您可以在 SpeechSynthesisUtterance 对象上设置不同的属性，以自定义语音输出，例如语音速度、音量、语音语言等。\n",
    "\n",
    "在 SpeechSynthesisUtterance 对象上，您可以使用 SpeechSynthesisAudioDestinationNode 接口来将语音输出到 PCM 或其他格式。然后，您可以使用音频处理库（例如 ffmpeg）将 PCM 转换为 WAV 格式。\n",
    "'''\n",
    "speech_config.set_speech_synthesis_output_format(speechsdk.SpeechSynthesisOutputFormat.Audio48Khz192KBitRateMonoMp3\n",
    ")\n",
    "#这两个可以不要了,在SSML中设置,留个秘钥就行了.\n",
    "#speech_config.speech_synthesis_language = \"zh-CN\"\n",
    "# speech_config.speech_synthesis_voice_name =\"zh-CN-XiaomoNeural\"\n",
    "\n",
    "# 生成的时候是否发声,方便测试的.\n",
    "audio_config = speechsdk.audio.AudioOutputConfig(use_default_speaker=True)\n",
    "# 如果要听声音\n",
    "# synthesizer = speechsdk.SpeechSynthesizer(speech_config=speech_config, audio_config=audio_config)\n",
    "# 如果不想听声音\n",
    "synthesizer = speechsdk.SpeechSynthesizer(speech_config=speech_config, audio_config=None)"
   ],
   "metadata": {
    "collapsed": false
   }
  },
  {
   "cell_type": "markdown",
   "source": [
    "### 单个音节的生成\n"
   ],
   "metadata": {
    "collapsed": false
   }
  },
  {
   "cell_type": "code",
   "execution_count": 20,
   "outputs": [],
   "source": [
    "'''\n",
    "单个音节文件的生成\n",
    "'''\n",
    "#注意 SSML的优先级更高。\n",
    "ssml_string = open(\"RSA.xml\", \"r\").read()\n",
    "result = synthesizer.speak_ssml_async(ssml_string).get()\n",
    "\n",
    "stream = speechsdk.AudioDataStream(result)\n",
    "stream.save_to_wav_file(\"ji1.wav\")\n"
   ],
   "metadata": {
    "collapsed": false
   }
  },
  {
   "cell_type": "markdown",
   "source": [
    "#### 修改成想要的音节"
   ],
   "metadata": {
    "collapsed": false
   }
  },
  {
   "cell_type": "code",
   "execution_count": 23,
   "outputs": [
    {
     "name": "stderr",
     "output_type": "stream",
     "text": [
      "Exception ignored in: <function AudioDataStream.__del__ at 0x0000021A3767A0D0>\n",
      "Traceback (most recent call last):\n",
      "  File \"C:\\Users\\SilverBullet\\AppData\\Roaming\\Python\\Python39\\site-packages\\azure\\cognitiveservices\\speech\\speech.py\", line 1993, in __del__\n",
      "    self.detach_input()\n",
      "  File \"C:\\Users\\SilverBullet\\AppData\\Roaming\\Python\\Python39\\site-packages\\azure\\cognitiveservices\\speech\\speech.py\", line 2094, in detach_input\n",
      "    _call_hr_fn(fn=_sdk_lib.audio_data_stream_detach_input, *[self._handle])\n",
      "  File \"C:\\Users\\SilverBullet\\AppData\\Roaming\\Python\\Python39\\site-packages\\azure\\cognitiveservices\\speech\\speech.py\", line 1990, in _handle\n",
      "    return self.__handle.get()\n",
      "AttributeError: 'AudioDataStream' object has no attribute '_AudioDataStream__handle'\n",
      "Exception ignored in: <function AudioDataStream.__del__ at 0x0000021A3767A0D0>\n",
      "Traceback (most recent call last):\n",
      "  File \"C:\\Users\\SilverBullet\\AppData\\Roaming\\Python\\Python39\\site-packages\\azure\\cognitiveservices\\speech\\speech.py\", line 1993, in __del__\n",
      "    self.detach_input()\n",
      "  File \"C:\\Users\\SilverBullet\\AppData\\Roaming\\Python\\Python39\\site-packages\\azure\\cognitiveservices\\speech\\speech.py\", line 2094, in detach_input\n",
      "    _call_hr_fn(fn=_sdk_lib.audio_data_stream_detach_input, *[self._handle])\n",
      "  File \"C:\\Users\\SilverBullet\\AppData\\Roaming\\Python\\Python39\\site-packages\\azure\\cognitiveservices\\speech\\speech.py\", line 1990, in _handle\n",
      "    return self.__handle.get()\n",
      "AttributeError: 'AudioDataStream' object has no attribute '_AudioDataStream__handle'\n",
      "Exception ignored in: <function AudioDataStream.__del__ at 0x0000021A3767A0D0>\n",
      "Traceback (most recent call last):\n",
      "  File \"C:\\Users\\SilverBullet\\AppData\\Roaming\\Python\\Python39\\site-packages\\azure\\cognitiveservices\\speech\\speech.py\", line 1993, in __del__\n",
      "    self.detach_input()\n",
      "  File \"C:\\Users\\SilverBullet\\AppData\\Roaming\\Python\\Python39\\site-packages\\azure\\cognitiveservices\\speech\\speech.py\", line 2094, in detach_input\n",
      "    _call_hr_fn(fn=_sdk_lib.audio_data_stream_detach_input, *[self._handle])\n",
      "  File \"C:\\Users\\SilverBullet\\AppData\\Roaming\\Python\\Python39\\site-packages\\azure\\cognitiveservices\\speech\\speech.py\", line 1990, in _handle\n",
      "    return self.__handle.get()\n",
      "AttributeError: 'AudioDataStream' object has no attribute '_AudioDataStream__handle'\n"
     ]
    },
    {
     "name": "stdout",
     "output_type": "stream",
     "text": [
      "<speak xmlns=\"http://www.w3.org/2001/10/synthesis\"  version=\"1.0\" xml:lang=\"zh-CN\">\n",
      "  <voice name=\"zh-CN-XiaoxuanNeural\">\n",
      "    <prosody rate=\"0%\" pitch=\"0%\" volume=\"+500%\">\n",
      "      <phoneme alphabet=\"sapi\" ph=\"pa 1\"></phoneme>\n",
      "    </prosody>\n",
      "  </voice>\n",
      "</speak>\n",
      "\n",
      "\n",
      "<speak xmlns=\"http://www.w3.org/2001/10/synthesis\"  version=\"1.0\" xml:lang=\"zh-CN\">\n",
      "  <voice name=\"zh-CN-XiaoxuanNeural\">\n",
      "    <prosody rate=\"0%\" pitch=\"0%\" volume=\"+500%\">\n",
      "      <phoneme alphabet=\"sapi\" ph=\"ba 1\"></phoneme>\n",
      "    </prosody>\n",
      "  </voice>\n",
      "</speak>\n",
      "\n",
      "\n"
     ]
    },
    {
     "ename": "ValueError",
     "evalue": "result must be a SpeechSynthesisResult or KeywordRecognitionResult, is \"<azure.cognitiveservices.speech.ResultFuture object at 0x0000021A4970C0D0>\"",
     "output_type": "error",
     "traceback": [
      "\u001B[1;31m---------------------------------------------------------------------------\u001B[0m",
      "\u001B[1;31mValueError\u001B[0m                                Traceback (most recent call last)",
      "Cell \u001B[1;32mIn [23], line 21\u001B[0m\n\u001B[0;32m     18\u001B[0m \u001B[38;5;28mprint\u001B[39m(string)\n\u001B[0;32m     20\u001B[0m result \u001B[38;5;241m=\u001B[39m synthesizer\u001B[38;5;241m.\u001B[39mspeak_ssml_async(string)\n\u001B[1;32m---> 21\u001B[0m \u001B[43mspeechsdk\u001B[49m\u001B[38;5;241;43m.\u001B[39;49m\u001B[43mAudioDataStream\u001B[49m\u001B[43m(\u001B[49m\u001B[43mresult\u001B[49m\u001B[43m)\u001B[49m\n",
      "File \u001B[1;32m~\\AppData\\Roaming\\Python\\Python39\\site-packages\\azure\\cognitiveservices\\speech\\speech.py:1980\u001B[0m, in \u001B[0;36mAudioDataStream.__init__\u001B[1;34m(self, result)\u001B[0m\n\u001B[0;32m   1978\u001B[0m     _call_hr_fn(fn\u001B[38;5;241m=\u001B[39m_sdk_lib\u001B[38;5;241m.\u001B[39maudio_data_stream_create_from_keyword_result, \u001B[38;5;241m*\u001B[39m[ctypes\u001B[38;5;241m.\u001B[39mbyref(handle), result\u001B[38;5;241m.\u001B[39m_handle])\n\u001B[0;32m   1979\u001B[0m \u001B[38;5;28;01melse\u001B[39;00m:\n\u001B[1;32m-> 1980\u001B[0m     \u001B[38;5;28;01mraise\u001B[39;00m \u001B[38;5;167;01mValueError\u001B[39;00m(\n\u001B[0;32m   1981\u001B[0m         \u001B[38;5;124m'\u001B[39m\u001B[38;5;124mresult must be a SpeechSynthesisResult or KeywordRecognitionResult, is \u001B[39m\u001B[38;5;124m\"\u001B[39m\u001B[38;5;132;01m{}\u001B[39;00m\u001B[38;5;124m\"\u001B[39m\u001B[38;5;124m'\u001B[39m\u001B[38;5;241m.\u001B[39mformat(result))\n\u001B[0;32m   1982\u001B[0m \u001B[38;5;28mself\u001B[39m\u001B[38;5;241m.\u001B[39m__handle \u001B[38;5;241m=\u001B[39m _Handle(handle, _sdk_lib\u001B[38;5;241m.\u001B[39maudio_stream_is_handle_valid, _sdk_lib\u001B[38;5;241m.\u001B[39maudio_data_stream_release)\n\u001B[0;32m   1983\u001B[0m \u001B[38;5;28mself\u001B[39m\u001B[38;5;241m.\u001B[39m__cancellation_details \u001B[38;5;241m=\u001B[39m \u001B[38;5;28;01mNone\u001B[39;00m\n",
      "\u001B[1;31mValueError\u001B[0m: result must be a SpeechSynthesisResult or KeywordRecognitionResult, is \"<azure.cognitiveservices.speech.ResultFuture object at 0x0000021A4970C0D0>\""
     ]
    }
   ],
   "source": [
    "\n",
    "'''\n",
    "单个修改音节\n",
    "修改xml文件,生成对应的音节.\n",
    "\n",
    "\n",
    "这里之前采用过直接写string,但是发现问题很多,不如读 xml为string,再来定位修改关键参数.\n",
    "'''\n",
    "\n",
    "string = ssml_string\n",
    "print(string)\n",
    "keyword = \"ph=\\\"\"\n",
    "replacement = \"ba 1\"\n",
    "# 查询关键字并替换\n",
    "if keyword in string:\n",
    "    index = string.index(keyword) + len(keyword)\n",
    "    if string[index:index+4] == 'pa 1':\n",
    "        string = string[:index] + replacement + string[index+4:]\n",
    "print(string)\n",
    "\n",
    "result = synthesizer.speak_ssml_async(string)\n",
    "speechsdk.AudioDataStream(result)"
   ],
   "metadata": {
    "collapsed": false
   }
  },
  {
   "cell_type": "markdown",
   "source": [
    "#### 函数版本"
   ],
   "metadata": {
    "collapsed": false
   }
  },
  {
   "cell_type": "code",
   "execution_count": 24,
   "outputs": [
    {
     "data": {
      "text/plain": "<azure.cognitiveservices.speech.ResultFuture at 0x21a4977f880>"
     },
     "execution_count": 24,
     "metadata": {},
     "output_type": "execute_result"
    }
   ],
   "source": [
    "'''\n",
    "改成函数  修改音节函数\n",
    "'''\n",
    "import os\n",
    "current_filePath = 'E:\\实验\\阅读困难\\刺激信号\\RSA'\n",
    "os.chdir(current_filePath)\n",
    "\n",
    "def changeXML(string, keyword, replacement,):\n",
    "    # 查询关键字并替换\n",
    "    if keyword in string:\n",
    "        index = string.index(keyword) + len(keyword)\n",
    "        # 因为源文件里放的是'pa 1',有空格是因为azure的语法要求,只能带有..\n",
    "        if string[index:index + 4] == 'pa 1':\n",
    "            string = string[:index] + replacement + string[index + 4:]\n",
    "    return string\n",
    "\n",
    "ssml_string = open(\"RSA.xml\", \"r\").read()\n",
    "string = changeXML(string=ssml_string,keyword=\"ph=\\\"\",replacement = \"ba 1\")\n",
    "synthesizer.speak_ssml_async(string)"
   ],
   "metadata": {
    "collapsed": false
   }
  },
  {
   "cell_type": "markdown",
   "source": [
    "### 多个音节生成\n",
    "包括写出去中间结果."
   ],
   "metadata": {
    "collapsed": false
   }
  },
  {
   "cell_type": "code",
   "execution_count": 25,
   "outputs": [],
   "source": [
    "'''\n",
    "考虑生成多个文件,那就需要改变ssml_string中的值了.\n",
    "'''\n",
    "import time\n",
    "import random\n",
    "import os\n",
    "#先读进来一个模版,因为直接写会报错\n",
    "ssml_string = open(\"RSA.xml\", \"r\").read()\n",
    "\n",
    "list_yinjie = [\n",
    "    'ba 1', 'ba 2', 'ba 3', 'ba 4',\n",
    "    'pa 1', 'pa 2', 'pa 3', 'pa 4',\n",
    "    'da 1', 'da 2', 'da 3', 'da 4',\n",
    "    'ta 1', 'ta 2', 'ta 3', 'ta 4',\n",
    "    'ji 1', 'ji 4'\n",
    "]\n",
    "# list_yinjie = [\n",
    "#     'ba 1',\n",
    "# ]\n",
    "#查询ssml_string中对应的关键字,完成替换,比如查找'ph='开始的九个字符,\n",
    "Path_save = '声音刺激_未加工'\n",
    "# gpt:更改当前目录到子目录\n",
    "os.chdir(Path_save)\n",
    "for yinjie in list_yinjie:\n",
    "    XMLstring = changeXML(string=ssml_string,keyword=\"ph=\\\"\",replacement = yinjie)\n",
    "    #写出去\n",
    "    result = synthesizer.speak_ssml_async(XMLstring).get()\n",
    "    stream = speechsdk.AudioDataStream(result)\n",
    "    # 和音节名称保持一致,实际上不大好,这样子中间会有一个空格,比如pa 1.\n",
    "    # .mp3不是高保证文件,而且psychopy的builder不支持.mp3,最好用.wav;这就要求一开始的编码config设置就是wav对应的格式了.\n",
    "    name_yinjie = yinjie.replace(\" \", \"\")\n",
    "    folder_path = '声音刺激_未加工'\n",
    "\n",
    "    stream.save_to_wav_file(name_yinjie +\".mp3\")\n",
    "# 返回到上一级目录\n",
    "os.chdir(\"..\")"
   ],
   "metadata": {
    "collapsed": false
   }
  },
  {
   "cell_type": "markdown",
   "source": [
    "### 音频切割_单个音节\n",
    "想要去掉silent,'可可可以'师姐的方法需要耗费人力去标注,去听,你想试试机器的方法能否做到.\n"
   ],
   "metadata": {
    "collapsed": false
   }
  },
  {
   "cell_type": "code",
   "execution_count": null,
   "outputs": [],
   "source": [
    "'''\n",
    "gpt问题:\n",
    "如何截取声音文件的有效部分 去掉静音的部分\n",
    "\n",
    "https://github.com/jiaaro/pydub/blob/master/API.markdown\n",
    "API文档\n",
    "\n",
    "'''\n",
    "from pydub import AudioSegment\n",
    "from pydub.silence import split_on_silence\n",
    "\n",
    "# 设置关键参数,保持统一\n",
    "silence_thresh = -50\n",
    "# 对应的文件名\n",
    "\n",
    "# 读取声音文件\n",
    "sound = AudioSegment.from_mp3(\"pa1.mp3\")\n",
    "\n",
    "# 使用silence.split_on_silence()方法切割静音部分\n",
    "chunks = split_on_silence(sound,\n",
    "                          # silence_len: 静默段的长度阈值，小于该值的静默段将被忽略，默认是1000ms\n",
    "                          # silence_thresh: 静默段的阈值（dBFS），小于该值的声音段将被视为静默，默认是-16dBFS\n",
    "                          min_silence_len=50,\n",
    "                          silence_thresh=silence_thresh,\n",
    "                          keep_silence=False\n",
    "                          )\n",
    "\n",
    "print(chunks[0].duration_seconds)\n",
    "\n",
    "# 取出每个非静音部分\n",
    "non_silent_chunks = [chunk for chunk in chunks if len(chunk) > 0]\n",
    "\n",
    "# 拼接所有的非静音部分\n",
    "result = non_silent_chunks[0]\n",
    "\n",
    "for chunk in non_silent_chunks[1:]:\n",
    "    result += chunk\n",
    "# silence_thresh 和前面的split保持一致.\n",
    "result = result.strip_silence(silence_len = 1, padding=0, silence_thresh=silence_thresh)\n",
    "\n",
    "print(result.duration_seconds)\n",
    "# 输出结果\n",
    "# 必须是.wav,.MP3是会失真的.\n",
    "result.export(\"pa1_noSilent.wav\", format=\"wav\", )"
   ],
   "metadata": {
    "collapsed": false
   }
  },
  {
   "cell_type": "markdown",
   "source": [
    "#### 改成函数"
   ],
   "metadata": {
    "collapsed": false
   }
  },
  {
   "cell_type": "code",
   "execution_count": 29,
   "outputs": [
    {
     "ename": "CouldntDecodeError",
     "evalue": "Decoding failed. ffmpeg returned error code: 1\n\nOutput from ffmpeg/avlib:\n\nffmpeg version 5.1.2 Copyright (c) 2000-2022 the FFmpeg developers\r\n  built with clang version 15.0.7\r\n  configuration: --prefix=/d/bld/ffmpeg_1674566436592/_h_env/Library --cc=clang.exe --cxx=clang++.exe --nm=llvm-nm --ar=llvm-ar --disable-doc --disable-openssl --enable-demuxer=dash --enable-hardcoded-tables --enable-libfreetype --enable-libfontconfig --enable-libopenh264 --ld=lld-link --target-os=win64 --enable-cross-compile --toolchain=msvc --host-cc=clang.exe --extra-libs=ucrt.lib --extra-libs=vcruntime.lib --extra-libs=oldnames.lib --strip=llvm-strip --disable-stripping --host-extralibs= --enable-gpl --enable-libx264 --enable-libx265 --enable-libaom --enable-libsvtav1 --enable-libxml2 --enable-pic --enable-shared --disable-static --enable-version3 --enable-zlib --enable-libopus --pkg-config=/d/bld/ffmpeg_1674566436592/_build_env/Library/bin/pkg-config\r\n  libavutil      57. 28.100 / 57. 28.100\r\n  libavcodec     59. 37.100 / 59. 37.100\r\n  libavformat    59. 27.100 / 59. 27.100\r\n  libavdevice    59.  7.100 / 59.  7.100\r\n  libavfilter     8. 44.100 /  8. 44.100\r\n  libswscale      6.  7.100 /  6.  7.100\r\n  libswresample   4.  7.100 /  4.  7.100\r\n  libpostproc    56.  6.100 / 56.  6.100\r\n[mp3 @ 00000201EF6BD6C0] Failed to read frame size: Could not seek to 1026.\r\nba1.mp3: Invalid argument\r\n",
     "output_type": "error",
     "traceback": [
      "\u001B[1;31m---------------------------------------------------------------------------\u001B[0m",
      "\u001B[1;31mCouldntDecodeError\u001B[0m                        Traceback (most recent call last)",
      "Cell \u001B[1;32mIn [29], line 56\u001B[0m\n\u001B[0;32m     54\u001B[0m \u001B[38;5;66;03m# 设置关键参数,保持统一\u001B[39;00m\n\u001B[0;32m     55\u001B[0m silence_thresh \u001B[38;5;241m=\u001B[39m \u001B[38;5;241m-\u001B[39m\u001B[38;5;241m50\u001B[39m\n\u001B[1;32m---> 56\u001B[0m mp3File \u001B[38;5;241m=\u001B[39m \u001B[43msplit_mp3\u001B[49m\u001B[43m(\u001B[49m\u001B[43mcurrent_filePath\u001B[49m\u001B[38;5;241;43m=\u001B[39;49m\u001B[43mcurrent_filePath\u001B[49m\u001B[43m,\u001B[49m\u001B[43m \u001B[49m\u001B[43mname_read\u001B[49m\u001B[38;5;241;43m=\u001B[39;49m\u001B[43mname_read\u001B[49m\u001B[43m,\u001B[49m\u001B[43m \u001B[49m\u001B[43msilence_thresh\u001B[49m\u001B[38;5;241;43m=\u001B[39;49m\u001B[43msilence_thresh\u001B[49m\u001B[43m)\u001B[49m\n",
      "Cell \u001B[1;32mIn [29], line 8\u001B[0m, in \u001B[0;36msplit_mp3\u001B[1;34m(current_filePath, name_read, silence_thresh)\u001B[0m\n\u001B[0;32m      6\u001B[0m os\u001B[38;5;241m.\u001B[39mchdir(current_filePath)\n\u001B[0;32m      7\u001B[0m \u001B[38;5;66;03m# 读取声音文件\u001B[39;00m\n\u001B[1;32m----> 8\u001B[0m sound \u001B[38;5;241m=\u001B[39m \u001B[43mAudioSegment\u001B[49m\u001B[38;5;241;43m.\u001B[39;49m\u001B[43mfrom_mp3\u001B[49m\u001B[43m(\u001B[49m\u001B[43mname_read\u001B[49m\u001B[43m)\u001B[49m\n\u001B[0;32m      9\u001B[0m \u001B[38;5;66;03m# 使用silence.split_on_silence()方法切割静音部分\u001B[39;00m\n\u001B[0;32m     10\u001B[0m chunks \u001B[38;5;241m=\u001B[39m split_on_silence(sound,\n\u001B[0;32m     11\u001B[0m                           \u001B[38;5;66;03m# silence_len: 静默段的长度阈值，小于该值的静默段将被忽略，默认是1000ms\u001B[39;00m\n\u001B[0;32m     12\u001B[0m                           \u001B[38;5;66;03m# silence_thresh: 静默段的阈值（dBFS），小于该值的声音段将被视为静默，默认是-16dBFS\u001B[39;00m\n\u001B[1;32m   (...)\u001B[0m\n\u001B[0;32m     15\u001B[0m                           keep_silence\u001B[38;5;241m=\u001B[39m\u001B[38;5;28;01mFalse\u001B[39;00m\n\u001B[0;32m     16\u001B[0m                           )\n",
      "File \u001B[1;32m~\\AppData\\Roaming\\Python\\Python39\\site-packages\\pydub\\audio_segment.py:796\u001B[0m, in \u001B[0;36mAudioSegment.from_mp3\u001B[1;34m(cls, file, parameters)\u001B[0m\n\u001B[0;32m    794\u001B[0m \u001B[38;5;129m@classmethod\u001B[39m\n\u001B[0;32m    795\u001B[0m \u001B[38;5;28;01mdef\u001B[39;00m \u001B[38;5;21mfrom_mp3\u001B[39m(\u001B[38;5;28mcls\u001B[39m, file, parameters\u001B[38;5;241m=\u001B[39m\u001B[38;5;28;01mNone\u001B[39;00m):\n\u001B[1;32m--> 796\u001B[0m     \u001B[38;5;28;01mreturn\u001B[39;00m \u001B[38;5;28;43mcls\u001B[39;49m\u001B[38;5;241;43m.\u001B[39;49m\u001B[43mfrom_file\u001B[49m\u001B[43m(\u001B[49m\u001B[43mfile\u001B[49m\u001B[43m,\u001B[49m\u001B[43m \u001B[49m\u001B[38;5;124;43m'\u001B[39;49m\u001B[38;5;124;43mmp3\u001B[39;49m\u001B[38;5;124;43m'\u001B[39;49m\u001B[43m,\u001B[49m\u001B[43m \u001B[49m\u001B[43mparameters\u001B[49m\u001B[38;5;241;43m=\u001B[39;49m\u001B[43mparameters\u001B[49m\u001B[43m)\u001B[49m\n",
      "File \u001B[1;32m~\\AppData\\Roaming\\Python\\Python39\\site-packages\\pydub\\audio_segment.py:773\u001B[0m, in \u001B[0;36mAudioSegment.from_file\u001B[1;34m(cls, file, format, codec, parameters, start_second, duration, **kwargs)\u001B[0m\n\u001B[0;32m    771\u001B[0m     \u001B[38;5;28;01mif\u001B[39;00m close_file:\n\u001B[0;32m    772\u001B[0m         file\u001B[38;5;241m.\u001B[39mclose()\n\u001B[1;32m--> 773\u001B[0m     \u001B[38;5;28;01mraise\u001B[39;00m CouldntDecodeError(\n\u001B[0;32m    774\u001B[0m         \u001B[38;5;124m\"\u001B[39m\u001B[38;5;124mDecoding failed. ffmpeg returned error code: \u001B[39m\u001B[38;5;132;01m{0}\u001B[39;00m\u001B[38;5;130;01m\\n\u001B[39;00m\u001B[38;5;130;01m\\n\u001B[39;00m\u001B[38;5;124mOutput from ffmpeg/avlib:\u001B[39m\u001B[38;5;130;01m\\n\u001B[39;00m\u001B[38;5;130;01m\\n\u001B[39;00m\u001B[38;5;132;01m{1}\u001B[39;00m\u001B[38;5;124m\"\u001B[39m\u001B[38;5;241m.\u001B[39mformat(\n\u001B[0;32m    775\u001B[0m             p\u001B[38;5;241m.\u001B[39mreturncode, p_err\u001B[38;5;241m.\u001B[39mdecode(errors\u001B[38;5;241m=\u001B[39m\u001B[38;5;124m'\u001B[39m\u001B[38;5;124mignore\u001B[39m\u001B[38;5;124m'\u001B[39m) ))\n\u001B[0;32m    777\u001B[0m p_out \u001B[38;5;241m=\u001B[39m \u001B[38;5;28mbytearray\u001B[39m(p_out)\n\u001B[0;32m    778\u001B[0m fix_wav_headers(p_out)\n",
      "\u001B[1;31mCouldntDecodeError\u001B[0m: Decoding failed. ffmpeg returned error code: 1\n\nOutput from ffmpeg/avlib:\n\nffmpeg version 5.1.2 Copyright (c) 2000-2022 the FFmpeg developers\r\n  built with clang version 15.0.7\r\n  configuration: --prefix=/d/bld/ffmpeg_1674566436592/_h_env/Library --cc=clang.exe --cxx=clang++.exe --nm=llvm-nm --ar=llvm-ar --disable-doc --disable-openssl --enable-demuxer=dash --enable-hardcoded-tables --enable-libfreetype --enable-libfontconfig --enable-libopenh264 --ld=lld-link --target-os=win64 --enable-cross-compile --toolchain=msvc --host-cc=clang.exe --extra-libs=ucrt.lib --extra-libs=vcruntime.lib --extra-libs=oldnames.lib --strip=llvm-strip --disable-stripping --host-extralibs= --enable-gpl --enable-libx264 --enable-libx265 --enable-libaom --enable-libsvtav1 --enable-libxml2 --enable-pic --enable-shared --disable-static --enable-version3 --enable-zlib --enable-libopus --pkg-config=/d/bld/ffmpeg_1674566436592/_build_env/Library/bin/pkg-config\r\n  libavutil      57. 28.100 / 57. 28.100\r\n  libavcodec     59. 37.100 / 59. 37.100\r\n  libavformat    59. 27.100 / 59. 27.100\r\n  libavdevice    59.  7.100 / 59.  7.100\r\n  libavfilter     8. 44.100 /  8. 44.100\r\n  libswscale      6.  7.100 /  6.  7.100\r\n  libswresample   4.  7.100 /  4.  7.100\r\n  libpostproc    56.  6.100 / 56.  6.100\r\n[mp3 @ 00000201EF6BD6C0] Failed to read frame size: Could not seek to 1026.\r\nba1.mp3: Invalid argument\r\n"
     ]
    }
   ],
   "source": [
    "from pydub import AudioSegment\n",
    "from pydub.silence import split_on_silence\n",
    "\n",
    "def split_mp3(current_filePath, name_read, silence_thresh):\n",
    "\n",
    "    os.chdir(current_filePath)\n",
    "    # 读取声音文件\n",
    "    sound = AudioSegment.from_mp3(name_read)\n",
    "    # 使用silence.split_on_silence()方法切割静音部分\n",
    "    chunks = split_on_silence(sound,\n",
    "                              # silence_len: 静默段的长度阈值，小于该值的静默段将被忽略，默认是1000ms\n",
    "                              # silence_thresh: 静默段的阈值（dBFS），小于该值的声音段将被视为静默，默认是-16dBFS\n",
    "                              min_silence_len=50,\n",
    "                              silence_thresh=silence_thresh,\n",
    "                              keep_silence=False\n",
    "                              )\n",
    "\n",
    "\n",
    "\n",
    "    # 取出每个非静音部分\n",
    "    non_silent_chunks = [chunk for chunk in chunks if len(chunk) > 0]\n",
    "\n",
    "    # 拼接所有的非静音部分\n",
    "    result = non_silent_chunks[0]\n",
    "\n",
    "    for chunk in non_silent_chunks[1:]:\n",
    "        result += chunk\n",
    "    # silence_thresh 和前面的split保持一致.\n",
    "    # result = result.strip_silence(silence_len = 1, padding=0, silence_thresh=silence_thresh)#感觉没啥影响了.前面那个函数已经包含了掐头去尾的功能.keep_silence=False\n",
    "    # 在放到auditon中进行duration控制之前都记录一下时长.\n",
    "    print(name_read)\n",
    "    # print(chunks[0].duration_seconds)#和 result是一样的.\n",
    "    print(result.duration_seconds)\n",
    "    # 输出结果\n",
    "    name_save = list_yinjie[i]+'.wav'\n",
    "    result.export(name_save, format=\"wav\", )\n",
    "\n",
    "    # 可以用返回值来构造list?\n",
    "    return  result\n",
    "\n",
    "# 修改当前文件路径到音频所在的文件夹,因为AudioSegment函数不具有跳转文件夹功能.\n",
    "current_filePath = 'E:\\实验\\阅读困难\\刺激信号\\RSA\\声音刺激_未加工'\n",
    "os.chdir(current_filePath)\n",
    "list_yinjie = [\n",
    "    'ba1', 'ba2', 'ba3', 'ba4',\n",
    "    'pa1', 'pa2', 'pa3', 'pa4',\n",
    "    'da1', 'da2', 'da3', 'da4',\n",
    "    'ta1', 'ta2', 'ta3', 'ta4',\n",
    "]\n",
    "# 每个音频文件 增加.mp3后缀\n",
    "list_mp3 = [item + '.mp3' for item in list_yinjie]\n",
    "i = 0\n",
    "name_read = list_mp3[i]\n",
    "# 设置关键参数,保持统一\n",
    "silence_thresh = -50\n",
    "mp3File = split_mp3(current_filePath=current_filePath, name_read=name_read, silence_thresh=silence_thresh)\n",
    "\n"
   ],
   "metadata": {
    "collapsed": false
   }
  },
  {
   "cell_type": "markdown",
   "source": [
    "#### 批处理"
   ],
   "metadata": {
    "collapsed": false
   }
  },
  {
   "cell_type": "code",
   "execution_count": 28,
   "outputs": [
    {
     "ename": "CouldntDecodeError",
     "evalue": "Decoding failed. ffmpeg returned error code: 1\n\nOutput from ffmpeg/avlib:\n\nffmpeg version 5.1.2 Copyright (c) 2000-2022 the FFmpeg developers\r\n  built with clang version 15.0.7\r\n  configuration: --prefix=/d/bld/ffmpeg_1674566436592/_h_env/Library --cc=clang.exe --cxx=clang++.exe --nm=llvm-nm --ar=llvm-ar --disable-doc --disable-openssl --enable-demuxer=dash --enable-hardcoded-tables --enable-libfreetype --enable-libfontconfig --enable-libopenh264 --ld=lld-link --target-os=win64 --enable-cross-compile --toolchain=msvc --host-cc=clang.exe --extra-libs=ucrt.lib --extra-libs=vcruntime.lib --extra-libs=oldnames.lib --strip=llvm-strip --disable-stripping --host-extralibs= --enable-gpl --enable-libx264 --enable-libx265 --enable-libaom --enable-libsvtav1 --enable-libxml2 --enable-pic --enable-shared --disable-static --enable-version3 --enable-zlib --enable-libopus --pkg-config=/d/bld/ffmpeg_1674566436592/_build_env/Library/bin/pkg-config\r\n  libavutil      57. 28.100 / 57. 28.100\r\n  libavcodec     59. 37.100 / 59. 37.100\r\n  libavformat    59. 27.100 / 59. 27.100\r\n  libavdevice    59.  7.100 / 59.  7.100\r\n  libavfilter     8. 44.100 /  8. 44.100\r\n  libswscale      6.  7.100 /  6.  7.100\r\n  libswresample   4.  7.100 /  4.  7.100\r\n  libpostproc    56.  6.100 / 56.  6.100\r\n[mp3 @ 0000018984ABBA00] Failed to read frame size: Could not seek to 1026.\r\nba1.mp3: Invalid argument\r\n",
     "output_type": "error",
     "traceback": [
      "\u001B[1;31m---------------------------------------------------------------------------\u001B[0m",
      "\u001B[1;31mCouldntDecodeError\u001B[0m                        Traceback (most recent call last)",
      "Cell \u001B[1;32mIn [28], line 22\u001B[0m\n\u001B[0;32m     20\u001B[0m \u001B[38;5;28;01mfor\u001B[39;00m i \u001B[38;5;129;01min\u001B[39;00m \u001B[38;5;28mrange\u001B[39m(\u001B[38;5;28mlen\u001B[39m(list_mp3)):\n\u001B[0;32m     21\u001B[0m     name_read \u001B[38;5;241m=\u001B[39m list_mp3[i]\n\u001B[1;32m---> 22\u001B[0m     mp3File \u001B[38;5;241m=\u001B[39m \u001B[43msplit_mp3\u001B[49m\u001B[43m(\u001B[49m\u001B[43mcurrent_filePath\u001B[49m\u001B[38;5;241;43m=\u001B[39;49m\u001B[43mcurrent_filePath\u001B[49m\u001B[43m,\u001B[49m\u001B[43m \u001B[49m\u001B[43mname_read\u001B[49m\u001B[38;5;241;43m=\u001B[39;49m\u001B[43mname_read\u001B[49m\u001B[43m,\u001B[49m\u001B[43m \u001B[49m\u001B[43msilence_thresh\u001B[49m\u001B[38;5;241;43m=\u001B[39;49m\u001B[43msilence_thresh\u001B[49m\u001B[43m)\u001B[49m\n\u001B[0;32m     23\u001B[0m     list_duration\u001B[38;5;241m.\u001B[39mappend(mp3File\u001B[38;5;241m.\u001B[39mduration_seconds)\n",
      "Cell \u001B[1;32mIn [26], line 8\u001B[0m, in \u001B[0;36msplit_mp3\u001B[1;34m(current_filePath, name_read, silence_thresh)\u001B[0m\n\u001B[0;32m      6\u001B[0m os\u001B[38;5;241m.\u001B[39mchdir(current_filePath)\n\u001B[0;32m      7\u001B[0m \u001B[38;5;66;03m# 读取声音文件\u001B[39;00m\n\u001B[1;32m----> 8\u001B[0m sound \u001B[38;5;241m=\u001B[39m \u001B[43mAudioSegment\u001B[49m\u001B[38;5;241;43m.\u001B[39;49m\u001B[43mfrom_mp3\u001B[49m\u001B[43m(\u001B[49m\u001B[43mname_read\u001B[49m\u001B[43m)\u001B[49m\n\u001B[0;32m      9\u001B[0m \u001B[38;5;66;03m# 使用silence.split_on_silence()方法切割静音部分\u001B[39;00m\n\u001B[0;32m     10\u001B[0m chunks \u001B[38;5;241m=\u001B[39m split_on_silence(sound,\n\u001B[0;32m     11\u001B[0m                           \u001B[38;5;66;03m# silence_len: 静默段的长度阈值，小于该值的静默段将被忽略，默认是1000ms\u001B[39;00m\n\u001B[0;32m     12\u001B[0m                           \u001B[38;5;66;03m# silence_thresh: 静默段的阈值（dBFS），小于该值的声音段将被视为静默，默认是-16dBFS\u001B[39;00m\n\u001B[1;32m   (...)\u001B[0m\n\u001B[0;32m     15\u001B[0m                           keep_silence\u001B[38;5;241m=\u001B[39m\u001B[38;5;28;01mFalse\u001B[39;00m\n\u001B[0;32m     16\u001B[0m                           )\n",
      "File \u001B[1;32m~\\AppData\\Roaming\\Python\\Python39\\site-packages\\pydub\\audio_segment.py:796\u001B[0m, in \u001B[0;36mAudioSegment.from_mp3\u001B[1;34m(cls, file, parameters)\u001B[0m\n\u001B[0;32m    794\u001B[0m \u001B[38;5;129m@classmethod\u001B[39m\n\u001B[0;32m    795\u001B[0m \u001B[38;5;28;01mdef\u001B[39;00m \u001B[38;5;21mfrom_mp3\u001B[39m(\u001B[38;5;28mcls\u001B[39m, file, parameters\u001B[38;5;241m=\u001B[39m\u001B[38;5;28;01mNone\u001B[39;00m):\n\u001B[1;32m--> 796\u001B[0m     \u001B[38;5;28;01mreturn\u001B[39;00m \u001B[38;5;28;43mcls\u001B[39;49m\u001B[38;5;241;43m.\u001B[39;49m\u001B[43mfrom_file\u001B[49m\u001B[43m(\u001B[49m\u001B[43mfile\u001B[49m\u001B[43m,\u001B[49m\u001B[43m \u001B[49m\u001B[38;5;124;43m'\u001B[39;49m\u001B[38;5;124;43mmp3\u001B[39;49m\u001B[38;5;124;43m'\u001B[39;49m\u001B[43m,\u001B[49m\u001B[43m \u001B[49m\u001B[43mparameters\u001B[49m\u001B[38;5;241;43m=\u001B[39;49m\u001B[43mparameters\u001B[49m\u001B[43m)\u001B[49m\n",
      "File \u001B[1;32m~\\AppData\\Roaming\\Python\\Python39\\site-packages\\pydub\\audio_segment.py:773\u001B[0m, in \u001B[0;36mAudioSegment.from_file\u001B[1;34m(cls, file, format, codec, parameters, start_second, duration, **kwargs)\u001B[0m\n\u001B[0;32m    771\u001B[0m     \u001B[38;5;28;01mif\u001B[39;00m close_file:\n\u001B[0;32m    772\u001B[0m         file\u001B[38;5;241m.\u001B[39mclose()\n\u001B[1;32m--> 773\u001B[0m     \u001B[38;5;28;01mraise\u001B[39;00m CouldntDecodeError(\n\u001B[0;32m    774\u001B[0m         \u001B[38;5;124m\"\u001B[39m\u001B[38;5;124mDecoding failed. ffmpeg returned error code: \u001B[39m\u001B[38;5;132;01m{0}\u001B[39;00m\u001B[38;5;130;01m\\n\u001B[39;00m\u001B[38;5;130;01m\\n\u001B[39;00m\u001B[38;5;124mOutput from ffmpeg/avlib:\u001B[39m\u001B[38;5;130;01m\\n\u001B[39;00m\u001B[38;5;130;01m\\n\u001B[39;00m\u001B[38;5;132;01m{1}\u001B[39;00m\u001B[38;5;124m\"\u001B[39m\u001B[38;5;241m.\u001B[39mformat(\n\u001B[0;32m    775\u001B[0m             p\u001B[38;5;241m.\u001B[39mreturncode, p_err\u001B[38;5;241m.\u001B[39mdecode(errors\u001B[38;5;241m=\u001B[39m\u001B[38;5;124m'\u001B[39m\u001B[38;5;124mignore\u001B[39m\u001B[38;5;124m'\u001B[39m) ))\n\u001B[0;32m    777\u001B[0m p_out \u001B[38;5;241m=\u001B[39m \u001B[38;5;28mbytearray\u001B[39m(p_out)\n\u001B[0;32m    778\u001B[0m fix_wav_headers(p_out)\n",
      "\u001B[1;31mCouldntDecodeError\u001B[0m: Decoding failed. ffmpeg returned error code: 1\n\nOutput from ffmpeg/avlib:\n\nffmpeg version 5.1.2 Copyright (c) 2000-2022 the FFmpeg developers\r\n  built with clang version 15.0.7\r\n  configuration: --prefix=/d/bld/ffmpeg_1674566436592/_h_env/Library --cc=clang.exe --cxx=clang++.exe --nm=llvm-nm --ar=llvm-ar --disable-doc --disable-openssl --enable-demuxer=dash --enable-hardcoded-tables --enable-libfreetype --enable-libfontconfig --enable-libopenh264 --ld=lld-link --target-os=win64 --enable-cross-compile --toolchain=msvc --host-cc=clang.exe --extra-libs=ucrt.lib --extra-libs=vcruntime.lib --extra-libs=oldnames.lib --strip=llvm-strip --disable-stripping --host-extralibs= --enable-gpl --enable-libx264 --enable-libx265 --enable-libaom --enable-libsvtav1 --enable-libxml2 --enable-pic --enable-shared --disable-static --enable-version3 --enable-zlib --enable-libopus --pkg-config=/d/bld/ffmpeg_1674566436592/_build_env/Library/bin/pkg-config\r\n  libavutil      57. 28.100 / 57. 28.100\r\n  libavcodec     59. 37.100 / 59. 37.100\r\n  libavformat    59. 27.100 / 59. 27.100\r\n  libavdevice    59.  7.100 / 59.  7.100\r\n  libavfilter     8. 44.100 /  8. 44.100\r\n  libswscale      6.  7.100 /  6.  7.100\r\n  libswresample   4.  7.100 /  4.  7.100\r\n  libpostproc    56.  6.100 / 56.  6.100\r\n[mp3 @ 0000018984ABBA00] Failed to read frame size: Could not seek to 1026.\r\nba1.mp3: Invalid argument\r\n"
     ]
    }
   ],
   "source": [
    "# 循环调用上面的函数 实现批量生成音频文件.\n",
    "# 修改当前文件路径到音频所在的文件夹,因为AudioSegment函数不具有跳转文件夹功能.\n",
    "current_filePath = 'E:\\实验\\阅读困难\\刺激信号\\RSA\\声音刺激_未加工'\n",
    "os.chdir(current_filePath)\n",
    "list_yinjie = [\n",
    "    'ba1', 'ba2', 'ba3', 'ba4',\n",
    "    'pa1', 'pa2', 'pa3', 'pa4',\n",
    "    'da1', 'da2', 'da3', 'da4',\n",
    "    'ta1', 'ta2', 'ta3', 'ta4',\n",
    "\n",
    "\n",
    "]\n",
    "# 每个音频文件 增加.mp3后缀\n",
    "list_mp3 = [item + '.mp3' for item in list_yinjie]\n",
    "\n",
    "# 设置关键参数,保持统一\n",
    "silence_thresh = -50\n",
    "list_duration = list()\n",
    "\n",
    "for i in range(len(list_mp3)):\n",
    "    name_read = list_mp3[i]\n",
    "    mp3File = split_mp3(current_filePath=current_filePath, name_read=name_read, silence_thresh=silence_thresh)\n",
    "    list_duration.append(mp3File.duration_seconds)\n"
   ],
   "metadata": {
    "collapsed": false
   }
  },
  {
   "cell_type": "code",
   "execution_count": 11,
   "outputs": [
    {
     "data": {
      "text/plain": "0.19493749999999999"
     },
     "execution_count": 11,
     "metadata": {},
     "output_type": "execute_result"
    }
   ],
   "source": [
    "'''\n",
    "算一下平均duration\n",
    "'''\n",
    "import numpy as np\n",
    "np.average(list_duration)"
   ],
   "metadata": {
    "collapsed": false
   }
  },
  {
   "cell_type": "markdown",
   "source": [
    "#### 检查一下前面的silence的尾部在哪里?\n",
    "\n",
    "结果发现,确实是0,那么就是已经清除干净了吧."
   ],
   "metadata": {
    "collapsed": false
   }
  },
  {
   "cell_type": "markdown",
   "source": [
    "#### 作图查看一下波形"
   ],
   "metadata": {
    "collapsed": false
   }
  },
  {
   "cell_type": "code",
   "execution_count": 17,
   "outputs": [
    {
     "ename": "AttributeError",
     "evalue": "'SpeechSynthesisResult' object has no attribute 'get_array_of_samples'",
     "output_type": "error",
     "traceback": [
      "\u001B[1;31m---------------------------------------------------------------------------\u001B[0m",
      "\u001B[1;31mAttributeError\u001B[0m                            Traceback (most recent call last)",
      "Cell \u001B[1;32mIn [17], line 4\u001B[0m\n\u001B[0;32m      2\u001B[0m \u001B[38;5;28;01mimport\u001B[39;00m \u001B[38;5;21;01mIPython\u001B[39;00m\u001B[38;5;21;01m.\u001B[39;00m\u001B[38;5;21;01mdisplay\u001B[39;00m \u001B[38;5;28;01mas\u001B[39;00m \u001B[38;5;21;01mipd\u001B[39;00m\n\u001B[0;32m      3\u001B[0m \u001B[38;5;66;03m# 需要转化为ndarray 才能和别的包互通\u001B[39;00m\n\u001B[1;32m----> 4\u001B[0m nd_res \u001B[38;5;241m=\u001B[39m \u001B[43mresult\u001B[49m\u001B[38;5;241;43m.\u001B[39;49m\u001B[43mget_array_of_samples\u001B[49m()\n\u001B[0;32m      5\u001B[0m plt\u001B[38;5;241m.\u001B[39mplot(nd_res)\n",
      "\u001B[1;31mAttributeError\u001B[0m: 'SpeechSynthesisResult' object has no attribute 'get_array_of_samples'"
     ]
    }
   ],
   "source": [
    "import matplotlib.pyplot as plt\n",
    "import IPython.display as ipd\n",
    "# 需要转化为ndarray 才能和别的包互通\n",
    "nd_res = result.get_array_of_samples()\n",
    "plt.plot(nd_res)"
   ],
   "metadata": {
    "collapsed": false
   }
  },
  {
   "cell_type": "markdown",
   "source": [
    "#### 把之前处理好导出的文件重新导入对比\n",
    "\n",
    "看看silence到底在不在了?\n",
    "因为放到第三方软件中 并不为0"
   ],
   "metadata": {
    "collapsed": false
   }
  },
  {
   "cell_type": "code",
   "execution_count": 119,
   "outputs": [
    {
     "data": {
      "text/plain": "[<matplotlib.lines.Line2D at 0x16912c73d30>]"
     },
     "execution_count": 119,
     "metadata": {},
     "output_type": "execute_result"
    },
    {
     "data": {
      "text/plain": "<Figure size 640x480 with 1 Axes>",
      "image/png": "[encoded data removed]"
     },
     "metadata": {},
     "output_type": "display_data"
    }
   ],
   "source": [
    "'''\n",
    "把处理过 导出的声音 再堵回来看看波形.\n",
    "'''\n",
    "sound_post = AudioSegment.from_mp3(\"pa1_noSilent.wav\")\n",
    "nd_sound_post = sound_post.get_array_of_samples()\n",
    "plt.plot(nd_sound_post)"
   ],
   "metadata": {
    "collapsed": false
   }
  },
  {
   "cell_type": "markdown",
   "source": [
    "\n",
    "#### 测试\n"
   ],
   "metadata": {
    "collapsed": false
   }
  },
  {
   "cell_type": "code",
   "execution_count": 116,
   "outputs": [
    {
     "name": "stdout",
     "output_type": "stream",
     "text": [
      "[]\n",
      "0\n"
     ]
    },
    {
     "data": {
      "text/plain": "<Figure size 640x480 with 1 Axes>",
      "image/png": "[encoded data removed]"
     },
     "metadata": {},
     "output_type": "display_data"
    }
   ],
   "source": [
    "\n",
    "from pydub import AudioSegment, silence\n",
    "\n",
    "plt.plot(result.get_array_of_samples())\n",
    "\n",
    "print(silence.detect_silence(result, silence_thresh= silence_thresh, min_silence_len=30, seek_step=2))\n",
    "\n",
    "print(silence.detect_leading_silence(result, silence_threshold=silence_thresh, chunk_size=2))\n"
   ],
   "metadata": {
    "collapsed": false
   }
  },
  {
   "cell_type": "markdown",
   "source": [
    "\n",
    "### 考虑设定时长\n",
    "\n",
    "实在不行就交给audition好了.\n",
    "\n",
    "\n",
    "\n",
    "\n",
    "## 切割超哥的音频"
   ],
   "metadata": {
    "collapsed": false
   }
  },
  {
   "cell_type": "code",
   "execution_count": 11,
   "outputs": [
    {
     "name": "stdout",
     "output_type": "stream",
     "text": [
      "0.199\n",
      "0.199\n",
      "0.219\n",
      "0.255\n",
      "0.174\n",
      "0.261\n",
      "0.276\n",
      "0.286\n",
      "0.219\n",
      "0.196\n",
      "0.218\n",
      "0.25\n",
      "0.172\n",
      "0.22\n",
      "0.256\n",
      "0.268\n",
      "0.211\n",
      "0.2\n",
      "0.225\n",
      "0.261\n",
      "0.187\n",
      "0.267\n",
      "0.261\n",
      "0.265\n",
      "0.217\n"
     ]
    }
   ],
   "source": [
    "'''\n",
    "\n",
    "读取文件切割就可以吧.\n",
    "改一下单个的 切割 代码.\n",
    "\n",
    "'''\n",
    "from pydub import AudioSegment\n",
    "from pydub.silence import split_on_silence\n",
    "import os\n",
    "import numpy as np\n",
    "\n",
    "list_duration_chaoge = []\n",
    "list_yinjie_chaoge = [\n",
    "    'ba1', 'ba2', 'ba3', 'ba4',\n",
    "    'pa1', 'pa2', 'pa3', 'pa4',\n",
    "    'da1', 'da2', 'da3', 'da4',\n",
    "    'ta1', 'ta2', 'ta3', 'ta4',\n",
    "    'ga1', 'ga2', 'ga3', 'ga4',\n",
    "    'ka1', 'ka2', 'ka3', 'ka4',\n",
    "]\n",
    "\n",
    "# 更改当前位置\n",
    "current_filePath = 'E:\\实验\\阅读困难\\刺激信号\\RSA\\声音刺激_未加工\\chaoge'\n",
    "os.chdir(current_filePath)\n",
    "# 读取声音文件\n",
    "sound = AudioSegment.from_mp3(\"pyzz947112379890150011.mp3\")\n",
    "\n",
    "# 设置关键参数,保持统一\n",
    "silence_thresh = -50\n",
    "# 对应的文件名\n",
    "\n",
    "# 使用silence.split_on_silence()方法切割静音部分\n",
    "chunks = split_on_silence(sound,\n",
    "                          # silence_len: 静默段的长度阈值，小于该值的静默段将被忽略，默认是1000ms\n",
    "                          # silence_thresh: 静默段的阈值（dBFS），小于该值的声音段将被视为静默，默认是-16dBFS\n",
    "                          min_silence_len=50,\n",
    "                          silence_thresh=silence_thresh,\n",
    "                          keep_silence=False\n",
    "                          )\n",
    "\n",
    "print(chunks[0].duration_seconds)\n",
    "\n",
    "# 取出每个非静音部分\n",
    "non_silent_chunks = [chunk for chunk in chunks if len(chunk) > 0]\n",
    "\n",
    "\n",
    "for i in range(24):\n",
    "    # silence_thresh 和前面的split保持一致.\n",
    "    result = non_silent_chunks[i]\n",
    "    result = result.strip_silence(silence_len = 1, padding=0, silence_thresh=silence_thresh)\n",
    "\n",
    "    print(result.duration_seconds)\n",
    "    # 输出结果\n",
    "    name_out = list_yinjie_chaoge[i] + '.wav'\n",
    "    result.export( name_out,  format=\"wav\" )\n",
    "    list_duration_chaoge.append(result.duration_seconds)\n",
    "\n",
    "mean_duration_chaoge = np.average(list_duration_chaoge)"
   ],
   "metadata": {
    "collapsed": false
   }
  },
  {
   "cell_type": "code",
   "execution_count": 9,
   "outputs": [
    {
     "name": "stdout",
     "output_type": "stream",
     "text": [
      "选取的元素为: [0.199, 0.219, 0.255, 0.174, 0.261, 0.276, 0.286, 0.219, 0.196, 0.218, 0.25, 0.172, 0.22, 0.256, 0.268, 0.211]\n",
      "平均值为: 0.23\n"
     ]
    }
   ],
   "source": [
    "my_list = list_duration_chaoge\n",
    "start_index = 0  # 开始计算平均值的索引\n",
    "end_index = 16  # 结束计算平均值的索引\n",
    "\n",
    "# 选取列表中指定范围的元素，并计算平均值\n",
    "subset = my_list[start_index:end_index]\n",
    "avg = sum(subset) / len(subset)\n",
    "\n",
    "print(\"选取的元素为:\", subset)\n",
    "print(\"平均值为:\", avg)\n"
   ],
   "metadata": {
    "collapsed": false
   }
  },
  {
   "cell_type": "code",
   "execution_count": null,
   "outputs": [],
   "source": [],
   "metadata": {
    "collapsed": false
   }
  }
 ],
 "metadata": {
  "kernelspec": {
   "name": "mne",
   "language": "python",
   "display_name": "'Python(mne)'"
  },
  "language_info": {
   "codemirror_mode": {
    "name": "ipython",
    "version": 2
   },
   "file_extension": ".py",
   "mimetype": "text/x-python",
   "name": "python",
   "nbconvert_exporter": "python",
   "pygments_lexer": "ipython2",
   "version": "2.7.6"
  }
 },
 "nbformat": 4,
 "nbformat_minor": 0
}
