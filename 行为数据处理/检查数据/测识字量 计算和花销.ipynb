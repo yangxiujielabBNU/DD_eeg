{
 "cells": [
  {
   "cell_type": "code",
   "execution_count": null,
   "outputs": [],
   "source": [
    "'''\n",
    "\n",
    "就是如果我能找出来其中一些人 在原始文档上没有成绩 就认为是\n",
    "\n",
    "'''"
   ],
   "metadata": {
    "collapsed": false,
    "pycharm": {
     "is_executing": true
    }
   }
  },
  {
   "cell_type": "code",
   "execution_count": 1,
   "outputs": [],
   "source": [
    "\n",
    "import pandas as pd\n",
    "from openpyxl import load_workbook\n"
   ],
   "metadata": {
    "collapsed": false
   }
  },
  {
   "cell_type": "code",
   "execution_count": 48,
   "outputs": [
    {
     "name": "stderr",
     "output_type": "stream",
     "text": [
      "I:\\ProgramData\\Anaconda3\\lib\\site-packages\\openpyxl\\styles\\stylesheet.py:226: UserWarning: Workbook contains no default style, apply openpyxl's default\n",
      "  warn(\"Workbook contains no default style, apply openpyxl's default\")\n",
      "C:\\Users\\SilverBullet\\AppData\\Local\\Temp\\ipykernel_20208\\674793200.py:11: FutureWarning: Inferring datetime64[ns] from data containing strings is deprecated and will be removed in a future version. To retain the old behavior explicitly pass Series(data, dtype=datetime64[ns])\n",
      "  df = pd.DataFrame(data, columns=columns)\n",
      "C:\\Users\\SilverBullet\\AppData\\Local\\Temp\\ipykernel_20208\\674793200.py:11: FutureWarning: Inferring datetime64[ns] from data containing strings is deprecated and will be removed in a future version. To retain the old behavior explicitly pass Series(data, dtype=datetime64[ns])\n",
      "  df = pd.DataFrame(data, columns=columns)\n"
     ]
    }
   ],
   "source": [
    "\n",
    "# 打开 Excel 文档\n",
    "workbook = load_workbook(filename='孝中小学生名单_原始版.xlsx')\n",
    "\n",
    "# 遍历所有工作表，并将数据存储在 Pandas DataFrame 中\n",
    "\n",
    "# 遍历所有工作表，并将数据存储在 Pandas DataFrame 中\n",
    "dfs = []\n",
    "for worksheet in workbook.worksheets:\n",
    "    data = worksheet.values\n",
    "    columns = next(data)\n",
    "    df = pd.DataFrame(data, columns=columns)\n",
    "    df = df.reset_index(drop=True)  # 重置索引\n",
    "    dfs.append(df)\n",
    "dfs = dfs[0:19]\n",
    "# 合并所有 Pandas DataFrame\n",
    "# df_hongwu = pd.concat(dfs, ignore_index=True)"
   ],
   "metadata": {
    "collapsed": false
   }
  },
  {
   "cell_type": "code",
   "execution_count": 49,
   "outputs": [
    {
     "name": "stdout",
     "output_type": "stream",
     "text": [
      "[23.0]\n"
     ]
    }
   ],
   "source": [
    "# 假设要找出 col1 列中值为 value 的行对应的 col2 数值\n",
    "col1_name = '姓名'\n",
    "col2_name = '识字量1'\n",
    "value = '韦致远'\n",
    "\n",
    "col2_values = []\n",
    "for df in dfs:\n",
    "    # 使用条件筛选找出满足条件的行\n",
    "    mask = df[col1_name] == value\n",
    "    rows = df[mask]\n",
    "\n",
    "    # 取出这些行的 col2 数值\n",
    "    col2_values.extend(rows[col2_name].tolist())\n",
    "\n",
    "print(col2_values)\n"
   ],
   "metadata": {
    "collapsed": false
   }
  },
  {
   "cell_type": "code",
   "execution_count": 50,
   "outputs": [
    {
     "name": "stdout",
     "output_type": "stream",
     "text": [
      "Empty DataFrame\n",
      "Columns: [识字量1, 计算1, 划消_正]\n",
      "Index: []\n"
     ]
    }
   ],
   "source": [
    "# 要返回的三列的列名\n",
    "return_columns = ['识字量1', '计算1', '划消_正']\n",
    "\n",
    "# 保存结果的列表\n",
    "result = []\n",
    "\n",
    "# 遍历 dfs，找出某一列为某个值的行，返回指定的三列的数据\n",
    "for df in dfs:\n",
    "    # 找出某一列为某个值的行\n",
    "    condition = df['姓名'] == '杨马力'\n",
    "    # 取出需要返回的三列的数据\n",
    "    data = df.loc[condition, return_columns].values.tolist()\n",
    "    # 将这个元组添加到结果列表中\n",
    "    result.extend(data)\n",
    "\n",
    "# 将结果转换为 Pandas DataFrame\n",
    "result_df = pd.DataFrame(result, columns=return_columns)\n",
    "print(result_df)"
   ],
   "metadata": {
    "collapsed": false
   }
  },
  {
   "cell_type": "code",
   "execution_count": 40,
   "outputs": [],
   "source": [
    "import pandas as pd\n",
    "\n",
    "# df_original = pd.read_excel('障碍儿童分类名单.xlsx', sheet_name='洪武北路', header=0)\n",
    "df_original = pd.read_excel('障碍儿童分类名单.xlsx', sheet_name='孝陵卫', header=0)"
   ],
   "metadata": {
    "collapsed": false
   }
  },
  {
   "cell_type": "code",
   "execution_count": 51,
   "outputs": [],
   "source": [
    "# 创建一个空的 DataFrame，用于存储处理结果\n",
    "columns_out_hong = ['姓名'] + return_columns\n",
    "df_out_hong = pd.DataFrame(columns=columns_out_hong)\n",
    "\n",
    "for index, row in df_original.iterrows():\n",
    "    # row['某一列']即为当前行该列的数值\n",
    "    # 对当前行进行处理\n",
    "    name = row['姓名']\n",
    "    # 要返回的三列的列名\n",
    "    return_columns = ['识字量1', '计算1', '划消_正']\n",
    "\n",
    "    # 保存结果的列表\n",
    "    result = []\n",
    "\n",
    "    # 遍历 dfs，找出某一列为某个值的行，返回指定的三列的数据\n",
    "    for df in dfs:\n",
    "        # 找出某一列为某个值的行\n",
    "        condition = df['姓名'] == name\n",
    "        # 取出需要返回的三列的数据\n",
    "        data = df.loc[condition, return_columns].values.tolist()\n",
    "        # 将这个元组添加到结果列表中\n",
    "        result.extend(data)\n",
    "\n",
    "    # 将结果转换为 Pandas DataFrame\n",
    "    result_df = pd.DataFrame(result, columns=return_columns)\n",
    "\n",
    "    # 将当前学生的姓名和处理结果合并成一个 DataFrame\n",
    "    row_out_hong = [name] + result_df.iloc[0].tolist()\n",
    "    df_out_hong.loc[index] = row_out_hong\n"
   ],
   "metadata": {
    "collapsed": false
   }
  },
  {
   "cell_type": "code",
   "execution_count": 52,
   "outputs": [],
   "source": [
    "# 将结果保存到 Excel 文件中\n",
    "with pd.ExcelWriter('输出结果_孝陵卫.xlsx') as writer:\n",
    "    df_out_hong.to_excel(writer, sheet_name='Sheet1', index=False)"
   ],
   "metadata": {
    "collapsed": false
   }
  },
  {
   "cell_type": "code",
   "execution_count": null,
   "outputs": [],
   "source": [],
   "metadata": {
    "collapsed": false
   }
  }
 ],
 "metadata": {
  "kernelspec": {
   "name": "base",
   "language": "python",
   "display_name": "'Python(base)'"
  },
  "language_info": {
   "codemirror_mode": {
    "name": "ipython",
    "version": 2
   },
   "file_extension": ".py",
   "mimetype": "text/x-python",
   "name": "python",
   "nbconvert_exporter": "python",
   "pygments_lexer": "ipython2",
   "version": "2.7.6"
  }
 },
 "nbformat": 4,
 "nbformat_minor": 0
}
