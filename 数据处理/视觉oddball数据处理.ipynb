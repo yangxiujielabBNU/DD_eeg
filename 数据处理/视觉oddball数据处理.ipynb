{
 "cells": [
  {
   "cell_type": "code",
   "execution_count": 4,
   "metadata": {
    "collapsed": true
   },
   "outputs": [],
   "source": [
    "'''\n",
    "使用嘉如提供的数据进行预处理和时频分析\n",
    "'''\n",
    "\n",
    "import os.path as op\n",
    "import mne\n",
    "from mne.preprocessing import ICA\n",
    "import matplotlib.pyplot as plt\n",
    "from copy import deepcopy"
   ]
  },
  {
   "cell_type": "markdown",
   "source": [],
   "metadata": {
    "collapsed": false
   }
  },
  {
   "cell_type": "code",
   "execution_count": 6,
   "outputs": [
    {
     "ename": "FileNotFoundError",
     "evalue": "The following required files cannot be found: ['info' 'labels'].\nPlease make sure all required files are located in the same directory as J:\\1\\chj.cdt.hpi.",
     "output_type": "error",
     "traceback": [
      "\u001B[1;31m---------------------------------------------------------------------------\u001B[0m",
      "\u001B[1;31mFileNotFoundError\u001B[0m                         Traceback (most recent call last)",
      "\u001B[1;32mC:\\Users\\SILVER~1\\AppData\\Local\\Temp/ipykernel_30744/517680587.py\u001B[0m in \u001B[0;36m<module>\u001B[1;34m\u001B[0m\n\u001B[0;32m      4\u001B[0m \u001B[0mfname_original\u001B[0m  \u001B[1;33m=\u001B[0m \u001B[0mdata_path\u001B[0m \u001B[1;33m+\u001B[0m \u001B[0msub_id\u001B[0m \u001B[1;33m+\u001B[0m\u001B[1;34m'.cdt'\u001B[0m\u001B[1;33m\u001B[0m\u001B[1;33m\u001B[0m\u001B[0m\n\u001B[0;32m      5\u001B[0m \u001B[0mfname_new\u001B[0m \u001B[1;33m=\u001B[0m \u001B[0msave_path\u001B[0m \u001B[1;33m+\u001B[0m \u001B[0msub_id\u001B[0m \u001B[1;33m+\u001B[0m \u001B[1;34m'.fif'\u001B[0m\u001B[1;33m\u001B[0m\u001B[1;33m\u001B[0m\u001B[0m\n\u001B[1;32m----> 6\u001B[1;33m \u001B[0mraw\u001B[0m \u001B[1;33m=\u001B[0m \u001B[0mmne\u001B[0m\u001B[1;33m.\u001B[0m\u001B[0mio\u001B[0m\u001B[1;33m.\u001B[0m\u001B[0mread_raw_curry\u001B[0m\u001B[1;33m(\u001B[0m\u001B[0mfname_original\u001B[0m\u001B[1;33m,\u001B[0m\u001B[0mpreload\u001B[0m\u001B[1;33m=\u001B[0m\u001B[1;32mTrue\u001B[0m\u001B[1;33m,\u001B[0m\u001B[0mverbose\u001B[0m\u001B[1;33m=\u001B[0m\u001B[1;32mNone\u001B[0m\u001B[1;33m)\u001B[0m\u001B[1;33m\u001B[0m\u001B[1;33m\u001B[0m\u001B[0m\n\u001B[0m\u001B[0;32m      7\u001B[0m \u001B[1;33m\u001B[0m\u001B[0m\n",
      "\u001B[1;32m<decorator-gen-244>\u001B[0m in \u001B[0;36mread_raw_curry\u001B[1;34m(fname, preload, verbose)\u001B[0m\n",
      "\u001B[1;32mD:\\ProgramData\\Anaconda3\\envs\\RSA\\lib\\site-packages\\mne\\io\\curry\\curry.py\u001B[0m in \u001B[0;36mread_raw_curry\u001B[1;34m(fname, preload, verbose)\u001B[0m\n\u001B[0;32m    468\u001B[0m         \u001B[1;33m.\u001B[0m\u001B[0mcdt\u001B[0m\u001B[1;33m.\u001B[0m\u001B[0mcef\u001B[0m \u001B[1;32mor\u001B[0m \u001B[1;33m.\u001B[0m\u001B[0mcef\u001B[0m\u001B[1;33m.\u001B[0m\u001B[1;33m\u001B[0m\u001B[1;33m\u001B[0m\u001B[0m\n\u001B[0;32m    469\u001B[0m     \u001B[1;33m%\u001B[0m\u001B[1;33m(\u001B[0m\u001B[0mpreload\u001B[0m\u001B[1;33m)\u001B[0m\u001B[0ms\u001B[0m\u001B[1;33m\u001B[0m\u001B[1;33m\u001B[0m\u001B[0m\n\u001B[1;32m--> 470\u001B[1;33m     \u001B[1;33m%\u001B[0m\u001B[1;33m(\u001B[0m\u001B[0mverbose\u001B[0m\u001B[1;33m)\u001B[0m\u001B[0ms\u001B[0m\u001B[1;33m\u001B[0m\u001B[1;33m\u001B[0m\u001B[0m\n\u001B[0m\u001B[0;32m    471\u001B[0m \u001B[1;33m\u001B[0m\u001B[0m\n\u001B[0;32m    472\u001B[0m     \u001B[0mReturns\u001B[0m\u001B[1;33m\u001B[0m\u001B[1;33m\u001B[0m\u001B[0m\n",
      "\u001B[1;32m<decorator-gen-245>\u001B[0m in \u001B[0;36m__init__\u001B[1;34m(self, fname, preload, verbose)\u001B[0m\n",
      "\u001B[1;32mD:\\ProgramData\\Anaconda3\\envs\\RSA\\lib\\site-packages\\mne\\io\\curry\\curry.py\u001B[0m in \u001B[0;36m__init__\u001B[1;34m(self, fname, preload, verbose)\u001B[0m\n\u001B[0;32m    491\u001B[0m     \u001B[0mSee\u001B[0m \u001B[0mAlso\u001B[0m\u001B[1;33m\u001B[0m\u001B[1;33m\u001B[0m\u001B[0m\n\u001B[0;32m    492\u001B[0m     \u001B[1;33m-\u001B[0m\u001B[1;33m-\u001B[0m\u001B[1;33m-\u001B[0m\u001B[1;33m-\u001B[0m\u001B[1;33m-\u001B[0m\u001B[1;33m-\u001B[0m\u001B[1;33m-\u001B[0m\u001B[1;33m-\u001B[0m\u001B[1;33m\u001B[0m\u001B[1;33m\u001B[0m\u001B[0m\n\u001B[1;32m--> 493\u001B[1;33m     \u001B[0mmne\u001B[0m\u001B[1;33m.\u001B[0m\u001B[0mio\u001B[0m\u001B[1;33m.\u001B[0m\u001B[0mRaw\u001B[0m \u001B[1;33m:\u001B[0m \u001B[0mDocumentation\u001B[0m \u001B[0mof\u001B[0m \u001B[0mattribute\u001B[0m \u001B[1;32mand\u001B[0m \u001B[0mmethods\u001B[0m\u001B[1;33m.\u001B[0m\u001B[1;33m\u001B[0m\u001B[1;33m\u001B[0m\u001B[0m\n\u001B[0m\u001B[0;32m    494\u001B[0m \u001B[1;33m\u001B[0m\u001B[0m\n\u001B[0;32m    495\u001B[0m     \"\"\"\n",
      "\u001B[1;32mD:\\ProgramData\\Anaconda3\\envs\\RSA\\lib\\site-packages\\mne\\io\\curry\\curry.py\u001B[0m in \u001B[0;36m_get_curry_file_structure\u001B[1;34m(fname, required)\u001B[0m\n\u001B[0;32m     77\u001B[0m             \u001B[0m_key\u001B[0m \u001B[1;33m=\u001B[0m \u001B[1;34m'events'\u001B[0m \u001B[1;32mif\u001B[0m \u001B[0mkey\u001B[0m\u001B[1;33m.\u001B[0m\u001B[0mstartswith\u001B[0m\u001B[1;33m(\u001B[0m\u001B[1;34m'events'\u001B[0m\u001B[1;33m)\u001B[0m \u001B[1;32melse\u001B[0m \u001B[0mkey\u001B[0m\u001B[1;33m\u001B[0m\u001B[1;33m\u001B[0m\u001B[0m\n\u001B[0;32m     78\u001B[0m             \u001B[0mmy_curry\u001B[0m\u001B[1;33m[\u001B[0m\u001B[0m_key\u001B[0m\u001B[1;33m]\u001B[0m \u001B[1;33m=\u001B[0m \u001B[0mfname\u001B[0m\u001B[1;33m\u001B[0m\u001B[1;33m\u001B[0m\u001B[0m\n\u001B[1;32m---> 79\u001B[1;33m \u001B[1;33m\u001B[0m\u001B[0m\n\u001B[0m\u001B[0;32m     80\u001B[0m     \u001B[0mmissing\u001B[0m \u001B[1;33m=\u001B[0m \u001B[1;33m[\u001B[0m\u001B[0mfield\u001B[0m \u001B[1;32mfor\u001B[0m \u001B[0mfield\u001B[0m \u001B[1;32min\u001B[0m \u001B[0mrequired\u001B[0m \u001B[1;32mif\u001B[0m \u001B[0mfield\u001B[0m \u001B[1;32mnot\u001B[0m \u001B[1;32min\u001B[0m \u001B[0mmy_curry\u001B[0m\u001B[1;33m]\u001B[0m\u001B[1;33m\u001B[0m\u001B[1;33m\u001B[0m\u001B[0m\n\u001B[0;32m     81\u001B[0m     \u001B[1;32mif\u001B[0m \u001B[0mmissing\u001B[0m\u001B[1;33m:\u001B[0m\u001B[1;33m\u001B[0m\u001B[1;33m\u001B[0m\u001B[0m\n",
      "\u001B[1;31mFileNotFoundError\u001B[0m: The following required files cannot be found: ['info' 'labels'].\nPlease make sure all required files are located in the same directory as J:\\1\\chj.cdt.hpi."
     ]
    }
   ],
   "source": [
    "data_path = 'J:\\\\1\\\\'\n",
    "save_path = 'J:\\\\1\\\\'\n",
    "sub_id = 'chj'\n",
    "fname_original  = data_path + sub_id +'.cdt'\n",
    "fname_new = save_path + sub_id + '.fif'\n",
    "raw = mne.io.read_raw_curry(fname_original,preload=True,verbose=None)"
   ],
   "metadata": {
    "collapsed": false
   }
  },
  {
   "cell_type": "code",
   "execution_count": null,
   "outputs": [],
   "source": [],
   "metadata": {
    "collapsed": false
   }
  }
 ],
 "metadata": {
  "kernelspec": {
   "name": "pycharm-284b30fe",
   "language": "python",
   "display_name": "PyCharm (贝叶斯)"
  },
  "language_info": {
   "codemirror_mode": {
    "name": "ipython",
    "version": 2
   },
   "file_extension": ".py",
   "mimetype": "text/x-python",
   "name": "python",
   "nbconvert_exporter": "python",
   "pygments_lexer": "ipython2",
   "version": "2.7.6"
  }
 },
 "nbformat": 4,
 "nbformat_minor": 0
}
