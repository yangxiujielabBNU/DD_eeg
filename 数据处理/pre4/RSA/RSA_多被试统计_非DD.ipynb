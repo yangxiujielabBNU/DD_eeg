{
 "cells": [
  {
   "cell_type": "code",
   "execution_count": 1,
   "outputs": [],
   "source": [
    "%matplotlib qt\n",
    "import numpy as np\n",
    "import os.path as op\n",
    "from pandas import read_csv\n",
    "import mne\n",
    "from mne.io import read_raw_fif\n",
    "from mne.datasets import visual_92_categories\n",
    "from neurora.nps_cal import nps\n",
    "from neurora.rdm_cal import eegRDM\n",
    "from neurora.rdm_corr import rdm_correlation_spearman\n",
    "from neurora.corr_cal_by_rdm import rdms_corr\n",
    "from neurora.rsa_plot import plot_rdm, plot_corrs_by_time, plot_nps_hotmap, plot_corrs_hotmap\n",
    "import pandas as pd\n",
    "\n",
    "from neurora.rsa_plot import plot_tbytsim_withstats"
   ],
   "metadata": {
    "collapsed": false,
    "ExecuteTime": {
     "end_time": "2023-05-27T16:33:14.215235700Z",
     "start_time": "2023-05-27T16:32:34.849540400Z"
    }
   }
  },
  {
   "cell_type": "code",
   "execution_count": 17,
   "outputs": [
    {
     "name": "stdout",
     "output_type": "stream",
     "text": [
      "Reading E:\\实验\\阅读困难\\数据处理\\pre4\\data\\6epoch_clean_RSA\\pre4009_y_RSA-epo.fif ...\n",
      "    Found the data of interest:\n",
      "        t =    -200.00 ...     800.00 ms\n",
      "        0 CTF compensation matrices available\n",
      "Not setting metadata\n",
      "1007 matching events found\n",
      "No baseline correction applied\n",
      "0 projection items activated\n",
      "Reading E:\\实验\\阅读困难\\数据处理\\pre4\\data\\6epoch_clean_RSA\\pre4014_y_RSA-epo.fif ...\n",
      "    Found the data of interest:\n",
      "        t =    -200.00 ...     800.00 ms\n",
      "        0 CTF compensation matrices available\n",
      "Not setting metadata\n",
      "1332 matching events found\n",
      "No baseline correction applied\n",
      "0 projection items activated\n",
      "Reading E:\\实验\\阅读困难\\数据处理\\pre4\\data\\6epoch_clean_RSA\\pre4028_y_RSA-epo.fif ...\n",
      "    Found the data of interest:\n",
      "        t =    -200.00 ...     800.00 ms\n",
      "        0 CTF compensation matrices available\n",
      "Not setting metadata\n",
      "1236 matching events found\n",
      "No baseline correction applied\n",
      "0 projection items activated\n",
      "Reading E:\\实验\\阅读困难\\数据处理\\pre4\\data\\6epoch_clean_RSA\\pre4029_y_RSA-epo.fif ...\n",
      "    Found the data of interest:\n",
      "        t =    -200.00 ...     800.00 ms\n",
      "        0 CTF compensation matrices available\n",
      "Not setting metadata\n",
      "1332 matching events found\n",
      "No baseline correction applied\n",
      "0 projection items activated\n"
     ]
    },
    {
     "data": {
      "text/plain": "'\\n思路，先求ERP，然后再给ndarray，然后再计算RDM\\n'"
     },
     "execution_count": 17,
     "metadata": {},
     "output_type": "execute_result"
    }
   ],
   "source": [
    "list_epochs_all = list()\n",
    "\n",
    "\n",
    "# DD\n",
    "# 去掉 20数据不全 24没数据 25无法ICA\n",
    "sub_ids = [\n",
    "\n",
    "    \"pre4008_y\",\"pre4009_y\",\"pre4010_y\",\"pre4011_y\",\"pre4012_y\",\"pre4013_y\",\n",
    "    \"pre4014_y\",\"pre4015_y\",\"pre4016_y\",\"pre4017_y\", \"pre4018_y\",\"pre4019_y\",\n",
    "    \"pre4021_y\",\"pre4022_y\",\"pre4023_y\",\"pre4026_y\",\n",
    "    \"pre4027_y\",\"pre4028_y\",\"pre4029_y\",\"pre4030_y\",\"pre4031_y\",\"pre4032_y\",\n",
    "    \"pre4033_y\",\"pre4034_y\",\n",
    "\n",
    "]\n",
    "sub_ids = [\n",
    "\n",
    "    \"pre4008_y\",\"pre4009_y\",\"pre4010_y\",\"pre4011_y\",\"pre4012_y\",\"pre4013_y\",\n",
    "    \"pre4014_y\",\"pre4015_y\",\"pre4016_y\",\"pre4017_y\", \"pre4018_y\",\"pre4019_y\",\n",
    "    \"pre4021_y\",\"pre4022_y\",\"pre4023_y\",\"pre4026_y\",\n",
    "    \"pre4027_y\",\"pre4028_y\",\"pre4029_y\",\"pre4030_y\"\n",
    "]\n",
    "# DD组\n",
    "sub_ids = [\n",
    "            'pre4010_y','pre4012_y','pre4013_y','pre4015_y','pre4017_y','pre4018_y','pre4019_y','pre4021_y','pre4022_y','pre4023_y','pre4026_y','pre4027_y','pre4030_y',\n",
    "          ]\n",
    "# 非DD组\n",
    "sub_ids = [\n",
    "           'pre4008_y','pre4009_y','pre4011_y','pre4014_y','pre4028_y','pre4029_y'\n",
    "         ]\n",
    "# 正常组\n",
    "sub_ids = [\n",
    "           'pre4009_y','pre4014_y','pre4028_y','pre4029_y'\n",
    "         ]\n",
    "# # 正常儿童\n",
    "# sub_ids = [\n",
    "#\n",
    "#      \"pre4003_y\",\"pre4007_y\",\"pre4008_y\",\"pre4009_y\",\"pre4010_y\",\"pre4011_y\",\"pre4012_y\",\"pre4013_y\"\n",
    "#\n",
    "# ]\n",
    "\n",
    "file_path = 'E:\\实验\\阅读困难\\数据处理\\pre4\\data\\\\6epoch_clean_RSA\\\\'\n",
    "channels_nieye = ['M1','T7','P7','TP7','M2','T8','P8','TP8','CP5','CP6','C5','C6']\n",
    "channels_nieye = ['T7','P7','TP7','M2','T8','P8','TP8','CP5','CP6','C5','C6']\n",
    "# 左右脑 偏侧化.\n",
    "channels_left = ['Fp1',  'AF3',  'F7', 'F5', 'F3', 'F1',  'FT7', 'FC5', 'FC3', 'FC1',  'T7', 'C5', 'C3', 'C1',   'TP7', 'CP5', 'CP3', 'CP1',  'P7', 'P5', 'P3', 'P1',   'PO7', 'PO5', 'PO3',  'O1', ]\n",
    "\n",
    "channels_right = ['Fp2','AF4',  'F2', 'F4', 'F6', 'F8', 'FC2', 'FC4', 'FC6', 'FT8','C2', 'C4', 'C6', 'T8', 'CP2', 'CP4', 'CP6', 'TP8', 'M2', 'P2', 'P4', 'P6', 'P8','PO4', 'PO6', 'PO8','O2',]\n",
    "\n",
    "# 前额叶\n",
    "channels_all = ['Fp1', 'Fpz', 'Fp2', 'AF3', 'AF4', 'F7', 'F5', 'F3', 'F1', 'Fz', 'F2', 'F4', 'F6', 'F8', 'FT7', 'FC5', 'FC3', 'FC1', 'FCz', 'FC2', 'FC4', 'FC6', 'FT8', 'T7', 'C5', 'C3', 'C1', 'Cz', 'C2', 'C4', 'C6', 'T8', 'TP7', 'CP5', 'CP3', 'CP1', 'CPz', 'CP2', 'CP4', 'CP6', 'TP8', 'M2', 'P7', 'P5', 'P3', 'P1', 'Pz', 'P2', 'P4', 'P6', 'P8', 'PO7', 'PO5', 'PO3', 'POz', 'PO4', 'PO6', 'PO8', 'O1', 'Oz', 'O2', ]\n",
    "\n",
    "channels_all = ['Fp1', 'Fpz', 'Fp2', 'AF3', 'AF4', 'F7', 'F5', 'F3', 'F1', 'Fz', 'F2', 'F4', 'F6', 'F8', 'FT7', 'FC5', 'FC3', 'FC1', 'FCz', 'FC2', 'FC4', 'FC6', 'FT8', 'T7', 'C5', 'C3', 'C1', 'Cz', 'C2', 'C4', 'C6', 'T8', 'TP7', 'CP5', 'CP3', 'CP1', 'CPz', 'CP2', 'CP4', 'CP6', 'TP8', 'M2', 'P7', 'P5', 'P3', 'P1', 'Pz', 'P2', 'P4', 'P6', 'P8', 'PO7', 'PO5', 'PO3', 'POz', 'PO4', 'PO6', 'PO8', 'O1', 'Oz', 'O2', ]\n",
    "\n",
    "channels_all = channels_left\n",
    "num_channel = len(channels_all)\n",
    "\n",
    "for sub_id in sub_ids:\n",
    "    data_path = file_path + sub_id + '_RSA-epo.fif'\n",
    "\n",
    "    epochs_all = mne.read_epochs(fname=data_path)\n",
    "    # 如果只想看某一部分的脑区,配合更改ndarray的维度\n",
    "    epochs_all = epochs_all.pick(picks=channels_all)\n",
    "\n",
    "    list_epochs_all.append(epochs_all)\n",
    "\n",
    "'''\n",
    "思路，先求ERP，然后再给ndarray，然后再计算RDM\n",
    "'''"
   ],
   "metadata": {
    "collapsed": false,
    "ExecuteTime": {
     "end_time": "2023-05-27T16:47:48.359378200Z",
     "start_time": "2023-05-27T16:47:29.697604300Z"
    }
   }
  },
  {
   "cell_type": "code",
   "execution_count": 18,
   "outputs": [],
   "source": [
    "\n",
    "'''\n",
    "生成每种条件对应的evoked\n",
    "而且是按照次序\n",
    "'''\n",
    "num_channel = len(channels_all)\n",
    "conds = ['101', '102', '103', '104', '111', '112', '113', '114', '121', '122', '123', '124', '131', '132', '133', '134', ]\n",
    "\n",
    "eegdata = np.zeros([len(sub_ids),16, num_channel, 1001], dtype=np.float32)\n",
    "#初始值\n",
    "subindex = 0\n",
    "for m in range(len(sub_ids)):\n",
    "    #单个被试的数据\n",
    "    subdata = np.zeros([16, num_channel, 1001], dtype=np.float32)\n",
    "    for i in range(len(conds)):\n",
    "        epochs = list_epochs_all[m][conds[i]]\n",
    "        evoked = epochs.average()\n",
    "        data = evoked.data\n",
    "        subdata[i] = data\n",
    "    eegdata[m] = subdata"
   ],
   "metadata": {
    "collapsed": false,
    "ExecuteTime": {
     "end_time": "2023-05-27T16:47:53.901645100Z",
     "start_time": "2023-05-27T16:47:52.844371900Z"
    }
   }
  },
  {
   "cell_type": "code",
   "execution_count": 19,
   "outputs": [],
   "source": [
    "# shape of megdata: [n_subs, n_cons, n_chls, n_ts] -> [n_cons, n_subs, n_chls, n_ts]\n",
    "eegdata = np.transpose(eegdata, (1, 0, 2, 3))\n",
    "\n",
    "# shape of megdata: [n_cons, n_subs, n_chls, n_ts] -> [n_cons, n_subs, n_trials, n_chls, n_ts]\n",
    "# here data is averaged, so set n_trials = 1\n",
    "eegdata = np.reshape(eegdata, [16, len(sub_ids), 1, num_channel, 1001])\n"
   ],
   "metadata": {
    "collapsed": false,
    "ExecuteTime": {
     "end_time": "2023-05-27T16:47:53.917602700Z",
     "start_time": "2023-05-27T16:47:53.905634700Z"
    }
   }
  },
  {
   "cell_type": "code",
   "execution_count": 20,
   "outputs": [
    {
     "name": "stdout",
     "output_type": "stream",
     "text": [
      "\n",
      "Computing RDMs\n",
      "\n",
      "RDMs computing finished!\n"
     ]
    },
    {
     "data": {
      "text/plain": "0"
     },
     "execution_count": 20,
     "metadata": {},
     "output_type": "execute_result"
    }
   ],
   "source": [
    "# Calculate the RDM based on the data during 190ms-210ms\n",
    "#sub_opt=1 indicate不止一个被试。\n",
    "#The shape of EEGdata must be [n_cons, n_subs, n_trials, n_chls, n_ts].\n",
    "# Sometimes, the numbers of trials under different conditions are not same. In NeuroRA, we recommend users to average\n",
    "#     the trials under a same condition firstly in this situation. Thus, the shape of input (EEG_data) should be\n",
    "#     [n_cons, n_subs, 1, n_chls, n_ts].\n",
    "\n",
    "\n",
    "rdm = eegRDM(eegdata[:, :, :, :, 340:350])\n",
    "# Plot this RDM\n",
    "plot_rdm(rdm[0], percentile=True)"
   ],
   "metadata": {
    "collapsed": false,
    "ExecuteTime": {
     "end_time": "2023-05-27T16:47:54.219865100Z",
     "start_time": "2023-05-27T16:47:53.921592100Z"
    }
   }
  },
  {
   "cell_type": "code",
   "execution_count": 21,
   "outputs": [
    {
     "name": "stdout",
     "output_type": "stream",
     "text": [
      "\n",
      "Computing RDMs\n",
      "Calculating: [====================================================================================================] 100.00%\n",
      "RDMs computing finished!\n"
     ]
    }
   ],
   "source": [
    "# Calculate the RDMs by a 10ms time-window\n",
    "# (raw sampling requency is 1000Hz, so here time_win=10ms/(1s/1000Hz)/1000=10)\n",
    "# sub_opt = 1\n",
    "\n",
    "# 默认窗口是50，那么就是 （1000-50）/5 = 190\n",
    "#\n",
    "\n",
    "rdms = eegRDM(eegdata, time_opt=1, time_win=50, time_step=5, sub_opt=1)"
   ],
   "metadata": {
    "collapsed": false,
    "ExecuteTime": {
     "end_time": "2023-05-27T16:51:23.778052900Z",
     "start_time": "2023-05-27T16:47:54.199809Z"
    }
   }
  },
  {
   "cell_type": "code",
   "execution_count": 22,
   "outputs": [],
   "source": [
    "# Plot the RDM of -100ms, 0ms, 50ms, 100ms, 150ms, 200ms\n",
    "times = [0, 10, ]\n",
    "for t in times:\n",
    "    plot_rdm(rdms[1,t], percentile=True)"
   ],
   "metadata": {
    "collapsed": false,
    "ExecuteTime": {
     "end_time": "2023-05-27T16:51:30.809033800Z",
     "start_time": "2023-05-27T16:51:30.786280200Z"
    }
   }
  },
  {
   "cell_type": "markdown",
   "source": [
    "## 辅音_理论模型"
   ],
   "metadata": {
    "collapsed": false
   }
  },
  {
   "cell_type": "code",
   "execution_count": 23,
   "outputs": [
    {
     "data": {
      "text/plain": "0"
     },
     "execution_count": 23,
     "metadata": {},
     "output_type": "execute_result"
    }
   ],
   "source": [
    "\n",
    "'''\n",
    "辅音_理论模型\n",
    "'''\n",
    "\n",
    "RDM_model_fuyin = np.zeros([16, 16], dtype=np.float32)\n",
    "# for i in range(20):\n",
    "#     for j in range(20):\n",
    "#         if abs(i-j)<=3:\n",
    "#             RDM_model_fuyin[i,j] = 0\n",
    "#         else:\n",
    "#             RDM_model_fuyin[i,j] =\n",
    "zeroM = np.zeros([4, 4], dtype=np.float32)\n",
    "oneM = np.ones((4, 4), dtype=np.float32)\n",
    "\n",
    "a1 = np.concatenate((zeroM, oneM, oneM, oneM), axis=1)\n",
    "a2 = np.concatenate((oneM, zeroM, oneM, oneM), axis=1)\n",
    "a3 = np.concatenate((oneM, oneM, zeroM, oneM), axis=1)\n",
    "a4 = np.concatenate((oneM, oneM, oneM, zeroM), axis=1)\n",
    "\n",
    "RDM_model_fuyin = np.concatenate((a1, a2, a3, a4), axis=0)\n",
    "plot_rdm(RDM_model_fuyin, percentile=True)\n",
    "# Calculate the representational similarity between 200ms and all the time points\n",
    "# （sub,times,2）\n"
   ],
   "metadata": {
    "collapsed": false,
    "ExecuteTime": {
     "end_time": "2023-05-27T16:51:35.142596Z",
     "start_time": "2023-05-27T16:51:34.992996700Z"
    }
   }
  },
  {
   "cell_type": "code",
   "execution_count": 24,
   "outputs": [
    {
     "name": "stdout",
     "output_type": "stream",
     "text": [
      "\n",
      "Computing similarities\n",
      "\n",
      "Computing finished!\n",
      "\n",
      "Significant time-windows:\n"
     ]
    }
   ],
   "source": [
    "corrs_EEGvsFuyin = rdms_corr(RDM_model_fuyin, rdms)\n",
    "%matplotlib qt\n",
    "# Plot the corrs1\n",
    "# corrs1 = np.reshape(corrs1, [1, 191, 2])\n",
    "# plot_corrs_by_time(corrs1, time_unit=[-0.2, 0.005])\n",
    "from neurora.rsa_plot import plot_tbytsim_withstats\n",
    "from neurora.stuff import clusterbased_permutation_1d_1samp_1sided\n",
    "\n",
    "#配合RDMS的时间窗是 50ms，步长是5ms = 0.005\n",
    "# start_time =\n",
    "ps_EEGvsFuyin = plot_tbytsim_withstats(corrs_EEGvsFuyin, start_time=-0.15, end_time=0.805, time_interval=0.005, p=0.05,\n",
    "                                       clusterp=0.05, stats_time=[0, 0.8], color='b', xlim=(-0.2, 1), fontsize=9)\n",
    "\n",
    "# plot_tbytsim_withstats 内嵌了  clusterbased_permutation_1d_1samp_1sided,统计部分由这个函数来完成的.\n",
    "# similarities = corrs_EEGvsFuyin[:, :, 0]\n",
    "# clusterbased_permutation_1d_1samp_1sided(similarities)"
   ],
   "metadata": {
    "collapsed": false,
    "ExecuteTime": {
     "end_time": "2023-05-27T16:51:39.286236100Z",
     "start_time": "2023-05-27T16:51:38.572114200Z"
    }
   }
  },
  {
   "cell_type": "markdown",
   "source": [
    "### 保存结果\n"
   ],
   "metadata": {
    "collapsed": false
   }
  },
  {
   "cell_type": "code",
   "execution_count": 25,
   "outputs": [],
   "source": [
    "'''\n",
    "保存corrs_EEGvsFuyin\n",
    "\n",
    "1 需要算出极大值和对应的时间点-算峰值的方法 ---为了和行为做相关.\n",
    "\n",
    "2 算显著时间点均值\n",
    "\n",
    "'''\n",
    "\n",
    "# 问题:这里应该保存 -200 - 800ms的 还是保存 显著的时间窗口内的呢?\n",
    "# 应该保存窗口内的,不然没有做的意义了.\n",
    "# idea 可以用 ps来进行窗口的限制 截取对应的时间窗\n",
    "npy_path = './脑电结果/'\n",
    "type1 = 'rdms'\n",
    "type2 = 'corrs'\n",
    "type3 = 'ps'\n",
    "\n",
    "conditon1 = 'Fuyin_非DD'\n",
    "\n",
    "x = npy_path+type1+'_'+conditon1+'.npy'\n",
    "\n",
    "np.save('./脑电结果/rdms_EEGvsFuyin_非DD.npy', rdms)\n",
    "np.save('./脑电结果/corrs_EEGvsFuyin_非DD.npy', corrs_EEGvsFuyin)\n",
    "np.save('./脑电结果/ps_EEGvsFuyin_非DD.npy', ps_EEGvsFuyin)\n"
   ],
   "metadata": {
    "collapsed": false,
    "ExecuteTime": {
     "end_time": "2023-05-27T16:51:44.343179100Z",
     "start_time": "2023-05-27T16:51:43.939259Z"
    }
   }
  },
  {
   "cell_type": "code",
   "execution_count": 36,
   "outputs": [
    {
     "name": "stdout",
     "output_type": "stream",
     "text": [
      "[]\n"
     ]
    }
   ],
   "source": [
    "# 假设你有一些变量\n",
    "var1 = 1\n",
    "var2 = 2\n",
    "rdms_var = 3\n",
    "other_var = 4\n",
    "\n",
    "# 获取所有全局变量的名字\n",
    "global_vars = globals()\n",
    "\n",
    "# 找到包含'rdms'的变量名\n",
    "rdms_vars = [name for name, value in global_vars.items() if 'rdms_EEG' in name]\n",
    "\n",
    "# 输出结果\n",
    "print(rdms_vars)\n"
   ],
   "metadata": {
    "collapsed": false,
    "ExecuteTime": {
     "end_time": "2023-05-26T00:16:27.847069500Z",
     "start_time": "2023-05-26T00:16:27.823133700Z"
    }
   }
  },
  {
   "cell_type": "markdown",
   "source": [
    "## 音调_理论模型"
   ],
   "metadata": {
    "collapsed": false
   }
  },
  {
   "cell_type": "code",
   "execution_count": 26,
   "outputs": [
    {
     "data": {
      "text/plain": "0"
     },
     "execution_count": 26,
     "metadata": {},
     "output_type": "execute_result"
    }
   ],
   "source": [
    "'''\n",
    "音调 模型\n",
    "'''\n",
    "\n",
    "RDM_model_yindiao = np.zeros([16,16], dtype=np.float32)\n",
    "\n",
    "\n",
    "oneM =  np.ones((4, 4), dtype=np.float32)\n",
    "for i in range(4):\n",
    "    oneM[i][i] = 0\n",
    "zeroM = oneM\n",
    "\n",
    "a1=np.concatenate((zeroM,oneM,oneM,oneM,),axis = 1)\n",
    "a2=np.concatenate((oneM,zeroM,oneM,oneM,),axis = 1)\n",
    "a3=np.concatenate((oneM,oneM,zeroM,oneM,),axis = 1)\n",
    "a4=np.concatenate((oneM,oneM,oneM,zeroM,),axis = 1)\n",
    "\n",
    "RDM_model_yindiao = np.concatenate((a1,a2,a3,a4),axis=0)\n",
    "\n",
    "plot_rdm(RDM_model_yindiao, percentile=True)"
   ],
   "metadata": {
    "collapsed": false,
    "ExecuteTime": {
     "end_time": "2023-05-27T16:51:50.567197700Z",
     "start_time": "2023-05-27T16:51:50.449738700Z"
    }
   }
  },
  {
   "cell_type": "code",
   "execution_count": 27,
   "outputs": [
    {
     "name": "stdout",
     "output_type": "stream",
     "text": [
      "\n",
      "Computing similarities\n",
      "\n",
      "Computing finished!\n",
      "\n",
      "Permutation test\n",
      "Calculating: [====================================================================================================] 100.00%\n",
      "Cluster-based permutation test finished!\n",
      "\n",
      "\n",
      "Significant time-windows:\n",
      "325ms to 345ms\n",
      "375ms to 470ms\n"
     ]
    }
   ],
   "source": [
    "# Calculate the representational similarity between 200ms and all the time points\n",
    "corrs_EEGvsYindiao = rdms_corr(RDM_model_yindiao, rdms)\n",
    "\n",
    "from neurora.rsa_plot import plot_tbytsim_withstats\n",
    "\n",
    "#配合RDMS的时间窗是 50ms，步长是5ms = 0.005\n",
    "ps_EEGvsYindiao = plot_tbytsim_withstats(corrs_EEGvsYindiao, start_time=-0.15, end_time=0.805, time_interval=0.005, p=0.05,clusterp=0.05,stats_time=[0,0.8], xlim=(-0.2,1), fontsize=9)\n"
   ],
   "metadata": {
    "collapsed": false,
    "ExecuteTime": {
     "end_time": "2023-05-27T16:52:09.240204800Z",
     "start_time": "2023-05-27T16:51:54.798341500Z"
    }
   }
  },
  {
   "cell_type": "markdown",
   "source": [
    "## 行为模型\n"
   ],
   "metadata": {
    "collapsed": false
   }
  },
  {
   "cell_type": "code",
   "execution_count": 28,
   "outputs": [],
   "source": [
    "\n",
    "'''\n",
    "基于行为数据的model RDM\n",
    "'''\n",
    "\n",
    "from scipy.io import loadmat\n",
    "\n",
    "# 指定要读取的 .mat 文件路径\n",
    "file_path_tone = \"E:\\实验\\阅读困难\\数据处理\\pre4\\RSA\\models矩阵\\\\toneRDM.mat\"  # 将 \"path/to/your/file.mat\" 替换为实际的文件路径\n",
    "# 使用 loadmat 函数读取 .mat 文件\n",
    "RDM_model_yindiao_xw = loadmat(file_path_tone)['final_rdm']\n",
    "\n",
    "# 指定要读取的 .mat 文件路径\n",
    "file_path_consonat = \"E:\\实验\\阅读困难\\数据处理\\pre4\\RSA\\models矩阵\\\\consonantRDM.mat\"  # 将 \"path/to/your/file.mat\" 替换为实际的文件路径\n",
    "# 使用 loadmat 函数读取 .mat 文件\n",
    "RDM_model_fuyin_xw = loadmat(file_path_consonat)['new_rdm']"
   ],
   "metadata": {
    "collapsed": false,
    "ExecuteTime": {
     "end_time": "2023-05-27T16:52:19.822710600Z",
     "start_time": "2023-05-27T16:52:19.795754900Z"
    }
   }
  },
  {
   "cell_type": "code",
   "execution_count": 34,
   "outputs": [
    {
     "name": "stdout",
     "output_type": "stream",
     "text": [
      "\n",
      "Computing similarities\n",
      "\n",
      "Computing finished!\n",
      "\n",
      "Significant time-windows:\n"
     ]
    }
   ],
   "source": [
    "# Calculate the representational similarity between 200ms and all the time points\n",
    "corrs_EEGvsFuyin_behavior = rdms_corr(RDM_model_fuyin_xw, rdms)\n",
    "#配合RDMS的时间窗是 50ms，步长是5ms = 0.005\n",
    "ps_corrs_EEGvsFuyin_behavior = plot_tbytsim_withstats(corrs_EEGvsFuyin_behavior, start_time=-0.15, end_time=0.805, time_interval=0.005, p=0.05,clusterp=0.05,stats_time=[0,0.8], xlim=[-0.2,1], fontsize=9, color='b')"
   ],
   "metadata": {
    "collapsed": false,
    "ExecuteTime": {
     "end_time": "2023-05-27T16:54:09.292876500Z",
     "start_time": "2023-05-27T16:54:08.278950700Z"
    }
   }
  },
  {
   "cell_type": "code",
   "execution_count": 35,
   "outputs": [
    {
     "name": "stdout",
     "output_type": "stream",
     "text": [
      "\n",
      "Computing similarities\n",
      "\n",
      "Computing finished!\n",
      "\n",
      "Permutation test\n",
      "Calculating: [====================================================================================================] 100.00%\n",
      "Cluster-based permutation test finished!\n",
      "\n",
      "\n",
      "Significant time-windows:\n",
      "390ms to 434ms\n"
     ]
    }
   ],
   "source": [
    "from neurora.rsa_plot import plot_tbytsim_withstats\n",
    "corrs_EEGvsYindiao_behavior = rdms_corr(RDM_model_yindiao_xw, rdms)\n",
    "#配合RDMS的时间窗是 50ms，步长是5ms = 0.005\n",
    "ps_corrs_EEGvsYindiao_behavior = plot_tbytsim_withstats(corrs_EEGvsYindiao_behavior, start_time=-0.15, end_time=0.805, time_interval=0.005, p=0.05,clusterp=0.05, color='r',stats_time=[0,0.8], xlim=[-0.2,1], fontsize=9)\n",
    "\n"
   ],
   "metadata": {
    "collapsed": false,
    "ExecuteTime": {
     "end_time": "2023-05-27T17:01:09.621535700Z",
     "start_time": "2023-05-27T17:01:02.341442500Z"
    }
   }
  },
  {
   "cell_type": "markdown",
   "source": [
    "### 结果保存"
   ],
   "metadata": {
    "collapsed": false
   }
  },
  {
   "cell_type": "code",
   "execution_count": 17,
   "outputs": [],
   "source": [
    "np.save('./脑电结果/corrs_EEGvsFuyin_behavior_非DD.npy', corrs_EEGvsFuyin_behavior)\n",
    "np.save('./脑电结果/ps_corrs_EEGvsFuyin_behavior_非DD.npy', ps_corrs_EEGvsFuyin_behavior)"
   ],
   "metadata": {
    "collapsed": false,
    "ExecuteTime": {
     "end_time": "2023-05-24T02:45:29.889237300Z",
     "start_time": "2023-05-24T02:45:29.818426200Z"
    }
   }
  },
  {
   "cell_type": "code",
   "execution_count": null,
   "outputs": [],
   "source": [],
   "metadata": {
    "collapsed": false
   }
  }
 ],
 "metadata": {
  "kernelspec": {
   "name": "mne12",
   "language": "python",
   "display_name": "Python(mne12)"
  },
  "language_info": {
   "codemirror_mode": {
    "name": "ipython",
    "version": 2
   },
   "file_extension": ".py",
   "mimetype": "text/x-python",
   "name": "python",
   "nbconvert_exporter": "python",
   "pygments_lexer": "ipython2",
   "version": "2.7.6"
  }
 },
 "nbformat": 4,
 "nbformat_minor": 0
}
