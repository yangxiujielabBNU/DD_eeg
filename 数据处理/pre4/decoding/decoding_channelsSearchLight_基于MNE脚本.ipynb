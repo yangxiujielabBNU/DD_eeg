{
 "cells": [
  {
   "cell_type": "markdown",
   "source": [
    "## 参考文献\n",
    "\n",
    "https://users.aalto.fi/~vanvlm1/mne-rsa/auto_examples/plot_sensor_level.html\n",
    "\n",
    "\n",
    "http://www.pymvpa.org/examples.html#chap-examples\n",
    "http://www.pymvpa.org/tutorial_eventrelated_searchlight.html#chap-tutorial-eventrelated-searchlight\n",
    "http://www.pymvpa.org/generated/mvpa2.measures.searchlight.Searchlight.html#mvpa2.measures.searchlight.Searchlight\n",
    "\n",
    "several toolboxes have been developed that\n",
    "implement the methods described in the rest of this paper; the PyMVPA toolbox (Hanke, Halchenko, Sederberg, Hanson, et al., 2009; www.pymvpa.org) handles both fMRI and M/EEG data using the open-source Python language (Hanke, Halchenko, Sederberg, Olivetti, et al., 2009)\n",
    "\n",
    "\n",
    "\n",
    "https://mne.tools/stable/auto_examples/decoding/linear_model_patterns.html#ex-linear-patterns\n"
   ],
   "metadata": {
    "collapsed": false
   }
  },
  {
   "cell_type": "code",
   "execution_count": 1,
   "outputs": [],
   "source": [
    "import mne\n",
    "from mne import io, EvokedArray\n",
    "from mne.datasets import sample\n",
    "from mne.decoding import Vectorizer, get_coef\n",
    "\n",
    "from sklearn.preprocessing import StandardScaler\n",
    "from sklearn.linear_model import LogisticRegression\n",
    "from sklearn.pipeline import make_pipeline\n",
    "\n",
    "# import a linear classifier from mne.decoding\n",
    "from mne.decoding import LinearModel\n",
    "import numpy as np"
   ],
   "metadata": {
    "collapsed": false,
    "ExecuteTime": {
     "end_time": "2023-05-16T01:32:03.989222300Z",
     "start_time": "2023-05-16T01:31:05.687820300Z"
    }
   }
  },
  {
   "cell_type": "code",
   "execution_count": 2,
   "outputs": [
    {
     "name": "stdout",
     "output_type": "stream",
     "text": [
      "Reading E:\\实验\\阅读困难\\数据处理\\pre4\\data\\6epoch_clean_RSA\\pre4008_y_RSA-epo.fif ...\n",
      "    Found the data of interest:\n",
      "        t =    -200.00 ...     800.00 ms\n",
      "        0 CTF compensation matrices available\n",
      "Not setting metadata\n",
      "1275 matching events found\n",
      "No baseline correction applied\n",
      "0 projection items activated\n",
      "Dropped 59 epochs: 100, 101, 103, 113, 118, 119, 131, 135, 136, 137, 139, 141, 189, 192, 193, 385, 400, 402, 403, 420, 579, 582, 585, 740, 750, 901, 905, 907, 923, 927, 1053, 1057, 1058, 1059, 1072, 1075, 1076, 1077, 1170, 1172, 1173, 1174, 1175, 1177, 1179, 1180, 1181, 1182, 1183, 1184, 1185, 1186, 1187, 1188, 1189, 1191, 1192, 1193, 1194\n",
      "Reading E:\\实验\\阅读困难\\数据处理\\pre4\\data\\6epoch_clean_RSA\\pre4009_y_RSA-epo.fif ...\n",
      "    Found the data of interest:\n",
      "        t =    -200.00 ...     800.00 ms\n",
      "        0 CTF compensation matrices available\n",
      "Not setting metadata\n",
      "1007 matching events found\n",
      "No baseline correction applied\n",
      "0 projection items activated\n",
      "Dropped 63 epochs: 0, 2, 4, 7, 9, 12, 13, 15, 133, 150, 151, 152, 154, 155, 223, 224, 225, 226, 241, 243, 245, 247, 248, 249, 250, 251, 252, 253, 254, 255, 257, 260, 261, 264, 267, 281, 283, 284, 285, 287, 288, 289, 292, 295, 297, 299, 300, 301, 320, 321, 324, 333, 541, 623, 625, 665, 671, 675, 698, 702, 713, 726, 978\n",
      "Reading E:\\实验\\阅读困难\\数据处理\\pre4\\data\\6epoch_clean_RSA\\pre4010_y_RSA-epo.fif ...\n",
      "    Found the data of interest:\n",
      "        t =    -200.00 ...     800.00 ms\n",
      "        0 CTF compensation matrices available\n",
      "Not setting metadata\n",
      "1159 matching events found\n",
      "No baseline correction applied\n",
      "0 projection items activated\n",
      "Dropped 71 epochs: 251, 257, 258, 293, 297, 301, 302, 303, 306, 307, 308, 309, 320, 331, 332, 335, 349, 350, 353, 356, 359, 361, 429, 437, 451, 452, 453, 454, 474, 476, 508, 619, 620, 623, 642, 643, 644, 704, 828, 865, 1032, 1041, 1043, 1046, 1047, 1048, 1049, 1050, 1052, 1074, 1078, 1096, 1106, 1136, 1139, 1140, 1142, 1144, 1145, 1146, 1147, 1148, 1149, 1150, 1151, 1152, 1153, 1154, 1155, 1156, 1157\n",
      "Reading E:\\实验\\阅读困难\\数据处理\\pre4\\data\\6epoch_clean_RSA\\pre4011_y_RSA-epo.fif ...\n",
      "    Found the data of interest:\n",
      "        t =    -200.00 ...     800.00 ms\n",
      "        0 CTF compensation matrices available\n",
      "Not setting metadata\n",
      "1158 matching events found\n",
      "No baseline correction applied\n",
      "0 projection items activated\n",
      "Dropped 118 epochs: 0, 2, 19, 20, 40, 41, 44, 51, 67, 662, 665, 668, 669, 690, 693, 695, 697, 699, 702, 703, 704, 705, 706, 707, 709, 710, 711, 739, 744, 745, 746, 760, 761, 764, 766, 767, 768, 769, 770, 771, 774, 775, 776, 778, 779, 781, 782, 814, 885, 896, 898, 899, 902, 934, 944, 948, 1021, 1025, 1028, 1029, 1030, 1031, 1032, 1035, 1036, 1038, 1040, 1041, 1042, 1043, 1044, 1045, 1046, 1047, 1048, 1050, 1051, 1052, 1053, 1054, 1055, 1058, 1059, 1060, 1061, 1062, 1063, 1064, 1065, 1068, 1080, 1081, 1082, 1083, 1085, 1086, 1088, 1089, 1090, 1091, 1092, 1093, 1096, 1099, 1102, 1115, 1116, 1119, 1143, 1144, 1145, 1148, 1151, 1152, 1154, 1155, 1156, 1157\n",
      "Reading E:\\实验\\阅读困难\\数据处理\\pre4\\data\\6epoch_clean_RSA\\pre4012_y_RSA-epo.fif ...\n",
      "    Found the data of interest:\n",
      "        t =    -200.00 ...     800.00 ms\n",
      "        0 CTF compensation matrices available\n",
      "Not setting metadata\n",
      "1141 matching events found\n",
      "No baseline correction applied\n",
      "0 projection items activated\n",
      "Dropped 101 epochs: 55, 92, 93, 105, 129, 130, 132, 214, 215, 217, 220, 256, 259, 260, 263, 264, 265, 297, 298, 304, 305, 306, 307, 308, 310, 330, 345, 346, 347, 349, 351, 402, 403, 404, 407, 438, 440, 441, 473, 479, 480, 481, 482, 483, 551, 552, 554, 556, 557, 558, 562, 566, 567, 571, 572, 638, 642, 655, 677, 678, 680, 683, 684, 685, 686, 687, 689, 690, 691, 692, 693, 708, 709, 712, 714, 718, 734, 735, 736, 737, 738, 739, 740, 742, 743, 744, 745, 746, 747, 750, 768, 769, 773, 775, 890, 940, 945, 950, 957, 979, 1006\n",
      "Reading E:\\实验\\阅读困难\\数据处理\\pre4\\data\\6epoch_clean_RSA\\pre4013_y_RSA-epo.fif ...\n",
      "    Found the data of interest:\n",
      "        t =    -200.00 ...     800.00 ms\n",
      "        0 CTF compensation matrices available\n",
      "Not setting metadata\n",
      "1270 matching events found\n",
      "No baseline correction applied\n",
      "0 projection items activated\n",
      "Dropped 70 epochs: 125, 154, 157, 158, 159, 162, 163, 165, 291, 292, 293, 294, 402, 502, 505, 506, 508, 569, 583, 625, 630, 634, 662, 715, 722, 783, 786, 789, 790, 792, 793, 817, 818, 821, 833, 834, 835, 836, 837, 838, 839, 840, 842, 843, 851, 869, 872, 893, 899, 911, 915, 916, 917, 919, 921, 953, 957, 960, 962, 1179, 1183, 1193, 1194, 1197, 1199, 1200, 1202, 1203, 1219, 1221\n",
      "Reading E:\\实验\\阅读困难\\数据处理\\pre4\\data\\6epoch_clean_RSA\\pre4014_y_RSA-epo.fif ...\n",
      "    Found the data of interest:\n",
      "        t =    -200.00 ...     800.00 ms\n",
      "        0 CTF compensation matrices available\n",
      "Not setting metadata\n",
      "1332 matching events found\n",
      "No baseline correction applied\n",
      "0 projection items activated\n",
      "Dropped 116 epochs: 78, 79, 80, 82, 85, 88, 102, 103, 116, 117, 121, 124, 125, 126, 127, 128, 129, 132, 133, 134, 135, 181, 198, 199, 203, 205, 207, 208, 211, 461, 479, 488, 490, 494, 496, 497, 499, 502, 515, 518, 519, 520, 521, 522, 524, 525, 526, 541, 544, 545, 546, 547, 548, 549, 550, 551, 552, 553, 554, 555, 556, 557, 558, 559, 561, 562, 563, 564, 565, 568, 665, 667, 670, 673, 675, 713, 717, 718, 842, 845, 846, 847, 848, 862, 959, 961, 962, 966, 967, 968, 1047, 1050, 1052, 1053, 1055, 1056, 1057, 1248, 1258, 1280, 1281, 1287, 1300, 1301, 1302, 1303, 1304, 1305, 1306, 1325, 1326, 1327, 1328, 1329, 1330, 1331\n",
      "Reading E:\\实验\\阅读困难\\数据处理\\pre4\\data\\6epoch_clean_RSA\\pre4015_y_RSA-epo.fif ...\n",
      "    Found the data of interest:\n",
      "        t =    -200.00 ...     800.00 ms\n",
      "        0 CTF compensation matrices available\n",
      "Not setting metadata\n",
      "1104 matching events found\n",
      "No baseline correction applied\n",
      "0 projection items activated\n",
      "Dropped 144 epochs: 31, 32, 33, 34, 38, 39, 40, 41, 144, 145, 148, 151, 156, 157, 158, 160, 161, 162, 164, 181, 209, 210, 213, 214, 215, 216, 217, 219, 220, 221, 225, 226, 228, 229, 231, 286, 290, 291, 403, 404, 407, 409, 410, 412, 565, 566, 567, 569, 571, 574, 575, 576, 577, 578, 579, 580, 581, 582, 583, 585, 587, 589, 590, 591, 605, 606, 607, 608, 610, 611, 612, 614, 616, 649, 650, 651, 652, 653, 656, 657, 658, 659, 660, 661, 662, 663, 664, 692, 693, 694, 696, 699, 700, 701, 702, 703, 704, 705, 706, 740, 743, 745, 748, 769, 791, 792, 799, 809, 813, 814, 815, 816, 817, 818, 819, 821, 824, 832, 843, 845, 846, 930, 938, 954, 957, 961, 962, 964, 966, 969, 970, 977, 981, 1022, 1026, 1037, 1039, 1040, 1045, 1078, 1082, 1086, 1090, 1091\n",
      "Reading E:\\实验\\阅读困难\\数据处理\\pre4\\data\\6epoch_clean_RSA\\pre4017_y_RSA-epo.fif ...\n",
      "    Found the data of interest:\n",
      "        t =    -200.00 ...     800.00 ms\n",
      "        0 CTF compensation matrices available\n",
      "Not setting metadata\n",
      "1325 matching events found\n",
      "No baseline correction applied\n",
      "0 projection items activated\n",
      "Dropped 93 epochs: 479, 531, 537, 538, 540, 545, 546, 549, 551, 554, 824, 830, 832, 835, 839, 842, 843, 844, 845, 850, 851, 865, 866, 869, 871, 884, 885, 886, 889, 891, 892, 1036, 1037, 1040, 1042, 1043, 1045, 1049, 1050, 1051, 1052, 1053, 1127, 1128, 1129, 1131, 1132, 1133, 1134, 1135, 1136, 1139, 1140, 1141, 1142, 1143, 1144, 1145, 1146, 1147, 1149, 1163, 1164, 1165, 1167, 1169, 1170, 1171, 1172, 1174, 1175, 1176, 1178, 1179, 1180, 1181, 1182, 1183, 1184, 1185, 1186, 1188, 1190, 1191, 1192, 1196, 1197, 1199, 1200, 1201, 1266, 1267, 1268\n",
      "Reading E:\\实验\\阅读困难\\数据处理\\pre4\\data\\6epoch_clean_RSA\\pre4021_y_RSA-epo.fif ...\n",
      "    Found the data of interest:\n",
      "        t =    -200.00 ...     800.00 ms\n",
      "        0 CTF compensation matrices available\n",
      "Not setting metadata\n",
      "1222 matching events found\n",
      "No baseline correction applied\n",
      "0 projection items activated\n",
      "Dropped 86 epochs: 109, 110, 111, 112, 114, 116, 117, 119, 121, 125, 139, 140, 143, 144, 146, 180, 181, 184, 186, 215, 241, 243, 337, 339, 341, 345, 346, 347, 348, 352, 353, 354, 357, 608, 611, 612, 613, 726, 727, 730, 933, 935, 936, 938, 940, 957, 958, 959, 960, 962, 963, 964, 965, 966, 971, 999, 1000, 1004, 1005, 1098, 1100, 1102, 1103, 1104, 1107, 1108, 1109, 1112, 1113, 1114, 1115, 1158, 1159, 1162, 1163, 1165, 1166, 1169, 1173, 1176, 1180, 1191, 1192, 1194, 1195, 1197\n",
      "Reading E:\\实验\\阅读困难\\数据处理\\pre4\\data\\6epoch_clean_RSA\\pre4022_y_RSA-epo.fif ...\n",
      "    Found the data of interest:\n",
      "        t =    -200.00 ...     800.00 ms\n",
      "        0 CTF compensation matrices available\n",
      "Not setting metadata\n",
      "996 matching events found\n",
      "No baseline correction applied\n",
      "0 projection items activated\n",
      "Dropped 52 epochs: 141, 142, 143, 146, 147, 149, 150, 151, 153, 160, 161, 162, 163, 165, 232, 234, 453, 491, 494, 496, 498, 499, 500, 501, 502, 503, 504, 505, 506, 508, 509, 510, 511, 512, 515, 516, 517, 518, 519, 520, 521, 522, 523, 524, 526, 527, 528, 850, 852, 853, 855, 858\n",
      "Reading E:\\实验\\阅读困难\\数据处理\\pre4\\data\\6epoch_clean_RSA\\pre4023_y_RSA-epo.fif ...\n",
      "    Found the data of interest:\n",
      "        t =    -200.00 ...     800.00 ms\n",
      "        0 CTF compensation matrices available\n",
      "Not setting metadata\n",
      "1310 matching events found\n",
      "No baseline correction applied\n",
      "0 projection items activated\n",
      "Dropped 62 epochs: 89, 94, 154, 156, 158, 164, 386, 388, 390, 392, 481, 504, 514, 600, 610, 612, 615, 618, 916, 921, 968, 970, 972, 975, 976, 978, 991, 992, 996, 997, 999, 1000, 1001, 1002, 1003, 1004, 1025, 1026, 1027, 1029, 1030, 1034, 1035, 1036, 1038, 1039, 1100, 1103, 1105, 1106, 1107, 1108, 1109, 1110, 1111, 1220, 1238, 1268, 1275, 1276, 1278, 1279\n",
      "Reading E:\\实验\\阅读困难\\数据处理\\pre4\\data\\6epoch_clean_RSA\\pre4026_y_RSA-epo.fif ...\n",
      "    Found the data of interest:\n",
      "        t =    -200.00 ...     800.00 ms\n",
      "        0 CTF compensation matrices available\n",
      "Not setting metadata\n",
      "1284 matching events found\n",
      "No baseline correction applied\n",
      "0 projection items activated\n",
      "Dropped 52 epochs: 112, 113, 118, 121, 122, 123, 285, 293, 321, 322, 326, 329, 332, 391, 393, 419, 420, 445, 446, 448, 451, 548, 563, 564, 568, 645, 672, 691, 692, 713, 718, 840, 844, 845, 846, 847, 848, 849, 850, 851, 868, 870, 872, 874, 892, 894, 895, 896, 913, 916, 920, 921\n",
      "Reading E:\\实验\\阅读困难\\数据处理\\pre4\\data\\6epoch_clean_RSA\\pre4027_y_RSA-epo.fif ...\n",
      "    Found the data of interest:\n",
      "        t =    -200.00 ...     800.00 ms\n",
      "        0 CTF compensation matrices available\n",
      "Not setting metadata\n",
      "1261 matching events found\n",
      "No baseline correction applied\n",
      "0 projection items activated\n",
      "Dropped 141 epochs: 66, 69, 80, 81, 82, 83, 84, 86, 88, 243, 245, 247, 248, 249, 251, 270, 271, 272, 273, 274, 275, 277, 278, 280, 281, 282, 283, 284, 395, 397, 399, 403, 404, 577, 579, 580, 581, 582, 583, 584, 585, 586, 691, 693, 696, 697, 698, 700, 701, 702, 705, 706, 707, 708, 709, 711, 712, 714, 715, 716, 717, 718, 719, 783, 800, 801, 802, 803, 804, 807, 808, 818, 825, 826, 827, 857, 859, 860, 861, 862, 863, 865, 866, 868, 869, 871, 1028, 1029, 1031, 1032, 1033, 1034, 1035, 1036, 1038, 1039, 1040, 1041, 1043, 1104, 1105, 1107, 1108, 1109, 1110, 1113, 1141, 1147, 1148, 1149, 1150, 1151, 1153, 1168, 1170, 1172, 1174, 1175, 1190, 1191, 1192, 1193, 1196, 1197, 1198, 1199, 1201, 1202, 1203, 1217, 1218, 1219, 1221, 1224, 1225, 1226, 1227, 1230, 1231, 1235, 1237\n",
      "Reading E:\\实验\\阅读困难\\数据处理\\pre4\\data\\6epoch_clean_RSA\\pre4028_y_RSA-epo.fif ...\n",
      "    Found the data of interest:\n",
      "        t =    -200.00 ...     800.00 ms\n",
      "        0 CTF compensation matrices available\n",
      "Not setting metadata\n",
      "1236 matching events found\n",
      "No baseline correction applied\n",
      "0 projection items activated\n",
      "Dropped 84 epochs: 0, 3, 15, 20, 24, 27, 70, 322, 335, 338, 340, 359, 361, 424, 426, 427, 428, 432, 434, 448, 449, 451, 453, 454, 455, 457, 488, 489, 490, 491, 492, 494, 501, 502, 513, 517, 518, 519, 520, 523, 524, 525, 526, 527, 528, 529, 530, 593, 594, 596, 598, 600, 601, 602, 603, 670, 674, 675, 681, 917, 918, 927, 928, 929, 931, 933, 935, 942, 957, 962, 963, 994, 998, 1001, 1004, 1007, 1009, 1010, 1029, 1090, 1091, 1092, 1168, 1186\n",
      "Reading E:\\实验\\阅读困难\\数据处理\\pre4\\data\\6epoch_clean_RSA\\pre4029_y_RSA-epo.fif ...\n",
      "    Found the data of interest:\n",
      "        t =    -200.00 ...     800.00 ms\n",
      "        0 CTF compensation matrices available\n",
      "Not setting metadata\n",
      "1332 matching events found\n",
      "No baseline correction applied\n",
      "0 projection items activated\n",
      "Dropped 68 epochs: 2, 15, 16, 17, 18, 19, 20, 21, 23, 25, 26, 27, 41, 48, 61, 62, 64, 65, 66, 67, 69, 70, 72, 73, 75, 76, 77, 80, 81, 82, 84, 85, 86, 117, 118, 120, 121, 124, 148, 153, 472, 475, 489, 499, 517, 697, 704, 706, 707, 708, 709, 710, 833, 835, 838, 853, 856, 873, 1048, 1049, 1050, 1152, 1166, 1170, 1171, 1173, 1175, 1176\n",
      "Reading E:\\实验\\阅读困难\\数据处理\\pre4\\data\\6epoch_clean_RSA\\pre4030_y_RSA-epo.fif ...\n",
      "    Found the data of interest:\n",
      "        t =    -200.00 ...     800.00 ms\n",
      "        0 CTF compensation matrices available\n",
      "Not setting metadata\n",
      "1255 matching events found\n",
      "No baseline correction applied\n",
      "0 projection items activated\n",
      "Dropped 71 epochs: 245, 247, 248, 315, 316, 320, 322, 324, 325, 326, 404, 405, 406, 407, 408, 412, 413, 416, 417, 427, 428, 430, 431, 432, 654, 768, 770, 774, 790, 792, 793, 799, 801, 802, 821, 823, 825, 828, 858, 860, 861, 863, 865, 870, 873, 1041, 1042, 1048, 1049, 1065, 1070, 1073, 1074, 1075, 1076, 1080, 1083, 1085, 1089, 1090, 1239, 1240, 1245, 1246, 1247, 1248, 1249, 1250, 1251, 1253, 1254\n"
     ]
    },
    {
     "data": {
      "text/plain": "'\\n思路，先求ERP，然后再给ndarray，然后再计算RDM\\n'"
     },
     "execution_count": 2,
     "metadata": {},
     "output_type": "execute_result"
    }
   ],
   "source": [
    "list_epochs_all = list()\n",
    "\n",
    "sub_ids = [\n",
    "\n",
    "    \"pre4008_y\",\"pre4009_y\",\"pre4010_y\",\"pre4011_y\",\"pre4012_y\",\"pre4013_y\",\n",
    "    \"pre4014_y\",\"pre4015_y\",\"pre4017_y\",\n",
    "    \"pre4021_y\",\"pre4022_y\",\"pre4023_y\",\"pre4026_y\",\"pre4027_y\",\"pre4028_y\",\"pre4029_y\",\"pre4030_y\",\n",
    "\n",
    "\n",
    "]\n",
    "\n",
    "file_path = 'E:\\实验\\阅读困难\\数据处理\\pre4\\data\\\\6epoch_clean_RSA\\\\'\n",
    "\n",
    "for sub_id in sub_ids:\n",
    "    data_path = file_path + sub_id + '_RSA-epo.fif'\n",
    "    epochs_all = mne.read_epochs(fname=data_path)\n",
    "    #做decoding要考虑被试内每个条件试次一样，如果被试间不一样可以用循环来解决。\n",
    "    epochs_all.equalize_event_counts(method='mintime')\n",
    "    list_epochs_all.append(epochs_all)\n",
    "\n",
    "# 如果只想看某一部分的脑区,配合更改ndarray的维度\n",
    "# channels_nieye = ['M1','T7','P7','TP7','M2','T8','P8','TP8','CP5','CP6','C5','C6']\n",
    "# epochs_nieye = epochs_all.pick(picks=channels_nieye)\n",
    "\n",
    "'''\n",
    "思路，先求ERP，然后再给ndarray，然后再计算RDM\n",
    "'''"
   ],
   "metadata": {
    "collapsed": false,
    "ExecuteTime": {
     "end_time": "2023-05-16T01:33:15.702406Z",
     "start_time": "2023-05-16T01:32:04.666198100Z"
    }
   }
  },
  {
   "cell_type": "code",
   "execution_count": 3,
   "outputs": [],
   "source": [
    "'''\n",
    "先整理单个的被试看看\n",
    "\n",
    "data的结构要求： [n_subs, n_trials, n_chls, n_ts]\n",
    "label的结构要求： [n_subs, n_trials]\n",
    "\n",
    "'''\n",
    "\n",
    "conds = ['101', '102', '103', '104', '111', '112', '113', '114', '121', '122', '123', '124', '131', '132', '133', '134', ]\n",
    "\n",
    "num_conds = len(conds)\n",
    "\n",
    "#初始值\n",
    "subindex = 0\n",
    "list_subdata = list()\n",
    "list_sublabel = list()\n",
    "n_subs = len(sub_ids)\n",
    "n_ts = 191\n",
    "accs_fuyin_allsubs = np.zeros([n_subs, n_ts])\n",
    "accs_yindiao_allsubs = np.zeros([n_subs, n_ts])"
   ],
   "metadata": {
    "collapsed": false,
    "ExecuteTime": {
     "end_time": "2023-05-16T01:35:05.430715400Z",
     "start_time": "2023-05-16T01:35:05.331979400Z"
    }
   }
  },
  {
   "cell_type": "code",
   "execution_count": null,
   "outputs": [],
   "source": [
    "for m in range(len(sub_ids)):\n",
    "    #单个被试的数据\n",
    "    epochs_forlen = list_epochs_all[m][conds[0]]\n",
    "    # 每个被试的trial数量是不一样的\n",
    "    # trial数不能放在第一位，第一位是condition\n",
    "    num_trials = len(epochs_forlen.events[:,1])\n",
    "    subdata = np.zeros([num_conds, num_trials, 62,  1001], dtype=np.float32)\n",
    "    sublabel = np.zeros([0,0])\n",
    "\n",
    "    for i in range(len(conds)):\n",
    "        epochs = list_epochs_all[m][conds[i]]\n",
    "        #做decoding，这里就不能是平均了吧。\n",
    "        # 这里get_data()还会把所有的channel都选上，你需要pick一下,只要eeg，不要眼动数据\n",
    "        data = epochs.get_data(picks='eeg')\n",
    "        label_cond = epochs.events[:,2]\n",
    "        #每种条件的cond\n",
    "        sublabel = np.append(sublabel,label_cond)\n",
    "        sublabel = np.reshape(sublabel, [1,len(sublabel[:])])\n",
    "        subdata[i] = data\n",
    "        # 现在是[con, trial, chan, ts]\n",
    "        # [n_cons, n_subs, n_trials, n_chls, n_ts]需要这样的结构\n",
    "        # 需要中间插入一个subs\n",
    "    subdata = np.reshape(subdata, [num_conds, 1, num_trials, 62, 1001])\n",
    "    # 在某个维度上面拉平\n",
    "    # 把condition的维度乘到 trial上面？\n",
    "    data_decode = np.reshape(subdata,[1, num_conds * num_trials,  62, 1001])\n",
    "    list_subdata.append(data_decode)\n",
    "    list_sublabel.append(sublabel)\n",
    "\n",
    "    label_original = sublabel\n",
    "    label_yindiao = ((label_original-100)%10).astype(int)\n",
    "    accs_yindiao = tbyt_decoding_kfold(data_decode,label_yindiao, n=4, time_win=50,time_step=5, nfolds=5, nrepeats=10, navg=10)\n",
    "    accs_yindiao_allsubs[i] = accs_yindiao\n"
   ],
   "metadata": {
    "collapsed": false
   }
  },
  {
   "cell_type": "code",
   "execution_count": null,
   "outputs": [],
   "source": [
    "m = 0\n",
    "#单个被试的数据\n",
    "epochs_forlen = list_epochs_all[m][conds[0]]\n",
    "# 每个被试的trial数量是不一样的\n",
    "# trial数不能放在第一位，第一位是condition\n",
    "num_trials = len(epochs_forlen.events[:,1])\n",
    "subdata = np.zeros([num_conds, num_trials, 62,  1001], dtype=np.float32)\n",
    "sublabel = np.zeros([0,0])\n",
    "\n",
    "for i in range(len(conds)):\n",
    "    epochs = list_epochs_all[m][conds[i]]\n",
    "    #做decoding，这里就不能是平均了吧。\n",
    "    # 这里get_data()还会把所有的channel都选上，你需要pick一下,只要eeg，不要眼动数据\n",
    "    data = epochs.get_data(picks='eeg')\n",
    "    label_cond = epochs.events[:,2]\n",
    "    #每种条件的cond\n",
    "    sublabel = np.append(sublabel,label_cond)\n",
    "    sublabel = np.reshape(sublabel, [1,len(sublabel[:])])\n",
    "    subdata[i] = data\n",
    "    # 现在是[con, trial, chan, ts]\n",
    "    # [n_cons, n_subs, n_trials, n_chls, n_ts]需要这样的结构\n",
    "    # 需要中间插入一个subs"
   ],
   "metadata": {
    "collapsed": false
   }
  },
  {
   "cell_type": "code",
   "execution_count": 17,
   "outputs": [
    {
     "name": "stdout",
     "output_type": "stream",
     "text": [
      "[[101. 101. 101. ... 134. 134. 134.]]\n",
      "(1, 1216)\n"
     ]
    },
    {
     "data": {
      "text/plain": "(16, 76, 62, 1001)"
     },
     "execution_count": 17,
     "metadata": {},
     "output_type": "execute_result"
    }
   ],
   "source": [
    "print(sublabel)\n",
    "print(sublabel.shape)\n",
    "subdata.shape"
   ],
   "metadata": {
    "collapsed": false,
    "ExecuteTime": {
     "end_time": "2023-05-16T02:23:54.704241500Z",
     "start_time": "2023-05-16T02:23:54.684295800Z"
    }
   }
  },
  {
   "cell_type": "code",
   "execution_count": 18,
   "outputs": [
    {
     "name": "stdout",
     "output_type": "stream",
     "text": [
      "NOTE: pick_types() is a legacy function. New code should use inst.pick(...).\n"
     ]
    }
   ],
   "source": [
    "meg_epochs = list_epochs_all[0].copy().pick_types(meg=False, eeg=True)\n",
    "labels = sublabel.flatten()\n",
    "meg_data = meg_epochs.get_data().reshape(1216, -1)\n",
    "\n"
   ],
   "metadata": {
    "collapsed": false,
    "ExecuteTime": {
     "end_time": "2023-05-16T02:25:03.392158300Z",
     "start_time": "2023-05-16T02:25:01.791355Z"
    }
   }
  },
  {
   "cell_type": "code",
   "execution_count": 19,
   "outputs": [
    {
     "name": "stdout",
     "output_type": "stream",
     "text": [
      "1\n"
     ]
    }
   ],
   "source": [
    "print(len(sublabel))"
   ],
   "metadata": {
    "collapsed": false,
    "ExecuteTime": {
     "end_time": "2023-05-16T02:25:05.710261900Z",
     "start_time": "2023-05-16T02:25:05.701286700Z"
    }
   }
  },
  {
   "cell_type": "code",
   "execution_count": null,
   "outputs": [],
   "source": [
    "\n",
    "clf = LogisticRegression(solver=\"liblinear\")  # liblinear is faster than lbfgs\n",
    "scaler = StandardScaler()\n",
    "\n",
    "# create a linear model with LogisticRegression\n",
    "model = LinearModel(clf)\n",
    "\n",
    "# fit the classifier on MEG data\n",
    "X = scaler.fit_transform(meg_data)\n",
    "model.fit(X, labels)\n",
    "\n",
    "# Extract and plot spatial filters and spatial patterns\n",
    "for name, coef in ((\"patterns\", model.patterns_), (\"filters\", model.filters_)):\n",
    "    # We fitted the linear model onto Z-scored data. To make the filters\n",
    "    # interpretable, we must reverse this normalization step\n",
    "    coef = scaler.inverse_transform([coef])[0]\n",
    "\n",
    "    # The data was vectorized to fit a single model across all time points and\n",
    "    # all channels. We thus reshape it:\n",
    "    coef = coef.reshape(len(epochs.ch_names), -1)\n",
    "\n",
    "    # Plot\n",
    "    evoked = EvokedArray(coef, epochs.info, tmin=epochs.tmin)\n",
    "    fig = evoked.plot_topomap()\n",
    "    fig.suptitle(f\"MEG {name}\")"
   ],
   "metadata": {
    "collapsed": false,
    "is_executing": true,
    "ExecuteTime": {
     "start_time": "2023-05-16T02:25:06.817630800Z"
    }
   }
  },
  {
   "cell_type": "code",
   "execution_count": null,
   "outputs": [],
   "source": [],
   "metadata": {
    "collapsed": false
   }
  }
 ],
 "metadata": {
  "kernelspec": {
   "name": "mne12",
   "language": "python",
   "display_name": "Python(mne12)"
  },
  "language_info": {
   "codemirror_mode": {
    "name": "ipython",
    "version": 2
   },
   "file_extension": ".py",
   "mimetype": "text/x-python",
   "name": "python",
   "nbconvert_exporter": "python",
   "pygments_lexer": "ipython2",
   "version": "2.7.6"
  }
 },
 "nbformat": 4,
 "nbformat_minor": 0
}
