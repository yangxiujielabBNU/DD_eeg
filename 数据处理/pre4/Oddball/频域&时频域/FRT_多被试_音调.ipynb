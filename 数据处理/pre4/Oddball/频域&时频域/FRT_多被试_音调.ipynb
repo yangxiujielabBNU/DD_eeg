{
 "cells": [
  {
   "cell_type": "code",
   "execution_count": 13,
   "outputs": [
    {
     "data": {
      "text/plain": "'\\n多被试的情况下该怎么做呢？\\npsds\\n\\nsnrs\\n\\npower\\n\\nitc\\n\\n这几个变量都是可以叠加的吧，如果是做被试间，那么所有的数据都应该某人被试内平均过了，不应该有channel信息。\\n\\n每个被试的这四个值分别存入不同的list当中，再来做统计 和 平均。\\n'"
     },
     "execution_count": 13,
     "metadata": {},
     "output_type": "execute_result"
    }
   ],
   "source": [
    "'''\n",
    "多被试的情况下该怎么做呢？\n",
    "psds\n",
    "\n",
    "snrs\n",
    "\n",
    "power\n",
    "\n",
    "itc\n",
    "\n",
    "这几个变量都是可以叠加的吧，如果是做被试间，那么所有的数据都应该某人被试内平均过了，不应该有channel信息。\n",
    "\n",
    "每个被试的这四个值分别存入不同的list当中，再来做统计 和 平均。\n",
    "'''\n"
   ],
   "metadata": {
    "collapsed": false,
    "pycharm": {
     "name": "#%%\n"
    }
   }
  },
  {
   "cell_type": "code",
   "execution_count": 1,
   "outputs": [],
   "source": [
    "import  mne\n",
    "import matplotlib.pyplot as plt\n",
    "from mne.time_frequency import tfr_morlet, psd_multitaper, psd_welch\n",
    "import numpy as np"
   ],
   "metadata": {
    "collapsed": false,
    "pycharm": {
     "name": "#%%\n"
    }
   }
  },
  {
   "cell_type": "code",
   "execution_count": 2,
   "outputs": [],
   "source": [
    "data_path = 'E:\\实验\\阅读困难\\数据处理\\pre1nanshi\\data\\\\6epoch_equalization_oddball\\\\'\n",
    "#被试2的数据不完整\n",
    "sub_ids = [\n",
    "            'pre1001','pre1003','pre1004','pre1005','pre1006'\n",
    "          ]\n",
    "def snr_spectrum(psd, noise_n_neighbor_freqs=1, noise_skip_neighbor_freqs=1):\n",
    "    \"\"\"Compute SNR spectrum from PSD spectrum using convolution.\n",
    "\n",
    "    Parameters\n",
    "    ----------\n",
    "    psd : ndarray, shape ([n_trials, n_channels,] n_frequency_bins)\n",
    "        Data object containing PSD values. Works with arrays as produced by\n",
    "        MNE's PSD functions or channel/trial subsets.\n",
    "    noise_n_neighbor_freqs : int\n",
    "        Number of neighboring frequencies used to compute noise level.\n",
    "        increment by one to add one frequency bin ON BOTH SIDES\n",
    "    noise_skip_neighbor_freqs : int\n",
    "        set this >=1 if you want to exclude the immediately neighboring\n",
    "        frequency bins in noise level calculation\n",
    "\n",
    "    Returns\n",
    "    -------\n",
    "    snr : ndarray, shape ([n_trials, n_channels,] n_frequency_bins)\n",
    "        Array containing SNR for all epochs, channels, frequency bins.\n",
    "        NaN for frequencies on the edges, that do not have enough neighbors on\n",
    "        one side to calculate SNR.\n",
    "    \"\"\"\n",
    "    # Construct a kernel that calculates the mean of the neighboring\n",
    "    # frequencies\n",
    "    averaging_kernel = np.concatenate((\n",
    "        np.ones(noise_n_neighbor_freqs),\n",
    "        np.zeros(2 * noise_skip_neighbor_freqs + 1),\n",
    "        np.ones(noise_n_neighbor_freqs)))\n",
    "    averaging_kernel /= averaging_kernel.sum()\n",
    "\n",
    "    # Calculate the mean of the neighboring frequencies by convolving with the\n",
    "    # averaging kernel.\n",
    "    mean_noise = np.apply_along_axis(\n",
    "        lambda psd_: np.convolve(psd_, averaging_kernel, mode='valid'),\n",
    "        axis=-1, arr=psd\n",
    "    )\n",
    "\n",
    "    # The mean is not defined on the edges so we will pad it with nas. The\n",
    "    # padding needs to be done for the last dimension only so we set it to\n",
    "    # (0, 0) for the other ones.\n",
    "    edge_width = noise_n_neighbor_freqs + noise_skip_neighbor_freqs\n",
    "    pad_width = [(0, 0)] * (mean_noise.ndim - 1) + [(edge_width, edge_width)]\n",
    "    mean_noise = np.pad(\n",
    "        mean_noise, pad_width=pad_width, constant_values=np.nan\n",
    "    )\n",
    "\n",
    "    return psd / mean_noise\n"
   ],
   "metadata": {
    "collapsed": false,
    "pycharm": {
     "name": "#%%\n"
    }
   }
  },
  {
   "cell_type": "code",
   "execution_count": 3,
   "outputs": [
    {
     "name": "stdout",
     "output_type": "stream",
     "text": [
      "Reading E:\\实验\\阅读困难\\数据处理\\pre1nanshi\\data\\6epoch_equalization_oddball\\pre1001_std_t1ji-epo.fif ...\n",
      "    Found the data of interest:\n",
      "        t =    -500.00 ...    1000.00 ms\n",
      "        0 CTF compensation matrices available\n",
      "0 bad epochs dropped\n",
      "Not setting metadata\n",
      "55 matching events found\n",
      "No baseline correction applied\n",
      "0 projection items activated\n",
      "Reading E:\\实验\\阅读困难\\数据处理\\pre1nanshi\\data\\6epoch_equalization_oddball\\pre1001_std_t4ji-epo.fif ...\n",
      "    Found the data of interest:\n",
      "        t =    -500.00 ...    1000.00 ms\n",
      "        0 CTF compensation matrices available\n",
      "0 bad epochs dropped\n",
      "Not setting metadata\n",
      "60 matching events found\n",
      "No baseline correction applied\n",
      "0 projection items activated\n",
      "Not setting metadata\n",
      "115 matching events found\n",
      "Applying baseline correction (mode: mean)\n",
      "0 bad epochs dropped\n",
      "Reading E:\\实验\\阅读困难\\数据处理\\pre1nanshi\\data\\6epoch_equalization_oddball\\pre1001_odd_t1ji-epo.fif ...\n",
      "    Found the data of interest:\n",
      "        t =    -500.00 ...    1000.00 ms\n",
      "        0 CTF compensation matrices available\n",
      "0 bad epochs dropped\n",
      "Not setting metadata\n",
      "60 matching events found\n",
      "No baseline correction applied\n",
      "0 projection items activated\n",
      "Reading E:\\实验\\阅读困难\\数据处理\\pre1nanshi\\data\\6epoch_equalization_oddball\\pre1001_odd_t4ji-epo.fif ...\n",
      "    Found the data of interest:\n",
      "        t =    -500.00 ...    1000.00 ms\n",
      "        0 CTF compensation matrices available\n",
      "0 bad epochs dropped\n",
      "Not setting metadata\n",
      "55 matching events found\n",
      "No baseline correction applied\n",
      "0 projection items activated\n",
      "Not setting metadata\n",
      "115 matching events found\n",
      "Applying baseline correction (mode: mean)\n",
      "0 bad epochs dropped\n",
      "Reading E:\\实验\\阅读困难\\数据处理\\pre1nanshi\\data\\6epoch_equalization_oddball\\pre1003_std_t1ji-epo.fif ...\n",
      "    Found the data of interest:\n",
      "        t =    -500.00 ...    1000.00 ms\n",
      "        0 CTF compensation matrices available\n",
      "0 bad epochs dropped\n",
      "Not setting metadata\n",
      "50 matching events found\n",
      "No baseline correction applied\n",
      "0 projection items activated\n",
      "Reading E:\\实验\\阅读困难\\数据处理\\pre1nanshi\\data\\6epoch_equalization_oddball\\pre1003_std_t4ji-epo.fif ...\n",
      "    Found the data of interest:\n",
      "        t =    -500.00 ...    1000.00 ms\n",
      "        0 CTF compensation matrices available\n",
      "0 bad epochs dropped\n",
      "Not setting metadata\n",
      "58 matching events found\n",
      "No baseline correction applied\n",
      "0 projection items activated\n",
      "Not setting metadata\n",
      "108 matching events found\n",
      "Applying baseline correction (mode: mean)\n",
      "0 bad epochs dropped\n",
      "Reading E:\\实验\\阅读困难\\数据处理\\pre1nanshi\\data\\6epoch_equalization_oddball\\pre1003_odd_t1ji-epo.fif ...\n",
      "    Found the data of interest:\n",
      "        t =    -500.00 ...    1000.00 ms\n",
      "        0 CTF compensation matrices available\n",
      "0 bad epochs dropped\n",
      "Not setting metadata\n",
      "58 matching events found\n",
      "No baseline correction applied\n",
      "0 projection items activated\n",
      "Reading E:\\实验\\阅读困难\\数据处理\\pre1nanshi\\data\\6epoch_equalization_oddball\\pre1003_odd_t4ji-epo.fif ...\n",
      "    Found the data of interest:\n",
      "        t =    -500.00 ...    1000.00 ms\n",
      "        0 CTF compensation matrices available\n",
      "0 bad epochs dropped\n",
      "Not setting metadata\n",
      "50 matching events found\n",
      "No baseline correction applied\n",
      "0 projection items activated\n",
      "Not setting metadata\n",
      "108 matching events found\n",
      "Applying baseline correction (mode: mean)\n",
      "0 bad epochs dropped\n",
      "Reading E:\\实验\\阅读困难\\数据处理\\pre1nanshi\\data\\6epoch_equalization_oddball\\pre1004_std_t1ji-epo.fif ...\n",
      "    Found the data of interest:\n",
      "        t =    -500.00 ...    1000.00 ms\n",
      "        0 CTF compensation matrices available\n",
      "0 bad epochs dropped\n",
      "Not setting metadata\n",
      "55 matching events found\n",
      "No baseline correction applied\n",
      "0 projection items activated\n",
      "Reading E:\\实验\\阅读困难\\数据处理\\pre1nanshi\\data\\6epoch_equalization_oddball\\pre1004_std_t4ji-epo.fif ...\n",
      "    Found the data of interest:\n",
      "        t =    -500.00 ...    1000.00 ms\n",
      "        0 CTF compensation matrices available\n",
      "0 bad epochs dropped\n",
      "Not setting metadata\n",
      "61 matching events found\n",
      "No baseline correction applied\n",
      "0 projection items activated\n",
      "Not setting metadata\n",
      "116 matching events found\n",
      "Applying baseline correction (mode: mean)\n",
      "0 bad epochs dropped\n",
      "Reading E:\\实验\\阅读困难\\数据处理\\pre1nanshi\\data\\6epoch_equalization_oddball\\pre1004_odd_t1ji-epo.fif ...\n",
      "    Found the data of interest:\n",
      "        t =    -500.00 ...    1000.00 ms\n",
      "        0 CTF compensation matrices available\n",
      "0 bad epochs dropped\n",
      "Not setting metadata\n",
      "61 matching events found\n",
      "No baseline correction applied\n",
      "0 projection items activated\n",
      "Reading E:\\实验\\阅读困难\\数据处理\\pre1nanshi\\data\\6epoch_equalization_oddball\\pre1004_odd_t4ji-epo.fif ...\n",
      "    Found the data of interest:\n",
      "        t =    -500.00 ...    1000.00 ms\n",
      "        0 CTF compensation matrices available\n",
      "0 bad epochs dropped\n",
      "Not setting metadata\n",
      "55 matching events found\n",
      "No baseline correction applied\n",
      "0 projection items activated\n",
      "Not setting metadata\n",
      "116 matching events found\n",
      "Applying baseline correction (mode: mean)\n",
      "0 bad epochs dropped\n",
      "Reading E:\\实验\\阅读困难\\数据处理\\pre1nanshi\\data\\6epoch_equalization_oddball\\pre1005_std_t1ji-epo.fif ...\n",
      "    Found the data of interest:\n",
      "        t =    -500.00 ...    1000.00 ms\n",
      "        0 CTF compensation matrices available\n",
      "0 bad epochs dropped\n",
      "Not setting metadata\n",
      "47 matching events found\n",
      "No baseline correction applied\n",
      "0 projection items activated\n",
      "Reading E:\\实验\\阅读困难\\数据处理\\pre1nanshi\\data\\6epoch_equalization_oddball\\pre1005_std_t4ji-epo.fif ...\n",
      "    Found the data of interest:\n",
      "        t =    -500.00 ...    1000.00 ms\n",
      "        0 CTF compensation matrices available\n",
      "0 bad epochs dropped\n",
      "Not setting metadata\n",
      "61 matching events found\n",
      "No baseline correction applied\n",
      "0 projection items activated\n",
      "Not setting metadata\n",
      "108 matching events found\n",
      "Applying baseline correction (mode: mean)\n",
      "0 bad epochs dropped\n",
      "Reading E:\\实验\\阅读困难\\数据处理\\pre1nanshi\\data\\6epoch_equalization_oddball\\pre1005_odd_t1ji-epo.fif ...\n",
      "    Found the data of interest:\n",
      "        t =    -500.00 ...    1000.00 ms\n",
      "        0 CTF compensation matrices available\n",
      "0 bad epochs dropped\n",
      "Not setting metadata\n",
      "61 matching events found\n",
      "No baseline correction applied\n",
      "0 projection items activated\n",
      "Reading E:\\实验\\阅读困难\\数据处理\\pre1nanshi\\data\\6epoch_equalization_oddball\\pre1005_odd_t4ji-epo.fif ...\n",
      "    Found the data of interest:\n",
      "        t =    -500.00 ...    1000.00 ms\n",
      "        0 CTF compensation matrices available\n",
      "0 bad epochs dropped\n",
      "Not setting metadata\n",
      "47 matching events found\n",
      "No baseline correction applied\n",
      "0 projection items activated\n",
      "Not setting metadata\n",
      "108 matching events found\n",
      "Applying baseline correction (mode: mean)\n",
      "0 bad epochs dropped\n",
      "Reading E:\\实验\\阅读困难\\数据处理\\pre1nanshi\\data\\6epoch_equalization_oddball\\pre1006_std_t1ji-epo.fif ...\n",
      "    Found the data of interest:\n",
      "        t =    -500.00 ...    1000.00 ms\n",
      "        0 CTF compensation matrices available\n",
      "0 bad epochs dropped\n",
      "Not setting metadata\n",
      "61 matching events found\n",
      "No baseline correction applied\n",
      "0 projection items activated\n",
      "Reading E:\\实验\\阅读困难\\数据处理\\pre1nanshi\\data\\6epoch_equalization_oddball\\pre1006_std_t4ji-epo.fif ...\n",
      "    Found the data of interest:\n",
      "        t =    -500.00 ...    1000.00 ms\n",
      "        0 CTF compensation matrices available\n",
      "0 bad epochs dropped\n",
      "Not setting metadata\n",
      "61 matching events found\n",
      "No baseline correction applied\n",
      "0 projection items activated\n",
      "Not setting metadata\n",
      "122 matching events found\n",
      "Applying baseline correction (mode: mean)\n",
      "0 bad epochs dropped\n",
      "Reading E:\\实验\\阅读困难\\数据处理\\pre1nanshi\\data\\6epoch_equalization_oddball\\pre1006_odd_t1ji-epo.fif ...\n",
      "    Found the data of interest:\n",
      "        t =    -500.00 ...    1000.00 ms\n",
      "        0 CTF compensation matrices available\n",
      "0 bad epochs dropped\n",
      "Not setting metadata\n",
      "61 matching events found\n",
      "No baseline correction applied\n",
      "0 projection items activated\n",
      "Reading E:\\实验\\阅读困难\\数据处理\\pre1nanshi\\data\\6epoch_equalization_oddball\\pre1006_odd_t4ji-epo.fif ...\n",
      "    Found the data of interest:\n",
      "        t =    -500.00 ...    1000.00 ms\n",
      "        0 CTF compensation matrices available\n",
      "0 bad epochs dropped\n",
      "Not setting metadata\n",
      "61 matching events found\n",
      "No baseline correction applied\n",
      "0 projection items activated\n",
      "Not setting metadata\n",
      "122 matching events found\n",
      "Applying baseline correction (mode: mean)\n",
      "0 bad epochs dropped\n"
     ]
    }
   ],
   "source": [
    "list_psds_odd_std = list()\n",
    "\n",
    "list_snrs_odd_std_mean = list()\n",
    "\n",
    "list_power_odd_std = list()\n",
    "\n",
    "list_itc_odd_std = list()\n",
    "\n",
    "\n",
    "for sub_id in sub_ids:\n",
    "\n",
    "    epochs_std_BA = mne.read_epochs(data_path+sub_id+'_std_t1ji-epo.fif')\n",
    "    epochs_std_TA = mne.read_epochs(data_path+sub_id+'_std_t4ji-epo.fif')\n",
    "\n",
    "    #写错了，名字暂时不变。epochs_std_fuyin\n",
    "    epochs_std_BA = mne.concatenate_epochs([epochs_std_BA,epochs_std_TA])\n",
    "\n",
    "    epochs_odd_TA = mne.read_epochs(data_path+sub_id+'_odd_t1ji-epo.fif')\n",
    "    epochs_odd_BA = mne.read_epochs(data_path+sub_id+'_odd_t4ji-epo.fif')\n",
    "\n",
    "    epochs_odd_TA = mne.concatenate_epochs([epochs_odd_BA,epochs_odd_TA])\n",
    "\n",
    "    tmin = 0.\n",
    "    tmax = 0.8\n",
    "    fmin = 1.\n",
    "    fmax = 40.\n",
    "    sfreq = epochs_std_BA.info['sfreq']\n",
    "\n",
    "    psds, freqs = mne.time_frequency.psd_welch(\n",
    "        epochs_std_BA,\n",
    "        n_fft=int(sfreq * (tmax - tmin)),\n",
    "        #被试间分析，被试内trial需要先平均了。\n",
    "        average='mean',\n",
    "        n_overlap=0, n_per_seg=None,\n",
    "        tmin=tmin, tmax=tmax,\n",
    "        fmin=fmin, fmax=fmax,\n",
    "        window='boxcar',\n",
    "        verbose=False)\n",
    "    psds_odd,freqs = mne.time_frequency.psd_welch(\n",
    "        epochs_odd_TA,\n",
    "        n_fft=int(sfreq * (tmax - tmin)),\n",
    "        average='mean',\n",
    "        n_overlap=0, n_per_seg=None,\n",
    "        tmin=tmin, tmax=tmax,\n",
    "        fmin=fmin, fmax=fmax,\n",
    "        window='boxcar',\n",
    "        verbose=False)\n",
    "    # psds是平均过的，这里应该也是\n",
    "    freq_range = range(np.where(np.floor(freqs) == 1.)[0][0],\n",
    "                   np.where(np.ceil(freqs) == fmax - 1)[0][0])\n",
    "\n",
    "    snrs = snr_spectrum(psds, noise_n_neighbor_freqs=3,\n",
    "                        noise_skip_neighbor_freqs=0)\n",
    "    snrs_odd = snr_spectrum(psds_odd, noise_n_neighbor_freqs=3,\n",
    "                        noise_skip_neighbor_freqs=0)\n",
    "    snr_mean = snrs_odd.mean(axis=(0, 1))[freq_range] - snrs.mean(axis=(0, 1))[freq_range]\n",
    "    snr_std = snrs_odd.std(axis=(0, 1))[freq_range] - snrs.std(axis=(0, 1))[freq_range]\n",
    "    list_snrs_odd_std_mean.append(snr_mean)\n",
    "\n",
    "    # 你想让他们进行相减 但是这里的power已经被平均过了\n",
    "    # 如果是每个被试的epochs单独拿出来算power，然后呢？\n",
    "    # 还是平均power的好，不然就是以试次为单位了，所以才会没有ITC。\n",
    "    # 应该是先计算出两个条件的平均power，然后再来相减。最后才是组间统计。\n",
    "    freqs = np.logspace(*np.log10([1, 50]), num=8)\n",
    "    freqs = np.linspace(1,40)\n",
    "    n_cycles = freqs / 2.\n",
    "    power,itc = tfr_morlet(epochs_std_BA, freqs=freqs, n_cycles=n_cycles, use_fft=True,\n",
    "                            return_itc=True, decim=3, n_jobs=1, average=True)\n",
    "    power_odd, itc_odd = tfr_morlet(epochs_odd_TA, freqs=freqs, n_cycles=n_cycles, use_fft=True,\n",
    "                            return_itc=True, decim=3, n_jobs=1, average=True)\n",
    "    nd_power = power.data\n",
    "    nd_power_odd = power_odd.data\n",
    "# 直接相减有问题的。\n",
    "# 如果不相减，那就是做统计T了，感觉应该也行。\n",
    "    nd_power_m = nd_power_odd - nd_power\n",
    "    list_power_odd_std.append(nd_power_m)\n",
    "\n",
    "\n",
    "    nd_itc = itc.data\n",
    "    nd_itc_odd = itc_odd.data\n",
    "\n",
    "# 直接相减有问题的。 m代表 minus\n",
    "    nd_itc_m = nd_itc_odd - nd_itc\n",
    "    list_itc_odd_std.append(nd_itc_m)"
   ],
   "metadata": {
    "collapsed": false,
    "pycharm": {
     "name": "#%%\n"
    }
   }
  },
  {
   "cell_type": "code",
   "execution_count": 4,
   "outputs": [
    {
     "data": {
      "text/plain": "[<matplotlib.lines.Line2D at 0x1b410dd85b0>]"
     },
     "execution_count": 4,
     "metadata": {},
     "output_type": "execute_result"
    },
    {
     "data": {
      "text/plain": "<Figure size 432x288 with 1 Axes>",
      "image/png": "[encoded data removed]"
     },
     "metadata": {
      "needs_background": "light"
     },
     "output_type": "display_data"
    }
   ],
   "source": [
    "'''\n",
    "进行组平均\n",
    "'''\n",
    "import statistics\n",
    "snr_mean_group = sum(list_snrs_odd_std_mean)/len(list_snrs_odd_std_mean)\n",
    "plt.plot(snr_mean_group)"
   ],
   "metadata": {
    "collapsed": false,
    "pycharm": {
     "name": "#%%\n"
    }
   }
  },
  {
   "cell_type": "code",
   "execution_count": 5,
   "outputs": [],
   "source": [
    "\n",
    "%matplotlib qt\n",
    "for i in range(5):\n",
    "    plt.plot(list_snrs_odd_std_mean[i])"
   ],
   "metadata": {
    "collapsed": false,
    "pycharm": {
     "name": "#%%\n"
    }
   }
  },
  {
   "cell_type": "code",
   "execution_count": 6,
   "outputs": [
    {
     "name": "stdout",
     "output_type": "stream",
     "text": [
      "Applying baseline correction (mode: mean)\n"
     ]
    },
    {
     "data": {
      "text/plain": "<Figure size 640x480 with 2 Axes>",
      "image/png": "[encoded data removed]"
     },
     "execution_count": 6,
     "metadata": {},
     "output_type": "execute_result"
    }
   ],
   "source": [
    "%matplotlib qt\n",
    "power_mean_group = sum(list_power_odd_std)/len(list_power_odd_std)\n",
    "power.data = power_mean_group\n",
    "power.plot_topo(baseline=(-0.5, 0), mode='mean', title='Average power')"
   ],
   "metadata": {
    "collapsed": false,
    "pycharm": {
     "name": "#%%\n"
    }
   }
  },
  {
   "cell_type": "code",
   "execution_count": 20,
   "outputs": [
    {
     "name": "stdout",
     "output_type": "stream",
     "text": [
      "Applying baseline correction (mode: mean)\n"
     ]
    },
    {
     "data": {
      "text/plain": "<Figure size 640x480 with 2 Axes>",
      "image/png": "[encoded data removed]"
     },
     "execution_count": 20,
     "metadata": {},
     "output_type": "execute_result"
    }
   ],
   "source": [
    "itc_mean_group = sum(list_power_odd_std)/len(list_power_odd_std)\n",
    "itc.data = power_mean_group\n",
    "itc.plot_topo(baseline=(-0.2, 0), mode='mean', title='ITC', vmin=-1, vmax=1)"
   ],
   "metadata": {
    "collapsed": false,
    "pycharm": {
     "name": "#%%\n"
    }
   }
  },
  {
   "cell_type": "code",
   "execution_count": null,
   "outputs": [],
   "source": [],
   "metadata": {
    "collapsed": false,
    "pycharm": {
     "name": "#%%\n"
    }
   }
  }
 ],
 "metadata": {
  "kernelspec": {
   "name": "mne",
   "language": "python",
   "display_name": "mne"
  },
  "language_info": {
   "codemirror_mode": {
    "name": "ipython",
    "version": 2
   },
   "file_extension": ".py",
   "mimetype": "text/x-python",
   "name": "python",
   "nbconvert_exporter": "python",
   "pygments_lexer": "ipython2",
   "version": "2.7.6"
  }
 },
 "nbformat": 4,
 "nbformat_minor": 0
}