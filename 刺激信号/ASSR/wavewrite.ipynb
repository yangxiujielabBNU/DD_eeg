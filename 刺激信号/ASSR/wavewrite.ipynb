{
 "cells": [
  {
   "cell_type": "code",
   "execution_count": null,
   "outputs": [],
   "source": [
    "'''\n",
    "测试一下写 wav的代码。\n",
    "\n",
    "关键因素是samplerate，这个是和t绑定的，我能理解，因为t只是采样点而已\n",
    "但是问题是amplitude是几个意思啊？不过好像是一个常量。\n",
    "\n",
    "\n",
    "\n",
    "\n",
    "\n",
    "除了确定频率之外，还要能控制对应的幅度。\n",
    "\n",
    "\n",
    "先不考虑这个了，声音大小最后还是和个体有关系啊，65分贝为什么挑这个呢？\n",
    "事先是否应该先测试一遍被试的听觉阈限？物理都给65或许并不是那么有意义。\n",
    "先确定被试1000Hz处能产生ASSR的阈值是多少，然后再在这个基础上加\n",
    "'''\n"
   ],
   "metadata": {
    "collapsed": false,
    "pycharm": {
     "name": "#%%\n"
    }
   }
  },
  {
   "cell_type": "code",
   "execution_count": 1,
   "metadata": {
    "collapsed": true
   },
   "outputs": [],
   "source": [
    "from scipy.io.wavfile import write\n",
    "import numpy as np"
   ]
  },
  {
   "cell_type": "code",
   "execution_count": 2,
   "outputs": [],
   "source": [
    "'''\n",
    "这个t。。并不会影响到波形？当然不会啊。。只是采样点而已。\n",
    "主要影响到输出的问题\n",
    "'''\n",
    "samplerate = 44100; fs = 100\n",
    "t = np.linspace(0., 1., samplerate)\n",
    "amplitude = np.iinfo(np.int16).max\n",
    "data = amplitude * np.sin(2. * np.pi * fs * t)\n",
    "write(\"example.wav\", samplerate, data.astype(np.int16))"
   ],
   "metadata": {
    "collapsed": false,
    "pycharm": {
     "name": "#%%\n"
    }
   }
  },
  {
   "cell_type": "code",
   "execution_count": null,
   "outputs": [],
   "source": [],
   "metadata": {
    "collapsed": false,
    "pycharm": {
     "name": "#%%\n"
    }
   }
  }
 ],
 "metadata": {
  "kernelspec": {
   "name": "pycharm-284b30fe",
   "language": "python",
   "display_name": "PyCharm (贝叶斯)"
  },
  "language_info": {
   "codemirror_mode": {
    "name": "ipython",
    "version": 2
   },
   "file_extension": ".py",
   "mimetype": "text/x-python",
   "name": "python",
   "nbconvert_exporter": "python",
   "pygments_lexer": "ipython2",
   "version": "2.7.6"
  }
 },
 "nbformat": 4,
 "nbformat_minor": 0
}