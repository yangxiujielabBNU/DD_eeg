{
 "cells": [
  {
   "cell_type": "code",
   "execution_count": 1,
   "outputs": [],
   "source": [
    "'''\n",
    "试图模仿https://mne.tools/stable/auto_tutorials/stats-sensor-space/20_erp_stats.html\n",
    "\n",
    "进行全部 channel  和 时间点  的t-test\n",
    "\n",
    "基本单元：某个时间点，某个channel，  所有被试数据是否差异显著。\n",
    "\n",
    "'''\n",
    "%matplotlib qt\n",
    "import numpy as np\n",
    "import matplotlib.pyplot as plt\n",
    "from scipy.stats import ttest_ind\n",
    "\n",
    "import mne\n",
    "from mne.channels import find_ch_adjacency, make_1020_channel_selections\n",
    "from mne.stats import spatio_temporal_cluster_test\n",
    "\n",
    "np.random.seed(0)"
   ],
   "metadata": {
    "collapsed": false,
    "pycharm": {
     "name": "#%%\n"
    }
   }
  },
  {
   "cell_type": "code",
   "execution_count": 2,
   "outputs": [
    {
     "name": "stdout",
     "output_type": "stream",
     "text": [
      "Reading E:\\实验\\阅读困难\\数据处理\\pre1nanshi\\data\\7evoked_oddball\\pre1001_std_BA-ave.fif ...\n",
      "    Found the data of interest:\n",
      "        t =    -500.00 ...    1000.00 ms (1)\n",
      "        0 CTF compensation matrices available\n",
      "        nave = 337 - aspect type = 100\n",
      "No projector specified for this dataset. Please consider the method self.add_proj.\n",
      "Loaded Evoked data is baseline-corrected (baseline: [-0.5, 0] sec)\n",
      "Reading E:\\实验\\阅读困难\\数据处理\\pre1nanshi\\data\\7evoked_oddball\\pre1001_odd_TA-ave.fif ...\n",
      "    Found the data of interest:\n",
      "        t =    -500.00 ...    1000.00 ms (2)\n",
      "        0 CTF compensation matrices available\n",
      "        nave = 63 - aspect type = 100\n",
      "No projector specified for this dataset. Please consider the method self.add_proj.\n",
      "Loaded Evoked data is baseline-corrected (baseline: [-0.5, 0] sec)\n",
      "Reading E:\\实验\\阅读困难\\数据处理\\pre1nanshi\\data\\7evoked_oddball\\pre1001_std_ta-ave.fif ...\n",
      "    Found the data of interest:\n",
      "        t =    -500.00 ...    1000.00 ms (3)\n",
      "        0 CTF compensation matrices available\n",
      "        nave = 338 - aspect type = 100\n",
      "No projector specified for this dataset. Please consider the method self.add_proj.\n",
      "Loaded Evoked data is baseline-corrected (baseline: [-0.5, 0] sec)\n",
      "Reading E:\\实验\\阅读困难\\数据处理\\pre1nanshi\\data\\7evoked_oddball\\pre1001_odd_ba-ave.fif ...\n",
      "    Found the data of interest:\n",
      "        t =    -500.00 ...    1000.00 ms (4)\n",
      "        0 CTF compensation matrices available\n",
      "        nave = 61 - aspect type = 100\n",
      "No projector specified for this dataset. Please consider the method self.add_proj.\n",
      "Loaded Evoked data is baseline-corrected (baseline: [-0.5, 0] sec)\n",
      "Reading E:\\实验\\阅读困难\\数据处理\\pre1nanshi\\data\\7evoked_oddball\\pre1003_std_BA-ave.fif ...\n",
      "    Found the data of interest:\n",
      "        t =    -500.00 ...    1000.00 ms (1)\n",
      "        0 CTF compensation matrices available\n",
      "        nave = 336 - aspect type = 100\n",
      "No projector specified for this dataset. Please consider the method self.add_proj.\n",
      "Loaded Evoked data is baseline-corrected (baseline: [-0.5, 0] sec)\n",
      "Reading E:\\实验\\阅读困难\\数据处理\\pre1nanshi\\data\\7evoked_oddball\\pre1003_odd_TA-ave.fif ...\n",
      "    Found the data of interest:\n",
      "        t =    -500.00 ...    1000.00 ms (2)\n",
      "        0 CTF compensation matrices available\n",
      "        nave = 63 - aspect type = 100\n",
      "No projector specified for this dataset. Please consider the method self.add_proj.\n",
      "Loaded Evoked data is baseline-corrected (baseline: [-0.5, 0] sec)\n",
      "Reading E:\\实验\\阅读困难\\数据处理\\pre1nanshi\\data\\7evoked_oddball\\pre1003_std_ta-ave.fif ...\n",
      "    Found the data of interest:\n",
      "        t =    -500.00 ...    1000.00 ms (3)\n",
      "        0 CTF compensation matrices available\n",
      "        nave = 338 - aspect type = 100\n",
      "No projector specified for this dataset. Please consider the method self.add_proj.\n",
      "Loaded Evoked data is baseline-corrected (baseline: [-0.5, 0] sec)\n",
      "Reading E:\\实验\\阅读困难\\数据处理\\pre1nanshi\\data\\7evoked_oddball\\pre1003_odd_ba-ave.fif ...\n",
      "    Found the data of interest:\n",
      "        t =    -500.00 ...    1000.00 ms (4)\n",
      "        0 CTF compensation matrices available\n",
      "        nave = 62 - aspect type = 100\n",
      "No projector specified for this dataset. Please consider the method self.add_proj.\n",
      "Loaded Evoked data is baseline-corrected (baseline: [-0.5, 0] sec)\n",
      "Reading E:\\实验\\阅读困难\\数据处理\\pre1nanshi\\data\\7evoked_oddball\\pre1004_std_BA-ave.fif ...\n",
      "    Found the data of interest:\n",
      "        t =    -500.00 ...    1000.00 ms (1)\n",
      "        0 CTF compensation matrices available\n",
      "        nave = 326 - aspect type = 100\n",
      "No projector specified for this dataset. Please consider the method self.add_proj.\n",
      "Loaded Evoked data is baseline-corrected (baseline: [-0.5, 0] sec)\n",
      "Reading E:\\实验\\阅读困难\\数据处理\\pre1nanshi\\data\\7evoked_oddball\\pre1004_odd_TA-ave.fif ...\n",
      "    Found the data of interest:\n",
      "        t =    -500.00 ...    1000.00 ms (2)\n",
      "        0 CTF compensation matrices available\n",
      "        nave = 62 - aspect type = 100\n",
      "No projector specified for this dataset. Please consider the method self.add_proj.\n",
      "Loaded Evoked data is baseline-corrected (baseline: [-0.5, 0] sec)\n",
      "Reading E:\\实验\\阅读困难\\数据处理\\pre1nanshi\\data\\7evoked_oddball\\pre1004_std_ta-ave.fif ...\n",
      "    Found the data of interest:\n",
      "        t =    -500.00 ...    1000.00 ms (3)\n",
      "        0 CTF compensation matrices available\n",
      "        nave = 338 - aspect type = 100\n",
      "No projector specified for this dataset. Please consider the method self.add_proj.\n",
      "Loaded Evoked data is baseline-corrected (baseline: [-0.5, 0] sec)\n",
      "Reading E:\\实验\\阅读困难\\数据处理\\pre1nanshi\\data\\7evoked_oddball\\pre1004_odd_ba-ave.fif ...\n",
      "    Found the data of interest:\n",
      "        t =    -500.00 ...    1000.00 ms (4)\n",
      "        0 CTF compensation matrices available\n",
      "        nave = 62 - aspect type = 100\n",
      "No projector specified for this dataset. Please consider the method self.add_proj.\n",
      "Loaded Evoked data is baseline-corrected (baseline: [-0.5, 0] sec)\n",
      "Reading E:\\实验\\阅读困难\\数据处理\\pre1nanshi\\data\\7evoked_oddball\\pre1005_std_BA-ave.fif ...\n",
      "    Found the data of interest:\n",
      "        t =    -500.00 ...    1000.00 ms (1)\n",
      "        0 CTF compensation matrices available\n",
      "        nave = 337 - aspect type = 100\n",
      "No projector specified for this dataset. Please consider the method self.add_proj.\n",
      "Loaded Evoked data is baseline-corrected (baseline: [-0.5, 0] sec)\n",
      "Reading E:\\实验\\阅读困难\\数据处理\\pre1nanshi\\data\\7evoked_oddball\\pre1005_odd_TA-ave.fif ...\n",
      "    Found the data of interest:\n",
      "        t =    -500.00 ...    1000.00 ms (2)\n",
      "        0 CTF compensation matrices available\n",
      "        nave = 63 - aspect type = 100\n",
      "No projector specified for this dataset. Please consider the method self.add_proj.\n",
      "Loaded Evoked data is baseline-corrected (baseline: [-0.5, 0] sec)\n",
      "Reading E:\\实验\\阅读困难\\数据处理\\pre1nanshi\\data\\7evoked_oddball\\pre1005_std_ta-ave.fif ...\n",
      "    Found the data of interest:\n",
      "        t =    -500.00 ...    1000.00 ms (3)\n",
      "        0 CTF compensation matrices available\n",
      "        nave = 338 - aspect type = 100\n",
      "No projector specified for this dataset. Please consider the method self.add_proj.\n",
      "Loaded Evoked data is baseline-corrected (baseline: [-0.5, 0] sec)\n",
      "Reading E:\\实验\\阅读困难\\数据处理\\pre1nanshi\\data\\7evoked_oddball\\pre1005_odd_ba-ave.fif ...\n",
      "    Found the data of interest:\n",
      "        t =    -500.00 ...    1000.00 ms (4)\n",
      "        0 CTF compensation matrices available\n",
      "        nave = 62 - aspect type = 100\n",
      "No projector specified for this dataset. Please consider the method self.add_proj.\n",
      "Loaded Evoked data is baseline-corrected (baseline: [-0.5, 0] sec)\n",
      "Reading E:\\实验\\阅读困难\\数据处理\\pre1nanshi\\data\\7evoked_oddball\\pre1006_std_BA-ave.fif ...\n",
      "    Found the data of interest:\n",
      "        t =    -500.00 ...    1000.00 ms (1)\n",
      "        0 CTF compensation matrices available\n",
      "        nave = 267 - aspect type = 100\n",
      "No projector specified for this dataset. Please consider the method self.add_proj.\n",
      "Loaded Evoked data is baseline-corrected (baseline: [-0.5, 0] sec)\n",
      "Reading E:\\实验\\阅读困难\\数据处理\\pre1nanshi\\data\\7evoked_oddball\\pre1006_odd_TA-ave.fif ...\n",
      "    Found the data of interest:\n",
      "        t =    -500.00 ...    1000.00 ms (2)\n",
      "        0 CTF compensation matrices available\n",
      "        nave = 54 - aspect type = 100\n",
      "No projector specified for this dataset. Please consider the method self.add_proj.\n",
      "Loaded Evoked data is baseline-corrected (baseline: [-0.5, 0] sec)\n",
      "Reading E:\\实验\\阅读困难\\数据处理\\pre1nanshi\\data\\7evoked_oddball\\pre1006_std_ta-ave.fif ...\n",
      "    Found the data of interest:\n",
      "        t =    -500.00 ...    1000.00 ms (3)\n",
      "        0 CTF compensation matrices available\n",
      "        nave = 338 - aspect type = 100\n",
      "No projector specified for this dataset. Please consider the method self.add_proj.\n",
      "Loaded Evoked data is baseline-corrected (baseline: [-0.5, 0] sec)\n",
      "Reading E:\\实验\\阅读困难\\数据处理\\pre1nanshi\\data\\7evoked_oddball\\pre1006_odd_ba-ave.fif ...\n",
      "    Found the data of interest:\n",
      "        t =    -500.00 ...    1000.00 ms (4)\n",
      "        0 CTF compensation matrices available\n",
      "        nave = 62 - aspect type = 100\n",
      "No projector specified for this dataset. Please consider the method self.add_proj.\n",
      "Loaded Evoked data is baseline-corrected (baseline: [-0.5, 0] sec)\n",
      "Identifying common channels ...\n",
      "Identifying common channels ...\n",
      "Could not find a adjacency matrix for the data. Computing adjacency based on Delaunay triangulations.\n",
      "-- number of adjacent vertices : 62\n"
     ]
    }
   ],
   "source": [
    "##数据读入 读入的是 clear过的epochs\n",
    "\n",
    "sub_ids = [\n",
    "\n",
    "    \"pre1001\",\"pre1003\",\"pre1004\",\"pre1005\",\"pre1006\",\n",
    "\n",
    "]\n",
    "\n",
    "data_path = 'E:\\实验\\阅读困难\\数据处理\\pre1nanshi\\data\\\\7evoked_oddball\\\\'\n",
    "type_stim = ['std_BA','odd_TA','std_ta','odd_ba','std_t1ji','odd_t4ji','std_t4ji','odd_t1ji']\n",
    "list_evoked_std_BA = list()\n",
    "list_evoked_odd_TA = list()\n",
    "list_evoked_std_ta = list()\n",
    "list_evoked_odd_ba = list()\n",
    "# sub_id = sub_ids[1]\n",
    "for sub_id in sub_ids:\n",
    "    num_type = 5\n",
    "    fname = data_path + sub_id + '_'+ 'std_BA' +'-ave.fif'\n",
    "    evoked1 = mne.read_evokeds(fname)[0]\n",
    "    list_evoked_std_BA.append(evoked1)\n",
    "\n",
    "    num_type = 6\n",
    "    fname = data_path + sub_id + '_'+'odd_TA'+'-ave.fif'\n",
    "    evoked2 = mne.read_evokeds(fname)[0]\n",
    "    list_evoked_odd_TA.append(evoked2)\n",
    "\n",
    "    num_type = 7\n",
    "    fname = data_path + sub_id + '_'+'std_ta'+'-ave.fif'\n",
    "    evoked3 = mne.read_evokeds(fname)[0]\n",
    "    list_evoked_odd_TA.append(evoked3)\n",
    "\n",
    "    num_type = 8\n",
    "    fname = data_path + sub_id + '_'+'odd_ba'+'-ave.fif'\n",
    "    evoked4 = mne.read_evokeds(fname)[0]\n",
    "    list_evoked_odd_TA.append(evoked4)\n",
    "\n",
    "list_evoked_std = list_evoked_std_BA+list_evoked_std_ta\n",
    "list_evoked_odd = list_evoked_odd_TA+list_evoked_odd_ba\n",
    "\n",
    "grand_average_std = mne.grand_average(list_evoked_std)\n",
    "grand_average_odd = mne.grand_average(list_evoked_odd)\n",
    "grand_average_all = list()\n",
    "grand_average_all = [grand_average_std,grand_average_odd]\n",
    "\n",
    "\n",
    "adjacency, _ = find_ch_adjacency(list_evoked_odd_TA[0].info, \"eeg\")\n",
    "#造出evoked的数据 被试个数*63*501\n",
    "\n",
    "evokeddata_T1S = np.zeros([len(list_evoked_std_BA),62, 1501], dtype=np.float32)\n",
    "evokeddata_T2S = np.zeros([len(list_evoked_std_BA),62, 1501], dtype=np.float32)\n",
    "for i_evoked in range(1,len(sub_ids)):\n",
    "    evokeddata_T1S[i_evoked,:,:] = list_evoked_std_BA[i_evoked].data\n",
    "    evokeddata_T2S[i_evoked,:,:] = list_evoked_odd_TA[i_evoked].data\n",
    "#交换位置\n",
    "X = [evokeddata_T1S.transpose(0, 2, 1),\n",
    "     evokeddata_T2S.transpose(0, 2, 1)]"
   ],
   "metadata": {
    "collapsed": false,
    "pycharm": {
     "name": "#%%\n"
    }
   }
  },
  {
   "cell_type": "code",
   "execution_count": 3,
   "outputs": [
    {
     "name": "stdout",
     "output_type": "stream",
     "text": [
      "stat_fun(H1): min=-0.000002 max=24.321096\n",
      "Running initial clustering\n",
      "Using 2433 thresholds from 0.00 to 24.32 for TFCE computation (h_power=2.00, e_power=0.50)\n",
      "Found 93062 clusters\n",
      "Permuting 9 times...\n"
     ]
    },
    {
     "data": {
      "text/plain": "  0%|          |  : 0/9 [00:00<?,       ?it/s]",
      "application/vnd.jupyter.widget-view+json": {
       "version_major": 2,
       "version_minor": 0,
       "model_id": "067a097e3acc477e902cbff57c5991e8"
      }
     },
     "metadata": {},
     "output_type": "display_data"
    },
    {
     "name": "stdout",
     "output_type": "stream",
     "text": [
      "Computing cluster p-values\n",
      "Done.\n",
      "0 points selected by TFCE ...\n"
     ]
    }
   ],
   "source": [
    "tfce = dict(start=.0, step=.01)\n",
    "\n",
    "# Calculate statistical thresholds\n",
    "t_obs, clusters, cluster_pv, h0 = spatio_temporal_cluster_test(\n",
    "    X, tfce, adjacency=adjacency,\n",
    "    n_permutations=10)  # a more standard number would be 1000+\n",
    "\n",
    "#关键的就是找到 差异显著的点，后面的section仅仅是作图的问题了。\n",
    "\n",
    "significant_points = cluster_pv.reshape(t_obs.shape).T < .3\n",
    "print(str(significant_points.sum()) + \" points selected by TFCE ...\")"
   ],
   "metadata": {
    "collapsed": false,
    "pycharm": {
     "name": "#%%\n"
    }
   }
  },
  {
   "cell_type": "code",
   "execution_count": 4,
   "outputs": [
    {
     "name": "stdout",
     "output_type": "stream",
     "text": [
      "No projector specified for this dataset. Please consider the method self.add_proj.\n"
     ]
    }
   ],
   "source": [
    "evoked = mne.combine_evoked([evoked1, evoked2],\n",
    "                            weights=[1, -1])  # calculate difference wave\n",
    "time_unit = dict(time_unit=\"s\")\n",
    "evoked.plot_joint(title=\"Long vs. short words\", ts_args=time_unit,\n",
    "                  topomap_args=time_unit)  # show difference wave\n",
    "\n",
    "# Create ROIs by checking channel labels\n",
    "selections = make_1020_channel_selections(evoked.info)\n",
    "\n",
    "# Visualize the results\n",
    "fig, axes = plt.subplots(nrows=3, figsize=(8, 8))\n",
    "axes = {sel: ax for sel, ax in zip(selections, axes.ravel())}\n",
    "evoked.plot_image(axes=axes, group_by=selections, colorbar=False, show=False,\n",
    "                  mask=significant_points, show_names=\"all\", titles=None,\n",
    "                  **time_unit)\n",
    "plt.colorbar(axes[\"Left\"].images[-1], ax=list(axes.values()), shrink=.3,\n",
    "             label=\"µV\")\n",
    "\n",
    "plt.show()"
   ],
   "metadata": {
    "collapsed": false,
    "pycharm": {
     "name": "#%%\n"
    }
   }
  },
  {
   "cell_type": "code",
   "execution_count": null,
   "outputs": [],
   "source": [],
   "metadata": {
    "collapsed": false,
    "pycharm": {
     "name": "#%%\n"
    }
   }
  }
 ],
 "metadata": {
  "kernelspec": {
   "name": "mne",
   "language": "python",
   "display_name": "mne"
  },
  "language_info": {
   "codemirror_mode": {
    "name": "ipython",
    "version": 2
   },
   "file_extension": ".py",
   "mimetype": "text/x-python",
   "name": "python",
   "nbconvert_exporter": "python",
   "pygments_lexer": "ipython2",
   "version": "2.7.6"
  }
 },
 "nbformat": 4,
 "nbformat_minor": 0
}