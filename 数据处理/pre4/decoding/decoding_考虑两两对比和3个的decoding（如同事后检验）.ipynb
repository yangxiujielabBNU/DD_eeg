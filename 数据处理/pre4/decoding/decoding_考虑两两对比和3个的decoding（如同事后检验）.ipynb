{
 "cells": [
  {
   "cell_type": "code",
   "execution_count": 65,
   "outputs": [
    {
     "data": {
      "text/plain": "'\\n\\n根据路路建议，看看音调之间能不能直接进行decoding。\\n\\n而且我要考虑 随机组合，两个音调之间，三个音调，四个音调\\n\\n'"
     },
     "execution_count": 65,
     "metadata": {},
     "output_type": "execute_result"
    }
   ],
   "source": [
    "'''\n",
    "\n",
    "根据路路建议，看看音调之间能不能直接进行decoding。\n",
    "\n",
    "而且我要考虑 随机组合，两个音调之间，三个音调，四个音调\n",
    "\n",
    "'''\n"
   ],
   "metadata": {
    "collapsed": false,
    "pycharm": {
     "name": "#%%\n"
    }
   }
  },
  {
   "cell_type": "code",
   "execution_count": 1,
   "outputs": [],
   "source": [
    "\n",
    "import numpy as np\n",
    "import os.path as op\n",
    "from pandas import read_csv\n",
    "import mne\n",
    "from mne.io import read_raw_fif\n",
    "from mne.datasets import visual_92_categories\n",
    "from neurora.nps_cal import nps\n",
    "from neurora.rdm_cal import eegRDM\n",
    "from neurora.rdm_corr import rdm_correlation_spearman\n",
    "from neurora.corr_cal_by_rdm import rdms_corr\n",
    "from neurora.rsa_plot import plot_rdm, plot_corrs_by_time, plot_nps_hotmap, plot_corrs_hotmap\n",
    "from neurora.decoding import tbyt_decoding_kfold\n",
    "from neurora.rsa_plot import plot_tbyt_decoding_acc\n",
    "import matplotlib.pyplot as plt\n"
   ],
   "metadata": {
    "collapsed": false,
    "pycharm": {
     "name": "#%%\n"
    }
   }
  },
  {
   "cell_type": "code",
   "execution_count": 3,
   "outputs": [
    {
     "name": "stdout",
     "output_type": "stream",
     "text": [
      "Reading E:\\实验\\阅读困难\\数据处理\\pre2beishi_RSA_ASSR46\\data\\6epoch_clean_RSA\\pre2001_RSA-epo.fif ...\n",
      "    Found the data of interest:\n",
      "        t =    -200.00 ...     800.00 ms\n",
      "        0 CTF compensation matrices available\n",
      "0 bad epochs dropped\n",
      "Not setting metadata\n",
      "1733 matching events found\n",
      "No baseline correction applied\n",
      "0 projection items activated\n",
      "Dropped 33 epochs: 0, 25, 515, 546, 553, 570, 571, 576, 581, 1055, 1083, 1120, 1127, 1138, 1151, 1154, 1156, 1247, 1258, 1260, 1341, 1365, 1368, 1372, 1389, 1447, 1466, 1486, 1600, 1670, 1672, 1698, 1725\n",
      "Reading E:\\实验\\阅读困难\\数据处理\\pre2beishi_RSA_ASSR46\\data\\6epoch_clean_RSA\\pre2002_RSA-epo.fif ...\n",
      "    Found the data of interest:\n",
      "        t =    -200.00 ...     800.00 ms\n",
      "        0 CTF compensation matrices available\n",
      "0 bad epochs dropped\n",
      "Not setting metadata\n",
      "1722 matching events found\n",
      "No baseline correction applied\n",
      "0 projection items activated\n",
      "Dropped 42 epochs: 2, 8, 9, 23, 31, 38, 50, 58, 63, 116, 119, 165, 382, 444, 479, 486, 494, 503, 580, 623, 652, 657, 779, 820, 838, 940, 1145, 1163, 1632, 1644, 1669, 1672, 1673, 1683, 1688, 1691, 1695, 1697, 1701, 1715, 1717, 1721\n",
      "Reading E:\\实验\\阅读困难\\数据处理\\pre2beishi_RSA_ASSR46\\data\\6epoch_clean_RSA\\pre2003_RSA-epo.fif ...\n",
      "    Found the data of interest:\n",
      "        t =    -200.00 ...     800.00 ms\n",
      "        0 CTF compensation matrices available\n",
      "0 bad epochs dropped\n",
      "Not setting metadata\n",
      "1673 matching events found\n",
      "No baseline correction applied\n",
      "0 projection items activated\n",
      "Dropped 73 epochs: 1, 2, 18, 29, 92, 96, 106, 131, 132, 136, 140, 146, 163, 164, 406, 440, 443, 487, 495, 498, 499, 501, 534, 535, 537, 546, 548, 553, 554, 582, 583, 586, 589, 604, 606, 607, 610, 612, 613, 614, 616, 623, 628, 629, 631, 634, 663, 689, 693, 699, 714, 732, 733, 734, 735, 742, 745, 746, 757, 763, 788, 888, 1112, 1166, 1197, 1572, 1582, 1595, 1638, 1664, 1666, 1669, 1672\n",
      "Reading E:\\实验\\阅读困难\\数据处理\\pre2beishi_RSA_ASSR46\\data\\6epoch_clean_RSA\\pre2004_RSA-epo.fif ...\n",
      "    Found the data of interest:\n",
      "        t =    -200.00 ...     800.00 ms\n",
      "        0 CTF compensation matrices available\n",
      "0 bad epochs dropped\n",
      "Not setting metadata\n",
      "1510 matching events found\n",
      "No baseline correction applied\n",
      "0 projection items activated\n",
      "Dropped 110 epochs: 5, 8, 12, 14, 183, 321, 323, 336, 380, 388, 415, 556, 560, 595, 624, 629, 633, 636, 640, 641, 645, 648, 650, 653, 654, 693, 695, 696, 704, 724, 747, 763, 833, 868, 1088, 1091, 1094, 1100, 1105, 1112, 1124, 1129, 1135, 1137, 1138, 1142, 1144, 1145, 1149, 1151, 1153, 1154, 1155, 1157, 1159, 1161, 1164, 1204, 1237, 1238, 1322, 1330, 1337, 1387, 1418, 1420, 1428, 1430, 1431, 1432, 1433, 1437, 1442, 1443, 1444, 1445, 1447, 1449, 1451, 1452, 1454, 1456, 1457, 1460, 1461, 1462, 1464, 1465, 1466, 1467, 1468, 1469, 1470, 1471, 1473, 1485, 1490, 1494, 1496, 1497, 1498, 1500, 1501, 1502, 1503, 1504, 1506, 1507, 1508, 1509\n",
      "Reading E:\\实验\\阅读困难\\数据处理\\pre2beishi_RSA_ASSR46\\data\\6epoch_clean_RSA\\pre2005_RSA-epo.fif ...\n",
      "    Found the data of interest:\n",
      "        t =    -200.00 ...     800.00 ms\n",
      "        0 CTF compensation matrices available\n",
      "0 bad epochs dropped\n",
      "Not setting metadata\n",
      "1739 matching events found\n",
      "No baseline correction applied\n",
      "0 projection items activated\n",
      "Dropped 19 epochs: 21, 36, 187, 210, 384, 439, 476, 485, 487, 489, 493, 494, 495, 498, 517, 524, 569, 572, 577\n"
     ]
    }
   ],
   "source": [
    "list_epochs_all = list()\n",
    "\n",
    "sub_ids = [\n",
    "\n",
    "    \"pre2001\",\"pre2002\",\"pre2003\",\"pre2004\",\"pre2005\",\n",
    "\n",
    "]\n",
    "file_path = 'E:\\实验\\阅读困难\\数据处理\\pre2beishi_RSA_ASSR46\\data\\\\6epoch_clean_RSA\\\\'\n",
    "channels_nieye = ['M1','T7','P7','TP7','M2','T8','P8','TP8','CP5','CP6','C5','C6']\n",
    "# channels_nieye = ['Fz','FCz','Cz','CPz','C2','C1','FC2','FC1','F2','F1']\n",
    "n_chan = len(channels_nieye)\n",
    "n_chan = 62\n",
    "channels_eye = []\n",
    "for sub_id in sub_ids:\n",
    "    data_path = file_path + sub_id + '_RSA-epo.fif'\n",
    "    epochs_all = mne.read_epochs(fname=data_path)\n",
    "    #做decoding要考虑被试内每个条件试次一样，如果被试间不一样可以用循环来解决。\n",
    "    epochs_all.equalize_event_counts(method='mintime')\n",
    "    #如果只要部分的channel\n",
    "    # channels_nieye = ['M1','T7','P7','TP7','M2','T8','P8','TP8','CP5','CP6','C5','C6']\n",
    "    # epochs_all.pick(picks=channels_nieye)\n",
    "    list_epochs_all.append(epochs_all)\n",
    "\n",
    "# 如果只想看某一部分的脑区,配合更改ndarray的维度\n",
    "# channels_nieye = ['M1','T7','P7','TP7','M2','T8','P8','TP8','CP5','CP6','C5','C6']\n",
    "# epochs_all.pick(picks=channels_nieye)\n",
    "# n_chan = len(channels_nieye)\n"
   ],
   "metadata": {
    "collapsed": false,
    "pycharm": {
     "name": "#%%\n"
    }
   }
  },
  {
   "cell_type": "code",
   "execution_count": null,
   "outputs": [],
   "source": [
    "epochs_all.plot_sensors(show_names=True)\n",
    "epochs_all.ch_names"
   ],
   "metadata": {
    "collapsed": false,
    "pycharm": {
     "name": "#%%\n",
     "is_executing": true
    }
   }
  },
  {
   "cell_type": "code",
   "execution_count": 4,
   "outputs": [
    {
     "data": {
      "text/plain": "<EpochsFIF |  1680 events (all good), -0.2 - 0.8 sec, baseline -0.2 – 0 sec, ~821.2 MB, data loaded,\n '101': 84\n '102': 84\n '103': 84\n '104': 84\n '111': 84\n '112': 84\n '113': 84\n '114': 84\n '121': 84\n '122': 84\n and 10 more events ...>",
      "text/html": "<table class=\"table table-hover table-striped table-sm table-responsive small\">\n    <tr>\n        <th>Number of events</th>\n        <td>1680</td>\n    </tr>\n    <tr>\n        <th>Events</th>\n        \n        <td>101: 84<br/>102: 84<br/>103: 84<br/>104: 84<br/>111: 84<br/>112: 84<br/>113: 84<br/>114: 84<br/>121: 84<br/>122: 84<br/>123: 84<br/>124: 84<br/>131: 84<br/>132: 84<br/>133: 84<br/>134: 84<br/>141: 84<br/>142: 84<br/>143: 84<br/>144: 84</td>\n        \n    </tr>\n    <tr>\n        <th>Time range</th>\n        <td>-0.200 – 0.800 sec</td>\n    </tr>\n    <tr>\n        <th>Baseline</th>\n        <td>-0.200 – 0.000 sec</td>\n    </tr>\n</table>"
     },
     "execution_count": 4,
     "metadata": {},
     "output_type": "execute_result"
    }
   ],
   "source": [
    "'''\n",
    "单独处理一下被试 pre2002，改一下channel属性\n",
    "'''\n",
    "chan_types_dict = { \"VEOG\":\"eog\",\"HEOG\":\"eog\"}\n",
    "list_epochs_all[1].set_channel_types(chan_types_dict)"
   ],
   "metadata": {
    "collapsed": false,
    "pycharm": {
     "name": "#%%\n"
    }
   }
  },
  {
   "cell_type": "code",
   "execution_count": 5,
   "outputs": [
    {
     "data": {
      "text/plain": "'\\n对label进行处理，\\n让每个值都除以100，如果是辅音，那么就取商，如果是音调，那么就取余数。\\n'"
     },
     "execution_count": 5,
     "metadata": {},
     "output_type": "execute_result"
    }
   ],
   "source": [
    "'''\n",
    "先整理单个的被试看看\n",
    "\n",
    "data的结构要求： [n_subs, n_trials, n_chls, n_ts]\n",
    "label的结构要求： [n_subs, n_trials]\n",
    "\n",
    "'''\n",
    "\n",
    "conds = ['101', '102', '103', '104', '111', '112', '113', '114', '121', '122', '123', '124', '131', '132', '133', '134', '141', '142', '143', '144']\n",
    "'''\n",
    "\n",
    "这里想要改一下代码，不要3？？做三个的decoding？\n",
    "或者两两做，然后每个都看一下，然后再做平均！\n",
    "\n",
    "那我需要把conds分成多种，我先试试其中一个。\n",
    "那么需要改：conds和后面数据结构\n",
    "\n",
    "\n",
    "等会不会你的代码写错了吧。。lab拉出来看一下\n",
    "\n",
    "'''\n",
    "#\n",
    "# conds = ['101', '102', '111', '112',  '121', '122', '131', '132', '141', '142']\n",
    "# conds = ['101', '103', '111', '113',  '121', '123', '131', '133', '141', '143']\n",
    "# conds = ['101', '104', '111', '114',  '121', '124', '131', '134', '141', '144']\n",
    "'''\n",
    "2 3比较难区分，那就把最糟糕的3去掉看看\n",
    "'''\n",
    "conds = ['101', '102',  '104', '111', '112', '114', '121', '122',  '124', '131', '132',  '134', '141', '142', '144']\n",
    "len_cons = len(conds)\n",
    "#初始值\n",
    "subindex = 0\n",
    "list_subdata = list()\n",
    "list_sublabel = list()\n",
    "for m in range(len(sub_ids)):\n",
    "    #单个被试的数据\n",
    "    epochs_forlen = list_epochs_all[m][conds[0]]\n",
    "    # 每个被试的trial数量是不一样的\n",
    "    # trial数不能放在第一位，第一位是condition\n",
    "    num_trials = len(epochs_forlen.events[:,1])\n",
    "    subdata = np.zeros([len_cons, num_trials, n_chan,  1001], dtype=np.float32)\n",
    "    sublabel = np.zeros([0,0])\n",
    "\n",
    "    for i in range(len(conds)):\n",
    "        epochs = list_epochs_all[m][conds[i]]\n",
    "        #做decoding，这里就不能是平均了吧。\n",
    "        # 这里get_data()还会把所有的channel都选上，你需要pick一下,只要eeg，不要眼动数据\n",
    "        data = epochs.get_data(picks='eeg')\n",
    "        #这一步感觉有点问题，event有10种\n",
    "        label_cond = epochs.events[:,2]\n",
    "        #每种条件的cond\n",
    "        sublabel = np.append(sublabel,label_cond)\n",
    "        sublabel = np.reshape(sublabel, [1,len(sublabel[:])])\n",
    "        subdata[i] = data\n",
    "        # 现在是[con, trial, chan, ts]\n",
    "        # [n_cons, n_subs, n_trials, n_chls, n_ts]需要这样的结构\n",
    "        # 需要中间插入一个subs\n",
    "        # 10代表10类刺激\n",
    "    subdata = np.reshape(subdata, [len_cons, 1, num_trials, n_chan, 1001])\n",
    "    # 在某个维度上面拉平\n",
    "    # 把condition的维度乘到 trial上面？\n",
    "    data_decode = np.reshape(subdata,[1, len_cons * num_trials, n_chan, 1001])\n",
    "    list_subdata.append(data_decode)\n",
    "    list_sublabel.append(sublabel)\n",
    "\n",
    "'''\n",
    "对label进行处理，\n",
    "让每个值都除以100，如果是辅音，那么就取商，如果是音调，那么就取余数。\n",
    "'''\n"
   ],
   "metadata": {
    "collapsed": false,
    "pycharm": {
     "name": "#%%\n"
    }
   }
  },
  {
   "cell_type": "code",
   "execution_count": null,
   "outputs": [],
   "source": [
    "# label_fuyin = ((sublabel-100)/10).astype(int)\n",
    "# label_yindiao = ((sublabel-100)%10).astype(int)\n",
    "\n",
    "# accs_fuyin = tbyt_decoding_kfold(data_decode,label_fuyin, n=5, time_win=50,time_step=5)\n",
    "# accs_yindiao = tbyt_decoding_kfold(data_decode,label_yindiao, n=4, time_win=50,time_step=5)\n",
    "# plt.plot(accs_fuyin[0,:])"
   ],
   "metadata": {
    "collapsed": false,
    "pycharm": {
     "name": "#%%\n"
    }
   }
  },
  {
   "cell_type": "code",
   "execution_count": null,
   "outputs": [],
   "source": [
    "# plt.plot(accs_yindiao[0,:])"
   ],
   "metadata": {
    "collapsed": false,
    "pycharm": {
     "name": "#%%\n"
    }
   }
  },
  {
   "cell_type": "code",
   "execution_count": 7,
   "outputs": [
    {
     "name": "stdout",
     "output_type": "stream",
     "text": [
      "Calculating: [====================================================================================================] 100.00%\n",
      "Decoding finished!\n",
      "\n",
      "Calculating: [====================================================================================================] 100.00%\n",
      "Decoding finished!\n",
      "\n",
      "Calculating: [====================================================================================================] 100.00%\n",
      "Decoding finished!\n",
      "\n",
      "Calculating: [====================================================================================================] 100.00%\n",
      "Decoding finished!\n",
      "\n",
      "Calculating: [====================================================================================================] 100.00%\n",
      "Decoding finished!\n",
      "\n"
     ]
    }
   ],
   "source": [
    "'''\n",
    "\n",
    "每个被试trial数量不一致，所以只能循环求每个被试的accs再拼接\n",
    "\n",
    "'''\n",
    "n_subs = len(sub_ids)\n",
    "n_ts = 181\n",
    "accs_fuyin_allsubs = np.zeros([n_subs, n_ts])\n",
    "accs_yindiao_allsubs = np.zeros([n_subs, n_ts])\n",
    "\n",
    "# 音调\n",
    "for i in range(len(sub_ids)):\n",
    "    data_decode = list_subdata[i]\n",
    "    label_original = list_sublabel[i]\n",
    "    #在这里处理了102 112 122 132 142变成2\n",
    "    label_yindiao = ((label_original-100)%10).astype(int)\n",
    "    #time_win影响大吗？？？\n",
    "    accs_yindiao = tbyt_decoding_kfold(data_decode,label_yindiao, n=3, time_win=100,time_step=5, nfolds=4, nrepeats=10)\n",
    "    accs_yindiao_allsubs[i] = accs_yindiao\n"
   ],
   "metadata": {
    "collapsed": false,
    "pycharm": {
     "name": "#%%\n"
    }
   }
  },
  {
   "cell_type": "code",
   "execution_count": 14,
   "outputs": [
    {
     "name": "stdout",
     "output_type": "stream",
     "text": [
      "\n",
      "Significant time-windows:\n"
     ]
    },
    {
     "data": {
      "text/plain": "<Figure size 460.8x259.2 with 1 Axes>",
      "image/png": "[encoded data removed]"
     },
     "metadata": {
      "needs_background": "light"
     },
     "output_type": "display_data"
    },
    {
     "data": {
      "text/plain": "array([0., 0., 0., 0., 0., 0., 0., 0., 0., 0., 0., 0., 0., 0., 0., 0., 0.,\n       0., 0., 0., 0., 0., 0., 0., 0., 0., 0., 0., 0., 0., 0., 0., 0., 0.,\n       0., 0., 0., 0., 0., 0., 0., 0., 0., 0., 0., 0., 0., 0., 0., 0., 0.,\n       0., 0., 0., 0., 0., 0., 0., 0., 0., 0., 0., 0., 0., 0., 0., 0., 0.,\n       0., 0., 0., 0., 0., 0., 0., 0., 0., 0., 0., 0., 0., 0., 0., 0., 0.,\n       0., 0., 0., 0., 0., 0., 0., 0., 0., 0., 0., 0., 0., 0., 0., 0., 0.,\n       0., 0., 0., 0., 0., 0., 0., 0., 0., 0., 0., 0., 0., 0., 0., 0., 0.,\n       0., 0., 0., 0., 0., 0., 0., 0., 0., 0., 0., 0., 0., 0., 0., 0., 0.,\n       0., 0., 0., 0., 0., 0., 0., 0., 0., 0., 0., 0., 0., 0., 0., 0., 0.,\n       0., 0., 0., 0., 0., 0., 0., 0., 0., 0., 0., 0., 0., 0., 0., 0., 0.,\n       0., 0., 0., 0., 0., 0., 0., 0., 0., 0., 0.])"
     },
     "execution_count": 14,
     "metadata": {},
     "output_type": "execute_result"
    }
   ],
   "source": [
    "plot_tbyt_decoding_acc(accs_yindiao_allsubs, start_time=-0.2, end_time=0.705, time_interval=0.005, chance=0.3333333,color='blue', ylim=[0.2,0.6], xlim=[-0.2,0.8])"
   ],
   "metadata": {
    "collapsed": false,
    "pycharm": {
     "name": "#%%\n"
    }
   }
  },
  {
   "cell_type": "code",
   "execution_count": null,
   "outputs": [],
   "source": [
    "\n",
    "# 辅音\n",
    "for i in range(len(sub_ids)):\n",
    "    data_decode = list_subdata[i]\n",
    "    label_original = list_sublabel[i]\n",
    "    # 区别在这里\n",
    "    label_fuyin = ((label_original-100)/10).astype(int)\n",
    "    accs_fuyin = tbyt_decoding_kfold(data_decode,label_fuyin, n=5, time_win=100,time_step=5, nfolds=5, nrepeats=10)\n",
    "    accs_fuyin_allsubs[i] = accs_fuyin\n"
   ],
   "metadata": {
    "collapsed": false,
    "pycharm": {
     "name": "#%%\n",
     "is_executing": true
    }
   }
  },
  {
   "cell_type": "code",
   "execution_count": 11,
   "outputs": [
    {
     "name": "stdout",
     "output_type": "stream",
     "text": [
      "\n",
      "Permutation test\n",
      "Calculating: [====================================================================================================] 100.00%\n",
      "Cluster-based permutation test finished!\n",
      "\n",
      "\n",
      "Significant time-windows:\n",
      "200ms to 365ms\n",
      "450ms to 504ms\n"
     ]
    },
    {
     "data": {
      "text/plain": "<Figure size 460.8x259.2 with 1 Axes>",
      "image/png": "[encoded data removed]"
     },
     "metadata": {
      "needs_background": "light"
     },
     "output_type": "display_data"
    },
    {
     "data": {
      "text/plain": "array([0., 0., 0., 0., 0., 0., 0., 0., 0., 0., 0., 0., 0., 0., 0., 0., 0.,\n       0., 0., 0., 0., 0., 0., 0., 0., 0., 0., 0., 0., 0., 0., 0., 0., 0.,\n       0., 0., 0., 0., 0., 0., 0., 0., 0., 0., 0., 0., 0., 0., 0., 0., 0.,\n       0., 0., 0., 0., 0., 0., 0., 0., 0., 0., 0., 0., 0., 0., 0., 0., 0.,\n       0., 0., 0., 0., 0., 0., 0., 0., 0., 0., 0., 0., 1., 1., 1., 1., 1.,\n       1., 1., 1., 1., 1., 1., 1., 1., 1., 1., 1., 1., 1., 1., 1., 1., 1.,\n       1., 1., 1., 1., 1., 1., 1., 1., 1., 1., 1., 0., 0., 0., 0., 0., 0.,\n       0., 0., 0., 0., 0., 0., 0., 0., 0., 0., 0., 1., 1., 1., 1., 1., 1.,\n       1., 1., 1., 1., 1., 0., 0., 0., 0., 0., 0., 0., 0., 0., 0., 0., 0.,\n       0., 0., 0., 0., 0., 0., 0., 0., 0., 0., 0., 0., 0., 0., 0., 0., 0.,\n       0., 0., 0., 0., 0., 0., 0., 0., 0., 0., 0.])"
     },
     "execution_count": 11,
     "metadata": {},
     "output_type": "execute_result"
    }
   ],
   "source": [
    "plot_tbyt_decoding_acc(accs_fuyin_allsubs, start_time=-0.2, end_time=0.705, time_interval=0.005, chance=0.2, color='red', ylim=[0,0.5],xlim=[-0.2,0.8])"
   ],
   "metadata": {
    "collapsed": false,
    "pycharm": {
     "name": "#%%\n"
    }
   }
  },
  {
   "cell_type": "code",
   "execution_count": null,
   "outputs": [],
   "source": [],
   "metadata": {
    "collapsed": false,
    "pycharm": {
     "name": "#%%\n"
    }
   }
  }
 ],
 "metadata": {
  "kernelspec": {
   "name": "mne",
   "language": "python",
   "display_name": "mne"
  },
  "language_info": {
   "codemirror_mode": {
    "name": "ipython",
    "version": 2
   },
   "file_extension": ".py",
   "mimetype": "text/x-python",
   "name": "python",
   "nbconvert_exporter": "python",
   "pygments_lexer": "ipython2",
   "version": "2.7.6"
  }
 },
 "nbformat": 4,
 "nbformat_minor": 0
}