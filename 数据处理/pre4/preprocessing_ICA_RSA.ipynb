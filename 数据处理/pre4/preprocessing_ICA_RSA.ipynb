{
 "cells": [
  {
   "cell_type": "code",
   "execution_count": null,
   "outputs": [],
   "source": [
    "%matplotlib qt"
   ],
   "metadata": {
    "collapsed": false
   }
  },
  {
   "cell_type": "code",
   "execution_count": null,
   "outputs": [],
   "source": [
    "import os.path as op\n",
    "import mne\n",
    "from mne.preprocessing import ICA\n",
    "from mne.preprocessing import annotate_movement, compute_average_dev_head_t,annotate_muscle_zscore\n",
    "import matplotlib.pyplot as plt\n",
    "from copy import deepcopy\n",
    "import numpy as np\n",
    "\n",
    "import matplotlib"
   ],
   "metadata": {
    "collapsed": false
   }
  },
  {
   "cell_type": "code",
   "execution_count": null,
   "outputs": [],
   "source": [
    "sub_ids = [\n",
    "            'pre4013_y'\n",
    "           ]\n",
    "data_path = '.\\data\\\\1raw_rename\\\\'\n",
    "\n",
    "'''\n",
    "\n",
    "https://mne.discourse.group/t/where-i-can-find-a-montage-for-neuroscan-64ch/4179/3\n",
    "\n",
    "'''\n",
    "sub_id = sub_ids[0]\n",
    "fname = op.join(data_path + sub_id + '.fif')\n",
    "raw = mne.io.read_raw_fif(fname, preload=True, verbose=None)\n",
    "# raw.plot_sensors()\n",
    "# raw.plot(n_channels = 50, duration =40, scalings=60e-6, remove_dc = True,\n",
    "#                  highpass=0.1, lowpass=30)\n",
    "# raw.plot(n_channels = 50, duration =40, scalings=60e-6, remove_dc = True,)\n",
    "# raw.plot_sensors()\n",
    "# raw.plot()\n",
    "# 这两个channel其实是有用的,但是和模板里名字不一致.\n",
    "raw.drop_channels(['CB1','CB2', 'Trigger','EKG', 'EMG']) # i dont need those channels\n",
    "rename_dict = {'HEO': 'HEOG','VEO':'VEOG','FP1':'Fp1', 'FPZ':'Fpz', 'FP2':'Fp2', 'FZ':'Fz', 'FCZ':'FCz', 'CZ':'Cz', 'CPZ':\"CPz\", 'PZ':\"Pz\", 'POZ':\"POz\", 'OZ':\"Oz\"}\n",
    "raw.rename_channels(rename_dict)\n",
    "\n",
    "print(raw.info)\n",
    "\n",
    "chan_types_dict = { \"VEOG\":\"eog\",\"HEOG\":\"eog\"}\n",
    "raw.set_channel_types(chan_types_dict)\n",
    "\n",
    "#电极点位置确定\n",
    "raw.plot_sensors() # 画出电极位置\n",
    "locs_info_path = './standard-10-5-cap385.elp'\n",
    "# montage = mne.channels.read_custom_montage(locs_info_path, head_size=0.095)\n",
    "montage = mne.channels.make_standard_montage(kind='standard_1005')\n",
    "# 自带的montage,如果没有montage文件. 如果没有就用mne自带的\n",
    "# mne.channels.get_builtin_montages()\n",
    "raw.set_montage(montage)\n",
    "raw.plot_sensors()# 对比一下 montage之后的位置\n",
    "plt.show() # 只呈现一次\n"
   ],
   "metadata": {
    "collapsed": false
   }
  },
  {
   "cell_type": "code",
   "execution_count": null,
   "outputs": [],
   "source": [
    "'''\n",
    "在进行filter之前,查找muscle,可以先把工频给删除掉.\n",
    "之所以要在filter之前,是因为muscle算法的判断就是高频的震荡(比如移动身体导致的皮肤和电极的摩擦)\n",
    "'''\n",
    "raw_muscle = raw.copy()\n",
    "raw_muscle.notch_filter([50, 100, 150, 200])\n",
    "threshold_muscle = 3  # z-score  设置得稍微小一点,选出更多的范围.不过这样子可能导致bad区间里面也有眼电成分.如果有一半标红了,那就没意义了..autoreject对眼电没辙.\n",
    "# Choose one channel type, if there are axial gradiometers and magnetometers,\n",
    "# select magnetometers as they are more sensitive to muscle activity.\n",
    "# min_length_good=0.1 两个bad之间如果很短,就之间标为bad范围.\n",
    "# filter_freq=[100, 150] 频率再设置宽一点.\n",
    "annot_muscle, scores_muscle = annotate_muscle_zscore(\n",
    "    raw_muscle, ch_type=\"eeg\", threshold=threshold_muscle, min_length_good=1,\n",
    "    filter_freq=[100, 150],n_jobs=4) # 选择区间是110-140HZ,这个已经远超神经信号的频率了\n",
    "# muscle的marker加上原来的marker\n",
    "raw_muscle.set_annotations(annot_muscle+raw.annotations)\n",
    "raw_muscle.plot(n_channels = 50, duration =40, scalings=60e-6, remove_dc = True,\n",
    "                 highpass=0.1, lowpass=30)\n",
    "'''\n",
    "查看 muscle score 的分布情况 在时间线上.\n",
    "'''\n",
    "fig, ax = plt.subplots()\n",
    "ax.plot(raw_muscle.times, scores_muscle)\n",
    "ax.axhline(y=threshold_muscle, color='r')\n",
    "ax.set(xlabel='time, (s)', ylabel='zscore', title='Muscle activity')"
   ],
   "metadata": {
    "collapsed": false
   }
  },
  {
   "cell_type": "code",
   "execution_count": null,
   "outputs": [],
   "source": [
    "\n",
    "'''\n",
    "自动化截取RSA部分的数据\n",
    "\n",
    "找到RSA实验的最前和最后的marker,截止时间\n",
    "\n",
    "截取RSA的RAW数据\n",
    "'''\n",
    "# 读取和打印marker\n",
    "# events, event_id = mne.events_from_annotations(raw)\n",
    "# for marker_name in event_id:\n",
    "#     print(marker_name)\n",
    "\n",
    "# 确定RSA的marker\n",
    "list_RSAmarker = ['101', '102', '103', '104', '111', '112', '113', '114', '121', '122', '123', '124', '131', '132', '133', '134', ]\n",
    "\n",
    "# 提取原始数据中的所有事件\n",
    "events, event_id = mne.events_from_annotations(raw_muscle)\n",
    "\n",
    "# 通过遍历list_RSAmarker列表，获取所需事件的索引\n",
    "selected_event_indices = [event_id[str(marker)] for marker in list_RSAmarker]\n",
    "\n",
    "# 提取与list_RSAmarker中的标记对应的事件\n",
    "selected_events = np.array([event for event in events if event[2] in selected_event_indices])\n",
    "\n",
    "# 找到最早和最晚出现的onset time\n",
    "\n",
    "first_onset_time = raw_muscle.times[selected_events[0, 0]]-2 #第一个marker的时间再往前2s\n",
    "# 给出2的trail空间\n",
    "last_onset_time = raw_muscle.times[selected_events[-1, 0]]+2 #最后一个marker的时间再往后2s\n",
    "\n",
    "print(f\"First onset time: {first_onset_time} s\")\n",
    "print(f\"Last onset time: {last_onset_time} s\")\n",
    "\n",
    "raw_crop  = raw_muscle.copy().crop(tmin=first_onset_time, tmax=last_onset_time)\n"
   ],
   "metadata": {
    "collapsed": false
   }
  },
  {
   "cell_type": "code",
   "execution_count": null,
   "outputs": [],
   "source": [
    "#找出坏导\n",
    "%matplotlib qt\n",
    "# raw.plot(n_channels = 50, duration =40, scalings=60e-6, remove_dc = True,\n",
    "#                  highpass=0.1, lowpass=30)\n",
    "raw_crop.plot(n_channels = 50, duration =40, scalings=60e-6, remove_dc = True,)\n"
   ],
   "metadata": {
    "collapsed": false
   }
  },
  {
   "cell_type": "code",
   "execution_count": null,
   "outputs": [],
   "source": [
    "print(raw_crop.info['bads'])\n",
    "# save_path_bad = '.\\data\\\\2raw_bad\\\\'\n",
    "# raw_crop.save(save_path_bad + sub_id + '.fif', overwrite=True)"
   ],
   "metadata": {
    "collapsed": false
   }
  },
  {
   "cell_type": "code",
   "execution_count": null,
   "outputs": [],
   "source": [
    "#插值\n",
    "original_bads = deepcopy(raw_crop.info['bads'])\n",
    "print(raw_crop.info['bads'])\n",
    "#截取一部分作图\n",
    "# raw.copy().crop(tmin=0,tmax=100).plot(n_channels = 50, duration =40, scalings=40e-6,remove_dc = True,highpass=1,lowpass=40)\n",
    "# How interpolation works¶根据手册，是根据topo位置来插值？所以需要location\n",
    "raw_interp = raw_crop.copy().interpolate_bads(reset_bads=True)\n",
    "print(raw_interp.info['bads'])\n",
    "# raw_interp.copy().crop(tmin=0,tmax=100).plot(n_channels = 50, duration =40, scalings=40e-6, remove_dc = True,highpass=1,lowpass=40)\n",
    "\n",
    "#滤波\n",
    "# raw_interp.copy().plot_psd(area_mode='range', average=False)\n",
    "# 要做时频分析，上限高一点？脑干 80\n",
    "# 不同数据对这个要求不一样,这里稍微设置高一点,后面再各自处理好了.\n",
    "raw_middlepass = raw_interp.copy().filter(0.1, 40.)\n",
    "sample_rate=500\n",
    "freqs = np.arange(50, sample_rate / 2, 50)\n",
    "raw_middlepass_notch = raw_middlepass.copy().notch_filter(freqs=freqs)\n",
    "# raw_middlepass_notch.copy().plot_psd(area_mode='range', average=False)\n",
    "\n",
    "#重参考\n",
    "raw_rerefer = raw_middlepass_notch.copy().set_eeg_reference(ref_channels='average')\n",
    "#保存,在ICA之前\n",
    "raw_rerefer.plot(n_channels = 50, duration =40, scalings=60e-6, remove_dc = True,)\n",
    "\n",
    "'''\n",
    "标注出bad区间,提高ICA的眼电成分更加集中\n",
    "'''\n",
    "\n",
    "break_annots = mne.preprocessing.annotate_break(raw_rerefer,min_break_duration=20,)\n",
    "# 防止错位\n",
    "# 必须放在annotation_break之后\n",
    "raw_rerefer.annotations.onset = raw_rerefer.annotations.onset - first_onset_time\n",
    "raw_rerefer.set_annotations(annotations=raw_rerefer.annotations + break_annots)\n",
    "# raw_rerefer.plot(n_channels = 50, duration =40, scalings=60e-6)\n"
   ],
   "metadata": {
    "collapsed": false
   }
  },
  {
   "cell_type": "code",
   "execution_count": null,
   "outputs": [],
   "source": [
    "# 根据amplitude标注一次 然后手动去调整宽度.\n",
    "'''\n",
    "注意 amplitude标注并不是标注出所有的bad区间,其原理是根据 幅值增长速度 而非 幅度本身\n",
    "\n",
    "因此其作用应该是标注出幅值快速变化的时间点,你要去画出来之后,在EEG的图上,留下这些bad marker,自己人为地去扩宽一下.\n",
    "\n",
    "'''\n",
    "# peak的选择可以严格一点.理论上来说眼电的幅值也就20uV\n",
    "amp_annots = mne.preprocessing.annotate_amplitude(raw_rerefer, peak=5e-6, min_duration=0.05)[0]\n",
    "# 在原有基础上加上amp_annots\n",
    "raw_rerefer.annotations.onset = raw_rerefer.annotations.onset - first_onset_time\n",
    "raw_rerefer.set_annotations(raw_rerefer.annotations+amp_annots)\n",
    "raw_rerefer.plot(n_channels = 50, duration =40, scalings=60e-6)\n"
   ],
   "metadata": {
    "collapsed": false
   }
  },
  {
   "cell_type": "code",
   "execution_count": null,
   "outputs": [],
   "source": [
    "'''\n",
    "问题，不知道ICA到底有没有吧 break计算上。\n",
    "'''\n",
    "import time\n",
    "time_start=time.time()\n",
    "# ICA\n",
    "raw_filt = raw_rerefer.copy()\n",
    "raw_filt.load_data().filter(l_freq=0.1, h_freq= 40)\n",
    "# 有一段数据非常糟糕,而且是有mark的部分,所以直接截掉,而不是用break来标记\n",
    "# raw_filt.crop(tmin=132)\n",
    "raw_filt.plot(n_channels = 50, duration =40, scalings=60e-6)"
   ],
   "metadata": {
    "collapsed": false
   }
  },
  {
   "cell_type": "code",
   "execution_count": null,
   "outputs": [],
   "source": [
    "ica = ICA(n_components=50, random_state=97, )\n",
    "#训练，但是并没有删除\n",
    "ica.fit(raw_filt)\n",
    "#计时\n",
    "time_end=time.time()\n",
    "print('time cost',time_end-time_start,'s')\n",
    "print(sub_id)"
   ],
   "metadata": {
    "collapsed": false
   }
  },
  {
   "cell_type": "code",
   "execution_count": null,
   "outputs": [],
   "source": [
    "#有多种选择，自动，手动。找出eog component\n",
    "# eog_inds, eog_scores = ica.find_bads_eog(raw_filt, threshold=3.0, ch_name='Fp2')#0 7数据眼电有问题\n",
    "eog_inds, eog_scores = ica.find_bads_eog(raw_filt, threshold='auto') # 用3是因为并不是真的那么准确,你需要人为判断.如果改成2,,可能会自动排除许多component.\n",
    "\n",
    "#参考一下机器\n",
    "ica.plot_scores(eog_scores)\n",
    "#但是要自己检查一下,有问题就手动修改eog_ins"
   ],
   "metadata": {
    "collapsed": false,
    "pycharm": {
     "is_executing": true
    }
   }
  },
  {
   "cell_type": "code",
   "execution_count": null,
   "outputs": [],
   "source": [
    "ica.plot_components(inst=raw_filt)  #一跑就卡死"
   ],
   "metadata": {
    "collapsed": false,
    "pycharm": {
     "is_executing": true
    }
   }
  },
  {
   "cell_type": "code",
   "execution_count": null,
   "outputs": [],
   "source": [
    "'''\n",
    "上面是找眼电成分,这里再找一次muscle成分.\n",
    "\n",
    "你会发现muscle渗透到了很多成分当中.甚至超过一半,但是你这部分的脚本仅仅是挑出来眼电.\n",
    "即把眼电逼出来,尽量避免混合 眼电+muscle\n",
    "\n",
    "\n",
    "'''\n",
    "muscle_idx_auto, scores = ica.find_bads_muscle(raw)\n",
    "ica.plot_scores(scores, exclude=muscle_idx_auto)\n",
    "print(f'Automatically found muscle artifact ICA components: {muscle_idx_auto}')"
   ],
   "metadata": {
    "collapsed": false
   }
  },
  {
   "cell_type": "code",
   "execution_count": null,
   "outputs": [],
   "source": [
    "\n",
    "# 手动\n",
    "eog_inds = [1,3]"
   ],
   "metadata": {
    "collapsed": false
   }
  },
  {
   "cell_type": "code",
   "execution_count": null,
   "outputs": [],
   "source": [
    "#eog_inds = [0,1]\n",
    "ica.exclude = eog_inds\n",
    "ica.plot_scores(eog_scores)\n",
    "#这个……在filt_raw训练出来的model，可以直接给别的数据用。。\n",
    "reconst_raw =raw_filt.copy()\n",
    "reconst_raw.plot(n_channels = 50, duration =40, scalings=40e-6)\n",
    "ica.apply(reconst_raw)\n",
    "reconst_raw.plot(n_channels = 50, duration =40, scalings=40e-6)"
   ],
   "metadata": {
    "collapsed": false
   }
  },
  {
   "cell_type": "code",
   "execution_count": null,
   "outputs": [],
   "source": [
    "#确认无误，保存一下,raw ica\n",
    "save_path_ica = '.\\data\\\\4raw_ica\\\\'\n",
    "ica.save(save_path_ica + sub_id + '.fiff', overwrite=True)\n",
    "reconst_raw.save(save_path_ica + sub_id + '.fif', overwrite=True)"
   ],
   "metadata": {
    "collapsed": false
   }
  },
  {
   "cell_type": "code",
   "execution_count": null,
   "outputs": [],
   "source": [
    "'''\n",
    "脑区域图。\n",
    "\n",
    "'''\n",
    "raw.plot_sensors(show_names=True)"
   ],
   "metadata": {
    "collapsed": false
   }
  },
  {
   "cell_type": "code",
   "execution_count": null,
   "outputs": [],
   "source": [],
   "metadata": {
    "collapsed": false
   }
  }
 ],
 "metadata": {
  "kernelspec": {
   "name": "mne",
   "language": "python",
   "display_name": "mne"
  },
  "language_info": {
   "codemirror_mode": {
    "name": "ipython",
    "version": 2
   },
   "file_extension": ".py",
   "mimetype": "text/x-python",
   "name": "python",
   "nbconvert_exporter": "python",
   "pygments_lexer": "ipython2",
   "version": "2.7.6"
  }
 },
 "nbformat": 4,
 "nbformat_minor": 0
}
