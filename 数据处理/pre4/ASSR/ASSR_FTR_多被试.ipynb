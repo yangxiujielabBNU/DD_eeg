{
 "cells": [
  {
   "cell_type": "code",
   "execution_count": 1,
   "outputs": [],
   "source": [
    "'''\n",
    "\n",
    "多被试分析。\n",
    "每个被试在对应指标上都是一个平均值。\n",
    "\n",
    "'''\n",
    "import  mne\n",
    "import matplotlib.pyplot as plt\n",
    "from mne.time_frequency import tfr_morlet, psd_multitaper, psd_welch\n",
    "import numpy as np"
   ],
   "metadata": {
    "collapsed": false
   }
  },
  {
   "cell_type": "code",
   "execution_count": 2,
   "outputs": [
    {
     "name": "stdout",
     "output_type": "stream",
     "text": [
      "Reading E:\\实验\\阅读困难\\数据处理\\pre2beishi_RSA_ASSR46\\data\\6epoch_clean_ASSR\\pre2003_4hz-epo.fif ...\n",
      "    Found the data of interest:\n",
      "        t =    -500.00 ...   18200.00 ms\n",
      "        0 CTF compensation matrices available\n",
      "Not setting metadata\n",
      "28 matching events found\n",
      "No baseline correction applied\n",
      "0 projection items activated\n",
      "Reading E:\\实验\\阅读困难\\数据处理\\pre2beishi_RSA_ASSR46\\data\\6epoch_clean_ASSR\\pre2003_6hz-epo.fif ...\n",
      "    Found the data of interest:\n",
      "        t =    -500.00 ...   18200.00 ms\n",
      "        0 CTF compensation matrices available\n",
      "Not setting metadata\n",
      "24 matching events found\n",
      "No baseline correction applied\n",
      "0 projection items activated\n",
      "Reading E:\\实验\\阅读困难\\数据处理\\pre2beishi_RSA_ASSR46\\data\\6epoch_clean_ASSR\\pre2004_4hz-epo.fif ...\n",
      "    Found the data of interest:\n",
      "        t =    -500.00 ...   18200.00 ms\n",
      "        0 CTF compensation matrices available\n",
      "Not setting metadata\n",
      "29 matching events found\n",
      "No baseline correction applied\n",
      "0 projection items activated\n",
      "Reading E:\\实验\\阅读困难\\数据处理\\pre2beishi_RSA_ASSR46\\data\\6epoch_clean_ASSR\\pre2004_6hz-epo.fif ...\n",
      "    Found the data of interest:\n",
      "        t =    -500.00 ...   18200.00 ms\n",
      "        0 CTF compensation matrices available\n",
      "Not setting metadata\n",
      "29 matching events found\n",
      "No baseline correction applied\n",
      "0 projection items activated\n",
      "Reading E:\\实验\\阅读困难\\数据处理\\pre2beishi_RSA_ASSR46\\data\\6epoch_clean_ASSR\\pre2005_4hz-epo.fif ...\n",
      "    Found the data of interest:\n",
      "        t =    -500.00 ...   18200.00 ms\n",
      "        0 CTF compensation matrices available\n",
      "Not setting metadata\n",
      "30 matching events found\n",
      "No baseline correction applied\n",
      "0 projection items activated\n",
      "Reading E:\\实验\\阅读困难\\数据处理\\pre2beishi_RSA_ASSR46\\data\\6epoch_clean_ASSR\\pre2005_6hz-epo.fif ...\n",
      "    Found the data of interest:\n",
      "        t =    -500.00 ...   18200.00 ms\n",
      "        0 CTF compensation matrices available\n",
      "Not setting metadata\n",
      "30 matching events found\n",
      "No baseline correction applied\n",
      "0 projection items activated\n"
     ]
    },
    {
     "ename": "FileNotFoundError",
     "evalue": "File does not exist: E:\\实验\\阅读困难\\数据处理\\pre2beishi_RSA_ASSR46\\data\\6epoch_clean_ASSR\\pre2007_4hz-epo.fif",
     "output_type": "error",
     "traceback": [
      "\u001B[1;31m---------------------------------------------------------------------------\u001B[0m",
      "\u001B[1;31mFileNotFoundError\u001B[0m                         Traceback (most recent call last)",
      "Cell \u001B[1;32mIn [2], line 10\u001B[0m\n\u001B[0;32m      7\u001B[0m list_epochs_30Hz \u001B[38;5;241m=\u001B[39m \u001B[38;5;28mlist\u001B[39m()\n\u001B[0;32m      9\u001B[0m \u001B[38;5;28;01mfor\u001B[39;00m sub_id \u001B[38;5;129;01min\u001B[39;00m sub_ids:\n\u001B[1;32m---> 10\u001B[0m     epochs_4Hz \u001B[38;5;241m=\u001B[39m \u001B[43mmne\u001B[49m\u001B[38;5;241;43m.\u001B[39;49m\u001B[43mread_epochs\u001B[49m\u001B[43m(\u001B[49m\u001B[43mdata_path\u001B[49m\u001B[38;5;241;43m+\u001B[39;49m\u001B[43msub_id\u001B[49m\u001B[38;5;241;43m+\u001B[39;49m\u001B[38;5;124;43m'\u001B[39;49m\u001B[38;5;124;43m_4hz-epo.fif\u001B[39;49m\u001B[38;5;124;43m'\u001B[39;49m\u001B[43m)\u001B[49m\n\u001B[0;32m     11\u001B[0m     epochs_30Hz \u001B[38;5;241m=\u001B[39m mne\u001B[38;5;241m.\u001B[39mread_epochs(data_path\u001B[38;5;241m+\u001B[39msub_id\u001B[38;5;241m+\u001B[39m\u001B[38;5;124m'\u001B[39m\u001B[38;5;124m_6hz-epo.fif\u001B[39m\u001B[38;5;124m'\u001B[39m)\n\u001B[0;32m     12\u001B[0m     list_epochs_4Hz\u001B[38;5;241m.\u001B[39mappend(epochs_4Hz)\n",
      "File \u001B[1;32m<decorator-gen-284>:12\u001B[0m, in \u001B[0;36mread_epochs\u001B[1;34m(fname, proj, preload, verbose)\u001B[0m\n",
      "File \u001B[1;32m~\\AppData\\Roaming\\Python\\Python39\\site-packages\\mne\\epochs.py:3172\u001B[0m, in \u001B[0;36mread_epochs\u001B[1;34m(fname, proj, preload, verbose)\u001B[0m\n\u001B[0;32m   3154\u001B[0m \u001B[38;5;129m@verbose\u001B[39m\n\u001B[0;32m   3155\u001B[0m \u001B[38;5;28;01mdef\u001B[39;00m \u001B[38;5;21mread_epochs\u001B[39m(fname, proj\u001B[38;5;241m=\u001B[39m\u001B[38;5;28;01mTrue\u001B[39;00m, preload\u001B[38;5;241m=\u001B[39m\u001B[38;5;28;01mTrue\u001B[39;00m, verbose\u001B[38;5;241m=\u001B[39m\u001B[38;5;28;01mNone\u001B[39;00m):\n\u001B[0;32m   3156\u001B[0m     \u001B[38;5;124;03m\"\"\"Read epochs from a fif file.\u001B[39;00m\n\u001B[0;32m   3157\u001B[0m \n\u001B[0;32m   3158\u001B[0m \u001B[38;5;124;03m    Parameters\u001B[39;00m\n\u001B[1;32m   (...)\u001B[0m\n\u001B[0;32m   3170\u001B[0m \u001B[38;5;124;03m        The epochs.\u001B[39;00m\n\u001B[0;32m   3171\u001B[0m \u001B[38;5;124;03m    \"\"\"\u001B[39;00m\n\u001B[1;32m-> 3172\u001B[0m     \u001B[38;5;28;01mreturn\u001B[39;00m \u001B[43mEpochsFIF\u001B[49m\u001B[43m(\u001B[49m\u001B[43mfname\u001B[49m\u001B[43m,\u001B[49m\u001B[43m \u001B[49m\u001B[43mproj\u001B[49m\u001B[43m,\u001B[49m\u001B[43m \u001B[49m\u001B[43mpreload\u001B[49m\u001B[43m,\u001B[49m\u001B[43m \u001B[49m\u001B[43mverbose\u001B[49m\u001B[43m)\u001B[49m\n",
      "File \u001B[1;32m<decorator-gen-285>:12\u001B[0m, in \u001B[0;36m__init__\u001B[1;34m(self, fname, proj, preload, verbose)\u001B[0m\n",
      "File \u001B[1;32m~\\AppData\\Roaming\\Python\\Python39\\site-packages\\mne\\epochs.py:3220\u001B[0m, in \u001B[0;36mEpochsFIF.__init__\u001B[1;34m(self, fname, proj, preload, verbose)\u001B[0m\n\u001B[0;32m   3215\u001B[0m \u001B[38;5;28;01mif\u001B[39;00m _path_like(fname):\n\u001B[0;32m   3216\u001B[0m     check_fname(\n\u001B[0;32m   3217\u001B[0m         fname\u001B[38;5;241m=\u001B[39mfname, filetype\u001B[38;5;241m=\u001B[39m\u001B[38;5;124m'\u001B[39m\u001B[38;5;124mepochs\u001B[39m\u001B[38;5;124m'\u001B[39m,\n\u001B[0;32m   3218\u001B[0m         endings\u001B[38;5;241m=\u001B[39m(\u001B[38;5;124m'\u001B[39m\u001B[38;5;124m-epo.fif\u001B[39m\u001B[38;5;124m'\u001B[39m, \u001B[38;5;124m'\u001B[39m\u001B[38;5;124m-epo.fif.gz\u001B[39m\u001B[38;5;124m'\u001B[39m, \u001B[38;5;124m'\u001B[39m\u001B[38;5;124m_epo.fif\u001B[39m\u001B[38;5;124m'\u001B[39m, \u001B[38;5;124m'\u001B[39m\u001B[38;5;124m_epo.fif.gz\u001B[39m\u001B[38;5;124m'\u001B[39m)\n\u001B[0;32m   3219\u001B[0m     )\n\u001B[1;32m-> 3220\u001B[0m     fname \u001B[38;5;241m=\u001B[39m \u001B[43m_check_fname\u001B[49m\u001B[43m(\u001B[49m\u001B[43mfname\u001B[49m\u001B[38;5;241;43m=\u001B[39;49m\u001B[43mfname\u001B[49m\u001B[43m,\u001B[49m\u001B[43m \u001B[49m\u001B[43mmust_exist\u001B[49m\u001B[38;5;241;43m=\u001B[39;49m\u001B[38;5;28;43;01mTrue\u001B[39;49;00m\u001B[43m,\u001B[49m\n\u001B[0;32m   3221\u001B[0m \u001B[43m                         \u001B[49m\u001B[43moverwrite\u001B[49m\u001B[38;5;241;43m=\u001B[39;49m\u001B[38;5;124;43m'\u001B[39;49m\u001B[38;5;124;43mread\u001B[39;49m\u001B[38;5;124;43m'\u001B[39;49m\u001B[43m)\u001B[49m\n\u001B[0;32m   3222\u001B[0m \u001B[38;5;28;01melif\u001B[39;00m \u001B[38;5;129;01mnot\u001B[39;00m preload:\n\u001B[0;32m   3223\u001B[0m     \u001B[38;5;28;01mraise\u001B[39;00m \u001B[38;5;167;01mValueError\u001B[39;00m(\u001B[38;5;124m'\u001B[39m\u001B[38;5;124mpreload must be used with file-like objects\u001B[39m\u001B[38;5;124m'\u001B[39m)\n",
      "File \u001B[1;32m<decorator-gen-0>:12\u001B[0m, in \u001B[0;36m_check_fname\u001B[1;34m(fname, overwrite, must_exist, name, need_dir, verbose)\u001B[0m\n",
      "File \u001B[1;32m~\\AppData\\Roaming\\Python\\Python39\\site-packages\\mne\\utils\\check.py:245\u001B[0m, in \u001B[0;36m_check_fname\u001B[1;34m(fname, overwrite, must_exist, name, need_dir, verbose)\u001B[0m\n\u001B[0;32m    242\u001B[0m             \u001B[38;5;28;01mraise\u001B[39;00m \u001B[38;5;167;01mPermissionError\u001B[39;00m(\n\u001B[0;32m    243\u001B[0m                 \u001B[38;5;124mf\u001B[39m\u001B[38;5;124m'\u001B[39m\u001B[38;5;132;01m{\u001B[39;00mname\u001B[38;5;132;01m}\u001B[39;00m\u001B[38;5;124m does not have read permissions: \u001B[39m\u001B[38;5;132;01m{\u001B[39;00mfname\u001B[38;5;132;01m}\u001B[39;00m\u001B[38;5;124m'\u001B[39m)\n\u001B[0;32m    244\u001B[0m \u001B[38;5;28;01melif\u001B[39;00m must_exist:\n\u001B[1;32m--> 245\u001B[0m     \u001B[38;5;28;01mraise\u001B[39;00m \u001B[38;5;167;01mFileNotFoundError\u001B[39;00m(\u001B[38;5;124mf\u001B[39m\u001B[38;5;124m'\u001B[39m\u001B[38;5;132;01m{\u001B[39;00mname\u001B[38;5;132;01m}\u001B[39;00m\u001B[38;5;124m does not exist: \u001B[39m\u001B[38;5;132;01m{\u001B[39;00mfname\u001B[38;5;132;01m}\u001B[39;00m\u001B[38;5;124m'\u001B[39m)\n\u001B[0;32m    247\u001B[0m \u001B[38;5;28;01mreturn\u001B[39;00m fname\n",
      "\u001B[1;31mFileNotFoundError\u001B[0m: File does not exist: E:\\实验\\阅读困难\\数据处理\\pre2beishi_RSA_ASSR46\\data\\6epoch_clean_ASSR\\pre2007_4hz-epo.fif"
     ]
    }
   ],
   "source": [
    "data_path = 'E:\\实验\\阅读困难\\数据处理\\pre2beishi_RSA_ASSR46\\data\\\\6epoch_clean_ASSR\\\\'\n",
    "sub_ids = [\n",
    "            'pre2003','pre2004','pre2005','pre2007','pre2008','pre2009','pre2010',\n",
    "          ]\n",
    "\n",
    "list_epochs_4Hz = list()\n",
    "list_epochs_30Hz = list()\n",
    "\n",
    "for sub_id in sub_ids:\n",
    "    epochs_4Hz = mne.read_epochs(data_path+sub_id+'_4hz-epo.fif')\n",
    "    epochs_30Hz = mne.read_epochs(data_path+sub_id+'_6hz-epo.fif')\n",
    "    list_epochs_4Hz.append(epochs_4Hz)\n",
    "    list_epochs_30Hz.append(epochs_30Hz)"
   ],
   "metadata": {
    "collapsed": false
   }
  },
  {
   "cell_type": "code",
   "execution_count": null,
   "outputs": [],
   "source": [
    "tmin = 0.5\n",
    "tmax = 30.5\n",
    "fmin = 1.\n",
    "fmax = 20.\n",
    "sfreq = list_epochs_30Hz[0].info['sfreq']\n",
    "\n",
    "# 每个被试都对应一个 psds,freqs，那么还需要做两个list了。\n",
    "# psds的数据结构是什么样子的呢，怎么进行统计分析呢？\n",
    "#  (n_epochs, n_channels, n_freqs).\n",
    "list_psds = list()\n",
    "list_freqs = list()\n",
    "list_snrs = list()\n",
    "# if input is of type Epochs, then psds will be of shape (n_epochs, n_channels, n_freqs)\n",
    "# psds的数据结构如此，那么可以考虑进行平均 SNR应该也是一样的道理。\n",
    "# 每个被试的psds先平均，然后再把所有的被试的数据平均psds拼接起来。\n",
    "channels = ['M1','T7','P7','TP7','M2','T8','P8','TP8','CP5','CP6','C5','C6']\n",
    "for i in range(len(sub_ids)):\n",
    "    psds, freqs = mne.time_frequency.psd_welch(\n",
    "        #关键设置 4 还是 30\n",
    "        list_epochs_30Hz[i],\n",
    "        picks = channels,\n",
    "        n_fft=int(sfreq * (tmax - tmin)),\n",
    "        # n_fft= 1000,\n",
    "        n_overlap=0, n_per_seg=None,\n",
    "        tmin=tmin, tmax=tmax,\n",
    "        fmin=fmin, fmax=fmax,\n",
    "        window='boxcar',\n",
    "        verbose=False,\n",
    "        average = 'mean'\n",
    "    )\n",
    "\n",
    "    def snr_spectrum(psd, noise_n_neighbor_freqs=1, noise_skip_neighbor_freqs=1):\n",
    "        \"\"\"Compute SNR spectrum from PSD spectrum using convolution.\n",
    "\n",
    "        Parameters\n",
    "        ----------\n",
    "        psd : ndarray, shape ([n_trials, n_channels,] n_frequency_bins)\n",
    "            Data object containing PSD values. Works with arrays as produced by\n",
    "            MNE's PSD functions or channel/trial subsets.\n",
    "        noise_n_neighbor_freqs : int\n",
    "            Number of neighboring frequencies used to compute noise level.\n",
    "            increment by one to add one frequency bin ON BOTH SIDES\n",
    "        noise_skip_neighbor_freqs : int\n",
    "            set this >=1 if you want to exclude the immediately neighboring\n",
    "            frequency bins in noise level calculation\n",
    "\n",
    "        Returns\n",
    "        -------\n",
    "        snr : ndarray, shape ([n_trials, n_channels,] n_frequency_bins)\n",
    "            Array containing SNR for all epochs, channels, frequency bins.\n",
    "            NaN for frequencies on the edges, that do not have enough neighbors on\n",
    "            one side to calculate SNR.\n",
    "        \"\"\"\n",
    "        # Construct a kernel that calculates the mean of the neighboring\n",
    "        # frequencies\n",
    "        averaging_kernel = np.concatenate((\n",
    "            np.ones(noise_n_neighbor_freqs),\n",
    "            np.zeros(2 * noise_skip_neighbor_freqs + 1),\n",
    "            np.ones(noise_n_neighbor_freqs)))\n",
    "        averaging_kernel /= averaging_kernel.sum()\n",
    "\n",
    "        # Calculate the mean of the neighboring frequencies by convolving with the\n",
    "        # averaging kernel.\n",
    "        mean_noise = np.apply_along_axis(\n",
    "            lambda psd_: np.convolve(psd_, averaging_kernel, mode='valid'),\n",
    "            axis=-1, arr=psd\n",
    "        )\n",
    "\n",
    "        # The mean is not defined on the edges so we will pad it with nas. The\n",
    "        # padding needs to be done for the last dimension only so we set it to\n",
    "        # (0, 0) for the other ones.\n",
    "        edge_width = noise_n_neighbor_freqs + noise_skip_neighbor_freqs\n",
    "        pad_width = [(0, 0)] * (mean_noise.ndim - 1) + [(edge_width, edge_width)]\n",
    "        mean_noise = np.pad(\n",
    "            mean_noise, pad_width=pad_width, constant_values=np.nan\n",
    "        )\n",
    "\n",
    "        return psd / mean_noise\n",
    "    snrs = snr_spectrum(psds, noise_n_neighbor_freqs=3,\n",
    "                        noise_skip_neighbor_freqs=0)\n",
    "\n",
    "    list_psds.append(psds)\n",
    "    list_freqs.append(freqs)\n",
    "    list_snrs.append(snrs)"
   ],
   "metadata": {
    "collapsed": false
   }
  },
  {
   "cell_type": "code",
   "execution_count": 27,
   "outputs": [],
   "source": [
    "'''\n",
    "ndarray在某个方向上进行平均\n",
    "'''\n",
    "%matplotlib qt\n",
    "psds_group = np.empty([len(sub_ids),len(channels),346])\n",
    "snrs_group = np.empty([len(sub_ids),len(channels),346])\n",
    "for i in range(len(sub_ids)):\n",
    "    psds_group[i]=np.mean(list_psds[i],axis=0)\n",
    "    snrs_group[i]=np.mean(list_snrs[i],axis=0)\n",
    "\n",
    "'''\n",
    "\n",
    "'''\n",
    "fig, axes = plt.subplots(2, 1, sharex='all', sharey='none', figsize=(8, 5))\n",
    "freq_range = range(np.where(np.floor(freqs) == 1.)[0][0],\n",
    "                   np.where(np.ceil(freqs) == fmax - 1)[0][0])\n",
    "\n",
    "psds_plot = 10 * np.log10(psds_group)\n",
    "psds_mean = psds_plot.mean(axis=(0, 1))[freq_range]\n",
    "psds_std = psds_plot.std(axis=(0, 1))[freq_range]\n",
    "axes[0].plot(freqs[freq_range], psds_mean, color='b')\n",
    "axes[0].fill_between(\n",
    "    freqs[freq_range], psds_mean - psds_std, psds_mean + psds_std,\n",
    "    color='b', alpha=.2)\n",
    "axes[0].set(title=\"PSD spectrum\", ylabel='Power Spectral Density [dB]')\n",
    "\n",
    "# SNR spectrum\n",
    "snr_mean = snrs_group.mean(axis=(0, 1))[freq_range]\n",
    "snr_std = snrs_group.std(axis=(0, 1))[freq_range]\n",
    "\n",
    "axes[1].plot(freqs[freq_range], snr_mean, color='r')\n",
    "axes[1].fill_between(\n",
    "    freqs[freq_range], snr_mean - snr_std, snr_mean + snr_std,\n",
    "    color='r', alpha=.2)\n",
    "axes[1].set(\n",
    "    title=\"SNR spectrum\", xlabel='Frequency [Hz]',\n",
    "    ylabel='SNR', ylim=[-2, 10], xlim=[fmin, fmax])\n",
    "fig.show()\n"
   ],
   "metadata": {
    "collapsed": false
   }
  },
  {
   "cell_type": "code",
   "execution_count": null,
   "outputs": [],
   "source": [
    "'''\n",
    "读取不同分析时间的，在4Hz上的SNR，然后以时间为横轴，SNR为纵轴作图。\n",
    "\n",
    "问题：为什么\n",
    "\n",
    "'''\n",
    "\n",
    "\n"
   ],
   "metadata": {
    "collapsed": false
   }
  },
  {
   "cell_type": "code",
   "execution_count": 7,
   "outputs": [],
   "source": [
    "'''\n",
    "时频分析\n",
    "https://mne.tools/stable/auto_tutorials/time-freq/20_sensors_time_frequency.html#sphx-glr-auto-tutorials-time-freq-20-sensors-time-frequency-py\n",
    "\n",
    "这里对应生成的是power和ITC，ITC肯定是一个被试一个了（试次间参数）。\n",
    "ERSP可以选择（相对基线的扰动）。\n",
    "\n",
    "那么最简单的想法：就是直接组平均，  power.data就是ndarray[channel，frequency，time]，那么同样的只要增加一个被试维度，平均一下就行了。\n",
    "'''\n",
    "freqs = np.logspace(*np.log10([1, 50]), num=8)\n",
    "freqs = np.linspace(1,40,num=40)\n",
    "n_cycles = freqs / 2.  # different number of cycle per frequency\n",
    "\n",
    "#随便弄一个power出来备用。\n",
    "power, itc = tfr_morlet(list_epochs_4Hz[0], freqs=freqs, n_cycles=n_cycles, use_fft=True,\n",
    "                        return_itc=True, decim=3, n_jobs=1)\n",
    "ndarry_power_group = np.empty([len(sub_ids),62,40,6234])\n",
    "ndarry_itc_group = np.empty([len(sub_ids),62,40,6234])\n",
    "\n",
    "for j in range(len(sub_ids)):\n",
    "    power, itc = tfr_morlet(list_epochs_30Hz[j], freqs=freqs, n_cycles=n_cycles, use_fft=True,\n",
    "                        return_itc=True, decim=3, n_jobs=1)\n",
    "    ndarry_power_group[j] = power.data\n",
    "    ndarry_itc_group[j] = itc.data\n"
   ],
   "metadata": {
    "collapsed": false
   }
  },
  {
   "cell_type": "code",
   "execution_count": 8,
   "outputs": [
    {
     "name": "stdout",
     "output_type": "stream",
     "text": [
      "Applying baseline correction (mode: logratio)\n",
      "Applying baseline correction (mode: logratio)\n",
      "Applying baseline correction (mode: logratio)\n"
     ]
    },
    {
     "name": "stderr",
     "output_type": "stream",
     "text": [
      "C:\\Users\\SilverBullet\\AppData\\Local\\Temp\\ipykernel_15348\\3428265250.py:8: FutureWarning: The \"title\" parameter is deprecated and will be removed in version 1.3. Use \"fig.suptitle()\" instead.\n",
      "  power.plot_topomap(ch_type='eeg', tmin=0.5, tmax=1.5, fmin=8, fmax=12,\n"
     ]
    },
    {
     "name": "stdout",
     "output_type": "stream",
     "text": [
      "Applying baseline correction (mode: logratio)\n"
     ]
    },
    {
     "name": "stderr",
     "output_type": "stream",
     "text": [
      "C:\\Users\\SilverBullet\\AppData\\Local\\Temp\\ipykernel_15348\\3428265250.py:11: FutureWarning: The \"title\" parameter is deprecated and will be removed in version 1.3. Use \"fig.suptitle()\" instead.\n",
      "  power.plot_topomap(ch_type='eeg', tmin=0.5, tmax=1.5, fmin=13, fmax=25,\n"
     ]
    }
   ],
   "source": [
    "ndarry_power_group_average = np.mean(ndarry_power_group,axis=0)\n",
    "power.data = ndarry_power_group_average\n",
    "%matplotlib qt\n",
    "power.plot_topo(baseline=(-0.5, 0), mode='logratio', title='Average power', fmin=0,fmax=40, vmax=1.5,vmin=-1.5)\n",
    "power.plot([33], baseline=(-0.5, 0), mode='logratio', title=power.ch_names[33])\n",
    "\n",
    "fig, axis = plt.subplots(1, 2, figsize=(7, 4))\n",
    "power.plot_topomap(ch_type='eeg', tmin=0.5, tmax=1.5, fmin=8, fmax=12,\n",
    "                   baseline=(-0.5, 0), mode='logratio', axes=axis[0],\n",
    "                   title='Alpha', show=False)\n",
    "power.plot_topomap(ch_type='eeg', tmin=0.5, tmax=1.5, fmin=13, fmax=25,\n",
    "                   baseline=(-0.5, 0), mode='logratio', axes=axis[1],\n",
    "                   title='Beta', show=False)\n",
    "mne.viz.tight_layout()\n",
    "plt.show()"
   ],
   "metadata": {
    "collapsed": false
   }
  },
  {
   "cell_type": "code",
   "execution_count": 58,
   "outputs": [
    {
     "name": "stdout",
     "output_type": "stream",
     "text": [
      "Applying baseline correction (mode: mean)\n"
     ]
    },
    {
     "data": {
      "text/plain": "<Figure size 640x480 with 2 Axes>",
      "image/png": "[encoded data removed]"
     },
     "execution_count": 58,
     "metadata": {},
     "output_type": "execute_result"
    }
   ],
   "source": [
    "ndarry_itc_group_average = np.mean(ndarry_itc_group,axis=0)\n",
    "itc.data = ndarry_itc_group_average\n",
    "itc.plot_topo(baseline=(-0.5, 0), mode='mean', title='ITC')"
   ],
   "metadata": {
    "collapsed": false
   }
  },
  {
   "cell_type": "code",
   "execution_count": null,
   "outputs": [],
   "source": [],
   "metadata": {
    "collapsed": false
   }
  }
 ],
 "metadata": {
  "kernelspec": {
   "name": "mne",
   "language": "python",
   "display_name": "mne"
  },
  "language_info": {
   "codemirror_mode": {
    "name": "ipython",
    "version": 2
   },
   "file_extension": ".py",
   "mimetype": "text/x-python",
   "name": "python",
   "nbconvert_exporter": "python",
   "pygments_lexer": "ipython2",
   "version": "2.7.6"
  }
 },
 "nbformat": 4,
 "nbformat_minor": 0
}
