{
 "cells": [
  {
   "cell_type": "code",
   "execution_count": 1,
   "metadata": {
    "collapsed": false,
    "pycharm": {
     "name": "#%%\n"
    }
   },
   "outputs": [],
   "source": [
    "%matplotlib inline"
   ]
  },
  {
   "cell_type": "markdown",
   "metadata": {
    "pycharm": {
     "name": "#%% md\n"
    }
   },
   "source": [
    "\n",
    "\n",
    "# Working with CTF data: the Brainstorm auditory dataset\n",
    "\n",
    "Here we compute the evoked from raw for the auditory Brainstorm\n",
    "tutorial dataset. For comparison, see :footcite:`TadelEtAl2011` and the\n",
    "associated [brainstorm site](https://neuroimage.usc.edu/brainstorm/Tutorials/Auditory).\n",
    "\n",
    "Experiment:\n",
    "\n",
    "    - One subject, 2 acquisition runs 6 minutes each.\n",
    "    - Each run contains 200 regular beeps and 40 easy deviant beeps.\n",
    "    - Random ISI: between 0.7s and 1.7s seconds, uniformly distributed.\n",
    "    - Button pressed when detecting a deviant with the right index finger.\n",
    "\n",
    "The specifications of this dataset were discussed initially on the\n",
    "[FieldTrip bug tracker](http://bugzilla.fieldtriptoolbox.org/show_bug.cgi?id=2300)_.\n"
   ]
  },
  {
   "cell_type": "code",
   "execution_count": 2,
   "metadata": {
    "collapsed": false,
    "pycharm": {
     "name": "#%%\n"
    }
   },
   "outputs": [],
   "source": [
    "# Authors: Mainak Jas <mainak.jas@telecom-paristech.fr>\n",
    "#          Eric Larson <larson.eric.d@gmail.com>\n",
    "#          Jaakko Leppakangas <jaeilepp@student.jyu.fi>\n",
    "#\n",
    "# License: BSD-3-Clause"
   ]
  },
  {
   "cell_type": "code",
   "execution_count": 3,
   "metadata": {
    "collapsed": false,
    "pycharm": {
     "name": "#%%\n"
    }
   },
   "outputs": [
    {
     "name": "stdout",
     "output_type": "stream",
     "text": [
      "Automatically created module for IPython interactive environment\n"
     ]
    }
   ],
   "source": [
    "import os.path as op\n",
    "import pandas as pd\n",
    "import numpy as np\n",
    "\n",
    "import mne\n",
    "from mne import combine_evoked\n",
    "from mne.minimum_norm import apply_inverse\n",
    "from mne.datasets.brainstorm import bst_auditory\n",
    "from mne.io import read_raw_ctf\n",
    "\n",
    "print(__doc__)"
   ]
  },
  {
   "cell_type": "markdown",
   "metadata": {
    "pycharm": {
     "name": "#%% md\n"
    }
   },
   "source": [
    "To reduce memory consumption and running time, some of the steps are\n",
    "precomputed. To run everything from scratch change ``use_precomputed`` to\n",
    "``False``. With ``use_precomputed = False`` running time of this script can\n",
    "be several minutes even on a fast computer.\n",
    "\n"
   ]
  },
  {
   "cell_type": "code",
   "execution_count": 4,
   "metadata": {
    "collapsed": false,
    "pycharm": {
     "name": "#%%\n"
    }
   },
   "outputs": [],
   "source": [
    "use_precomputed = True"
   ]
  },
  {
   "cell_type": "markdown",
   "metadata": {
    "pycharm": {
     "name": "#%% md\n"
    }
   },
   "source": [
    "The data was collected with a CTF 275 system at 2400 Hz and low-pass\n",
    "filtered at 600 Hz. Here the data and empty room data files are read to\n",
    "construct instances of :class:`mne.io.Raw`.\n",
    "\n"
   ]
  },
  {
   "cell_type": "code",
   "execution_count": null,
   "metadata": {
    "collapsed": false,
    "pycharm": {
     "is_executing": true,
     "name": "#%%\n"
    }
   },
   "outputs": [
    {
     "name": "stdout",
     "output_type": "stream",
     "text": [
      "Using default location ~/mne_data for bst_auditory...\n"
     ]
    },
    {
     "name": "stderr",
     "output_type": "stream",
     "text": [
      "Downloading file 'bst_auditory.tar.gz' from 'https://osf.io/5t9n8/download?version=1' to 'C:\\Users\\SilverBullet\\mne_data'.\n",
      "  2%|6                                 | 29.4M/1.64G [08:00<15:02:38, 29.7kB/s]"
     ]
    }
   ],
   "source": [
    "data_path = bst_auditory.data_path()\n",
    "\n",
    "subject = 'bst_auditory'\n",
    "subjects_dir = op.join(data_path, 'subjects')\n",
    "\n",
    "raw_fname1 = op.join(data_path, 'MEG', subject, 'S01_AEF_20131218_01.ds')\n",
    "raw_fname2 = op.join(data_path, 'MEG', subject, 'S01_AEF_20131218_02.ds')\n",
    "erm_fname = op.join(data_path, 'MEG', subject, 'S01_Noise_20131218_01.ds')"
   ]
  },
  {
   "cell_type": "markdown",
   "metadata": {
    "pycharm": {
     "name": "#%% md\n"
    }
   },
   "source": [
    "In the memory saving mode we use ``preload=False`` and use the memory\n",
    "efficient IO which loads the data on demand. However, filtering and some\n",
    "other functions require the data to be preloaded into memory.\n",
    "\n"
   ]
  },
  {
   "cell_type": "code",
   "execution_count": null,
   "metadata": {
    "collapsed": false,
    "pycharm": {
     "name": "#%%\n"
    }
   },
   "outputs": [],
   "source": [
    "raw = read_raw_ctf(raw_fname1)\n",
    "n_times_run1 = raw.n_times\n",
    "\n",
    "# Here we ignore that these have different device<->head transforms\n",
    "mne.io.concatenate_raws(\n",
    "    [raw, read_raw_ctf(raw_fname2)], on_mismatch='ignore')\n",
    "raw_erm = read_raw_ctf(erm_fname)"
   ]
  },
  {
   "cell_type": "markdown",
   "metadata": {
    "pycharm": {
     "name": "#%% md\n"
    }
   },
   "source": [
    "The data array consists of 274 MEG axial gradiometers, 26 MEG reference\n",
    "sensors and 2 EEG electrodes (Cz and Pz). In addition:\n",
    "\n",
    "  - 1 stim channel for marking presentation times for the stimuli\n",
    "  - 1 audio channel for the sent signal\n",
    "  - 1 response channel for recording the button presses\n",
    "  - 1 ECG bipolar\n",
    "  - 2 EOG bipolar (vertical and horizontal)\n",
    "  - 12 head tracking channels\n",
    "  - 20 unused channels\n",
    "\n",
    "Notice also that the digitized electrode positions (stored in a .pos file)\n",
    "were automatically loaded and added to the `~mne.io.Raw` object.\n",
    "\n",
    "The head tracking channels and the unused channels are marked as misc\n",
    "channels. Here we define the EOG and ECG channels.\n",
    "\n"
   ]
  },
  {
   "cell_type": "code",
   "execution_count": null,
   "metadata": {
    "collapsed": false,
    "pycharm": {
     "name": "#%%\n"
    }
   },
   "outputs": [],
   "source": [
    "raw.set_channel_types({'HEOG': 'eog', 'VEOG': 'eog', 'ECG': 'ecg'})\n",
    "if not use_precomputed:\n",
    "    # Leave out the two EEG channels for easier computation of forward.\n",
    "    raw.pick(['meg', 'stim', 'misc', 'eog', 'ecg']).load_data()"
   ]
  },
  {
   "cell_type": "markdown",
   "metadata": {
    "pycharm": {
     "name": "#%% md\n"
    }
   },
   "source": [
    "For noise reduction, a set of bad segments have been identified and stored\n",
    "in csv files. The bad segments are later used to reject epochs that overlap\n",
    "with them.\n",
    "The file for the second run also contains some saccades. The saccades are\n",
    "removed by using SSP. We use pandas to read the data from the csv files. You\n",
    "can also view the files with your favorite text editor.\n",
    "\n"
   ]
  },
  {
   "cell_type": "code",
   "execution_count": null,
   "metadata": {
    "collapsed": false,
    "pycharm": {
     "name": "#%%\n"
    }
   },
   "outputs": [],
   "source": [
    "annotations_df = pd.DataFrame()\n",
    "offset = n_times_run1\n",
    "for idx in [1, 2]:\n",
    "    csv_fname = op.join(data_path, 'MEG', 'bst_auditory',\n",
    "                        'events_bad_0%s.csv' % idx)\n",
    "    df = pd.read_csv(csv_fname, header=None,\n",
    "                     names=['onset', 'duration', 'id', 'label'])\n",
    "    print('Events from run {0}:'.format(idx))\n",
    "    print(df)\n",
    "\n",
    "    df['onset'] += offset * (idx - 1)\n",
    "    annotations_df = pd.concat([annotations_df, df], axis=0)\n",
    "\n",
    "saccades_events = df[df['label'] == 'saccade'].values[:, :3].astype(int)\n",
    "\n",
    "# Conversion from samples to times:\n",
    "onsets = annotations_df['onset'].values / raw.info['sfreq']\n",
    "durations = annotations_df['duration'].values / raw.info['sfreq']\n",
    "descriptions = annotations_df['label'].values\n",
    "\n",
    "annotations = mne.Annotations(onsets, durations, descriptions)\n",
    "raw.set_annotations(annotations)\n",
    "del onsets, durations, descriptions"
   ]
  },
  {
   "cell_type": "markdown",
   "metadata": {
    "pycharm": {
     "name": "#%% md\n"
    }
   },
   "source": [
    "Here we compute the saccade and EOG projectors for magnetometers and add\n",
    "them to the raw data. The projectors are added to both runs.\n",
    "\n"
   ]
  },
  {
   "cell_type": "code",
   "execution_count": null,
   "metadata": {
    "collapsed": false,
    "pycharm": {
     "name": "#%%\n"
    }
   },
   "outputs": [],
   "source": [
    "saccade_epochs = mne.Epochs(raw, saccades_events, 1, 0., 0.5, preload=True,\n",
    "                            baseline=(None, None),\n",
    "                            reject_by_annotation=False)\n",
    "\n",
    "projs_saccade = mne.compute_proj_epochs(saccade_epochs, n_mag=1, n_eeg=0,\n",
    "                                        desc_prefix='saccade')\n",
    "if use_precomputed:\n",
    "    proj_fname = op.join(data_path, 'MEG', 'bst_auditory',\n",
    "                         'bst_auditory-eog-proj.fif')\n",
    "    projs_eog = mne.read_proj(proj_fname)[0]\n",
    "else:\n",
    "    projs_eog, _ = mne.preprocessing.compute_proj_eog(raw.load_data(),\n",
    "                                                      n_mag=1, n_eeg=0)\n",
    "raw.add_proj(projs_saccade)\n",
    "raw.add_proj(projs_eog)\n",
    "del saccade_epochs, saccades_events, projs_eog, projs_saccade  # To save memory"
   ]
  },
  {
   "cell_type": "markdown",
   "metadata": {
    "pycharm": {
     "name": "#%% md\n"
    }
   },
   "source": [
    "Visually inspect the effects of projections. Click on 'proj' button at the\n",
    "bottom right corner to toggle the projectors on/off. EOG events can be\n",
    "plotted by adding the event list as a keyword argument. As the bad segments\n",
    "and saccades were added as annotations to the raw data, they are plotted as\n",
    "well.\n",
    "\n"
   ]
  },
  {
   "cell_type": "code",
   "execution_count": null,
   "metadata": {
    "collapsed": false,
    "pycharm": {
     "name": "#%%\n"
    }
   },
   "outputs": [],
   "source": [
    "raw.plot(block=True)"
   ]
  },
  {
   "cell_type": "markdown",
   "metadata": {
    "pycharm": {
     "name": "#%% md\n"
    }
   },
   "source": [
    "Typical preprocessing step is the removal of power line artifact (50 Hz or\n",
    "60 Hz). Here we notch filter the data at 60, 120 and 180 to remove the\n",
    "original 60 Hz artifact and the harmonics. The power spectra are plotted\n",
    "before and after the filtering to show the effect. The drop after 600 Hz\n",
    "appears because the data was filtered during the acquisition. In memory\n",
    "saving mode we do the filtering at evoked stage, which is not something you\n",
    "usually would do.\n",
    "\n"
   ]
  },
  {
   "cell_type": "code",
   "execution_count": null,
   "metadata": {
    "collapsed": false,
    "pycharm": {
     "name": "#%%\n"
    }
   },
   "outputs": [],
   "source": [
    "if not use_precomputed:\n",
    "    raw.plot_psd(tmax=np.inf, picks='meg')\n",
    "    notches = np.arange(60, 181, 60)\n",
    "    raw.notch_filter(notches, phase='zero-double', fir_design='firwin2')\n",
    "    raw.plot_psd(tmax=np.inf, picks='meg')"
   ]
  },
  {
   "cell_type": "markdown",
   "metadata": {
    "pycharm": {
     "name": "#%% md\n"
    }
   },
   "source": [
    "We also lowpass filter the data at 100 Hz to remove the hf components.\n",
    "\n"
   ]
  },
  {
   "cell_type": "code",
   "execution_count": null,
   "metadata": {
    "collapsed": false,
    "pycharm": {
     "name": "#%%\n"
    }
   },
   "outputs": [],
   "source": [
    "if not use_precomputed:\n",
    "    raw.filter(None, 100., h_trans_bandwidth=0.5, filter_length='10s',\n",
    "               phase='zero-double', fir_design='firwin2')"
   ]
  },
  {
   "cell_type": "markdown",
   "metadata": {
    "pycharm": {
     "name": "#%% md\n"
    }
   },
   "source": [
    "Epoching and averaging.\n",
    "First some parameters are defined and events extracted from the stimulus\n",
    "channel (UPPT001). The rejection thresholds are defined as peak-to-peak\n",
    "values and are in T / m for gradiometers, T for magnetometers and\n",
    "V for EOG and EEG channels.\n",
    "\n"
   ]
  },
  {
   "cell_type": "code",
   "execution_count": null,
   "metadata": {
    "collapsed": false,
    "pycharm": {
     "name": "#%%\n"
    }
   },
   "outputs": [],
   "source": [
    "tmin, tmax = -0.1, 0.5\n",
    "event_id = dict(standard=1, deviant=2)\n",
    "reject = dict(mag=4e-12, eog=250e-6)\n",
    "# find events\n",
    "events = mne.find_events(raw, stim_channel='UPPT001')"
   ]
  },
  {
   "cell_type": "markdown",
   "metadata": {
    "pycharm": {
     "name": "#%% md\n"
    }
   },
   "source": [
    "The event timing is adjusted by comparing the trigger times on detected\n",
    "sound onsets on channel UADC001-4408.\n",
    "\n"
   ]
  },
  {
   "cell_type": "code",
   "execution_count": null,
   "metadata": {
    "collapsed": false,
    "pycharm": {
     "name": "#%%\n"
    }
   },
   "outputs": [],
   "source": [
    "sound_data = raw[raw.ch_names.index('UADC001-4408')][0][0]\n",
    "onsets = np.where(np.abs(sound_data) > 2. * np.std(sound_data))[0]\n",
    "min_diff = int(0.5 * raw.info['sfreq'])\n",
    "diffs = np.concatenate([[min_diff + 1], np.diff(onsets)])\n",
    "onsets = onsets[diffs > min_diff]\n",
    "assert len(onsets) == len(events)\n",
    "diffs = 1000. * (events[:, 0] - onsets) / raw.info['sfreq']\n",
    "print('Trigger delay removed (μ ± σ): %0.1f ± %0.1f ms'\n",
    "      % (np.mean(diffs), np.std(diffs)))\n",
    "events[:, 0] = onsets\n",
    "del sound_data, diffs"
   ]
  },
  {
   "cell_type": "markdown",
   "metadata": {
    "pycharm": {
     "name": "#%% md\n"
    }
   },
   "source": [
    "We mark a set of bad channels that seem noisier than others. This can also\n",
    "be done interactively with ``raw.plot`` by clicking the channel name\n",
    "(or the line). The marked channels are added as bad when the browser window\n",
    "is closed.\n",
    "\n"
   ]
  },
  {
   "cell_type": "code",
   "execution_count": null,
   "metadata": {
    "collapsed": false,
    "pycharm": {
     "name": "#%%\n"
    }
   },
   "outputs": [],
   "source": [
    "raw.info['bads'] = ['MLO52-4408', 'MRT51-4408', 'MLO42-4408', 'MLO43-4408']"
   ]
  },
  {
   "cell_type": "markdown",
   "metadata": {
    "pycharm": {
     "name": "#%% md\n"
    }
   },
   "source": [
    "The epochs (trials) are created for MEG channels. First we find the picks\n",
    "for MEG and EOG channels. Then the epochs are constructed using these picks.\n",
    "The epochs overlapping with annotated bad segments are also rejected by\n",
    "default. To turn off rejection by bad segments (as was done earlier with\n",
    "saccades) you can use keyword ``reject_by_annotation=False``.\n",
    "\n"
   ]
  },
  {
   "cell_type": "code",
   "execution_count": null,
   "metadata": {
    "collapsed": false,
    "pycharm": {
     "name": "#%%\n"
    }
   },
   "outputs": [],
   "source": [
    "epochs = mne.Epochs(raw, events, event_id, tmin, tmax, picks=['meg', 'eog'],\n",
    "                    baseline=(None, 0), reject=reject, preload=False,\n",
    "                    proj=True)"
   ]
  },
  {
   "cell_type": "markdown",
   "metadata": {
    "pycharm": {
     "name": "#%% md\n"
    }
   },
   "source": [
    "We only use first 40 good epochs from each run. Since we first drop the bad\n",
    "epochs, the indices of the epochs are no longer same as in the original\n",
    "epochs collection. Investigation of the event timings reveals that first\n",
    "epoch from the second run corresponds to index 182.\n",
    "\n"
   ]
  },
  {
   "cell_type": "code",
   "execution_count": null,
   "metadata": {
    "collapsed": false,
    "pycharm": {
     "name": "#%%\n"
    }
   },
   "outputs": [],
   "source": [
    "epochs.drop_bad()\n",
    "\n",
    "# avoid warning about concatenating with annotations\n",
    "epochs.set_annotations(None)\n",
    "\n",
    "epochs_standard = mne.concatenate_epochs([epochs['standard'][range(40)],\n",
    "                                          epochs['standard'][182:222]])\n",
    "epochs_standard.load_data()  # Resampling to save memory.\n",
    "epochs_standard.resample(600, npad='auto')\n",
    "epochs_deviant = epochs['deviant'].load_data()\n",
    "epochs_deviant.resample(600, npad='auto')\n",
    "del epochs"
   ]
  },
  {
   "cell_type": "markdown",
   "metadata": {
    "pycharm": {
     "name": "#%% md\n"
    }
   },
   "source": [
    "The averages for each conditions are computed.\n",
    "\n"
   ]
  },
  {
   "cell_type": "code",
   "execution_count": null,
   "metadata": {
    "collapsed": false,
    "pycharm": {
     "name": "#%%\n"
    }
   },
   "outputs": [],
   "source": [
    "evoked_std = epochs_standard.average()\n",
    "evoked_dev = epochs_deviant.average()\n",
    "del epochs_standard, epochs_deviant"
   ]
  },
  {
   "cell_type": "markdown",
   "metadata": {
    "pycharm": {
     "name": "#%% md\n"
    }
   },
   "source": [
    "Typical preprocessing step is the removal of power line artifact (50 Hz or\n",
    "60 Hz). Here we lowpass filter the data at 40 Hz, which will remove all\n",
    "line artifacts (and high frequency information). Normally this would be done\n",
    "to raw data (with :func:`mne.io.Raw.filter`), but to reduce memory\n",
    "consumption of this tutorial, we do it at evoked stage. (At the raw stage,\n",
    "you could alternatively notch filter with :func:`mne.io.Raw.notch_filter`.)\n",
    "\n"
   ]
  },
  {
   "cell_type": "code",
   "execution_count": null,
   "metadata": {
    "collapsed": false,
    "pycharm": {
     "name": "#%%\n"
    }
   },
   "outputs": [],
   "source": [
    "for evoked in (evoked_std, evoked_dev):\n",
    "    evoked.filter(l_freq=None, h_freq=40., fir_design='firwin')"
   ]
  },
  {
   "cell_type": "markdown",
   "metadata": {
    "pycharm": {
     "name": "#%% md\n"
    }
   },
   "source": [
    "Here we plot the ERF of standard and deviant conditions. In both conditions\n",
    "we can see the P50 and N100 responses. The mismatch negativity is visible\n",
    "only in the deviant condition around 100-200 ms. P200 is also visible around\n",
    "170 ms in both conditions but much stronger in the standard condition. P300\n",
    "is visible in deviant condition only (decision making in preparation of the\n",
    "button press). You can view the topographies from a certain time span by\n",
    "painting an area with clicking and holding the left mouse button.\n",
    "\n"
   ]
  },
  {
   "cell_type": "code",
   "execution_count": null,
   "metadata": {
    "collapsed": false,
    "pycharm": {
     "name": "#%%\n"
    }
   },
   "outputs": [],
   "source": [
    "evoked_std.plot(window_title='Standard', gfp=True, time_unit='s')\n",
    "evoked_dev.plot(window_title='Deviant', gfp=True, time_unit='s')"
   ]
  },
  {
   "cell_type": "markdown",
   "metadata": {
    "pycharm": {
     "name": "#%% md\n"
    }
   },
   "source": [
    "Show activations as topography figures.\n",
    "\n"
   ]
  },
  {
   "cell_type": "code",
   "execution_count": null,
   "metadata": {
    "collapsed": false,
    "pycharm": {
     "name": "#%%\n"
    }
   },
   "outputs": [],
   "source": [
    "times = np.arange(0.05, 0.301, 0.025)\n",
    "evoked_std.plot_topomap(times=times, title='Standard', time_unit='s')"
   ]
  },
  {
   "cell_type": "code",
   "execution_count": null,
   "metadata": {
    "collapsed": false,
    "pycharm": {
     "name": "#%%\n"
    }
   },
   "outputs": [],
   "source": [
    "evoked_dev.plot_topomap(times=times, title='Deviant', time_unit='s')"
   ]
  },
  {
   "cell_type": "markdown",
   "metadata": {
    "pycharm": {
     "name": "#%% md\n"
    }
   },
   "source": [
    "We can see the MMN effect more clearly by looking at the difference between\n",
    "the two conditions. P50 and N100 are no longer visible, but MMN/P200 and\n",
    "P300 are emphasised.\n",
    "\n"
   ]
  },
  {
   "cell_type": "code",
   "execution_count": null,
   "metadata": {
    "collapsed": false,
    "pycharm": {
     "name": "#%%\n"
    }
   },
   "outputs": [],
   "source": [
    "evoked_difference = combine_evoked([evoked_dev, evoked_std], weights=[1, -1])\n",
    "evoked_difference.plot(window_title='Difference', gfp=True, time_unit='s')"
   ]
  },
  {
   "cell_type": "markdown",
   "metadata": {
    "pycharm": {
     "name": "#%% md\n"
    }
   },
   "source": [
    "Source estimation.\n",
    "We compute the noise covariance matrix from the empty room measurement\n",
    "and use it for the other runs.\n",
    "\n"
   ]
  },
  {
   "cell_type": "code",
   "execution_count": null,
   "metadata": {
    "collapsed": false,
    "pycharm": {
     "name": "#%%\n"
    }
   },
   "outputs": [],
   "source": [
    "reject = dict(mag=4e-12)\n",
    "cov = mne.compute_raw_covariance(raw_erm, reject=reject)\n",
    "cov.plot(raw_erm.info)\n",
    "del raw_erm"
   ]
  },
  {
   "cell_type": "markdown",
   "metadata": {
    "pycharm": {
     "name": "#%% md\n"
    }
   },
   "source": [
    "The transformation is read from a file:\n",
    "\n"
   ]
  },
  {
   "cell_type": "code",
   "execution_count": null,
   "metadata": {
    "collapsed": false,
    "pycharm": {
     "name": "#%%\n"
    }
   },
   "outputs": [],
   "source": [
    "trans_fname = op.join(data_path, 'MEG', 'bst_auditory',\n",
    "                      'bst_auditory-trans.fif')\n",
    "trans = mne.read_trans(trans_fname)"
   ]
  },
  {
   "cell_type": "markdown",
   "metadata": {
    "pycharm": {
     "name": "#%% md\n"
    }
   },
   "source": [
    "To save time and memory, the forward solution is read from a file. Set\n",
    "``use_precomputed=False`` in the beginning of this script to build the\n",
    "forward solution from scratch. The head surfaces for constructing a BEM\n",
    "solution are read from a file. Since the data only contains MEG channels, we\n",
    "only need the inner skull surface for making the forward solution. For more\n",
    "information: `CHDBBCEJ`, :func:`mne.setup_source_space`,\n",
    "`bem-model`, :func:`mne.bem.make_watershed_bem`.\n",
    "\n"
   ]
  },
  {
   "cell_type": "code",
   "execution_count": null,
   "metadata": {
    "collapsed": false,
    "pycharm": {
     "name": "#%%\n"
    }
   },
   "outputs": [],
   "source": [
    "if use_precomputed:\n",
    "    fwd_fname = op.join(data_path, 'MEG', 'bst_auditory',\n",
    "                        'bst_auditory-meg-oct-6-fwd.fif')\n",
    "    fwd = mne.read_forward_solution(fwd_fname)\n",
    "else:\n",
    "    src = mne.setup_source_space(subject, spacing='ico4',\n",
    "                                 subjects_dir=subjects_dir, overwrite=True)\n",
    "    model = mne.make_bem_model(subject=subject, ico=4, conductivity=[0.3],\n",
    "                               subjects_dir=subjects_dir)\n",
    "    bem = mne.make_bem_solution(model)\n",
    "    fwd = mne.make_forward_solution(evoked_std.info, trans=trans, src=src,\n",
    "                                    bem=bem)\n",
    "\n",
    "inv = mne.minimum_norm.make_inverse_operator(evoked_std.info, fwd, cov)\n",
    "snr = 3.0\n",
    "lambda2 = 1.0 / snr ** 2\n",
    "del fwd"
   ]
  },
  {
   "cell_type": "markdown",
   "metadata": {
    "pycharm": {
     "name": "#%% md\n"
    }
   },
   "source": [
    "The sources are computed using dSPM method and plotted on an inflated brain\n",
    "surface. For interactive controls over the image, use keyword\n",
    "``time_viewer=True``.\n",
    "Standard condition.\n",
    "\n"
   ]
  },
  {
   "cell_type": "code",
   "execution_count": null,
   "metadata": {
    "collapsed": false,
    "pycharm": {
     "name": "#%%\n"
    }
   },
   "outputs": [],
   "source": [
    "stc_standard = mne.minimum_norm.apply_inverse(evoked_std, inv, lambda2, 'dSPM')\n",
    "brain = stc_standard.plot(subjects_dir=subjects_dir, subject=subject,\n",
    "                          surface='inflated', time_viewer=False, hemi='lh',\n",
    "                          initial_time=0.1, time_unit='s')\n",
    "del stc_standard, brain"
   ]
  },
  {
   "cell_type": "markdown",
   "metadata": {
    "pycharm": {
     "name": "#%% md\n"
    }
   },
   "source": [
    "Deviant condition.\n",
    "\n"
   ]
  },
  {
   "cell_type": "code",
   "execution_count": null,
   "metadata": {
    "collapsed": false,
    "pycharm": {
     "name": "#%%\n"
    }
   },
   "outputs": [],
   "source": [
    "stc_deviant = mne.minimum_norm.apply_inverse(evoked_dev, inv, lambda2, 'dSPM')\n",
    "brain = stc_deviant.plot(subjects_dir=subjects_dir, subject=subject,\n",
    "                         surface='inflated', time_viewer=False, hemi='lh',\n",
    "                         initial_time=0.1, time_unit='s')\n",
    "del stc_deviant, brain"
   ]
  },
  {
   "cell_type": "markdown",
   "metadata": {
    "pycharm": {
     "name": "#%% md\n"
    }
   },
   "source": [
    "Difference.\n",
    "\n"
   ]
  },
  {
   "cell_type": "code",
   "execution_count": null,
   "metadata": {
    "collapsed": false,
    "pycharm": {
     "name": "#%%\n"
    }
   },
   "outputs": [],
   "source": [
    "stc_difference = apply_inverse(evoked_difference, inv, lambda2, 'dSPM')\n",
    "brain = stc_difference.plot(subjects_dir=subjects_dir, subject=subject,\n",
    "                            surface='inflated', time_viewer=False, hemi='lh',\n",
    "                            initial_time=0.15, time_unit='s')"
   ]
  },
  {
   "cell_type": "markdown",
   "metadata": {
    "pycharm": {
     "name": "#%% md\n"
    }
   },
   "source": [
    "## References\n",
    ".. footbibliography::\n",
    "\n"
   ]
  }
 ],
 "metadata": {
  "kernelspec": {
   "name": "pycharm-284b30fe",
   "language": "python",
   "display_name": "PyCharm (贝叶斯)"
  },
  "language_info": {
   "codemirror_mode": {
    "name": "ipython",
    "version": 3
   },
   "file_extension": ".py",
   "mimetype": "text/x-python",
   "name": "python",
   "nbconvert_exporter": "python",
   "pygments_lexer": "ipython3",
   "version": "3.8.0"
  }
 },
 "nbformat": 4,
 "nbformat_minor": 0
}
