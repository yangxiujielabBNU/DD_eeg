{
 "cells": [
  {
   "cell_type": "code",
   "execution_count": 1,
   "outputs": [
    {
     "data": {
      "text/plain": "'\\n\\n截取所有条件的epoch，然后进行清洗。\\n\\n所有epoch ，然后再来考虑 evoked\\n\\n\\n\\nASSR 实验\\n204  230\\n\\noddball 实验\\nstdBA 110  odd  111\\nstdT1 130       131\\nstdT4 140       141\\nstdTA 120       121\\n\\nASSR刺激：2s的刺激，0.1的前后ramp，1.9的ITI\\noddball刺激：总共1.5\\n'"
     },
     "execution_count": 1,
     "metadata": {},
     "output_type": "execute_result"
    }
   ],
   "source": [
    "'''\n",
    "\n",
    "截取所有条件的epoch，然后进行清洗。\n",
    "\n",
    "所有epoch ，然后再来考虑 evoked\n",
    "\n",
    "\n",
    "ASSR 实验\n",
    "204  230\n",
    "\n",
    "oddball 实验\n",
    "stdBA 110  odd  111\n",
    "stdT1 130       131\n",
    "stdT4 140       141\n",
    "stdTA 120       121\n",
    "\n",
    "ASSR刺激：2s的刺激，0.1的前后ramp，1.9的ITI\n",
    "oddball刺激：总共1.5\n",
    "'''\n"
   ],
   "metadata": {
    "collapsed": false
   }
  },
  {
   "cell_type": "code",
   "execution_count": 1,
   "outputs": [],
   "source": [
    "import mne\n",
    "import os.path as op\n",
    "import mne\n",
    "from mne.preprocessing import ICA\n",
    "import matplotlib.pyplot as plt\n",
    "from copy import deepcopy\n",
    "import numpy as np\n",
    "from autoreject import AutoReject"
   ],
   "metadata": {
    "collapsed": false
   }
  },
  {
   "cell_type": "code",
   "execution_count": 2,
   "outputs": [
    {
     "name": "stdout",
     "output_type": "stream",
     "text": [
      "Opening raw data file .\\data\\4raw_ica\\pre4014_y.fif...\n"
     ]
    },
    {
     "name": "stderr",
     "output_type": "stream",
     "text": [
      "C:\\Users\\SilverBullet\\AppData\\Local\\Temp\\ipykernel_21784\\1668997415.py:27: RuntimeWarning: This filename (.\\data\\4raw_ica\\pre4014_y.fif) does not conform to MNE naming conventions. All raw files should end with raw.fif, raw_sss.fif, raw_tsss.fif, _meg.fif, _eeg.fif, _ieeg.fif, raw.fif.gz, raw_sss.fif.gz, raw_tsss.fif.gz, _meg.fif.gz, _eeg.fif.gz or _ieeg.fif.gz\n",
      "  reconst_raw=mne.io.read_raw_fif(save_path_ica + sub_id + '.fif')\n"
     ]
    },
    {
     "name": "stdout",
     "output_type": "stream",
     "text": [
      "    Range : 0 ... 5081399 =      0.000 ...  5081.399 secs\n",
      "Ready.\n",
      "Used Annotations descriptions: ['200', '201', '210', '211']\n",
      "Not setting metadata\n",
      "860 matching events found\n",
      "Applying baseline correction (mode: mean)\n",
      "0 projection items activated\n",
      "Loading data for 860 events and 1501 original time points ...\n",
      "8 bad epochs dropped\n"
     ]
    }
   ],
   "source": [
    "'''\n",
    "\n",
    "{'110': 1, '111': 2, '120': 3, '121': 4, '130': 5, '131': 6, '140': 7, '141': 8, '204': 9, '230': 10, '50': 11, '51': 12}\n",
    "\n",
    "\n",
    "4Hz:'204': 9,\n",
    "30Hz:'230': 10\n",
    "\n",
    "ba 200\n",
    "ta 201\n",
    "ji1 210\n",
    "ji4 211\n",
    "\n",
    "'''\n",
    "sub_ids = [\n",
    "            'pre4014_y'\n",
    "          ]\n",
    "\n",
    "\n",
    "\n",
    "#for sub_id,i in zip(sub_ids,range(len(sub_ids))):\n",
    "    #读入之前处理好的reconst_raw\n",
    "\n",
    "sub_id = sub_ids[0]\n",
    "i = 0\n",
    "save_path_ica = '.\\data\\\\4raw_ica\\\\'\n",
    "reconst_raw=mne.io.read_raw_fif(save_path_ica + sub_id + '.fif')\n",
    "# 列出所有条件 对应的 mark数字。\n",
    "# 只要oddball\n",
    "target_events_oddball = {\n",
    "                            '200': 1, '201': 2, '210': 3, '211': 4\n",
    "                        }\n",
    "\n",
    "#先找events，epoch和average都是一步的事情。\n",
    "custom_mapping = target_events_oddball\n",
    "(events_from_annot,\n",
    " event_dict) = mne.events_from_annotations(reconst_raw, event_id=custom_mapping)\n",
    "#还不如直接对 events_from_annot 进行切片\n",
    "#先遍历，把合适的单词筛序出来\n",
    "#对应的vocabulary已经列出，然后怎么提取呢？\n",
    "events_oddball = events_from_annot\n",
    "count_remembered_events = len(events_oddball)\n",
    "epochs_oddball = mne.Epochs(reconst_raw, events_oddball, baseline =(-0.5,0),tmin=-0.5, tmax=1, event_id=None,\n",
    "                    preload=True, event_repeated='merge')\n",
    "\n",
    "#查看所有mark dict\n",
    "#events_1 = mne.events_from_annotations(reconst_raw)"
   ],
   "metadata": {
    "collapsed": false
   }
  },
  {
   "cell_type": "code",
   "execution_count": 29,
   "outputs": [
    {
     "data": {
      "text/plain": "<mne_qt_browser._pg_figure.MNEQtBrowser at 0x2084007d940>"
     },
     "execution_count": 29,
     "metadata": {},
     "output_type": "execute_result"
    }
   ],
   "source": [
    "reconst_raw.plot()"
   ],
   "metadata": {
    "collapsed": false
   }
  },
  {
   "cell_type": "code",
   "execution_count": 30,
   "outputs": [
    {
     "name": "stdout",
     "output_type": "stream",
     "text": [
      "Running autoreject on ch_type=eeg\n"
     ]
    },
    {
     "data": {
      "text/plain": "  0%|          | Creating augmented epochs : 0/62 [00:00<?,       ?it/s]",
      "application/vnd.jupyter.widget-view+json": {
       "version_major": 2,
       "version_minor": 0,
       "model_id": "7df7ce205c5c4f41850e350459fcedfd"
      }
     },
     "metadata": {},
     "output_type": "display_data"
    },
    {
     "data": {
      "text/plain": "  0%|          | Computing thresholds ... : 0/62 [00:00<?,       ?it/s]",
      "application/vnd.jupyter.widget-view+json": {
       "version_major": 2,
       "version_minor": 0,
       "model_id": "2cd9f0e1bab240e88239ba2c0bee4a65"
      }
     },
     "metadata": {},
     "output_type": "display_data"
    },
    {
     "data": {
      "text/plain": "  0%|          | Repairing epochs : 0/852 [00:00<?,       ?it/s]",
      "application/vnd.jupyter.widget-view+json": {
       "version_major": 2,
       "version_minor": 0,
       "model_id": "bbb4e1ba8d664ccf888b357bb891c3ec"
      }
     },
     "metadata": {},
     "output_type": "display_data"
    },
    {
     "data": {
      "text/plain": "  0%|          | n_interp : 0/3 [00:00<?,       ?it/s]",
      "application/vnd.jupyter.widget-view+json": {
       "version_major": 2,
       "version_minor": 0,
       "model_id": "d4491f584d624f049a9a80f9efc028a7"
      }
     },
     "metadata": {},
     "output_type": "display_data"
    },
    {
     "data": {
      "text/plain": "  0%|          | Repairing epochs : 0/852 [00:00<?,       ?it/s]",
      "application/vnd.jupyter.widget-view+json": {
       "version_major": 2,
       "version_minor": 0,
       "model_id": "78f28835af6a41289603eaa07d9f5fa3"
      }
     },
     "metadata": {},
     "output_type": "display_data"
    },
    {
     "data": {
      "text/plain": "  0%|          | Fold : 0/10 [00:00<?,       ?it/s]",
      "application/vnd.jupyter.widget-view+json": {
       "version_major": 2,
       "version_minor": 0,
       "model_id": "51683613ba6f490abb54756bc30c62ed"
      }
     },
     "metadata": {},
     "output_type": "display_data"
    },
    {
     "data": {
      "text/plain": "  0%|          | Repairing epochs : 0/852 [00:00<?,       ?it/s]",
      "application/vnd.jupyter.widget-view+json": {
       "version_major": 2,
       "version_minor": 0,
       "model_id": "fb269535c4584472b6aa0f9c43227610"
      }
     },
     "metadata": {},
     "output_type": "display_data"
    },
    {
     "data": {
      "text/plain": "  0%|          | Fold : 0/10 [00:00<?,       ?it/s]",
      "application/vnd.jupyter.widget-view+json": {
       "version_major": 2,
       "version_minor": 0,
       "model_id": "568d751d0c3b441283c25c47447a93c9"
      }
     },
     "metadata": {},
     "output_type": "display_data"
    },
    {
     "data": {
      "text/plain": "  0%|          | Repairing epochs : 0/852 [00:00<?,       ?it/s]",
      "application/vnd.jupyter.widget-view+json": {
       "version_major": 2,
       "version_minor": 0,
       "model_id": "7e3c5ba452e54888ad387ad8463b119a"
      }
     },
     "metadata": {},
     "output_type": "display_data"
    },
    {
     "data": {
      "text/plain": "  0%|          | Fold : 0/10 [00:00<?,       ?it/s]",
      "application/vnd.jupyter.widget-view+json": {
       "version_major": 2,
       "version_minor": 0,
       "model_id": "ff9cd39c3d664fd2994454ac84424d66"
      }
     },
     "metadata": {},
     "output_type": "display_data"
    },
    {
     "name": "stdout",
     "output_type": "stream",
     "text": [
      "\n",
      "\n",
      "\n",
      "\n",
      "Estimated consensus=0.48 and n_interpolate=1\n"
     ]
    },
    {
     "data": {
      "text/plain": "  0%|          | Repairing epochs : 0/852 [00:00<?,       ?it/s]",
      "application/vnd.jupyter.widget-view+json": {
       "version_major": 2,
       "version_minor": 0,
       "model_id": "1a6fdf3e7bdc4b8eafaa31a5edd72625"
      }
     },
     "metadata": {},
     "output_type": "display_data"
    },
    {
     "name": "stdout",
     "output_type": "stream",
     "text": [
      "No bad epochs were found for your data. Returning a copy of the data you wanted to clean. Interpolation may have been done.\n"
     ]
    }
   ],
   "source": [
    "'''\n",
    "所有oddball试次一起进行autoreject\n",
    "'''\n",
    "save_path_epoch = '.\\data\\\\5epoch_oddball\\\\'\n",
    "epochs_oddball.save(save_path_epoch + sub_id + '-epo.fif', overwrite=True)\n",
    "    #用autoreject处理一下\n",
    "n_interpolates = np.array([1, 4, 32])\n",
    "consensus_percs = np.linspace(0, 0.8, 11)\n",
    "picks = mne.pick_types(epochs_oddball.info, meg=False, eeg=True, stim=False, eog=False,\n",
    "                       include=[], exclude=[])\n",
    "ar_oddball = AutoReject(n_interpolates,consensus_percs,picks=picks,\n",
    "                thresh_method='random_search',random_state=23)\n",
    "ar_oddball.fit(epochs_oddball)\n",
    "epochs_clean_oddball = ar_oddball.transform(epochs_oddball)\n"
   ],
   "metadata": {
    "collapsed": false
   }
  },
  {
   "cell_type": "code",
   "execution_count": 31,
   "outputs": [],
   "source": [
    "'''\n",
    "8种trial分开保存。\n",
    "std_BA\t110 1\n",
    "odd_TA\t111 2\n",
    "std_ta\t120 3\n",
    "odd_ba\t121 4\n",
    "\n",
    "std_t1ji\t130 5\n",
    "odd_t4ji\t131 6\n",
    "std_t4ji\t140 7\n",
    "odd_t1ji\t141 8\n",
    "'''\n",
    "epochs_clean_oddball_std_BA = epochs_clean_oddball['1']\n",
    "epochs_clean_oddball_odd_TA = epochs_clean_oddball['2']\n",
    "# epochs_clean_oddball_std_ta = epochs_clean_oddball['3']\n",
    "# epochs_clean_oddball_odd_ba = epochs_clean_oddball['4']\n",
    "epochs_clean_oddball_std_t1ji = epochs_clean_oddball['3']\n",
    "epochs_clean_oddball_odd_t4ji= epochs_clean_oddball['4']\n",
    "# epochs_clean_oddball_std_t4ji = epochs_clean_oddball['7']\n",
    "# epochs_clean_oddball_odd_t1ji = epochs_clean_oddball['8']\n",
    "\n",
    "evoked_original_oddball_std_BA = list()\n",
    "evoked_clean_oddball_std_BA = list()\n",
    "evoked_original_oddball_odd_TA = list()\n",
    "evoked_clean_oddball_odd_TA = list()\n",
    "evoked_original_oddball_std_ta = list()\n",
    "evoked_clean_oddball_std_ta = list()\n",
    "evoked_original_oddball_odd_ba = list()\n",
    "evoked_clean_oddball_odd_ba = list()\n",
    "evoked_original_oddball_std_t1ji = list()\n",
    "evoked_clean_oddball_std_t1ji = list()\n",
    "evoked_original_oddball_odd_t4ji = list()\n",
    "evoked_clean_oddball_odd_t4ji = list()\n",
    "evoked_original_oddball_std_t4ji = list()\n",
    "evoked_clean_oddball_std_t4ji = list()\n",
    "evoked_original_oddball_odd_t1ji = list()\n",
    "evoked_clean_oddball_odd_t1ji = list()"
   ],
   "metadata": {
    "collapsed": false
   }
  },
  {
   "cell_type": "code",
   "execution_count": 32,
   "outputs": [],
   "source": [
    "# 清洗完之后就要分开了。\n",
    "#先average看下结果，对比\n",
    "#如果结果不错就可以分别保存下来。\n",
    "evoked_original_oddball_std_BA.append(epochs_oddball['1'].average())#没有autoreject的\n",
    "evoked_clean_oddball_std_BA.append(epochs_clean_oddball_std_BA.average())\n",
    "\n",
    "save_path_epoch_clean = '.\\data\\\\6epoch_clean_oddball\\\\'\n",
    "epochs_clean_oddball_std_BA.save(save_path_epoch_clean + sub_id + '_std_BA-epo.fif', overwrite=True)\n",
    "save_path_evoked = '.\\data\\\\7evoked_oddball\\\\'\n",
    "#为什么这里加i?因为是list，epochs不是list\n",
    "evoked_clean_oddball_std_BA[i].save(save_path_evoked + sub_id + '_std_BA-ave.fif',overwrite=True)\n",
    "\n",
    "\n",
    "#先average看下结果，对比\n",
    "#如果结果不错就可以分别保存下来。\n",
    "evoked_original_oddball_odd_TA.append(epochs_oddball['2'].average())#没有autoreject的\n",
    "evoked_clean_oddball_odd_TA.append(epochs_clean_oddball_odd_TA.average())\n",
    "\n",
    "save_path_epoch_clean = '.\\data\\\\6epoch_clean_oddball\\\\'\n",
    "epochs_clean_oddball_odd_TA.save(save_path_epoch_clean + sub_id + '_odd_TA-epo.fif', overwrite=True)\n",
    "save_path_evoked = '.\\data\\\\7evoked_oddball\\\\'\n",
    "#为什么这里加i?因为是list，epochs不是list\n",
    "evoked_clean_oddball_odd_TA[i].save(save_path_evoked + sub_id + '_odd_TA-ave.fif',overwrite=True)\n",
    "\n",
    "\n",
    "# #先average看下结果，对比\n",
    "# #如果结果不错就可以分别保存下来。\n",
    "# evoked_original_oddball_std_ta.append(epochs_oddball['3'].average())#没有autoreject的\n",
    "# evoked_clean_oddball_std_ta.append(epochs_clean_oddball_std_ta.average())\n",
    "#\n",
    "# save_path_epoch_clean = '.\\data\\\\6epoch_clean_oddball\\\\'\n",
    "# epochs_clean_oddball_std_ta.save(save_path_epoch_clean + sub_id + '_std_ta-epo.fif', overwrite=True)\n",
    "# save_path_evoked = '.\\data\\\\7evoked_oddball\\\\'\n",
    "# #为什么这里加i?因为是list，epochs不是list\n",
    "# evoked_clean_oddball_std_ta[i].save(save_path_evoked + sub_id + '_std_ta-ave.fif',overwrite=True)\n",
    "#\n",
    "#\n",
    "#\n",
    "# #先average看下结果，对比\n",
    "# #如果结果不错就可以分别保存下来。\n",
    "# evoked_original_oddball_odd_ba.append(epochs_oddball['4'].average())#没有autoreject的\n",
    "# evoked_clean_oddball_odd_ba.append(epochs_clean_oddball_odd_ba.average())\n",
    "#\n",
    "# save_path_epoch_clean = '.\\data\\\\6epoch_clean_oddball\\\\'\n",
    "# epochs_clean_oddball_odd_ba.save(save_path_epoch_clean + sub_id + '_odd_ba-epo.fif', overwrite=True)\n",
    "# save_path_evoked = '.\\data\\\\7evoked_oddball\\\\'\n",
    "# #为什么这里加i?因为是list，epochs不是list\n",
    "# evoked_clean_oddball_odd_ba[i].save(save_path_evoked + sub_id + '_odd_ba-ave.fif',overwrite=True)\n",
    "\n",
    "\n",
    "\n",
    "#先average看下结果，对比\n",
    "#如果结果不错就可以分别保存下来。\n",
    "evoked_original_oddball_std_t1ji.append(epochs_oddball['3'].average())#没有autoreject的\n",
    "evoked_clean_oddball_std_t1ji.append(epochs_clean_oddball_std_t1ji.average())\n",
    "\n",
    "save_path_epoch_clean = '.\\data\\\\6epoch_clean_oddball\\\\'\n",
    "epochs_clean_oddball_std_t1ji.save(save_path_epoch_clean + sub_id + '_std_t1ji-epo.fif', overwrite=True)\n",
    "save_path_evoked = '.\\data\\\\7evoked_oddball\\\\'\n",
    "#为什么这里加i?因为是list，epochs不是list\n",
    "evoked_clean_oddball_std_t1ji[i].save(save_path_evoked + sub_id + '_std_t1ji-ave.fif',overwrite=True)\n",
    "\n",
    "\n",
    "\n",
    "#先average看下结果，对比\n",
    "#如果结果不错就可以分别保存下来。\n",
    "evoked_original_oddball_odd_t4ji.append(epochs_oddball['4'].average())#没有autoreject的\n",
    "evoked_clean_oddball_odd_t4ji.append(epochs_clean_oddball_odd_t4ji.average())\n",
    "\n",
    "save_path_epoch_clean = '.\\data\\\\6epoch_clean_oddball\\\\'\n",
    "epochs_clean_oddball_odd_t4ji.save(save_path_epoch_clean + sub_id + '_odd_t4ji-epo.fif', overwrite=True)\n",
    "save_path_evoked = '.\\data\\\\7evoked_oddball\\\\'\n",
    "#为什么这里加i?因为是list，epochs不是list\n",
    "evoked_clean_oddball_odd_t4ji[i].save(save_path_evoked + sub_id + '_odd_t4ji-ave.fif',overwrite=True)\n",
    "\n",
    "# #先average看下结果，对比\n",
    "# #如果结果不错就可以分别保存下来。\n",
    "# evoked_original_oddball_std_t4ji.append(epochs_oddball['7'].average())#没有autoreject的\n",
    "# evoked_clean_oddball_std_t4ji.append(epochs_clean_oddball_std_t4ji.average())\n",
    "#\n",
    "# save_path_epoch_clean = '.\\data\\\\6epoch_clean_oddball\\\\'\n",
    "# epochs_clean_oddball_std_t4ji.save(save_path_epoch_clean + sub_id + '_std_t4ji-epo.fif', overwrite=True)\n",
    "# save_path_evoked = '.\\data\\\\7evoked_oddball\\\\'\n",
    "# #为什么这里加i?因为是list，epochs不是list\n",
    "# evoked_clean_oddball_std_t4ji[i].save(save_path_evoked + sub_id + '_std_t4ji-ave.fif',overwrite=True)\n",
    "#\n",
    "# #先average看下结果，对比\n",
    "# #如果结果不错就可以分别保存下来。\n",
    "# evoked_original_oddball_odd_t1ji.append(epochs_oddball['8'].average())#没有autoreject的\n",
    "# evoked_clean_oddball_odd_t1ji.append(epochs_clean_oddball_odd_t1ji.average())\n",
    "#\n",
    "# save_path_epoch_clean = '.\\data\\\\6epoch_clean_oddball\\\\'\n",
    "# epochs_clean_oddball_odd_t1ji.save(save_path_epoch_clean + sub_id + '_odd_t1ji-epo.fif', overwrite=True)\n",
    "# save_path_evoked = '.\\data\\\\7evoked_oddball\\\\'\n",
    "# #为什么这里加i?因为是list，epochs不是list\n",
    "# evoked_clean_oddball_odd_t1ji[i].save(save_path_evoked + sub_id + '_odd_t1ji-ave.fif',overwrite=True)"
   ],
   "metadata": {
    "collapsed": false
   }
  },
  {
   "cell_type": "code",
   "execution_count": 33,
   "outputs": [],
   "source": [
    "\"\"\"\n",
    "查看效果\n",
    "\"\"\"\n",
    "%matplotlib qt\n",
    "\n",
    "fig_original = evoked_original_oddball_std_t1ji[i].plot(window_title = sub_id)\n",
    "fig_original.savefig(save_path_evoked+'_original_' + sub_id)\n",
    "fig_clean = evoked_clean_oddball_odd_t4ji[i].plot(window_title = sub_id)\n",
    "fig_clean.savefig(save_path_evoked+'_clean_'+ sub_id)\n",
    "\n"
   ],
   "metadata": {
    "collapsed": false
   }
  },
  {
   "cell_type": "code",
   "execution_count": 33,
   "outputs": [],
   "source": [],
   "metadata": {
    "collapsed": false
   }
  }
 ],
 "metadata": {
  "kernelspec": {
   "name": "mne",
   "language": "python",
   "display_name": "'Python(mne)'"
  },
  "language_info": {
   "codemirror_mode": {
    "name": "ipython",
    "version": 2
   },
   "file_extension": ".py",
   "mimetype": "text/x-python",
   "name": "python",
   "nbconvert_exporter": "python",
   "pygments_lexer": "ipython2",
   "version": "2.7.6"
  }
 },
 "nbformat": 4,
 "nbformat_minor": 0
}
