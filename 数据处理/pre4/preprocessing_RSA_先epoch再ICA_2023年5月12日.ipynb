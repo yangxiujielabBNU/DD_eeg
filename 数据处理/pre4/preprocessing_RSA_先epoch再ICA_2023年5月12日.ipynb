{
 "cells": [
  {
   "cell_type": "code",
   "execution_count": 17,
   "outputs": [
    {
     "data": {
      "text/plain": "'\\n\\n截取所有条件的epoch，然后进行清洗。\\n\\n截取的长度不一样，RSA和ASSR要分开处理\\n\\n所有epoch ，然后再来考虑 evoked\\n\\n\\nRSA 实验\\n\\n刺激\\t恒定duration\\tmark\\nba1.wav\\t1\\t101\\nba2.wav\\t1\\t102\\nba3.wav\\t1\\t103\\nba4.wav\\t1\\t104\\nda1.wav\\t1\\t111\\nda2.wav\\t1\\t112\\nda3.wav\\t1\\t113\\nda4.wav\\t1\\t114\\npa1.wav\\t1\\t121\\npa2.wav\\t1\\t122\\npa3.wav\\t1\\t123\\npa4.wav\\t1\\t124\\nta1.wav\\t1\\t131\\nta2.wav\\t1\\t132\\nta3.wav\\t1\\t133\\nta4.wav\\t1\\t134\\n\\n\\n\\nASSR 实验\\n\\n4_18s.wav\\t4\\t4\\t21.7\\n6_18s.wav\\t6\\t6\\t21.7\\n\\n'"
     },
     "execution_count": 17,
     "metadata": {},
     "output_type": "execute_result"
    }
   ],
   "source": [
    "'''\n",
    "\n",
    "截取所有条件的epoch，然后进行清洗。\n",
    "\n",
    "截取的长度不一样，RSA和ASSR要分开处理\n",
    "\n",
    "所有epoch ，然后再来考虑 evoked\n",
    "\n",
    "\n",
    "RSA 实验\n",
    "\n",
    "刺激\t恒定duration\tmark\n",
    "ba1.wav\t1\t101\n",
    "ba2.wav\t1\t102\n",
    "ba3.wav\t1\t103\n",
    "ba4.wav\t1\t104\n",
    "da1.wav\t1\t111\n",
    "da2.wav\t1\t112\n",
    "da3.wav\t1\t113\n",
    "da4.wav\t1\t114\n",
    "pa1.wav\t1\t121\n",
    "pa2.wav\t1\t122\n",
    "pa3.wav\t1\t123\n",
    "pa4.wav\t1\t124\n",
    "ta1.wav\t1\t131\n",
    "ta2.wav\t1\t132\n",
    "ta3.wav\t1\t133\n",
    "ta4.wav\t1\t134\n",
    "\n",
    "\n",
    "\n",
    "ASSR 实验\n",
    "\n",
    "4_18s.wav\t4\t4\t21.7\n",
    "6_18s.wav\t6\t6\t21.7\n",
    "\n",
    "'''\n"
   ],
   "metadata": {
    "collapsed": false,
    "ExecuteTime": {
     "end_time": "2023-05-12T16:03:39.570701400Z",
     "start_time": "2023-05-12T16:03:39.566955800Z"
    }
   }
  },
  {
   "cell_type": "code",
   "execution_count": 18,
   "outputs": [],
   "source": [
    "import mne\n",
    "import os.path as op\n",
    "import mne\n",
    "from mne.preprocessing import ICA\n",
    "import matplotlib.pyplot as plt\n",
    "from copy import deepcopy\n",
    "import numpy as np\n",
    "from autoreject import AutoReject"
   ],
   "metadata": {
    "collapsed": false,
    "pycharm": {
     "is_executing": true
    },
    "ExecuteTime": {
     "end_time": "2023-05-12T16:03:39.576930900Z",
     "start_time": "2023-05-12T16:03:39.573693100Z"
    }
   }
  },
  {
   "cell_type": "code",
   "execution_count": 19,
   "outputs": [
    {
     "name": "stdout",
     "output_type": "stream",
     "text": [
      "Opening raw data file .\\data\\4raw_ica\\pre4012_yRSA.fif...\n"
     ]
    },
    {
     "name": "stderr",
     "output_type": "stream",
     "text": [
      "C:\\Users\\SilverBullet\\AppData\\Local\\Temp\\ipykernel_28764\\2958160593.py:13: RuntimeWarning: This filename (.\\data\\4raw_ica\\pre4012_yRSA.fif) does not conform to MNE naming conventions. All raw files should end with raw.fif, raw_sss.fif, raw_tsss.fif, _meg.fif, _eeg.fif, _ieeg.fif, raw.fif.gz, raw_sss.fif.gz, raw_tsss.fif.gz, _meg.fif.gz, _eeg.fif.gz or _ieeg.fif.gz\n",
      "  reconst_raw=mne.io.read_raw_fif(save_path_ica + sub_id + 'RSA.fif')\n"
     ]
    },
    {
     "name": "stdout",
     "output_type": "stream",
     "text": [
      "    Range : 1055444 ... 2802732 =   1055.444 ...  2802.732 secs\n",
      "Ready.\n"
     ]
    }
   ],
   "source": [
    "\n",
    "\n",
    "sub_ids = [\n",
    "            'pre4012_y'\n",
    "          ]\n",
    "\n",
    "\n",
    "\n",
    "#for sub_id,i in zip(sub_ids,range(len(sub_ids))):\n",
    "    #读入之前处理好的reconst_raw\n",
    "\n",
    "sub_id = sub_ids[0]\n",
    "i = 0\n",
    "save_path_ica = '.\\data\\\\4raw_ica\\\\'\n",
    "reconst_raw=mne.io.read_raw_fif(save_path_ica + sub_id + 'RSA.fif')"
   ],
   "metadata": {
    "collapsed": false,
    "pycharm": {
     "is_executing": true
    },
    "ExecuteTime": {
     "end_time": "2023-05-12T16:03:44.962417600Z",
     "start_time": "2023-05-12T16:03:39.577929300Z"
    }
   }
  },
  {
   "cell_type": "code",
   "execution_count": 20,
   "outputs": [
    {
     "name": "stdout",
     "output_type": "stream",
     "text": [
      "Used Annotations descriptions: ['101', '102', '103', '104', '111', '112', '113', '114', '121', '122', '123', '124', '131', '132', '133', '134']\n"
     ]
    }
   ],
   "source": [
    "events_1 = mne.events_from_annotations(reconst_raw)"
   ],
   "metadata": {
    "collapsed": false,
    "pycharm": {
     "is_executing": true
    },
    "ExecuteTime": {
     "end_time": "2023-05-12T16:03:44.972395300Z",
     "start_time": "2023-05-12T16:03:44.944508100Z"
    }
   }
  },
  {
   "cell_type": "code",
   "execution_count": 21,
   "outputs": [
    {
     "name": "stdout",
     "output_type": "stream",
     "text": [
      "Used Annotations descriptions: ['101', '102', '103', '104', '111', '112', '113', '114', '121', '122', '123', '124', '131', '132', '133', '134']\n",
      "Not setting metadata\n",
      "1437 matching events found\n",
      "Applying baseline correction (mode: mean)\n",
      "0 projection items activated\n",
      "Loading data for 1437 events and 1001 original time points ...\n",
      "296 bad epochs dropped\n",
      "Overwriting existing file.\n"
     ]
    },
    {
     "name": "stderr",
     "output_type": "stream",
     "text": [
      "I:\\ProgramData\\Anaconda3\\envs\\mne\\Lib\\site-packages\\eeglabio\\epochs.py:109 EEGLABIO: WARNING: Invalid event latencies, ignored for export.\n",
      "I:\\ProgramData\\Anaconda3\\envs\\mne\\Lib\\site-packages\\eeglabio\\epochs.py:118 EEGLABIO: WARNING: Some or all annotations have invalid onsets, discarded for export.\n"
     ]
    }
   ],
   "source": [
    "\n",
    "target_events_RSA = {\n",
    "                            '101':101,\n",
    "                            '102':102,\n",
    "                            '103':103,\n",
    "                            '104':104,\n",
    "                            '111':111,\n",
    "                            '112':112,\n",
    "                            '113':113,\n",
    "                            '114':114,\n",
    "                            '121':121,\n",
    "                            '122':122,\n",
    "                            '123':123,\n",
    "                            '124':124,\n",
    "                            '131':131,\n",
    "                            '132':132,\n",
    "                            '133':133,\n",
    "                            '134':134,\n",
    "\n",
    "                     }\n",
    "\n",
    "#先找events，epoch和average都是一步的事情。\n",
    "custom_mapping = target_events_RSA\n",
    "#\n",
    "(events_from_annot,\n",
    " event_dict) = mne.events_from_annotations(reconst_raw, event_id=custom_mapping)\n",
    "#还不如直接对 events_from_annot 进行切片\n",
    "#先遍历，把合适的单词筛序出来\n",
    "#对应的vocabulary已经列出，然后怎么提取呢？\n",
    "events_RSA = events_from_annot\n",
    "count_remembered_events = len(events_RSA)\n",
    "# 导入MATLAB发现event数量多于epoch数量,你怀疑是重合?\n",
    "epochs_RSA = mne.Epochs(reconst_raw, events_RSA, event_id=event_dict, baseline =(-0.2,0),tmin=-0.2, tmax=0.8, preload=True, event_repeated='drop')\n",
    "from mne.export import export_epochs\n",
    "file_path_save = 'L:\\yanglab1_EEG\\RSA\\data\\\\6epoch_clean_RSA\\\\'\n",
    "export_epochs(file_path_save + sub_ids[0]+\".set\", epochs=epochs_RSA, fmt = 'eeglab', overwrite = True)\n",
    "#查看所有mark dict\n",
    "#events_1 = mne.events_from_annotations(reconst_raw)"
   ],
   "metadata": {
    "collapsed": false,
    "pycharm": {
     "is_executing": true
    },
    "ExecuteTime": {
     "end_time": "2023-05-12T16:03:52.363198500Z",
     "start_time": "2023-05-12T16:03:44.962417600Z"
    }
   }
  },
  {
   "cell_type": "code",
   "execution_count": 22,
   "outputs": [
    {
     "name": "stdout",
     "output_type": "stream",
     "text": [
      "Overwriting existing file.\n"
     ]
    }
   ],
   "source": [
    "'''\n",
    "\n",
    "'''\n",
    "save_path_epoch = '.\\data\\\\5epoch_RSA\\\\'\n",
    "epochs_RSA.save(save_path_epoch + sub_id + '-epo.fif', overwrite=True)\n"
   ],
   "metadata": {
    "collapsed": false,
    "pycharm": {
     "is_executing": true
    },
    "ExecuteTime": {
     "end_time": "2023-05-12T16:03:55.073992900Z",
     "start_time": "2023-05-12T16:03:52.365194800Z"
    }
   }
  },
  {
   "cell_type": "code",
   "execution_count": 23,
   "outputs": [
    {
     "name": "stdout",
     "output_type": "stream",
     "text": [
      "Running autoreject on ch_type=eeg\n"
     ]
    },
    {
     "data": {
      "text/plain": "  0%|          | Creating augmented epochs : 0/62 [00:00<?,       ?it/s]",
      "application/vnd.jupyter.widget-view+json": {
       "version_major": 2,
       "version_minor": 0,
       "model_id": "7f0736a187394ea4be3300afce7160ae"
      }
     },
     "metadata": {},
     "output_type": "display_data"
    },
    {
     "data": {
      "text/plain": "  0%|          | Computing thresholds ... : 0/62 [00:00<?,       ?it/s]",
      "application/vnd.jupyter.widget-view+json": {
       "version_major": 2,
       "version_minor": 0,
       "model_id": "06a87c3646e14bb29fcf4807f6e39c5c"
      }
     },
     "metadata": {},
     "output_type": "display_data"
    },
    {
     "data": {
      "text/plain": "  0%|          | Repairing epochs : 0/1141 [00:00<?,       ?it/s]",
      "application/vnd.jupyter.widget-view+json": {
       "version_major": 2,
       "version_minor": 0,
       "model_id": "0483b4645106459d85474a9fbbfda4a8"
      }
     },
     "metadata": {},
     "output_type": "display_data"
    },
    {
     "data": {
      "text/plain": "  0%|          | n_interp : 0/3 [00:00<?,       ?it/s]",
      "application/vnd.jupyter.widget-view+json": {
       "version_major": 2,
       "version_minor": 0,
       "model_id": "14aab0bc2c3f4431aceb8d2e5f983593"
      }
     },
     "metadata": {},
     "output_type": "display_data"
    },
    {
     "data": {
      "text/plain": "  0%|          | Repairing epochs : 0/1141 [00:00<?,       ?it/s]",
      "application/vnd.jupyter.widget-view+json": {
       "version_major": 2,
       "version_minor": 0,
       "model_id": "b9b731b39516442089b749a2c4c6c336"
      }
     },
     "metadata": {},
     "output_type": "display_data"
    },
    {
     "data": {
      "text/plain": "  0%|          | Fold : 0/10 [00:00<?,       ?it/s]",
      "application/vnd.jupyter.widget-view+json": {
       "version_major": 2,
       "version_minor": 0,
       "model_id": "2d0c33bc40d14179ab0693362e73f06b"
      }
     },
     "metadata": {},
     "output_type": "display_data"
    },
    {
     "data": {
      "text/plain": "  0%|          | Repairing epochs : 0/1141 [00:00<?,       ?it/s]",
      "application/vnd.jupyter.widget-view+json": {
       "version_major": 2,
       "version_minor": 0,
       "model_id": "37940cfc5a51479d93e2685cd1d3d014"
      }
     },
     "metadata": {},
     "output_type": "display_data"
    },
    {
     "data": {
      "text/plain": "  0%|          | Fold : 0/10 [00:00<?,       ?it/s]",
      "application/vnd.jupyter.widget-view+json": {
       "version_major": 2,
       "version_minor": 0,
       "model_id": "0b37e98abdcc4744a0ff3c015f921751"
      }
     },
     "metadata": {},
     "output_type": "display_data"
    },
    {
     "data": {
      "text/plain": "  0%|          | Repairing epochs : 0/1141 [00:00<?,       ?it/s]",
      "application/vnd.jupyter.widget-view+json": {
       "version_major": 2,
       "version_minor": 0,
       "model_id": "4032e934a8ff4ebbba4b8ce645828e2c"
      }
     },
     "metadata": {},
     "output_type": "display_data"
    },
    {
     "data": {
      "text/plain": "  0%|          | Fold : 0/10 [00:00<?,       ?it/s]",
      "application/vnd.jupyter.widget-view+json": {
       "version_major": 2,
       "version_minor": 0,
       "model_id": "f42457fabc464bd6b5e98c2315896844"
      }
     },
     "metadata": {},
     "output_type": "display_data"
    },
    {
     "name": "stdout",
     "output_type": "stream",
     "text": [
      "\n",
      "\n",
      "\n",
      "\n",
      "Estimated consensus=0.56 and n_interpolate=32\n"
     ]
    },
    {
     "data": {
      "text/plain": "  0%|          | Repairing epochs : 0/1141 [00:00<?,       ?it/s]",
      "application/vnd.jupyter.widget-view+json": {
       "version_major": 2,
       "version_minor": 0,
       "model_id": "c71438c3c1d84a14b06f3befabf34dab"
      }
     },
     "metadata": {},
     "output_type": "display_data"
    },
    {
     "name": "stdout",
     "output_type": "stream",
     "text": [
      "No bad epochs were found for your data. Returning a copy of the data you wanted to clean. Interpolation may have been done.\n"
     ]
    }
   ],
   "source": [
    "    #用autoreject处理一下\n",
    "n_interpolates = np.array([1, 4, 32])\n",
    "consensus_percs = np.linspace(0, 0.8, 11)\n",
    "picks = mne.pick_types(epochs_RSA.info, meg=False, eeg=True, stim=False, eog=False,\n",
    "                       include=[], exclude=[])\n",
    "ar_RSA = AutoReject(n_interpolates,consensus_percs,picks=picks,\n",
    "                thresh_method='random_search',random_state=23)\n",
    "ar_RSA.fit(epochs_RSA)\n",
    "epochs_clean_RSA = ar_RSA.transform(epochs_RSA)\n"
   ],
   "metadata": {
    "collapsed": false,
    "pycharm": {
     "is_executing": true
    },
    "ExecuteTime": {
     "end_time": "2023-05-12T16:14:01.914687900Z",
     "start_time": "2023-05-12T16:03:55.073992900Z"
    }
   }
  },
  {
   "cell_type": "code",
   "execution_count": 24,
   "outputs": [],
   "source": [
    "'''\n",
    "不拆了，全放到一起\n",
    "'''\n",
    "evoked_original_RSA = list()\n",
    "evoked_clean_RSA = list()"
   ],
   "metadata": {
    "collapsed": false,
    "pycharm": {
     "is_executing": true
    },
    "ExecuteTime": {
     "end_time": "2023-05-12T16:14:01.921790100Z",
     "start_time": "2023-05-12T16:14:01.917680900Z"
    }
   }
  },
  {
   "cell_type": "code",
   "execution_count": 25,
   "outputs": [
    {
     "name": "stdout",
     "output_type": "stream",
     "text": [
      "NOTE: pick_channels() is a legacy function. New code should use inst.pick(...).\n",
      "NOTE: pick_channels() is a legacy function. New code should use inst.pick(...).\n"
     ]
    }
   ],
   "source": [
    "#先average看下结果，对比\n",
    "#如果结果不错就可以分别保存下来。\n",
    "evoked_original_RSA.append(epochs_RSA.average())#没有autoreject的\n",
    "evoked_clean_RSA.append(epochs_clean_RSA.average())\n",
    "\"\"\"\n",
    "查看效果，看是否需要回去删除电极\n",
    "\"\"\"\n",
    "%matplotlib qt\n",
    "\n",
    "fig_original = evoked_original_RSA[i].plot(window_title = sub_id)\n",
    "fig_clean = evoked_clean_RSA[i].plot(window_title = sub_id)"
   ],
   "metadata": {
    "collapsed": false,
    "pycharm": {
     "is_executing": true
    },
    "ExecuteTime": {
     "end_time": "2023-05-12T16:14:02.483067300Z",
     "start_time": "2023-05-12T16:14:01.923785400Z"
    }
   }
  },
  {
   "cell_type": "code",
   "execution_count": 26,
   "outputs": [
    {
     "name": "stdout",
     "output_type": "stream",
     "text": [
      "Overwriting existing file.\n",
      "Overwriting existing file.\n"
     ]
    }
   ],
   "source": [
    "#保存\n",
    "\n",
    "save_path_epoch_clean = '.\\data\\\\6epoch_clean_RSA\\\\'\n",
    "epochs_clean_RSA.save(save_path_epoch_clean + sub_id + '_RSA-epo.fif', overwrite=True)\n",
    "save_path_evoked = '.\\data\\\\7evoked_RSA\\\\'\n",
    "#为什么这里加i?因为是list，epochs不是list\n",
    "evoked_clean_RSA[i].save(save_path_evoked + sub_id + '_RSA-ave.fif',overwrite=True)\n"
   ],
   "metadata": {
    "collapsed": false,
    "pycharm": {
     "is_executing": true
    },
    "ExecuteTime": {
     "end_time": "2023-05-12T16:14:05.257504700Z",
     "start_time": "2023-05-12T16:14:02.486058900Z"
    }
   }
  },
  {
   "cell_type": "code",
   "execution_count": 27,
   "outputs": [],
   "source": [
    "\"\"\"\n",
    "查看效果\n",
    "\"\"\"\n",
    "%matplotlib qt\n",
    "\n",
    "fig_original = evoked_original_RSA[i].plot(window_title = sub_id)\n",
    "fig_original.savefig(save_path_evoked+'_original_' + sub_id)\n",
    "fig_clean = evoked_clean_RSA[i].plot(window_title = sub_id)\n",
    "fig_clean.savefig(save_path_evoked+'_clean_'+ sub_id)\n",
    "\n",
    "# fig_original = evoked_original_RSA_30Hz[i].plot(window_title = sub_id)\n",
    "# fig_original.savefig(save_path_evoked+'_original_' + sub_id)\n",
    "# fig_clean = evoked_clean_RSA_30Hz[i].plot(window_title = sub_id)\n",
    "# fig_clean.savefig(save_path_evoked+'_clean_'+ sub_id)\n"
   ],
   "metadata": {
    "collapsed": false,
    "pycharm": {
     "is_executing": true
    },
    "ExecuteTime": {
     "end_time": "2023-05-12T16:14:05.995974500Z",
     "start_time": "2023-05-12T16:14:05.258501500Z"
    }
   }
  },
  {
   "cell_type": "code",
   "execution_count": 28,
   "outputs": [
    {
     "data": {
      "text/plain": "<mne_qt_browser._pg_figure.MNEQtBrowser at 0x1b648f86290>"
     },
     "execution_count": 28,
     "metadata": {},
     "output_type": "execute_result"
    }
   ],
   "source": [
    "epochs_clean_RSA.plot(n_channels = 50, scalings=60e-6,)\n",
    "\n"
   ],
   "metadata": {
    "collapsed": false,
    "ExecuteTime": {
     "end_time": "2023-05-12T16:14:07.025711900Z",
     "start_time": "2023-05-12T16:14:05.996972400Z"
    }
   }
  },
  {
   "cell_type": "code",
   "execution_count": 29,
   "outputs": [
    {
     "name": "stdout",
     "output_type": "stream",
     "text": [
      "Fitting ICA to data using 62 channels (please be patient, this may take a while)\n"
     ]
    },
    {
     "name": "stderr",
     "output_type": "stream",
     "text": [
      "C:\\Users\\SilverBullet\\AppData\\Local\\Temp\\ipykernel_28764\\3702588148.py:5: RuntimeWarning: The epochs you passed to ICA.fit() were baseline-corrected. However, we suggest to fit ICA only on data that has been high-pass filtered, but NOT baseline-corrected.\n",
      "  ica.fit(epochs_clean_RSA)\n"
     ]
    },
    {
     "name": "stdout",
     "output_type": "stream",
     "text": [
      "Selecting by number: 40 components\n",
      "Fitting ICA took 85.7s.\n",
      "time cost 85.68408560752869 s\n",
      "pre4012_y\n",
      "Using EOG channels: HEOG, VEOG\n"
     ]
    },
    {
     "data": {
      "text/plain": "<Figure size 640x540 with 2 Axes>",
      "image/png": "[encoded data removed]"
     },
     "execution_count": 29,
     "metadata": {},
     "output_type": "execute_result"
    }
   ],
   "source": [
    "import time\n",
    "time_start=time.time()\n",
    "ica = ICA(n_components=40, random_state=97, )\n",
    "#训练，但是并没有删除\n",
    "ica.fit(epochs_clean_RSA)\n",
    "#计时\n",
    "time_end=time.time()\n",
    "print('time cost',time_end-time_start,'s')\n",
    "print(sub_id)\n",
    "eog_inds, eog_scores = ica.find_bads_eog(epochs_clean_RSA, threshold='auto') # 用3是因为并不是真的那么准确,你需要人为判断.如果改成2,,可能会自动排除许多component.\n",
    "#参考一下机器\n",
    "ica.plot_scores(eog_scores)"
   ],
   "metadata": {
    "collapsed": false,
    "ExecuteTime": {
     "end_time": "2023-05-12T16:15:36.771586800Z",
     "start_time": "2023-05-12T16:14:07.025711900Z"
    }
   }
  },
  {
   "cell_type": "code",
   "execution_count": 29,
   "outputs": [],
   "source": [],
   "metadata": {
    "collapsed": false,
    "ExecuteTime": {
     "end_time": "2023-05-12T16:15:36.775579500Z",
     "start_time": "2023-05-12T16:15:36.771586800Z"
    }
   }
  }
 ],
 "metadata": {
  "kernelspec": {
   "name": "mne",
   "language": "python",
   "display_name": "'Python(mne)'"
  },
  "language_info": {
   "codemirror_mode": {
    "name": "ipython",
    "version": 2
   },
   "file_extension": ".py",
   "mimetype": "text/x-python",
   "name": "python",
   "nbconvert_exporter": "python",
   "pygments_lexer": "ipython2",
   "version": "2.7.6"
  }
 },
 "nbformat": 4,
 "nbformat_minor": 0
}
